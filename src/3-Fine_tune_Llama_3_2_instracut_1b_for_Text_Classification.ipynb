{
  "metadata": {
    "kernelspec": {
      "display_name": "Python 3",
      "name": "python3"
    },
    "language_info": {
      "name": "python",
      "version": "3.10.13",
      "mimetype": "text/x-python",
      "codemirror_mode": {
        "name": "ipython",
        "version": 3
      },
      "pygments_lexer": "ipython3",
      "nbconvert_exporter": "python",
      "file_extension": ".py"
    },
    "kaggle": {
      "accelerator": "nvidiaTeslaT4",
      "dataSources": [
        {
          "sourceId": 8870083,
          "sourceType": "datasetVersion",
          "datasetId": 5338273
        },
        {
          "sourceId": 9507493,
          "sourceType": "datasetVersion",
          "datasetId": 5786818
        },
        {
          "sourceId": 81881,
          "sourceType": "modelInstanceVersion",
          "modelInstanceId": 68809,
          "modelId": 91102
        }
      ],
      "dockerImageVersionId": 30747,
      "isInternetEnabled": true,
      "language": "python",
      "sourceType": "notebook",
      "isGpuEnabled": true
    },
    "colab": {
      "provenance": [],
      "gpuType": "T4"
    },
    "accelerator": "GPU",
    "widgets": {
      "application/vnd.jupyter.widget-state+json": {
        "d9eae482ad654762ac51e84429e8ae08": {
          "model_module": "@jupyter-widgets/controls",
          "model_name": "HBoxModel",
          "model_module_version": "1.5.0",
          "state": {
            "_dom_classes": [],
            "_model_module": "@jupyter-widgets/controls",
            "_model_module_version": "1.5.0",
            "_model_name": "HBoxModel",
            "_view_count": null,
            "_view_module": "@jupyter-widgets/controls",
            "_view_module_version": "1.5.0",
            "_view_name": "HBoxView",
            "box_style": "",
            "children": [
              "IPY_MODEL_b39b370ee2c14780b4f8963453dea1f1",
              "IPY_MODEL_cc4a059b35cb4ee488b2b99e712071d9",
              "IPY_MODEL_1398c5003629498bbb4c8fdc7c8754e4"
            ],
            "layout": "IPY_MODEL_5aeb3d1ee4b24208890755960a7109a5"
          }
        },
        "b39b370ee2c14780b4f8963453dea1f1": {
          "model_module": "@jupyter-widgets/controls",
          "model_name": "HTMLModel",
          "model_module_version": "1.5.0",
          "state": {
            "_dom_classes": [],
            "_model_module": "@jupyter-widgets/controls",
            "_model_module_version": "1.5.0",
            "_model_name": "HTMLModel",
            "_view_count": null,
            "_view_module": "@jupyter-widgets/controls",
            "_view_module_version": "1.5.0",
            "_view_name": "HTMLView",
            "description": "",
            "description_tooltip": null,
            "layout": "IPY_MODEL_07ed6aae15df464baf3cf286e42fd456",
            "placeholder": "​",
            "style": "IPY_MODEL_5f32e9ad0ab44932a17cad9e5a1ccf51",
            "value": "Map: 100%"
          }
        },
        "cc4a059b35cb4ee488b2b99e712071d9": {
          "model_module": "@jupyter-widgets/controls",
          "model_name": "FloatProgressModel",
          "model_module_version": "1.5.0",
          "state": {
            "_dom_classes": [],
            "_model_module": "@jupyter-widgets/controls",
            "_model_module_version": "1.5.0",
            "_model_name": "FloatProgressModel",
            "_view_count": null,
            "_view_module": "@jupyter-widgets/controls",
            "_view_module_version": "1.5.0",
            "_view_name": "ProgressView",
            "bar_style": "success",
            "description": "",
            "description_tooltip": null,
            "layout": "IPY_MODEL_76a72661d82248d8bf2a82b5b9316333",
            "max": 2144,
            "min": 0,
            "orientation": "horizontal",
            "style": "IPY_MODEL_3bb95ab82a0141b492798467c68f87eb",
            "value": 2144
          }
        },
        "1398c5003629498bbb4c8fdc7c8754e4": {
          "model_module": "@jupyter-widgets/controls",
          "model_name": "HTMLModel",
          "model_module_version": "1.5.0",
          "state": {
            "_dom_classes": [],
            "_model_module": "@jupyter-widgets/controls",
            "_model_module_version": "1.5.0",
            "_model_name": "HTMLModel",
            "_view_count": null,
            "_view_module": "@jupyter-widgets/controls",
            "_view_module_version": "1.5.0",
            "_view_name": "HTMLView",
            "description": "",
            "description_tooltip": null,
            "layout": "IPY_MODEL_217f70f1fa834b79ba1d196f355cbd02",
            "placeholder": "​",
            "style": "IPY_MODEL_d261521a0a314ed082ea7ab3131babef",
            "value": " 2144/2144 [00:03&lt;00:00, 584.33 examples/s]"
          }
        },
        "5aeb3d1ee4b24208890755960a7109a5": {
          "model_module": "@jupyter-widgets/base",
          "model_name": "LayoutModel",
          "model_module_version": "1.2.0",
          "state": {
            "_model_module": "@jupyter-widgets/base",
            "_model_module_version": "1.2.0",
            "_model_name": "LayoutModel",
            "_view_count": null,
            "_view_module": "@jupyter-widgets/base",
            "_view_module_version": "1.2.0",
            "_view_name": "LayoutView",
            "align_content": null,
            "align_items": null,
            "align_self": null,
            "border": null,
            "bottom": null,
            "display": null,
            "flex": null,
            "flex_flow": null,
            "grid_area": null,
            "grid_auto_columns": null,
            "grid_auto_flow": null,
            "grid_auto_rows": null,
            "grid_column": null,
            "grid_gap": null,
            "grid_row": null,
            "grid_template_areas": null,
            "grid_template_columns": null,
            "grid_template_rows": null,
            "height": null,
            "justify_content": null,
            "justify_items": null,
            "left": null,
            "margin": null,
            "max_height": null,
            "max_width": null,
            "min_height": null,
            "min_width": null,
            "object_fit": null,
            "object_position": null,
            "order": null,
            "overflow": null,
            "overflow_x": null,
            "overflow_y": null,
            "padding": null,
            "right": null,
            "top": null,
            "visibility": null,
            "width": null
          }
        },
        "07ed6aae15df464baf3cf286e42fd456": {
          "model_module": "@jupyter-widgets/base",
          "model_name": "LayoutModel",
          "model_module_version": "1.2.0",
          "state": {
            "_model_module": "@jupyter-widgets/base",
            "_model_module_version": "1.2.0",
            "_model_name": "LayoutModel",
            "_view_count": null,
            "_view_module": "@jupyter-widgets/base",
            "_view_module_version": "1.2.0",
            "_view_name": "LayoutView",
            "align_content": null,
            "align_items": null,
            "align_self": null,
            "border": null,
            "bottom": null,
            "display": null,
            "flex": null,
            "flex_flow": null,
            "grid_area": null,
            "grid_auto_columns": null,
            "grid_auto_flow": null,
            "grid_auto_rows": null,
            "grid_column": null,
            "grid_gap": null,
            "grid_row": null,
            "grid_template_areas": null,
            "grid_template_columns": null,
            "grid_template_rows": null,
            "height": null,
            "justify_content": null,
            "justify_items": null,
            "left": null,
            "margin": null,
            "max_height": null,
            "max_width": null,
            "min_height": null,
            "min_width": null,
            "object_fit": null,
            "object_position": null,
            "order": null,
            "overflow": null,
            "overflow_x": null,
            "overflow_y": null,
            "padding": null,
            "right": null,
            "top": null,
            "visibility": null,
            "width": null
          }
        },
        "5f32e9ad0ab44932a17cad9e5a1ccf51": {
          "model_module": "@jupyter-widgets/controls",
          "model_name": "DescriptionStyleModel",
          "model_module_version": "1.5.0",
          "state": {
            "_model_module": "@jupyter-widgets/controls",
            "_model_module_version": "1.5.0",
            "_model_name": "DescriptionStyleModel",
            "_view_count": null,
            "_view_module": "@jupyter-widgets/base",
            "_view_module_version": "1.2.0",
            "_view_name": "StyleView",
            "description_width": ""
          }
        },
        "76a72661d82248d8bf2a82b5b9316333": {
          "model_module": "@jupyter-widgets/base",
          "model_name": "LayoutModel",
          "model_module_version": "1.2.0",
          "state": {
            "_model_module": "@jupyter-widgets/base",
            "_model_module_version": "1.2.0",
            "_model_name": "LayoutModel",
            "_view_count": null,
            "_view_module": "@jupyter-widgets/base",
            "_view_module_version": "1.2.0",
            "_view_name": "LayoutView",
            "align_content": null,
            "align_items": null,
            "align_self": null,
            "border": null,
            "bottom": null,
            "display": null,
            "flex": null,
            "flex_flow": null,
            "grid_area": null,
            "grid_auto_columns": null,
            "grid_auto_flow": null,
            "grid_auto_rows": null,
            "grid_column": null,
            "grid_gap": null,
            "grid_row": null,
            "grid_template_areas": null,
            "grid_template_columns": null,
            "grid_template_rows": null,
            "height": null,
            "justify_content": null,
            "justify_items": null,
            "left": null,
            "margin": null,
            "max_height": null,
            "max_width": null,
            "min_height": null,
            "min_width": null,
            "object_fit": null,
            "object_position": null,
            "order": null,
            "overflow": null,
            "overflow_x": null,
            "overflow_y": null,
            "padding": null,
            "right": null,
            "top": null,
            "visibility": null,
            "width": null
          }
        },
        "3bb95ab82a0141b492798467c68f87eb": {
          "model_module": "@jupyter-widgets/controls",
          "model_name": "ProgressStyleModel",
          "model_module_version": "1.5.0",
          "state": {
            "_model_module": "@jupyter-widgets/controls",
            "_model_module_version": "1.5.0",
            "_model_name": "ProgressStyleModel",
            "_view_count": null,
            "_view_module": "@jupyter-widgets/base",
            "_view_module_version": "1.2.0",
            "_view_name": "StyleView",
            "bar_color": null,
            "description_width": ""
          }
        },
        "217f70f1fa834b79ba1d196f355cbd02": {
          "model_module": "@jupyter-widgets/base",
          "model_name": "LayoutModel",
          "model_module_version": "1.2.0",
          "state": {
            "_model_module": "@jupyter-widgets/base",
            "_model_module_version": "1.2.0",
            "_model_name": "LayoutModel",
            "_view_count": null,
            "_view_module": "@jupyter-widgets/base",
            "_view_module_version": "1.2.0",
            "_view_name": "LayoutView",
            "align_content": null,
            "align_items": null,
            "align_self": null,
            "border": null,
            "bottom": null,
            "display": null,
            "flex": null,
            "flex_flow": null,
            "grid_area": null,
            "grid_auto_columns": null,
            "grid_auto_flow": null,
            "grid_auto_rows": null,
            "grid_column": null,
            "grid_gap": null,
            "grid_row": null,
            "grid_template_areas": null,
            "grid_template_columns": null,
            "grid_template_rows": null,
            "height": null,
            "justify_content": null,
            "justify_items": null,
            "left": null,
            "margin": null,
            "max_height": null,
            "max_width": null,
            "min_height": null,
            "min_width": null,
            "object_fit": null,
            "object_position": null,
            "order": null,
            "overflow": null,
            "overflow_x": null,
            "overflow_y": null,
            "padding": null,
            "right": null,
            "top": null,
            "visibility": null,
            "width": null
          }
        },
        "d261521a0a314ed082ea7ab3131babef": {
          "model_module": "@jupyter-widgets/controls",
          "model_name": "DescriptionStyleModel",
          "model_module_version": "1.5.0",
          "state": {
            "_model_module": "@jupyter-widgets/controls",
            "_model_module_version": "1.5.0",
            "_model_name": "DescriptionStyleModel",
            "_view_count": null,
            "_view_module": "@jupyter-widgets/base",
            "_view_module_version": "1.2.0",
            "_view_name": "StyleView",
            "description_width": ""
          }
        },
        "6a1f81eb263642d9810c7613fbf5543e": {
          "model_module": "@jupyter-widgets/controls",
          "model_name": "HBoxModel",
          "model_module_version": "1.5.0",
          "state": {
            "_dom_classes": [],
            "_model_module": "@jupyter-widgets/controls",
            "_model_module_version": "1.5.0",
            "_model_name": "HBoxModel",
            "_view_count": null,
            "_view_module": "@jupyter-widgets/controls",
            "_view_module_version": "1.5.0",
            "_view_name": "HBoxView",
            "box_style": "",
            "children": [
              "IPY_MODEL_443dfe386261473280fe8090bad6aab9",
              "IPY_MODEL_c71bcf20d14d494ab62f3670103608cb",
              "IPY_MODEL_bb91911c270e46f798219ef2a9119aa1"
            ],
            "layout": "IPY_MODEL_39340e8f64514103a0d16eaa7cc09c49"
          }
        },
        "443dfe386261473280fe8090bad6aab9": {
          "model_module": "@jupyter-widgets/controls",
          "model_name": "HTMLModel",
          "model_module_version": "1.5.0",
          "state": {
            "_dom_classes": [],
            "_model_module": "@jupyter-widgets/controls",
            "_model_module_version": "1.5.0",
            "_model_name": "HTMLModel",
            "_view_count": null,
            "_view_module": "@jupyter-widgets/controls",
            "_view_module_version": "1.5.0",
            "_view_name": "HTMLView",
            "description": "",
            "description_tooltip": null,
            "layout": "IPY_MODEL_25819837877847ef8080b092dfccc7f6",
            "placeholder": "​",
            "style": "IPY_MODEL_de07f1f826b14a8d82763b9e13aeec7c",
            "value": "Map: 100%"
          }
        },
        "c71bcf20d14d494ab62f3670103608cb": {
          "model_module": "@jupyter-widgets/controls",
          "model_name": "FloatProgressModel",
          "model_module_version": "1.5.0",
          "state": {
            "_dom_classes": [],
            "_model_module": "@jupyter-widgets/controls",
            "_model_module_version": "1.5.0",
            "_model_name": "FloatProgressModel",
            "_view_count": null,
            "_view_module": "@jupyter-widgets/controls",
            "_view_module_version": "1.5.0",
            "_view_name": "ProgressView",
            "bar_style": "success",
            "description": "",
            "description_tooltip": null,
            "layout": "IPY_MODEL_4fe6135fae8f4868b40e5719fcf83b9b",
            "max": 268,
            "min": 0,
            "orientation": "horizontal",
            "style": "IPY_MODEL_f1ddabff0be74c82b171a25764649e61",
            "value": 268
          }
        },
        "bb91911c270e46f798219ef2a9119aa1": {
          "model_module": "@jupyter-widgets/controls",
          "model_name": "HTMLModel",
          "model_module_version": "1.5.0",
          "state": {
            "_dom_classes": [],
            "_model_module": "@jupyter-widgets/controls",
            "_model_module_version": "1.5.0",
            "_model_name": "HTMLModel",
            "_view_count": null,
            "_view_module": "@jupyter-widgets/controls",
            "_view_module_version": "1.5.0",
            "_view_name": "HTMLView",
            "description": "",
            "description_tooltip": null,
            "layout": "IPY_MODEL_d2304ff953704a67be3de8d4ce292a11",
            "placeholder": "​",
            "style": "IPY_MODEL_604759fea7cf4c058bf2a31ee825e6d2",
            "value": " 268/268 [00:00&lt;00:00, 584.84 examples/s]"
          }
        },
        "39340e8f64514103a0d16eaa7cc09c49": {
          "model_module": "@jupyter-widgets/base",
          "model_name": "LayoutModel",
          "model_module_version": "1.2.0",
          "state": {
            "_model_module": "@jupyter-widgets/base",
            "_model_module_version": "1.2.0",
            "_model_name": "LayoutModel",
            "_view_count": null,
            "_view_module": "@jupyter-widgets/base",
            "_view_module_version": "1.2.0",
            "_view_name": "LayoutView",
            "align_content": null,
            "align_items": null,
            "align_self": null,
            "border": null,
            "bottom": null,
            "display": null,
            "flex": null,
            "flex_flow": null,
            "grid_area": null,
            "grid_auto_columns": null,
            "grid_auto_flow": null,
            "grid_auto_rows": null,
            "grid_column": null,
            "grid_gap": null,
            "grid_row": null,
            "grid_template_areas": null,
            "grid_template_columns": null,
            "grid_template_rows": null,
            "height": null,
            "justify_content": null,
            "justify_items": null,
            "left": null,
            "margin": null,
            "max_height": null,
            "max_width": null,
            "min_height": null,
            "min_width": null,
            "object_fit": null,
            "object_position": null,
            "order": null,
            "overflow": null,
            "overflow_x": null,
            "overflow_y": null,
            "padding": null,
            "right": null,
            "top": null,
            "visibility": null,
            "width": null
          }
        },
        "25819837877847ef8080b092dfccc7f6": {
          "model_module": "@jupyter-widgets/base",
          "model_name": "LayoutModel",
          "model_module_version": "1.2.0",
          "state": {
            "_model_module": "@jupyter-widgets/base",
            "_model_module_version": "1.2.0",
            "_model_name": "LayoutModel",
            "_view_count": null,
            "_view_module": "@jupyter-widgets/base",
            "_view_module_version": "1.2.0",
            "_view_name": "LayoutView",
            "align_content": null,
            "align_items": null,
            "align_self": null,
            "border": null,
            "bottom": null,
            "display": null,
            "flex": null,
            "flex_flow": null,
            "grid_area": null,
            "grid_auto_columns": null,
            "grid_auto_flow": null,
            "grid_auto_rows": null,
            "grid_column": null,
            "grid_gap": null,
            "grid_row": null,
            "grid_template_areas": null,
            "grid_template_columns": null,
            "grid_template_rows": null,
            "height": null,
            "justify_content": null,
            "justify_items": null,
            "left": null,
            "margin": null,
            "max_height": null,
            "max_width": null,
            "min_height": null,
            "min_width": null,
            "object_fit": null,
            "object_position": null,
            "order": null,
            "overflow": null,
            "overflow_x": null,
            "overflow_y": null,
            "padding": null,
            "right": null,
            "top": null,
            "visibility": null,
            "width": null
          }
        },
        "de07f1f826b14a8d82763b9e13aeec7c": {
          "model_module": "@jupyter-widgets/controls",
          "model_name": "DescriptionStyleModel",
          "model_module_version": "1.5.0",
          "state": {
            "_model_module": "@jupyter-widgets/controls",
            "_model_module_version": "1.5.0",
            "_model_name": "DescriptionStyleModel",
            "_view_count": null,
            "_view_module": "@jupyter-widgets/base",
            "_view_module_version": "1.2.0",
            "_view_name": "StyleView",
            "description_width": ""
          }
        },
        "4fe6135fae8f4868b40e5719fcf83b9b": {
          "model_module": "@jupyter-widgets/base",
          "model_name": "LayoutModel",
          "model_module_version": "1.2.0",
          "state": {
            "_model_module": "@jupyter-widgets/base",
            "_model_module_version": "1.2.0",
            "_model_name": "LayoutModel",
            "_view_count": null,
            "_view_module": "@jupyter-widgets/base",
            "_view_module_version": "1.2.0",
            "_view_name": "LayoutView",
            "align_content": null,
            "align_items": null,
            "align_self": null,
            "border": null,
            "bottom": null,
            "display": null,
            "flex": null,
            "flex_flow": null,
            "grid_area": null,
            "grid_auto_columns": null,
            "grid_auto_flow": null,
            "grid_auto_rows": null,
            "grid_column": null,
            "grid_gap": null,
            "grid_row": null,
            "grid_template_areas": null,
            "grid_template_columns": null,
            "grid_template_rows": null,
            "height": null,
            "justify_content": null,
            "justify_items": null,
            "left": null,
            "margin": null,
            "max_height": null,
            "max_width": null,
            "min_height": null,
            "min_width": null,
            "object_fit": null,
            "object_position": null,
            "order": null,
            "overflow": null,
            "overflow_x": null,
            "overflow_y": null,
            "padding": null,
            "right": null,
            "top": null,
            "visibility": null,
            "width": null
          }
        },
        "f1ddabff0be74c82b171a25764649e61": {
          "model_module": "@jupyter-widgets/controls",
          "model_name": "ProgressStyleModel",
          "model_module_version": "1.5.0",
          "state": {
            "_model_module": "@jupyter-widgets/controls",
            "_model_module_version": "1.5.0",
            "_model_name": "ProgressStyleModel",
            "_view_count": null,
            "_view_module": "@jupyter-widgets/base",
            "_view_module_version": "1.2.0",
            "_view_name": "StyleView",
            "bar_color": null,
            "description_width": ""
          }
        },
        "d2304ff953704a67be3de8d4ce292a11": {
          "model_module": "@jupyter-widgets/base",
          "model_name": "LayoutModel",
          "model_module_version": "1.2.0",
          "state": {
            "_model_module": "@jupyter-widgets/base",
            "_model_module_version": "1.2.0",
            "_model_name": "LayoutModel",
            "_view_count": null,
            "_view_module": "@jupyter-widgets/base",
            "_view_module_version": "1.2.0",
            "_view_name": "LayoutView",
            "align_content": null,
            "align_items": null,
            "align_self": null,
            "border": null,
            "bottom": null,
            "display": null,
            "flex": null,
            "flex_flow": null,
            "grid_area": null,
            "grid_auto_columns": null,
            "grid_auto_flow": null,
            "grid_auto_rows": null,
            "grid_column": null,
            "grid_gap": null,
            "grid_row": null,
            "grid_template_areas": null,
            "grid_template_columns": null,
            "grid_template_rows": null,
            "height": null,
            "justify_content": null,
            "justify_items": null,
            "left": null,
            "margin": null,
            "max_height": null,
            "max_width": null,
            "min_height": null,
            "min_width": null,
            "object_fit": null,
            "object_position": null,
            "order": null,
            "overflow": null,
            "overflow_x": null,
            "overflow_y": null,
            "padding": null,
            "right": null,
            "top": null,
            "visibility": null,
            "width": null
          }
        },
        "604759fea7cf4c058bf2a31ee825e6d2": {
          "model_module": "@jupyter-widgets/controls",
          "model_name": "DescriptionStyleModel",
          "model_module_version": "1.5.0",
          "state": {
            "_model_module": "@jupyter-widgets/controls",
            "_model_module_version": "1.5.0",
            "_model_name": "DescriptionStyleModel",
            "_view_count": null,
            "_view_module": "@jupyter-widgets/base",
            "_view_module_version": "1.2.0",
            "_view_name": "StyleView",
            "description_width": ""
          }
        },
        "aef47ea20339404cb252cdb0c5595562": {
          "model_module": "@jupyter-widgets/controls",
          "model_name": "VBoxModel",
          "model_module_version": "1.5.0",
          "state": {
            "_dom_classes": [],
            "_model_module": "@jupyter-widgets/controls",
            "_model_module_version": "1.5.0",
            "_model_name": "VBoxModel",
            "_view_count": null,
            "_view_module": "@jupyter-widgets/controls",
            "_view_module_version": "1.5.0",
            "_view_name": "VBoxView",
            "box_style": "",
            "children": [
              "IPY_MODEL_0fe9280479d44270a9be9c10ad4e8a78",
              "IPY_MODEL_80f45f67339c460da161a030f03f1cd0"
            ],
            "layout": "IPY_MODEL_7e5f7e0624194bcf89605dda3c8075eb"
          }
        },
        "0fe9280479d44270a9be9c10ad4e8a78": {
          "model_module": "@jupyter-widgets/controls",
          "model_name": "LabelModel",
          "model_module_version": "1.5.0",
          "state": {
            "_dom_classes": [],
            "_model_module": "@jupyter-widgets/controls",
            "_model_module_version": "1.5.0",
            "_model_name": "LabelModel",
            "_view_count": null,
            "_view_module": "@jupyter-widgets/controls",
            "_view_module_version": "1.5.0",
            "_view_name": "LabelView",
            "description": "",
            "description_tooltip": null,
            "layout": "IPY_MODEL_7f92545d507843c7ab2e97c9291d3538",
            "placeholder": "​",
            "style": "IPY_MODEL_ce874dc8a2974f94bb4f3965ee9624e5",
            "value": "0.024 MB of 0.024 MB uploaded\r"
          }
        },
        "80f45f67339c460da161a030f03f1cd0": {
          "model_module": "@jupyter-widgets/controls",
          "model_name": "FloatProgressModel",
          "model_module_version": "1.5.0",
          "state": {
            "_dom_classes": [],
            "_model_module": "@jupyter-widgets/controls",
            "_model_module_version": "1.5.0",
            "_model_name": "FloatProgressModel",
            "_view_count": null,
            "_view_module": "@jupyter-widgets/controls",
            "_view_module_version": "1.5.0",
            "_view_name": "ProgressView",
            "bar_style": "",
            "description": "",
            "description_tooltip": null,
            "layout": "IPY_MODEL_de28c4d2c7874cb187326ea0eea952f4",
            "max": 1,
            "min": 0,
            "orientation": "horizontal",
            "style": "IPY_MODEL_93dae1b03d7c4a53b0a773b7914b0eca",
            "value": 1
          }
        },
        "7e5f7e0624194bcf89605dda3c8075eb": {
          "model_module": "@jupyter-widgets/base",
          "model_name": "LayoutModel",
          "model_module_version": "1.2.0",
          "state": {
            "_model_module": "@jupyter-widgets/base",
            "_model_module_version": "1.2.0",
            "_model_name": "LayoutModel",
            "_view_count": null,
            "_view_module": "@jupyter-widgets/base",
            "_view_module_version": "1.2.0",
            "_view_name": "LayoutView",
            "align_content": null,
            "align_items": null,
            "align_self": null,
            "border": null,
            "bottom": null,
            "display": null,
            "flex": null,
            "flex_flow": null,
            "grid_area": null,
            "grid_auto_columns": null,
            "grid_auto_flow": null,
            "grid_auto_rows": null,
            "grid_column": null,
            "grid_gap": null,
            "grid_row": null,
            "grid_template_areas": null,
            "grid_template_columns": null,
            "grid_template_rows": null,
            "height": null,
            "justify_content": null,
            "justify_items": null,
            "left": null,
            "margin": null,
            "max_height": null,
            "max_width": null,
            "min_height": null,
            "min_width": null,
            "object_fit": null,
            "object_position": null,
            "order": null,
            "overflow": null,
            "overflow_x": null,
            "overflow_y": null,
            "padding": null,
            "right": null,
            "top": null,
            "visibility": null,
            "width": null
          }
        },
        "7f92545d507843c7ab2e97c9291d3538": {
          "model_module": "@jupyter-widgets/base",
          "model_name": "LayoutModel",
          "model_module_version": "1.2.0",
          "state": {
            "_model_module": "@jupyter-widgets/base",
            "_model_module_version": "1.2.0",
            "_model_name": "LayoutModel",
            "_view_count": null,
            "_view_module": "@jupyter-widgets/base",
            "_view_module_version": "1.2.0",
            "_view_name": "LayoutView",
            "align_content": null,
            "align_items": null,
            "align_self": null,
            "border": null,
            "bottom": null,
            "display": null,
            "flex": null,
            "flex_flow": null,
            "grid_area": null,
            "grid_auto_columns": null,
            "grid_auto_flow": null,
            "grid_auto_rows": null,
            "grid_column": null,
            "grid_gap": null,
            "grid_row": null,
            "grid_template_areas": null,
            "grid_template_columns": null,
            "grid_template_rows": null,
            "height": null,
            "justify_content": null,
            "justify_items": null,
            "left": null,
            "margin": null,
            "max_height": null,
            "max_width": null,
            "min_height": null,
            "min_width": null,
            "object_fit": null,
            "object_position": null,
            "order": null,
            "overflow": null,
            "overflow_x": null,
            "overflow_y": null,
            "padding": null,
            "right": null,
            "top": null,
            "visibility": null,
            "width": null
          }
        },
        "ce874dc8a2974f94bb4f3965ee9624e5": {
          "model_module": "@jupyter-widgets/controls",
          "model_name": "DescriptionStyleModel",
          "model_module_version": "1.5.0",
          "state": {
            "_model_module": "@jupyter-widgets/controls",
            "_model_module_version": "1.5.0",
            "_model_name": "DescriptionStyleModel",
            "_view_count": null,
            "_view_module": "@jupyter-widgets/base",
            "_view_module_version": "1.2.0",
            "_view_name": "StyleView",
            "description_width": ""
          }
        },
        "de28c4d2c7874cb187326ea0eea952f4": {
          "model_module": "@jupyter-widgets/base",
          "model_name": "LayoutModel",
          "model_module_version": "1.2.0",
          "state": {
            "_model_module": "@jupyter-widgets/base",
            "_model_module_version": "1.2.0",
            "_model_name": "LayoutModel",
            "_view_count": null,
            "_view_module": "@jupyter-widgets/base",
            "_view_module_version": "1.2.0",
            "_view_name": "LayoutView",
            "align_content": null,
            "align_items": null,
            "align_self": null,
            "border": null,
            "bottom": null,
            "display": null,
            "flex": null,
            "flex_flow": null,
            "grid_area": null,
            "grid_auto_columns": null,
            "grid_auto_flow": null,
            "grid_auto_rows": null,
            "grid_column": null,
            "grid_gap": null,
            "grid_row": null,
            "grid_template_areas": null,
            "grid_template_columns": null,
            "grid_template_rows": null,
            "height": null,
            "justify_content": null,
            "justify_items": null,
            "left": null,
            "margin": null,
            "max_height": null,
            "max_width": null,
            "min_height": null,
            "min_width": null,
            "object_fit": null,
            "object_position": null,
            "order": null,
            "overflow": null,
            "overflow_x": null,
            "overflow_y": null,
            "padding": null,
            "right": null,
            "top": null,
            "visibility": null,
            "width": null
          }
        },
        "93dae1b03d7c4a53b0a773b7914b0eca": {
          "model_module": "@jupyter-widgets/controls",
          "model_name": "ProgressStyleModel",
          "model_module_version": "1.5.0",
          "state": {
            "_model_module": "@jupyter-widgets/controls",
            "_model_module_version": "1.5.0",
            "_model_name": "ProgressStyleModel",
            "_view_count": null,
            "_view_module": "@jupyter-widgets/base",
            "_view_module_version": "1.2.0",
            "_view_name": "StyleView",
            "bar_color": null,
            "description_width": ""
          }
        }
      }
    }
  },
  "nbformat_minor": 0,
  "nbformat": 4,
  "cells": [
    {
      "source": [
        "\n",
        "# IMPORTANT: RUN THIS CELL IN ORDER TO IMPORT YOUR KAGGLE DATA SOURCES\n",
        "# TO THE CORRECT LOCATION (/kaggle/input) IN YOUR NOTEBOOK,\n",
        "# THEN FEEL FREE TO DELETE THIS CELL.\n",
        "# NOTE: THIS NOTEBOOK ENVIRONMENT DIFFERS FROM KAGGLE'S PYTHON\n",
        "# ENVIRONMENT SO THERE MAY BE MISSING LIBRARIES USED BY YOUR\n",
        "# NOTEBOOK.\n",
        "\n",
        "import os\n",
        "import sys\n",
        "from tempfile import NamedTemporaryFile\n",
        "from urllib.request import urlopen\n",
        "from urllib.parse import unquote, urlparse\n",
        "from urllib.error import HTTPError\n",
        "from zipfile import ZipFile\n",
        "import tarfile\n",
        "import shutil\n",
        "\n",
        "CHUNK_SIZE = 40960\n",
        "DATA_SOURCE_MAPPING = 'sentiment-analysis-for-mental-health:https%3A%2F%2Fstorage.googleapis.com%2Fkaggle-data-sets%2F5338273%2F8870083%2Fbundle%2Farchive.zip%3FX-Goog-Algorithm%3DGOOG4-RSA-SHA256%26X-Goog-Credential%3Dgcp-kaggle-com%2540kaggle-161607.iam.gserviceaccount.com%252F20240929%252Fauto%252Fstorage%252Fgoog4_request%26X-Goog-Date%3D20240929T110046Z%26X-Goog-Expires%3D259200%26X-Goog-SignedHeaders%3Dhost%26X-Goog-Signature%3Dc5271537d21a65a89e26ab448184afb4edede4faa3b2e67d28236a0c3adad5f7b2d3c131bebd6c4290df626bf1791b1049e1342559c074cd54b7b31dad00ff65f39417f24ade4c2877645de0c4f37a9a6bd4e2297a506b77f27b12232ca8e26bb94635eed81a3da3abf335f01ece23af48e39042eb91cb20870d91a8e84ed1e787e572071b677b6e5ea3cdeeeb1e5866a579f6292dec55403c7107a8a9be8a0fc014dfd16c86b08d7a9cbbe3d720c62751d5985841c27ee93f1329802662c942279cfa8dfe9424d21c9542902e4dd6a7e9b90a5f0b8107685469ed92650026893dd21f616a39c27c705a156a68502bc3c1a68ed27324bb3a30522af971a491a3,combine-data:https%3A%2F%2Fstorage.googleapis.com%2Fkaggle-data-sets%2F5786818%2F9507493%2Fbundle%2Farchive.zip%3FX-Goog-Algorithm%3DGOOG4-RSA-SHA256%26X-Goog-Credential%3Dgcp-kaggle-com%2540kaggle-161607.iam.gserviceaccount.com%252F20240929%252Fauto%252Fstorage%252Fgoog4_request%26X-Goog-Date%3D20240929T110046Z%26X-Goog-Expires%3D259200%26X-Goog-SignedHeaders%3Dhost%26X-Goog-Signature%3Dbfae2f75875bda73fd268b05cd96e9089990048fd454d677facf9da8128d2fc34840ec7c7f37165c5dc8ff407a5f29eff1781564d05597fc0fa1b742bcfcc460b50d28cad8d7f7941fcad7693261e357958c3e87dab85d3ae3c1f5653721b1d4bd4bcc549afebc734c95dd80fa6362851d955bfa33a54c284e6bd9f0f4647153ead4bd200ab24f7a6fa99eb8240d0934afbc3097b4c4026cd0f2773dffe28de17c10f0789b92572e2fcd85bf670b2c0df2c33522e7d38f2b705e3fd3acb1f413ec86d84bb9d7f2bd86ea047f9940a79ef2106804b707dbc9a1fe7a064d96eb2c57bd1762ac54d042cb08782d3b0384b700521ebda9498699bba12641b2939718'\n",
        "\n",
        "KAGGLE_INPUT_PATH='/kaggle/input'\n",
        "KAGGLE_WORKING_PATH='/kaggle/working'\n",
        "KAGGLE_SYMLINK='kaggle'\n",
        "\n",
        "!umount /kaggle/input/ 2> /dev/null\n",
        "shutil.rmtree('/kaggle/input', ignore_errors=True)\n",
        "os.makedirs(KAGGLE_INPUT_PATH, 0o777, exist_ok=True)\n",
        "os.makedirs(KAGGLE_WORKING_PATH, 0o777, exist_ok=True)\n",
        "\n",
        "try:\n",
        "  os.symlink(KAGGLE_INPUT_PATH, os.path.join(\"..\", 'input'), target_is_directory=True)\n",
        "except FileExistsError:\n",
        "  pass\n",
        "try:\n",
        "  os.symlink(KAGGLE_WORKING_PATH, os.path.join(\"..\", 'working'), target_is_directory=True)\n",
        "except FileExistsError:\n",
        "  pass\n",
        "\n",
        "for data_source_mapping in DATA_SOURCE_MAPPING.split(','):\n",
        "    directory, download_url_encoded = data_source_mapping.split(':')\n",
        "    download_url = unquote(download_url_encoded)\n",
        "    filename = urlparse(download_url).path\n",
        "    destination_path = os.path.join(KAGGLE_INPUT_PATH, directory)\n",
        "    try:\n",
        "        with urlopen(download_url) as fileres, NamedTemporaryFile() as tfile:\n",
        "            total_length = fileres.headers['content-length']\n",
        "            print(f'Downloading {directory}, {total_length} bytes compressed')\n",
        "            dl = 0\n",
        "            data = fileres.read(CHUNK_SIZE)\n",
        "            while len(data) > 0:\n",
        "                dl += len(data)\n",
        "                tfile.write(data)\n",
        "                done = int(50 * dl / int(total_length))\n",
        "                sys.stdout.write(f\"\\r[{'=' * done}{' ' * (50-done)}] {dl} bytes downloaded\")\n",
        "                sys.stdout.flush()\n",
        "                data = fileres.read(CHUNK_SIZE)\n",
        "            if filename.endswith('.zip'):\n",
        "              with ZipFile(tfile) as zfile:\n",
        "                zfile.extractall(destination_path)\n",
        "            else:\n",
        "              with tarfile.open(tfile.name) as tarfile:\n",
        "                tarfile.extractall(destination_path)\n",
        "            print(f'\\nDownloaded and uncompressed: {directory}')\n",
        "    except HTTPError as e:\n",
        "        print(f'Failed to load (likely expired) {download_url} to path {destination_path}')\n",
        "        continue\n",
        "    except OSError as e:\n",
        "        print(f'Failed to load {download_url} to path {destination_path}')\n",
        "        continue\n",
        "\n",
        "print('Data source import complete.')\n"
      ],
      "metadata": {
        "colab": {
          "base_uri": "https://localhost:8080/"
        },
        "id": "k_mT8b8xcLW_",
        "outputId": "97603159-3fbe-44f9-f49d-eb10e5a1d78e"
      },
      "cell_type": "code",
      "outputs": [
        {
          "output_type": "stream",
          "name": "stdout",
          "text": [
            "Downloading sentiment-analysis-for-mental-health, 11587194 bytes compressed\n",
            "[==================================================] 11587194 bytes downloaded\n",
            "Downloaded and uncompressed: sentiment-analysis-for-mental-health\n",
            "Downloading combine-data, 1233851 bytes compressed\n",
            "[==================================================] 1233851 bytes downloaded\n",
            "Downloaded and uncompressed: combine-data\n",
            "Data source import complete.\n"
          ]
        }
      ],
      "execution_count": null
    },
    {
      "cell_type": "markdown",
      "source": [
        "## Setting up"
      ],
      "metadata": {
        "id": "Gp0-sFBBcLXB"
      }
    },
    {
      "cell_type": "code",
      "source": [
        "%%capture\n",
        "%pip install -U bitsandbytes\n",
        "%pip install -U transformers\n",
        "%pip install -U accelerate\n",
        "%pip install -U peft\n",
        "%pip install -U trl wandb"
      ],
      "metadata": {
        "_uuid": "8f2839f25d086af736a60e9eeb907d3b93b6e0e5",
        "_cell_guid": "b1076dfc-b9ad-4769-8c92-a6c4dae69d19",
        "execution": {
          "iopub.status.busy": "2024-09-29T09:25:31.936323Z",
          "iopub.execute_input": "2024-09-29T09:25:31.936629Z",
          "iopub.status.idle": "2024-09-29T09:27:00.689232Z",
          "shell.execute_reply.started": "2024-09-29T09:25:31.936601Z",
          "shell.execute_reply": "2024-09-29T09:27:00.687981Z"
        },
        "trusted": true,
        "id": "3qsZGMPRcLXC"
      },
      "execution_count": null,
      "outputs": []
    },
    {
      "cell_type": "code",
      "source": [
        "import wandb\n",
        "from google.colab import userdata\n",
        "userdata.get('w_b_scerts')\n",
        "# 0b9ef567374cf5ac9ad70183a7a95a810f76ed5d\n",
        "wandb.login()\n",
        "run = wandb.init(\n",
        "    project='Fine-tune llama-3.1-8b-it on Sentiment Analysis Dataset',\n",
        "    job_type=\"training\",\n",
        "    anonymous=\"allow\"\n",
        ")"
      ],
      "metadata": {
        "execution": {
          "iopub.status.busy": "2024-09-29T09:27:21.653056Z",
          "iopub.execute_input": "2024-09-29T09:27:21.653952Z",
          "iopub.status.idle": "2024-09-29T09:27:40.76456Z",
          "shell.execute_reply.started": "2024-09-29T09:27:21.653907Z",
          "shell.execute_reply": "2024-09-29T09:27:40.763599Z"
        },
        "trusted": true,
        "colab": {
          "base_uri": "https://localhost:8080/",
          "height": 140
        },
        "id": "XsxSHzPocLXC",
        "outputId": "e278a38b-6e13-4afe-8675-2a1e8ed838ee"
      },
      "execution_count": null,
      "outputs": [
        {
          "output_type": "stream",
          "name": "stderr",
          "text": [
            "\u001b[34m\u001b[1mwandb\u001b[0m: Using wandb-core as the SDK backend. Please refer to https://wandb.me/wandb-core for more information.\n",
            "\u001b[34m\u001b[1mwandb\u001b[0m: Currently logged in as: \u001b[33mahmed-mostafa22200028\u001b[0m (\u001b[33mcrime\u001b[0m). Use \u001b[1m`wandb login --relogin`\u001b[0m to force relogin\n"
          ]
        },
        {
          "output_type": "display_data",
          "data": {
            "text/plain": [
              "<IPython.core.display.HTML object>"
            ],
            "text/html": [
              "Tracking run with wandb version 0.18.2"
            ]
          },
          "metadata": {}
        },
        {
          "output_type": "display_data",
          "data": {
            "text/plain": [
              "<IPython.core.display.HTML object>"
            ],
            "text/html": [
              "Run data is saved locally in <code>/content/wandb/run-20240929_125211-jf7ozlhr</code>"
            ]
          },
          "metadata": {}
        },
        {
          "output_type": "display_data",
          "data": {
            "text/plain": [
              "<IPython.core.display.HTML object>"
            ],
            "text/html": [
              "Syncing run <strong><a href='https://wandb.ai/crime/Fine-tune%20llama-3.1-8b-it%20on%20Sentiment%20Analysis%20Dataset/runs/jf7ozlhr' target=\"_blank\">ethereal-plant-4</a></strong> to <a href='https://wandb.ai/crime/Fine-tune%20llama-3.1-8b-it%20on%20Sentiment%20Analysis%20Dataset' target=\"_blank\">Weights & Biases</a> (<a href='https://wandb.me/run' target=\"_blank\">docs</a>)<br/>"
            ]
          },
          "metadata": {}
        },
        {
          "output_type": "display_data",
          "data": {
            "text/plain": [
              "<IPython.core.display.HTML object>"
            ],
            "text/html": [
              " View project at <a href='https://wandb.ai/crime/Fine-tune%20llama-3.1-8b-it%20on%20Sentiment%20Analysis%20Dataset' target=\"_blank\">https://wandb.ai/crime/Fine-tune%20llama-3.1-8b-it%20on%20Sentiment%20Analysis%20Dataset</a>"
            ]
          },
          "metadata": {}
        },
        {
          "output_type": "display_data",
          "data": {
            "text/plain": [
              "<IPython.core.display.HTML object>"
            ],
            "text/html": [
              " View run at <a href='https://wandb.ai/crime/Fine-tune%20llama-3.1-8b-it%20on%20Sentiment%20Analysis%20Dataset/runs/jf7ozlhr' target=\"_blank\">https://wandb.ai/crime/Fine-tune%20llama-3.1-8b-it%20on%20Sentiment%20Analysis%20Dataset/runs/jf7ozlhr</a>"
            ]
          },
          "metadata": {}
        }
      ]
    },
    {
      "cell_type": "code",
      "source": [
        "import numpy as np\n",
        "import pandas as pd\n",
        "import os\n",
        "from tqdm import tqdm\n",
        "import bitsandbytes as bnb\n",
        "import torch\n",
        "import torch.nn as nn\n",
        "import transformers\n",
        "from datasets import Dataset\n",
        "from peft import LoraConfig, PeftConfig\n",
        "from trl import SFTTrainer\n",
        "from trl import setup_chat_format\n",
        "from transformers import (AutoModelForCausalLM,\n",
        "                          AutoTokenizer,\n",
        "                          BitsAndBytesConfig,\n",
        "                          TrainingArguments,\n",
        "                          pipeline,\n",
        "                          logging)\n",
        "from sklearn.metrics import (accuracy_score,\n",
        "                             classification_report,\n",
        "                             confusion_matrix)\n",
        "from sklearn.model_selection import train_test_split"
      ],
      "metadata": {
        "execution": {
          "iopub.status.busy": "2024-09-29T09:27:40.766667Z",
          "iopub.execute_input": "2024-09-29T09:27:40.767035Z",
          "iopub.status.idle": "2024-09-29T09:28:09.694099Z",
          "shell.execute_reply.started": "2024-09-29T09:27:40.767Z",
          "shell.execute_reply": "2024-09-29T09:28:09.693007Z"
        },
        "trusted": true,
        "id": "HT4hMU0ucLXC"
      },
      "execution_count": null,
      "outputs": []
    },
    {
      "cell_type": "markdown",
      "source": [
        "## Loading and processing the dataset"
      ],
      "metadata": {
        "id": "0BweTdjxcLXC"
      }
    },
    {
      "cell_type": "code",
      "source": [
        "# df = pd.read_csv(\"/kaggle/input/sentiment-analysis-for-mental-health/Combined Data.csv\",index_col = \"Unnamed: 0\")\n",
        "df = pd.read_excel(\"/kaggle/input/combine-data/combine_claass_df_balnce.xlsx\", index_col=\"Unnamed: 0\")\n",
        "# df.loc[:,'status'] = df.loc[:,'status'].str.replace('Bi-Polar','Bipolar')\n",
        "# df = df[(df.status != \"Personality disorder\") & (df.status != \"Stress\") & (df.status != \"Suicidal\")]\n",
        "df.head()"
      ],
      "metadata": {
        "execution": {
          "iopub.status.busy": "2024-09-29T09:28:51.104742Z",
          "iopub.execute_input": "2024-09-29T09:28:51.105101Z",
          "iopub.status.idle": "2024-09-29T09:28:52.629482Z",
          "shell.execute_reply.started": "2024-09-29T09:28:51.10507Z",
          "shell.execute_reply": "2024-09-29T09:28:52.627988Z"
        },
        "trusted": true,
        "colab": {
          "base_uri": "https://localhost:8080/",
          "height": 206
        },
        "id": "VmDn0lFzcLXC",
        "outputId": "437d5357-fb72-4f6b-c0ac-9d88afcebcc5"
      },
      "execution_count": null,
      "outputs": [
        {
          "output_type": "execute_result",
          "data": {
            "text/plain": [
              "                                                text                     label\n",
              "0   وليد عبدالله العتيبي مستشفي عفيف العام شركه ا...           Computer Issues\n",
              "1   تنبيه باخلاء المسءوليه هذه الرساله ومرفقاتها ...  Peripheral Device Issues\n",
              "2  الاخوه الزملاء السلام عليكم ورحمه الله وبركاته...           Security Alerts\n",
              "3   تنبيه باخلاء المسءوليه هذه الرساله ومرفقاتها ...             Uncategorized\n",
              "4   تنبيه باخلاء المسءوليه هذه الرساله ومرفقاتها ...            Printer Issues"
            ],
            "text/html": [
              "\n",
              "  <div id=\"df-5a820769-98ef-49e0-8f85-ad7d62134b91\" class=\"colab-df-container\">\n",
              "    <div>\n",
              "<style scoped>\n",
              "    .dataframe tbody tr th:only-of-type {\n",
              "        vertical-align: middle;\n",
              "    }\n",
              "\n",
              "    .dataframe tbody tr th {\n",
              "        vertical-align: top;\n",
              "    }\n",
              "\n",
              "    .dataframe thead th {\n",
              "        text-align: right;\n",
              "    }\n",
              "</style>\n",
              "<table border=\"1\" class=\"dataframe\">\n",
              "  <thead>\n",
              "    <tr style=\"text-align: right;\">\n",
              "      <th></th>\n",
              "      <th>text</th>\n",
              "      <th>label</th>\n",
              "    </tr>\n",
              "  </thead>\n",
              "  <tbody>\n",
              "    <tr>\n",
              "      <th>0</th>\n",
              "      <td>وليد عبدالله العتيبي مستشفي عفيف العام شركه ا...</td>\n",
              "      <td>Computer Issues</td>\n",
              "    </tr>\n",
              "    <tr>\n",
              "      <th>1</th>\n",
              "      <td>تنبيه باخلاء المسءوليه هذه الرساله ومرفقاتها ...</td>\n",
              "      <td>Peripheral Device Issues</td>\n",
              "    </tr>\n",
              "    <tr>\n",
              "      <th>2</th>\n",
              "      <td>الاخوه الزملاء السلام عليكم ورحمه الله وبركاته...</td>\n",
              "      <td>Security Alerts</td>\n",
              "    </tr>\n",
              "    <tr>\n",
              "      <th>3</th>\n",
              "      <td>تنبيه باخلاء المسءوليه هذه الرساله ومرفقاتها ...</td>\n",
              "      <td>Uncategorized</td>\n",
              "    </tr>\n",
              "    <tr>\n",
              "      <th>4</th>\n",
              "      <td>تنبيه باخلاء المسءوليه هذه الرساله ومرفقاتها ...</td>\n",
              "      <td>Printer Issues</td>\n",
              "    </tr>\n",
              "  </tbody>\n",
              "</table>\n",
              "</div>\n",
              "    <div class=\"colab-df-buttons\">\n",
              "\n",
              "  <div class=\"colab-df-container\">\n",
              "    <button class=\"colab-df-convert\" onclick=\"convertToInteractive('df-5a820769-98ef-49e0-8f85-ad7d62134b91')\"\n",
              "            title=\"Convert this dataframe to an interactive table.\"\n",
              "            style=\"display:none;\">\n",
              "\n",
              "  <svg xmlns=\"http://www.w3.org/2000/svg\" height=\"24px\" viewBox=\"0 -960 960 960\">\n",
              "    <path d=\"M120-120v-720h720v720H120Zm60-500h600v-160H180v160Zm220 220h160v-160H400v160Zm0 220h160v-160H400v160ZM180-400h160v-160H180v160Zm440 0h160v-160H620v160ZM180-180h160v-160H180v160Zm440 0h160v-160H620v160Z\"/>\n",
              "  </svg>\n",
              "    </button>\n",
              "\n",
              "  <style>\n",
              "    .colab-df-container {\n",
              "      display:flex;\n",
              "      gap: 12px;\n",
              "    }\n",
              "\n",
              "    .colab-df-convert {\n",
              "      background-color: #E8F0FE;\n",
              "      border: none;\n",
              "      border-radius: 50%;\n",
              "      cursor: pointer;\n",
              "      display: none;\n",
              "      fill: #1967D2;\n",
              "      height: 32px;\n",
              "      padding: 0 0 0 0;\n",
              "      width: 32px;\n",
              "    }\n",
              "\n",
              "    .colab-df-convert:hover {\n",
              "      background-color: #E2EBFA;\n",
              "      box-shadow: 0px 1px 2px rgba(60, 64, 67, 0.3), 0px 1px 3px 1px rgba(60, 64, 67, 0.15);\n",
              "      fill: #174EA6;\n",
              "    }\n",
              "\n",
              "    .colab-df-buttons div {\n",
              "      margin-bottom: 4px;\n",
              "    }\n",
              "\n",
              "    [theme=dark] .colab-df-convert {\n",
              "      background-color: #3B4455;\n",
              "      fill: #D2E3FC;\n",
              "    }\n",
              "\n",
              "    [theme=dark] .colab-df-convert:hover {\n",
              "      background-color: #434B5C;\n",
              "      box-shadow: 0px 1px 3px 1px rgba(0, 0, 0, 0.15);\n",
              "      filter: drop-shadow(0px 1px 2px rgba(0, 0, 0, 0.3));\n",
              "      fill: #FFFFFF;\n",
              "    }\n",
              "  </style>\n",
              "\n",
              "    <script>\n",
              "      const buttonEl =\n",
              "        document.querySelector('#df-5a820769-98ef-49e0-8f85-ad7d62134b91 button.colab-df-convert');\n",
              "      buttonEl.style.display =\n",
              "        google.colab.kernel.accessAllowed ? 'block' : 'none';\n",
              "\n",
              "      async function convertToInteractive(key) {\n",
              "        const element = document.querySelector('#df-5a820769-98ef-49e0-8f85-ad7d62134b91');\n",
              "        const dataTable =\n",
              "          await google.colab.kernel.invokeFunction('convertToInteractive',\n",
              "                                                    [key], {});\n",
              "        if (!dataTable) return;\n",
              "\n",
              "        const docLinkHtml = 'Like what you see? Visit the ' +\n",
              "          '<a target=\"_blank\" href=https://colab.research.google.com/notebooks/data_table.ipynb>data table notebook</a>'\n",
              "          + ' to learn more about interactive tables.';\n",
              "        element.innerHTML = '';\n",
              "        dataTable['output_type'] = 'display_data';\n",
              "        await google.colab.output.renderOutput(dataTable, element);\n",
              "        const docLink = document.createElement('div');\n",
              "        docLink.innerHTML = docLinkHtml;\n",
              "        element.appendChild(docLink);\n",
              "      }\n",
              "    </script>\n",
              "  </div>\n",
              "\n",
              "\n",
              "<div id=\"df-37bde54d-eb8d-45d1-97f8-6645024f0183\">\n",
              "  <button class=\"colab-df-quickchart\" onclick=\"quickchart('df-37bde54d-eb8d-45d1-97f8-6645024f0183')\"\n",
              "            title=\"Suggest charts\"\n",
              "            style=\"display:none;\">\n",
              "\n",
              "<svg xmlns=\"http://www.w3.org/2000/svg\" height=\"24px\"viewBox=\"0 0 24 24\"\n",
              "     width=\"24px\">\n",
              "    <g>\n",
              "        <path d=\"M19 3H5c-1.1 0-2 .9-2 2v14c0 1.1.9 2 2 2h14c1.1 0 2-.9 2-2V5c0-1.1-.9-2-2-2zM9 17H7v-7h2v7zm4 0h-2V7h2v10zm4 0h-2v-4h2v4z\"/>\n",
              "    </g>\n",
              "</svg>\n",
              "  </button>\n",
              "\n",
              "<style>\n",
              "  .colab-df-quickchart {\n",
              "      --bg-color: #E8F0FE;\n",
              "      --fill-color: #1967D2;\n",
              "      --hover-bg-color: #E2EBFA;\n",
              "      --hover-fill-color: #174EA6;\n",
              "      --disabled-fill-color: #AAA;\n",
              "      --disabled-bg-color: #DDD;\n",
              "  }\n",
              "\n",
              "  [theme=dark] .colab-df-quickchart {\n",
              "      --bg-color: #3B4455;\n",
              "      --fill-color: #D2E3FC;\n",
              "      --hover-bg-color: #434B5C;\n",
              "      --hover-fill-color: #FFFFFF;\n",
              "      --disabled-bg-color: #3B4455;\n",
              "      --disabled-fill-color: #666;\n",
              "  }\n",
              "\n",
              "  .colab-df-quickchart {\n",
              "    background-color: var(--bg-color);\n",
              "    border: none;\n",
              "    border-radius: 50%;\n",
              "    cursor: pointer;\n",
              "    display: none;\n",
              "    fill: var(--fill-color);\n",
              "    height: 32px;\n",
              "    padding: 0;\n",
              "    width: 32px;\n",
              "  }\n",
              "\n",
              "  .colab-df-quickchart:hover {\n",
              "    background-color: var(--hover-bg-color);\n",
              "    box-shadow: 0 1px 2px rgba(60, 64, 67, 0.3), 0 1px 3px 1px rgba(60, 64, 67, 0.15);\n",
              "    fill: var(--button-hover-fill-color);\n",
              "  }\n",
              "\n",
              "  .colab-df-quickchart-complete:disabled,\n",
              "  .colab-df-quickchart-complete:disabled:hover {\n",
              "    background-color: var(--disabled-bg-color);\n",
              "    fill: var(--disabled-fill-color);\n",
              "    box-shadow: none;\n",
              "  }\n",
              "\n",
              "  .colab-df-spinner {\n",
              "    border: 2px solid var(--fill-color);\n",
              "    border-color: transparent;\n",
              "    border-bottom-color: var(--fill-color);\n",
              "    animation:\n",
              "      spin 1s steps(1) infinite;\n",
              "  }\n",
              "\n",
              "  @keyframes spin {\n",
              "    0% {\n",
              "      border-color: transparent;\n",
              "      border-bottom-color: var(--fill-color);\n",
              "      border-left-color: var(--fill-color);\n",
              "    }\n",
              "    20% {\n",
              "      border-color: transparent;\n",
              "      border-left-color: var(--fill-color);\n",
              "      border-top-color: var(--fill-color);\n",
              "    }\n",
              "    30% {\n",
              "      border-color: transparent;\n",
              "      border-left-color: var(--fill-color);\n",
              "      border-top-color: var(--fill-color);\n",
              "      border-right-color: var(--fill-color);\n",
              "    }\n",
              "    40% {\n",
              "      border-color: transparent;\n",
              "      border-right-color: var(--fill-color);\n",
              "      border-top-color: var(--fill-color);\n",
              "    }\n",
              "    60% {\n",
              "      border-color: transparent;\n",
              "      border-right-color: var(--fill-color);\n",
              "    }\n",
              "    80% {\n",
              "      border-color: transparent;\n",
              "      border-right-color: var(--fill-color);\n",
              "      border-bottom-color: var(--fill-color);\n",
              "    }\n",
              "    90% {\n",
              "      border-color: transparent;\n",
              "      border-bottom-color: var(--fill-color);\n",
              "    }\n",
              "  }\n",
              "</style>\n",
              "\n",
              "  <script>\n",
              "    async function quickchart(key) {\n",
              "      const quickchartButtonEl =\n",
              "        document.querySelector('#' + key + ' button');\n",
              "      quickchartButtonEl.disabled = true;  // To prevent multiple clicks.\n",
              "      quickchartButtonEl.classList.add('colab-df-spinner');\n",
              "      try {\n",
              "        const charts = await google.colab.kernel.invokeFunction(\n",
              "            'suggestCharts', [key], {});\n",
              "      } catch (error) {\n",
              "        console.error('Error during call to suggestCharts:', error);\n",
              "      }\n",
              "      quickchartButtonEl.classList.remove('colab-df-spinner');\n",
              "      quickchartButtonEl.classList.add('colab-df-quickchart-complete');\n",
              "    }\n",
              "    (() => {\n",
              "      let quickchartButtonEl =\n",
              "        document.querySelector('#df-37bde54d-eb8d-45d1-97f8-6645024f0183 button');\n",
              "      quickchartButtonEl.style.display =\n",
              "        google.colab.kernel.accessAllowed ? 'block' : 'none';\n",
              "    })();\n",
              "  </script>\n",
              "</div>\n",
              "\n",
              "    </div>\n",
              "  </div>\n"
            ],
            "application/vnd.google.colaboratory.intrinsic+json": {
              "type": "dataframe",
              "variable_name": "df",
              "summary": "{\n  \"name\": \"df\",\n  \"rows\": 2680,\n  \"fields\": [\n    {\n      \"column\": \"text\",\n      \"properties\": {\n        \"dtype\": \"category\",\n        \"num_unique_values\": 837,\n        \"samples\": [\n          \"\\u0644\\u0644\\u062a\\u0630\\u0643\\u064a\\u0631 \\u0645\\u0646 \\u0627\\u062f\\u0627\\u0631\\u0647 \\u062a\\u0642\\u0646\\u064a\\u0647 \\u0627\\u0644\\u0645\\u0639\\u0644\\u0648\\u0645\\u0627\\u062a \\u0628\\u0645\\u0633\\u062a\\u0634\\u0641\\u064a \\u0627\\u0644\\u0648\\u0644\\u0627\\u062f\\u0647 \\u0648\\u0627\\u0644\\u0627\\u0637\\u0641\\u0627\\u0644 \\u0628\\u0628\\u0631\\u064a\\u062f\\u0647 \\u200f\\u200f\\u062a\\u0645 \\u0627\\u0644\\u0627\\u0631\\u0633\\u0627\\u0644 \\u0631\\u062c\\u0628 \\u0645 \\u0627\\u0644\\u064a \\u0637\\u0644\\u0628 \\u0627\\u0646\\u0634\\u0627\\u0621 \\u0646\\u0642\\u0627\\u0637 \\u0634\\u0628\\u0643\\u0647 \\u0644\\u0633\\u0644\\u0627\\u0645 \\u0639\\u0644\\u064a\\u0643\\u0645 \\u0627\\u0644\\u0627\\u062e\\u0648\\u0647 \\u0627\\u0644\\u0627\\u0639\\u0632\\u0627\\u0621 \\u0627\\u0644\\u0631\\u062c\\u0627\\u0621 \\u062a\\u0648\\u0635\\u064a\\u0644 \\u0639\\u062f\\u062f \\u0646\\u0642\\u0637\\u0647 \\u0634\\u0628\\u0643\\u0647 \\u062c\\u062f\\u064a\\u062f\\u0647 \\u0628\\u0634\\u0643\\u0644 \\u0639\\u0627\\u062c\\u0644 \\u0644\\u0644\\u062a\\u0648\\u0627\\u0635\\u0644 \\u062a\\u0646\\u0628\\u064a\\u0647 \\u0628\\u0627\\u062e\\u0644\\u0627\\u0621 \\u0627\\u0644\\u0645\\u0633\\u0621\\u0648\\u0644\\u064a\\u0647 \\u0647\\u0630\\u0647 \\u0627\\u0644\\u0631\\u0633\\u0627\\u0644\\u0647 \\u0648\\u0645\\u0631\\u0641\\u0642\\u0627\\u062a\\u0647\\u0627 \\u0645\\u0639\\u062f\\u0647 \\u0644\\u0627\\u0633\\u062a\\u062e\\u062f\\u0627\\u0645 \\u0627\\u0644\\u0645\\u0631\\u0633\\u0644 \\u0627\\u0644\\u064a\\u0647 \\u0627\\u0644\\u0645\\u0642\\u0635\\u0648\\u062f \\u0628\\u0627\\u0644\\u0631\\u0633\\u0627\\u0644\\u0647 \\u0641\\u0642\\u0637 \\u0648 \\u0642\\u062f \\u062a\\u062d\\u062a\\u0648\\u064a \\u0639\\u0644\\u064a \\u0645\\u0639\\u0644\\u0648\\u0645\\u0627\\u062a \\u0633\\u0631\\u064a\\u0647 \\u0627\\u0648 \\u0645\\u062d\\u0645\\u064a\\u0647 \\u0642\\u0627\\u0646\\u0648\\u0646\\u064a\\u0627 \\u0627\\u0646 \\u0644\\u0645 \\u062a\\u0643\\u0646 \\u0627\\u0644\\u0634\\u062e\\u0635 \\u0627\\u0644\\u0645\\u0642\\u0635\\u0648\\u062f \\u0641\\u0627\\u0646\\u0647 \\u064a\\u0645\\u0646\\u0639 \\u0645\\u0646\\u0639\\u0627 \\u0628\\u0627\\u062a\\u0627 \\u0627\\u064a \\u0639\\u0631\\u0636 \\u0627\\u0648 \\u0646\\u0634\\u0631 \\u0627\\u0648 \\u0627\\u0633\\u062a\\u062e\\u062f\\u0627\\u0645 \\u063a\\u064a\\u0631 \\u0645\\u0635\\u0631\\u062d \\u0628\\u0647 \\u0644\\u0644\\u0645\\u062d\\u062a\\u0648\\u064a \\u0646\\u0631\\u062c\\u0648 \\u0627\\u062e\\u0637\\u0627\\u0631 \\u0627\\u0644\\u0645\\u0631\\u0633\\u0644 \\u0639\\u0646 \\u0637\\u0631\\u064a\\u0642 \\u0627\\u0644\\u0631\\u062f \\u0639\\u0644\\u064a \\u0647\\u0630\\u0627 \\u0627\\u0644\\u0628\\u0631\\u064a\\u062f \\u0627\\u0644\\u0627\\u0644\\u0643\\u062a\\u0631\\u0648\\u0646\\u064a \\u0648\\u0627\\u062a\\u0644\\u0627\\u0641 \\u062c\\u0645\\u064a\\u0639 \\u0627\\u0644\\u0646\\u0633\\u062e \\u0627\\u0644\\u0645\\u0648\\u062c\\u0648\\u062f\\u0647 \\u0644\\u062f\\u064a\\u0643 \\u062a\\u0639\\u062f \\u0627\\u0644\\u062a\\u0635\\u0631\\u064a\\u062d\\u0627\\u062a \\u0648 \\u0627\\u0644\\u0627\\u0631\\u0627\\u0621 \\u0627\\u0644\\u0645\\u0630\\u0643\\u0648\\u0631\\u0647 \\u0641\\u064a \\u0627\\u0644\\u0631\\u0633\\u0627\\u0644\\u0647 \\u062e\\u0627\\u0635\\u0647 \\u0628\\u0627\\u0644\\u0645\\u0631\\u0633\\u0644 \\u0648 \\u0644\\u0627 \\u062a\\u0645\\u062b\\u0644 \\u0648\\u0632\\u0627\\u0631\\u0647 \\u0627\\u0644\\u0635\\u062d\\u0647 \\u0643\\u0645\\u0627 \\u0644\\u0627 \\u062a\\u062a\\u062d\\u0645\\u0644 \\u0627\\u0644\\u0648\\u0632\\u0627\\u0631\\u0647 \\u0645\\u0633\\u0621\\u0648\\u0644\\u064a\\u0647 \\u0627\\u0644\\u0627\\u0636\\u0631\\u0627\\u0631 \\u0627\\u0644\\u0646\\u0627\\u062a\\u062c\\u0647 \\u0639\\u0646 \\u0627\\u064a \\u0641\\u064a\\u0631\\u0648\\u0633\\u0627\\u062a \\u0642\\u062f \\u062a\\u062d\\u0645\\u0644\\u0647\\u0627 \\u0647\\u0630\\u0647 \\u0627\\u0644\\u0631\\u0633\\u0627\\u0644\\u0647  \\u0645\\u0644\\u0627\\u062d\\u0638\\u0629 \\u0627\\u0644\\u062a\\u0627\\u0631\\u064a\\u062e \\u0645\\u0633\\u0627\\u0621\\u064b \\u0627\\u0644\\u0645\\u0624\\u0644\\u0641 \\u062e\\u0636\\u0631\\u0627 \\u0646\\u0648\\u0639 \\u0645\\u0639\\u062f\\u0644 \\u0627\\u0644\\u0648\\u0642\\u062a \\u0627\\u0644\\u062a\\u0642\\u0646\\u064a \\u0627\\u0644\\u0633\\u0644\\u0627\\u0645 \\u0639\\u0644\\u064a\\u0643\\u0645 \\u0648\\u0631\\u062d\\u0645\\u0647 \\u0627\\u0644\\u0644\\u0647 \\u0648\\u0628\\u0631\\u0643\\u0627\\u062a\\u0647 \\u0627\\u0644\\u0633\\u0627\\u062f\\u0647 \\u0627\\u0644\\u0643\\u0631\\u0627\\u0645 \\u0645\\u0633\\u062a\\u0634\\u0641\\u064a \\u0627\\u0644\\u0648\\u0644\\u0627\\u062f\\u0647 \\u0648\\u0627\\u0644\\u0627\\u0637\\u0641\\u0627\\u0644 \\u062a\\u062d\\u064a\\u0647 \\u0637\\u064a\\u0628\\u0647 \\u0646\\u0633\\u0639\\u062f \\u0628\\u062a\\u0648\\u0627\\u0635\\u0644\\u0643\\u0645 \\u0648\\u0646\\u0648\\u062f \\u0627\\u0639\\u0644\\u0627\\u0645\\u0643\\u0645 \\u0628\\u0627\\u0646 \\u062a\\u0645 \\u062c\\u062f\\u0648\\u0644\\u0647 \\u0627\\u0644\\u0645\\u0642\\u0628\\u0644 \\u0632\\u064a\\u0627\\u0631\\u0629 \\u0645\\u0646\\u0637\\u0642\\u0647 \\u0627\\u0644\\u0642\\u0635\\u064a\\u0645 \\u0628\\u0627\\u0631\\u062a \\u062a\\u0645\\u062f\\u064a\\u062f \\u0634\\u0628\\u0643\\u0627\\u062a \\u0641\\u064a \\u0634\\u0647\\u0631 \\u062a\\u0633\\u064a\\u0631 \\u0645\\u0639\\u0643\\u0645 \\u0628\\u0646\\u062c\\u0627\\u062d \\u0627\\u0644\\u0645\\u0637\\u0644\\u0648\\u0628 \\u0645\\u0644\\u0627\\u062d\\u0638\\u0629 \\u0628\\u0627\\u0646\\u0647 \\u064a\\u0645\\u0643\\u0646\\u0643\\u0645 \\u0627\\u0644\\u0645\\u062a\\u0627\\u0628\\u0639\\u0647 \\u0639\\u0644\\u064a \\u0631\\u0642\\u0645 \\u0627\\u0644\\u0628\\u0644\\u0627\\u063a \\u0627\\u0644\\u0642\\u062f\\u064a\\u0645 \\u062a\\u0645 \\u0641\\u062a\\u062d\\u0647 \\u0633\\u0627\\u0628\\u0642\\u0627 \\u0628\\u0631\\u0642\\u0645 \\u0634\\u0643\\u0631\\u0627 \\u0644\\u0643\\u0645 \\u0645\\u0644\\u0627\\u062d\\u0638\\u0629 \\u0645\\u0644\\u0627\\u062d\\u0638\\u0629 \\u0627\\u0644\\u062a\\u0627\\u0631\\u064a\\u062e \\u0645\\u0633\\u0627\\u0621 \\u0627\\u0644\\u0645\\u0624\\u0644\\u0641 \\u0627\\u062e\\u062f\\u0631\\u0627 \\u0646\\u0648\\u0639 \\u0627\\u0644\\u062a\\u0643\\u0646\\u0648\\u0644\\u0648\\u062c\\u064a\\u0627 \\u0645\\u0639\\u062f\\u0644 \\u0627\\u0644\\u0648\\u0642\\u062a \\u062a\\u0643\\u0631\\u0627\\u0631 \\u062a\\u0630\\u0643\\u0631\\u0629 \\u0645\\u0644\\u0627\\u062d\\u0638\\u0629\",\n          \" \\u0627\\u062f\\u0631\\u0627\\u0647 \\u062a\\u0642\\u0646\\u064a\\u0647 \\u0627\\u0644\\u0645\\u0639\\u0644\\u0648\\u0645\\u0627\\u062a \\u0645\\u0633\\u062a\\u0634\\u0641\\u064a \\u0627\\u0644\\u062c\\u0628\\u064a\\u0644 \\u0627\\u0644\\u0639\\u0627\\u0645 \\u0645\\u0634\\u0643\\u0644\\u0647 \\u0639\\u062f\\u0645 \\u062a\\u0648\\u0641\\u064a\\u0631 \\u0645\\u0627\\u0633\\u062d\\u0627\\u062a \\u0636\\u0648\\u0621\\u064a\\u0647 \\u0628\\u062f\\u064a\\u0644\\u0647 \\u0639\\u0646 \\u0627\\u0644\\u0645\\u062a\\u0639\\u0637\\u0644\\u0647 \\u0645\\u0646 \\u0634\\u0631\\u0643\\u0647 \\u0627\\u0644\\u0645\\u0639\\u0645\\u0631 \\u0644\\u0644\\u0635\\u064a\\u0627\\u0646\\u0647 \\u0627\\u062f\\u0631\\u0627\\u0647 \\u062a\\u0642\\u0646\\u064a\\u0647 \\u0627\\u0644\\u0645\\u0639\\u0644\\u0648\\u0645\\u0627\\u062a \\u0645\\u0633\\u062a\\u0634\\u0641\\u064a \\u0627\\u0644\\u062c\\u0628\\u064a\\u0644 \\u0627\\u0644\\u0639\\u0627\\u0645 \\u0645\\u0634\\u0643\\u0644\\u0647 \\u0639\\u062f\\u0645 \\u062a\\u0648\\u0641\\u064a\\u0631 \\u0645\\u0627\\u0633\\u062d\\u0627\\u062a \\u0636\\u0648\\u0621\\u064a\\u0647 \\u0628\\u062f\\u064a\\u0644\\u0647 \\u0639\\u0646 \\u0627\\u0644\\u0645\\u062a\\u0639\\u0637\\u0644\\u0647 \\u0645\\u0646 \\u0634\\u0631\\u0643\\u0647 \\u0627\\u0644\\u0645\\u0639\\u0645\\u0631 \\u0644\\u0644\\u0635\\u064a\\u0627\\u0646\\u0647 \\u0627\\u0644\\u0645\\u0647\\u0646\\u062f\\u0633 \\u0645\\u062d\\u0645\\u062f \\u0627\\u0644\\u0632\\u064a\\u0627\\u062f\\u064a \\u0627\\u0644\\u0645\\u062d\\u062a\\u0631\\u0645 \\u0627\\u0644\\u0633\\u0644\\u0627\\u0645 \\u0639\\u0644\\u064a\\u0643\\u0645 \\u0648\\u0631\\u062d\\u0645\\u0647 \\u0627\\u0644\\u0644\\u0647 \\u0648\\u0628\\u0631\\u0643\\u0627\\u062a\\u0647 \\u062a\\u062c\\u062f\\u0648\\u0646 \\u0628\\u0631\\u0641\\u0642\\u0647 \\u0627\\u0644\\u0628\\u0644\\u0627\\u063a\\u0627\\u062a \\u0627\\u0644\\u0645\\u0631\\u0641\\u0648\\u0639\\u0647 \\u0644\\u0635\\u064a\\u0627\\u0646\\u0647 \\u0639\\u062f\\u062f \\u0645\\u0627\\u0633\\u062d\\u0627\\u062a \\u0636\\u0648\\u0621\\u064a\\u0647 \\u0645\\u0646\\u0630 \\u0639\\u062f\\u0647 \\u0627\\u0634\\u0647\\u0631 \\u062d\\u064a\\u062b \\u0643\\u0627\\u0646\\u062a \\u0631\\u062f\\u0648\\u062f \\u0645\\u0647\\u0646\\u062f\\u0633 \\u0627\\u0644\\u0635\\u064a\\u0627\\u0646\\u0647 \\u0639\\u062f\\u0645 \\u062a\\u0648\\u0641\\u0631 \\u0642\\u0637\\u0639 \\u063a\\u064a\\u0627\\u0631 \\u0644\\u0644\\u0645\\u0627\\u0633\\u062d\\u0627\\u062a \\u0627\\u0644\\u0636\\u0648\\u0621\\u064a\\u0647 \\u0648\\u0646\\u0638\\u0631\\u0627 \\u0644\\u0643\\u062b\\u0631\\u0647 \\u0627\\u0644\\u0634\\u0643\\u0627\\u0648\\u064a \\u0645\\u0646 \\u0627\\u0644\\u0627\\u0642\\u0633\\u0627\\u0645 \\u0628\\u0627\\u0644\\u0645\\u0633\\u062a\\u0634\\u0641\\u064a \\u062d\\u064a\\u0627\\u0644 \\u0627\\u0635\\u0644\\u0627\\u062d \\u0627\\u062c\\u0647\\u0632\\u062a\\u0647\\u0645 \\u062d\\u064a\\u062b \\u0627\\u0646\\u0647\\u0627 \\u0639\\u0647\\u062f \\u0639\\u0644\\u064a \\u0627\\u0644\\u0627\\u0642\\u0633\\u0627\\u0645 \\u0627\\u0648 \\u062a\\u0648\\u0641\\u064a\\u0631 \\u0628\\u062f\\u064a\\u0644 \\u0644\\u0647\\u0627 \\u0648\\u0628\\u0646\\u0627\\u0621 \\u0639\\u0644\\u064a \\u0627\\u0644\\u0627\\u064a\\u0645\\u064a\\u0644 \\u0627\\u0644\\u0645\\u0631\\u0633\\u0644 \\u0644\\u0643\\u0645 \\u0633\\u0627\\u0628\\u0642\\u0627 \\u0644\\u0645 \\u064a\\u062a\\u0645 \\u062d\\u062a\\u064a \\u062a\\u0627\\u0631\\u064a\\u062e\\u0647 \\u0645\\u0646 \\u062a\\u0632\\u0648\\u064a\\u062f\\u0646\\u0627 \\u0628\\u0627\\u0644\\u0645\\u0627\\u0633\\u062d\\u0627\\u062a \\u0627\\u0644\\u0628\\u062f\\u064a\\u0644\\u0647 \\u0628\\u0646\\u0641\\u0633 \\u0645\\u0648\\u0627\\u0635\\u0641\\u0627\\u062a \\u0627\\u0644\\u0645\\u062a\\u0639\\u0637\\u0644\\u0647 \\u0639\\u0644\\u064a\\u0647 \\u0646\\u0627\\u0645\\u0644 \\u0627\\u0644\\u0645\\u0633\\u0627\\u0639\\u062f\\u0647 \\u0641\\u064a \\u062d\\u0644 \\u0645\\u0634\\u0643\\u0644\\u0647 \\u062a\\u0644\\u0643 \\u0627\\u0644\\u0627\\u062c\\u0647\\u0632\\u0647 \\u0647\\u0630\\u0627 \\u0648\\u062a\\u0642\\u0628\\u0644\\u0648\\u0627 \\u0645\\u0646\\u064a \\u0641\\u0627\\u0621\\u0642 \\u0627\\u0644\\u0627\\u062d\\u062a\\u0631\\u0627\\u0645 \\u0639\\u0628\\u062f\\u0627\\u0644\\u0645\\u062d\\u0633\\u0646 \\u0628\\u0646 \\u0639\\u0628\\u062f\\u0627\\u0644\\u0644\\u0647 \\u0627\\u0644\\u0642\\u0635\\u0627\\u0628 \\u0645\\u062f\\u064a\\u0631 \\u0627\\u062f\\u0627\\u0631\\u0647 \\u0627\\u0644\\u0635\\u062d\\u0647 \\u0627\\u0644\\u0627\\u0644\\u0643\\u062a\\u0631\\u0648\\u0646\\u064a\\u0647 \\u0628\\u0634\\u0628\\u0643\\u0647 \\u0627\\u0644\\u062c\\u0628\\u064a\\u0644 \\u0627\\u0644\\u0635\\u062d\\u064a\\u0647 \\u0645\\u0646 \\u0627\\u0644\\u0627\\u0631\\u0633\\u0627\\u0644 \\u0631\\u062c\\u0628 \\u0645 \\u0627\\u0644\\u064a \\u0627\\u062f\\u0631\\u0627\\u0647 \\u062a\\u0642\\u0646\\u064a\\u0647 \\u0627\\u0644\\u0645\\u0639\\u0644\\u0648\\u0645\\u0627\\u062a \\u0645\\u0633\\u062a\\u0634\\u0641\\u064a \\u0627\\u0644\\u062c\\u0628\\u064a\\u0644 \\u0627\\u0644\\u0639\\u0627\\u0645 \\u200f\\u200f\\u0627\\u0644\\u0645\\u0648\\u0636\\u0648\\u0639 \\u0627\\u062f\\u0631\\u0627\\u0647 \\u062a\\u0642\\u0646\\u064a\\u0647 \\u0627\\u0644\\u0645\\u0639\\u0644\\u0648\\u0645\\u0627\\u062a \\u0645\\u0633\\u062a\\u0634\\u0641\\u064a \\u0627\\u0644\\u062c\\u0628\\u064a\\u0644 \\u0627\\u0644\\u0639\\u0627\\u0645 \\u0627\\u0639\\u0627\\u062f\\u0647 \\u062a\\u0648\\u062c\\u064a\\u0647 \\u0627\\u0644\\u0645\\u0647\\u0646\\u062f\\u0633 \\u0645\\u062d\\u0645\\u062f \\u0627\\u0644\\u0632\\u064a\\u0627\\u062f\\u064a \\u0627\\u0644\\u0645\\u062d\\u062a\\u0631\\u0645 \\u0627\\u0644\\u0633\\u0644\\u0627\\u0645 \\u0639\\u0644\\u064a\\u0643\\u0645 \\u0648\\u0631\\u062d\\u0645\\u0647 \\u0627\\u0644\\u0644\\u0647 \\u0648\\u0628\\u0631\\u0643\\u0627\\u062a\\u0647 \\u062a\\u062c\\u062f\\u0648\\u0646 \\u0628\\u0631\\u0641\\u0642\\u0647 \\u0627\\u0644\\u0628\\u0644\\u0627\\u063a\\u0627\\u062a \\u0627\\u0644\\u0645\\u0631\\u0641\\u0648\\u0639\\u0647 \\u0644\\u0635\\u064a\\u0627\\u0646\\u0647 \\u0639\\u062f\\u062f \\u0645\\u0627\\u0633\\u062d\\u0627\\u062a \\u0636\\u0648\\u0621\\u064a\\u0647 \\u0645\\u0646\\u0630 \\u0639\\u062f\\u0647 \\u0627\\u0634\\u0647\\u0631 \\u062d\\u064a\\u062b \\u0643\\u0627\\u0646\\u062a \\u0631\\u062f\\u0648\\u062f \\u0645\\u0647\\u0646\\u062f\\u0633 \\u0627\\u0644\\u0635\\u064a\\u0627\\u0646\\u0647 \\u0639\\u062f\\u0645 \\u062a\\u0648\\u0641\\u0631 \\u0642\\u0637\\u0639 \\u063a\\u064a\\u0627\\u0631 \\u0644\\u0644\\u0645\\u0627\\u0633\\u062d\\u0627\\u062a \\u0627\\u0644\\u0636\\u0648\\u0621\\u064a\\u0647 \\u0648\\u0646\\u0638\\u0631\\u0627 \\u0644\\u0643\\u062b\\u0631\\u0647 \\u0627\\u0644\\u0634\\u0643\\u0627\\u0648\\u064a \\u0645\\u0646 \\u0627\\u0644\\u0627\\u0642\\u0633\\u0627\\u0645 \\u0628\\u0627\\u0644\\u0645\\u0633\\u062a\\u0634\\u0641\\u064a \\u062d\\u064a\\u0627\\u0644 \\u0627\\u0635\\u0644\\u0627\\u062d \\u0627\\u062c\\u0647\\u0632\\u062a\\u0647\\u0645 \\u062d\\u064a\\u062b \\u0627\\u0646\\u0647\\u0627 \\u0639\\u0647\\u062f \\u0639\\u0644\\u064a \\u0627\\u0644\\u0627\\u0642\\u0633\\u0627\\u0645 \\u0627\\u0648 \\u062a\\u0648\\u0641\\u064a\\u0631 \\u0628\\u062f\\u064a\\u0644 \\u0644\\u0647\\u0627 \\u0639\\u0644\\u064a\\u0647 \\u0646\\u0627\\u0645\\u0644 \\u0627\\u0644\\u0645\\u0633\\u0627\\u0639\\u062f\\u0647 \\u0641\\u064a \\u062d\\u0644 \\u0645\\u0634\\u0643\\u0644\\u0647 \\u062a\\u0644\\u0643 \\u0627\\u0644\\u0627\\u062c\\u0647\\u0632\\u0647 \\u0647\\u0630\\u0627 \\u0648\\u062a\\u0642\\u0628\\u0644\\u0648\\u0627 \\u0645\\u0646\\u064a \\u0641\\u0627\\u0621\\u0642 \\u0627\\u0644\\u0627\\u062d\\u062a\\u0631\\u0627\\u0645 \\u0639\\u0628\\u062f\\u0627\\u0644\\u0645\\u062d\\u0633\\u0646 \\u0628\\u0646 \\u0639\\u0628\\u062f\\u0627\\u0644\\u0644\\u0647 \\u0627\\u0644\\u0642\\u0635\\u0627\\u0628 \\u0645\\u062f\\u064a\\u0631 \\u0627\\u062f\\u0627\\u0631\\u0647 \\u0627\\u0644\\u0635\\u062d\\u0647 \\u0627\\u0644\\u0627\\u0644\\u0643\\u062a\\u0631\\u0648\\u0646\\u064a\\u0647 \\u0628\\u0634\\u0628\\u0643\\u0647 \\u0627\\u0644\\u062c\\u0628\\u064a\\u0644 \\u0627\\u0644\\u0635\\u062d\\u064a\\u0647 \\u0645\\u0646 \\u200f\\u200f\\u062a\\u0645 \\u0627\\u0644\\u0627\\u0631\\u0633\\u0627\\u0644 \\u0631\\u062c\\u0628 \\u0635 \\u0627\\u0644\\u064a \\u0646\\u0633\\u062e\\u0647 \\u0627\\u062f\\u0631\\u0627\\u0647 \\u062a\\u0642\\u0646\\u064a\\u0647 \\u0627\\u0644\\u0645\\u0639\\u0644\\u0648\\u0645\\u0627\\u062a \\u0645\\u0633\\u062a\\u0634\\u0641\\u064a \\u0627\\u0644\\u062c\\u0628\\u064a\\u0644 \\u0627\\u0644\\u0639\\u0627\\u0645 \\u200f\\u200f\\u0627\\u0644\\u0645\\u0648\\u0636\\u0648\\u0639 \\u0631\\u062f \\u0646\\u0641\\u064a\\u062f\\u0643\\u0645 \\u062d\\u062a\\u064a \\u062a\\u0627\\u0631\\u064a\\u062e \\u0627\\u0644\\u064a\\u0648\\u0645 \\u0644\\u0645 \\u062a\\u0645 \\u0627\\u0644\\u0631\\u062f \\u0639\\u0644\\u064a \\u062a\\u0643\\u062a \\u062c\\u0647\\u0627\\u0632\\u064a\\u0646 \\u0627\\u0644\\u0645\\u0627\\u0633\\u062d \\u0627\\u0644\\u0636\\u0648\\u0621\\u064a \\u0631\\u0642\\u0645 \\u0627\\u0644\\u062a\\u0643\\u062a \\u0639\\u0644\\u0645\\u0627 \\u0627\\u0646\\u0627 \\u0627\\u0644\\u062c\\u0647\\u0627\\u0632\\u064a\\u0646 \\u062a\\u0645 \\u0633\\u062d\\u0628\\u0647\\u0645 \\u0644\\u0644\\u0635\\u064a\\u0627\\u0646\\u0647 \\u0645\\u0646 \\u062a\\u0627\\u0631\\u064a\\u062e \\u0645\\u0639 \\u0627\\u0644\\u0645\\u0647\\u0646\\u062f\\u0633 \\u0641\\u0648\\u0627\\u0632 \\u0627\\u062a\\u0645\\u0646\\u064a \\u0627\\u0644\\u0631\\u062f \\u0639\\u0644\\u064a \\u0645\\u062f\\u064a\\u0631 \\u0627\\u0644\\u0635\\u062d\\u0647 \\u0627\\u0644\\u0627\\u0643\\u062a\\u0631\\u0648\\u0646\\u064a\\u0647 \\u0644\\u062a\\u0636\\u0648\\u064a\\u062d \\u0633\\u0628\\u0628 \\u0627\\u0644\\u062a\\u0627\\u062e\\u064a\\u0631 \\u0648\\u0634\\u0643\\u0631\\u0627 \\u0645\\u0646 \\u200f\\u200f\\u062a\\u0645 \\u0627\\u0644\\u0627\\u0631\\u0633\\u0627\\u0644 \\u0631\\u062c\\u0628 \\u0635 \\u0627\\u0644\\u064a \\u0646\\u0633\\u062e\\u0647 \\u0627\\u062f\\u0631\\u0627\\u0647 \\u062a\\u0642\\u0646\\u064a\\u0647 \\u0627\\u0644\\u0645\\u0639\\u0644\\u0648\\u0645\\u0627\\u062a \\u0645\\u0633\\u062a\\u0634\\u0641\\u064a \\u0627\\u0644\\u062c\\u0628\\u064a\\u0644 \\u0627\\u0644\\u0639\\u0627\\u0645 \\u200f\\u200f\\u0627\\u0644\\u0645\\u0648\\u0636\\u0648\\u0639 \\u0631\\u062f \\u0646\\u0641\\u064a\\u062f\\u0643\\u0645 \\u062d\\u062a\\u064a \\u062a\\u0627\\u0631\\u064a\\u062e \\u0627\\u0644\\u064a\\u0648\\u0645 \\u0644\\u0645 \\u062a\\u0645 \\u0627\\u0644\\u0631\\u062f \\u0639\\u0644\\u064a \\u062a\\u0643\\u062a \\u062c\\u0647\\u0627\\u0632\\u064a\\u0646 \\u0627\\u0644\\u0645\\u0627\\u0633\\u062d \\u0627\\u0644\\u0636\\u0648\\u0621\\u064a \\u0631\\u0642\\u0645 \\u0627\\u0644\\u062a\\u0643\\u062a \\u0639\\u0644\\u0645\\u0627 \\u0627\\u0646\\u0627 \\u0627\\u0644\\u062c\\u0647\\u0627\\u0632\\u064a\\u0646 \\u062a\\u0645 \\u0633\\u062d\\u0628\\u0647\\u0645 \\u0644\\u0644\\u0635\\u064a\\u0627\\u0646\\u0647 \\u0645\\u0646 \\u062a\\u0627\\u0631\\u064a\\u062e \\u0645\\u0639 \\u0627\\u0644\\u0645\\u0647\\u0646\\u062f\\u0633 \\u0641\\u0648\\u0627\\u0632 \\u0627\\u062a\\u0645\\u0646\\u064a \\u0627\\u0644\\u0631\\u062f \\u0639\\u0644\\u064a \\u0645\\u062f\\u064a\\u0631 \\u0627\\u0644\\u0635\\u062d\\u0647 \\u0627\\u0644\\u0627\\u0643\\u062a\\u0631\\u0648\\u0646\\u064a\\u0647 \\u0644\\u062a\\u0636\\u0648\\u064a\\u062d \\u0633\\u0628\\u0628 \\u0627\\u0644\\u062a\\u0627\\u062e\\u064a\\u0631 \\u0648\\u0634\\u0643\\u0631\\u0627 \\u0645\\u0646 \\u200f\\u200f\\u062a\\u0645 \\u0627\\u0644\\u0627\\u0631\\u0633\\u0627\\u0644 \\u062c\\u0645\\u0627\\u062f\\u064a \\u0627\\u0644\\u0627\\u0648\\u0644\\u064a \\u0635 \\u0627\\u0644\\u064a \\u0627\\u062f\\u0631\\u0627\\u0647 \\u062a\\u0642\\u0646\\u064a\\u0647 \\u0627\\u0644\\u0645\\u0639\\u0644\\u0648\\u0645\\u0627\\u062a \\u0645\\u0633\\u062a\\u0634\\u0641\\u064a \\u0627\\u0644\\u062c\\u0628\\u064a\\u0644 \\u0627\\u0644\\u0639\\u0627\\u0645 \\u200f\\u200f\\u0627\\u0644\\u0645\\u0648\\u0636\\u0648\\u0639 \\u0627\\u0644\\u0633\\u0644\\u0627\\u0645 \\u0639\\u0644\\u064a\\u0643\\u0645 \\u0628\\u062e\\u0635\\u0648\\u0635 \\u0627\\u0644\\u0627\\u0633\\u0643\\u0627\\u0646 \\u0627\\u0631\\u062c\\u0648 \\u0627\\u0644\\u0627\\u0641\\u0627\\u062f\\u0647 \\u0648\\u0627\\u0644\\u0631\\u062f \\u0639\\u0644\\u064a \\u0627\\u062f\\u0627\\u0631\\u0647 \\u0627\\u0644\\u0635\\u062d\\u0647 \\u0627\\u0644\\u0627\\u0644\\u0643\\u062a\\u0631\\u0648\\u0646\\u064a\\u0647 \\u0635\\u064a\\u0627\\u0646\\u0647 \\u0639\\u062f\\u062f \\u0627\\u0633\\u0643\\u0627\\u0646 \\u062a\\u0645 \\u0633\\u062d\\u0628\\u0647\\u0645 \\u0644\\u0644\\u0635\\u064a\\u0627\\u0646\\u0647 \\u062a\\u062c\\u0627\\u0648\\u0632\\u062a \\u0627\\u0644\\u0634\\u0647\\u0631\\u064a\\u0646 \\u062a\\u0642\\u0631\\u064a\\u0628\\u0627 \\u0634\\u0643\\u0631\\u0627 \\u0644\\u062a\\u0639\\u0627\\u0648\\u0646\\u0643\\u0645 \\u062d\\u0633\\u0646 \\u0645\\u064a\\u0631\\u0632\\u0627 \\u0627\\u0644\\u062c\\u0633\\u0627\\u0633 \\u0645\\u0633\\u062a\\u0634\\u0641\\u064a \\u0627\\u0644\\u062c\\u0628\\u064a\\u0644 \\u0627\\u0644\\u0639\\u0627\\u0645 \\u0631\\u0642\\u0645 \\u0627\\u0644\\u062a\\u064a\\u0643\\u062a \\u0645\\u0647\\u0646\\u062f\\u0633 \\u0641\\u0648\\u0627\\u0632 \\u062a\\u0646\\u0628\\u064a\\u0647 \\u0628\\u0627\\u062e\\u0644\\u0627\\u0621 \\u0627\\u0644\\u0645\\u0633\\u0621\\u0648\\u0644\\u064a\\u0647 \\u0647\\u0630\\u0647 \\u0627\\u0644\\u0631\\u0633\\u0627\\u0644\\u0647 \\u0648\\u0645\\u0631\\u0641\\u0642\\u0627\\u062a\\u0647\\u0627 \\u0645\\u0639\\u062f\\u0647 \\u0644\\u0627\\u0633\\u062a\\u062e\\u062f\\u0627\\u0645 \\u0627\\u0644\\u0645\\u0631\\u0633\\u0644 \\u0627\\u0644\\u064a\\u0647 \\u0627\\u0644\\u0645\\u0642\\u0635\\u0648\\u062f \\u0628\\u0627\\u0644\\u0631\\u0633\\u0627\\u0644\\u0647 \\u0641\\u0642\\u0637 \\u0648 \\u0642\\u062f \\u062a\\u062d\\u062a\\u0648\\u064a \\u0639\\u0644\\u064a \\u0645\\u0639\\u0644\\u0648\\u0645\\u0627\\u062a \\u0633\\u0631\\u064a\\u0647 \\u0627\\u0648 \\u0645\\u062d\\u0645\\u064a\\u0647 \\u0642\\u0627\\u0646\\u0648\\u0646\\u064a\\u0627 \\u0627\\u0646 \\u0644\\u0645 \\u062a\\u0643\\u0646 \\u0627\\u0644\\u0634\\u062e\\u0635 \\u0627\\u0644\\u0645\\u0642\\u0635\\u0648\\u062f \\u0641\\u0627\\u0646\\u0647 \\u064a\\u0645\\u0646\\u0639 \\u0645\\u0646\\u0639\\u0627 \\u0628\\u0627\\u062a\\u0627 \\u0627\\u064a \\u0639\\u0631\\u0636 \\u0627\\u0648 \\u0646\\u0634\\u0631 \\u0627\\u0648 \\u0627\\u0633\\u062a\\u062e\\u062f\\u0627\\u0645 \\u063a\\u064a\\u0631 \\u0645\\u0635\\u0631\\u062d \\u0628\\u0647 \\u0644\\u0644\\u0645\\u062d\\u062a\\u0648\\u064a \\u0646\\u0631\\u062c\\u0648 \\u0627\\u062e\\u0637\\u0627\\u0631 \\u0627\\u0644\\u0645\\u0631\\u0633\\u0644 \\u0639\\u0646 \\u0637\\u0631\\u064a\\u0642 \\u0627\\u0644\\u0631\\u062f \\u0639\\u0644\\u064a \\u0647\\u0630\\u0627 \\u0627\\u0644\\u0628\\u0631\\u064a\\u062f \\u0627\\u0644\\u0627\\u0644\\u0643\\u062a\\u0631\\u0648\\u0646\\u064a \\u0648\\u0627\\u062a\\u0644\\u0627\\u0641 \\u062c\\u0645\\u064a\\u0639 \\u0627\\u0644\\u0646\\u0633\\u062e \\u0627\\u0644\\u0645\\u0648\\u062c\\u0648\\u062f\\u0647 \\u0644\\u062f\\u064a\\u0643 \\u062a\\u0639\\u062f \\u0627\\u0644\\u062a\\u0635\\u0631\\u064a\\u062d\\u0627\\u062a \\u0648 \\u0627\\u0644\\u0627\\u0631\\u0627\\u0621 \\u0627\\u0644\\u0645\\u0630\\u0643\\u0648\\u0631\\u0647 \\u0641\\u064a \\u0627\\u0644\\u0631\\u0633\\u0627\\u0644\\u0647 \\u062e\\u0627\\u0635\\u0647 \\u0628\\u0627\\u0644\\u0645\\u0631\\u0633\\u0644 \\u0648 \\u0644\\u0627 \\u062a\\u0645\\u062b\\u0644 \\u0648\\u0632\\u0627\\u0631\\u0647 \\u0627\\u0644\\u0635\\u062d\\u0647 \\u0643\\u0645\\u0627 \\u0644\\u0627 \\u062a\\u062a\\u062d\\u0645\\u0644 \\u0627\\u0644\\u0648\\u0632\\u0627\\u0631\\u0647 \\u0645\\u0633\\u0621\\u0648\\u0644\\u064a\\u0647 \\u0627\\u0644\\u0627\\u0636\\u0631\\u0627\\u0631 \\u0627\\u0644\\u0646\\u0627\\u062a\\u062c\\u0647 \\u0639\\u0646 \\u0627\\u064a \\u0641\\u064a\\u0631\\u0648\\u0633\\u0627\\u062a \\u0642\\u062f \\u062a\\u062d\\u0645\\u0644\\u0647\\u0627 \\u0647\\u0630\\u0647 \\u0627\\u0644\\u0631\\u0633\\u0627\\u0644\\u0647  \\u0645\\u0644\\u0627\\u062d\\u0638\\u0629 \\u0627\\u0644\\u062a\\u0627\\u0631\\u064a\\u062e \\u0627\\u0644\\u0645\\u0624\\u0644\\u0641 \\u0623\\u0648\\u062e\\u0627\\u062f\\u0631\\u0627 \\u0627\\u0644\\u0646\\u0648\\u0639 \\u0627\\u0644\\u062a\\u0643\\u0646\\u0648\\u0644\\u0648\\u062c\\u064a\\u0627 \\u0627\\u0644\\u0648\\u0642\\u062a \\u0627\\u0644\\u0645\\u0639\\u062f\\u0644 \\u0645\\u062a\\u0627\\u0628\\u0639\\u0629 \\u0627\\u0644\\u0628\\u0631\\u064a\\u062f \\u0627\\u0644\\u0625\\u0644\\u0643\\u062a\\u0631\\u0648\\u0646\\u064a \\u0627\\u0644\\u0645\\u0644\\u0627\\u062d\\u0638\\u0629\",\n          \" \\u202d \\u202c \\u062a\\u0646\\u0628\\u064a\\u0647 \\u0628\\u0627\\u062e\\u0644\\u0627\\u0621 \\u0627\\u0644\\u0645\\u0633\\u0621\\u0648\\u0644\\u064a\\u0647 \\u0647\\u0630\\u0647 \\u0627\\u0644\\u0631\\u0633\\u0627\\u0644\\u0647 \\u0648\\u0645\\u0631\\u0641\\u0642\\u0627\\u062a\\u0647\\u0627 \\u0645\\u0639\\u062f\\u0647 \\u0644\\u0627\\u0633\\u062a\\u062e\\u062f\\u0627\\u0645 \\u0627\\u0644\\u0645\\u0631\\u0633\\u0644 \\u0627\\u0644\\u064a\\u0647 \\u0627\\u0644\\u0645\\u0642\\u0635\\u0648\\u062f \\u0628\\u0627\\u0644\\u0631\\u0633\\u0627\\u0644\\u0647 \\u0641\\u0642\\u0637 \\u0648 \\u0642\\u062f \\u062a\\u062d\\u062a\\u0648\\u064a \\u0639\\u0644\\u064a \\u0645\\u0639\\u0644\\u0648\\u0645\\u0627\\u062a \\u0633\\u0631\\u064a\\u0647 \\u0627\\u0648 \\u0645\\u062d\\u0645\\u064a\\u0647 \\u0642\\u0627\\u0646\\u0648\\u0646\\u064a\\u0627 \\u0627\\u0646 \\u0644\\u0645 \\u062a\\u0643\\u0646 \\u0627\\u0644\\u0634\\u062e\\u0635 \\u0627\\u0644\\u0645\\u0642\\u0635\\u0648\\u062f \\u0641\\u0627\\u0646\\u0647 \\u064a\\u0645\\u0646\\u0639 \\u0645\\u0646\\u0639\\u0627 \\u0628\\u0627\\u062a\\u0627 \\u0627\\u064a \\u0639\\u0631\\u0636 \\u0627\\u0648 \\u0646\\u0634\\u0631 \\u0627\\u0648 \\u0627\\u0633\\u062a\\u062e\\u062f\\u0627\\u0645 \\u063a\\u064a\\u0631 \\u0645\\u0635\\u0631\\u062d \\u0628\\u0647 \\u0644\\u0644\\u0645\\u062d\\u062a\\u0648\\u064a \\u0646\\u0631\\u062c\\u0648 \\u0627\\u062e\\u0637\\u0627\\u0631 \\u0627\\u0644\\u0645\\u0631\\u0633\\u0644 \\u0639\\u0646 \\u0637\\u0631\\u064a\\u0642 \\u0627\\u0644\\u0631\\u062f \\u0639\\u0644\\u064a \\u0647\\u0630\\u0627 \\u0627\\u0644\\u0628\\u0631\\u064a\\u062f \\u0627\\u0644\\u0627\\u0644\\u0643\\u062a\\u0631\\u0648\\u0646\\u064a \\u0648\\u0627\\u062a\\u0644\\u0627\\u0641 \\u062c\\u0645\\u064a\\u0639 \\u0627\\u0644\\u0646\\u0633\\u062e \\u0627\\u0644\\u0645\\u0648\\u062c\\u0648\\u062f\\u0647 \\u0644\\u062f\\u064a\\u0643 \\u062a\\u0639\\u062f \\u0627\\u0644\\u062a\\u0635\\u0631\\u064a\\u062d\\u0627\\u062a \\u0648 \\u0627\\u0644\\u0627\\u0631\\u0627\\u0621 \\u0627\\u0644\\u0645\\u0630\\u0643\\u0648\\u0631\\u0647 \\u0641\\u064a \\u0627\\u0644\\u0631\\u0633\\u0627\\u0644\\u0647 \\u062e\\u0627\\u0635\\u0647 \\u0628\\u0627\\u0644\\u0645\\u0631\\u0633\\u0644 \\u0648 \\u0644\\u0627 \\u062a\\u0645\\u062b\\u0644 \\u0648\\u0632\\u0627\\u0631\\u0647 \\u0627\\u0644\\u0635\\u062d\\u0647 \\u0643\\u0645\\u0627 \\u0644\\u0627 \\u062a\\u062a\\u062d\\u0645\\u0644 \\u0627\\u0644\\u0648\\u0632\\u0627\\u0631\\u0647 \\u0645\\u0633\\u0621\\u0648\\u0644\\u064a\\u0647 \\u0627\\u0644\\u0627\\u0636\\u0631\\u0627\\u0631 \\u0627\\u0644\\u0646\\u0627\\u062a\\u062c\\u0647 \\u0639\\u0646 \\u0627\\u064a \\u0641\\u064a\\u0631\\u0648\\u0633\\u0627\\u062a \\u0642\\u062f \\u062a\\u062d\\u0645\\u0644\\u0647\\u0627 \\u0647\\u0630\\u0647 \\u0627\\u0644\\u0631\\u0633\\u0627\\u0644\\u0647  \\u0645\\u0644\\u0627\\u062d\\u0638\\u0629 \\u0627\\u0644\\u062a\\u0627\\u0631\\u064a\\u062e \\u0631\\u0633\\u0627\\u0644\\u0629 \\u062e\\u0627\\u0635\\u0629 \\u0627\\u0644\\u0645\\u0624\\u0644\\u0641 \\u0627\\u0644\\u0646\\u0648\\u0639 \\u0639\\u0632\\u064a\\u0632\\u064a \\u0627\\u0644\\u0645\\u0647\\u0646\\u062f\\u0633 \\u0625\\u0628\\u0631\\u0627\\u0647\\u064a\\u0645 \\u0648\\u0641\\u0642\\u064b\\u0627 \\u0644\\u0639\\u0645\\u0644\\u064a\\u0629 \\u0627\\u0644\\u062a\\u0635\\u0648\\u064a\\u0631\\u060c \\u0648\\u062c\\u062f\\u0646\\u0627 \\u0623\\u0646 \\u0627\\u0644\\u0645\\u0634\\u0643\\u0644\\u0629 \\u062a\\u062a\\u0639\\u0644\\u0642 \\u0628\\u062e\\u0627\\u062f\\u0645 \\u0644\\u0623\\u0646\\u0647 \\u064a\\u062d\\u0644 \\u0639\\u0646\\u0648\\u0627\\u0646 \\u0627\\u0644\\u062e\\u0627\\u0637\\u0626 \\u0644\\u0645\\u0648\\u0627\\u0642\\u0639 \\u0627\\u0644\\u0645\\u062d\\u0644\\u064a\\u0629 \\u0627\\u0644\\u062d\\u0644 \\u0642\\u0645 \\u0628\\u062a\\u063a\\u064a\\u064a\\u0631 \\u0645\\u0644\\u0641 \\u0627\\u0644\\u0645\\u0636\\u064a\\u0641 \\u0627\\u0644\\u0645\\u0634\\u062a\\u0631\\u0643 \\u0627\\u0644\\u062b\\u0627\\u0628\\u062a \\u0644\\u062d\\u0644 \\u0639\\u0646\\u0648\\u0627\\u0646 \\u0639\\u0644\\u0649 \\u0627\\u0644\\u062e\\u0627\\u062f\\u0645 \\u0628\\u0627\\u0644\\u0625\\u0636\\u0627\\u0641\\u0629 \\u0625\\u0644\\u0649 \\u062e\\u0627\\u062f\\u0645 \\u0639\\u0644\\u0649 \\u0627\\u0644\\u0646\\u062d\\u0648 \\u0627\\u0644\\u062a\\u0627\\u0644\\u064a \\u0633\\u064a\\u0633\\u062a\\u063a\\u0631\\u0642 \\u062a\\u0648\\u0632\\u064a\\u0639 \\u0627\\u0644\\u062a\\u062d\\u062f\\u064a\\u062b \\u0639\\u0644\\u0649 \\u062c\\u0645\\u064a\\u0639 \\u0627\\u0644\\u0623\\u062c\\u0647\\u0632\\u0629 \\u0627\\u0644\\u0637\\u0631\\u0641\\u064a\\u0629 \\u0648\\u0642\\u062a\\u064b\\u0627 \\u0637\\u0648\\u064a\\u0644\\u0627\\u064b \\u0644\\u0645\\u0632\\u064a\\u062f \\u0645\\u0646 \\u0627\\u0644\\u062f\\u0639\\u0645 \\u0648\\u0627\\u0644\\u0645\\u0639\\u0644\\u0648\\u0645\\u0627\\u062a\\u060c \\u0644\\u0627 \\u062a\\u062a\\u0631\\u062f\\u062f \\u0641\\u064a \\u0627\\u0644\\u0627\\u062a\\u0635\\u0627\\u0644 \\u0628\\u0646\\u0627 \\u0634\\u0643\\u0631\\u064b\\u0627 \\u0644\\u0643 \\u0645\\u0639 \\u062a\\u062d\\u064a\\u0627\\u062a\\u064a \\u0645\\u0647\\u0646\\u062f\\u0633 \\u0623\\u0645\\u0627\\u0646 \\u0627\\u0644\\u0634\\u0628\\u0643\\u0627\\u062a \\u0645\\u0644\\u0627\\u062d\\u0638\\u0629 \\u0645\\u0644\\u0627\\u062d\\u0638\\u0629 \\u0627\\u0644\\u062a\\u0627\\u0631\\u064a\\u062e \\u0635\\u0628\\u0627\\u062d\\u064b\\u0627 \\u0627\\u0644\\u0645\\u0624\\u0644\\u0641 \\u0627\\u0644\\u0646\\u0648\\u0639 \\u0627\\u0644\\u0645\\u0639\\u064a\\u0646 \\u0644\\u0640 \\u0646\\u0648\\u062a\\u0629 \\u0627\\u0644\\u0631\\u064a\\u062d\\u0627\\u0646\"\n        ],\n        \"semantic_type\": \"\",\n        \"description\": \"\"\n      }\n    },\n    {\n      \"column\": \"label\",\n      \"properties\": {\n        \"dtype\": \"category\",\n        \"num_unique_values\": 10,\n        \"samples\": [\n          \"Maintenance Requests\",\n          \"Peripheral Device Issues\",\n          \"Job Orders\"\n        ],\n        \"semantic_type\": \"\",\n        \"description\": \"\"\n      }\n    }\n  ]\n}"
            }
          },
          "metadata": {},
          "execution_count": 5
        }
      ]
    },
    {
      "cell_type": "code",
      "source": [
        "# Shuffle the DataFrame and select only 3000 rows\n",
        "df = df.sample(frac=1, random_state=85).reset_index(drop=True).head(3000)\n",
        "\n",
        "# Split the DataFrame\n",
        "train_size = 0.8\n",
        "eval_size = 0.1\n",
        "\n",
        "# Calculate sizes\n",
        "train_end = int(train_size * len(df))\n",
        "eval_end = train_end + int(eval_size * len(df))\n",
        "\n",
        "# Split the data\n",
        "X_train = df[:train_end]\n",
        "X_eval = df[train_end:eval_end]\n",
        "X_test = df[eval_end:]\n",
        "\n",
        "# Define the prompt generation functions\n",
        "def generate_prompt(data_point):\n",
        "    return f\"\"\"\n",
        "            Classify the text into \"Computer Issues\", \"Peripheral Device Issues\", \"Security Alerts\"\t, \"Uncategorized\", \"Printer Issues\", \"Job Orders\", \"Network Issues\",\"Miscellaneous\", \"Maintenance Requests\", \"General Hardware Issues\" and return the answer as the corresponding mental health disorder label.\n",
        "text: {data_point[\"text\"]}\n",
        "label: {data_point[\"label\"]}\"\"\".strip()\n",
        "\n",
        "def generate_test_prompt(data_point):\n",
        "    return f\"\"\"\n",
        "            Classify the text into \"Computer Issues\", \"Peripheral Device Issues\", \"Security Alerts\"\t, \"Uncategorized\", \"Printer Issues\", \"Job Orders\", \"Network Issues\",\"Miscellaneous\", \"Maintenance Requests\", \"General Hardware Issues\" and return the answer as the corresponding mental health disorder label.\n",
        "text: {data_point[\"text\"]}\n",
        "label: \"\"\".strip()\n",
        "\n",
        "# Generate prompts for training and evaluation data\n",
        "X_train.loc[:,'text'] = X_train.apply(generate_prompt, axis=1)\n",
        "X_eval.loc[:,'text'] = X_eval.apply(generate_prompt, axis=1)\n",
        "\n",
        "# Generate test prompts and extract true labels\n",
        "y_true = X_test.loc[:,'label']\n",
        "X_test = pd.DataFrame(X_test.apply(generate_test_prompt, axis=1), columns=[\"text\"])"
      ],
      "metadata": {
        "execution": {
          "iopub.status.busy": "2024-09-29T09:52:01.172224Z",
          "iopub.execute_input": "2024-09-29T09:52:01.172612Z",
          "iopub.status.idle": "2024-09-29T09:52:01.233307Z",
          "shell.execute_reply.started": "2024-09-29T09:52:01.17258Z",
          "shell.execute_reply": "2024-09-29T09:52:01.232136Z"
        },
        "trusted": true,
        "id": "_CFtX8-rcLXD"
      },
      "execution_count": null,
      "outputs": []
    },
    {
      "cell_type": "code",
      "source": [
        "X_train.label.value_counts()"
      ],
      "metadata": {
        "execution": {
          "iopub.status.busy": "2024-09-29T09:52:03.284077Z",
          "iopub.execute_input": "2024-09-29T09:52:03.284464Z",
          "iopub.status.idle": "2024-09-29T09:52:03.345701Z",
          "shell.execute_reply.started": "2024-09-29T09:52:03.284435Z",
          "shell.execute_reply": "2024-09-29T09:52:03.344344Z"
        },
        "trusted": true,
        "colab": {
          "base_uri": "https://localhost:8080/",
          "height": 429
        },
        "id": "6wErvQ97cLXD",
        "outputId": "825b4337-e37e-43ee-b68c-c003c433d478"
      },
      "execution_count": null,
      "outputs": [
        {
          "output_type": "execute_result",
          "data": {
            "text/plain": [
              "label\n",
              "Security Alerts             223\n",
              "Printer Issues              221\n",
              "Maintenance Requests        220\n",
              "Computer Issues             217\n",
              "Peripheral Device Issues    216\n",
              "Network Issues              216\n",
              "General Hardware Issues     214\n",
              "Job Orders                  213\n",
              "Uncategorized               205\n",
              "Miscellaneous               199\n",
              "Name: count, dtype: int64"
            ],
            "text/html": [
              "<div>\n",
              "<style scoped>\n",
              "    .dataframe tbody tr th:only-of-type {\n",
              "        vertical-align: middle;\n",
              "    }\n",
              "\n",
              "    .dataframe tbody tr th {\n",
              "        vertical-align: top;\n",
              "    }\n",
              "\n",
              "    .dataframe thead th {\n",
              "        text-align: right;\n",
              "    }\n",
              "</style>\n",
              "<table border=\"1\" class=\"dataframe\">\n",
              "  <thead>\n",
              "    <tr style=\"text-align: right;\">\n",
              "      <th></th>\n",
              "      <th>count</th>\n",
              "    </tr>\n",
              "    <tr>\n",
              "      <th>label</th>\n",
              "      <th></th>\n",
              "    </tr>\n",
              "  </thead>\n",
              "  <tbody>\n",
              "    <tr>\n",
              "      <th>Security Alerts</th>\n",
              "      <td>223</td>\n",
              "    </tr>\n",
              "    <tr>\n",
              "      <th>Printer Issues</th>\n",
              "      <td>221</td>\n",
              "    </tr>\n",
              "    <tr>\n",
              "      <th>Maintenance Requests</th>\n",
              "      <td>220</td>\n",
              "    </tr>\n",
              "    <tr>\n",
              "      <th>Computer Issues</th>\n",
              "      <td>217</td>\n",
              "    </tr>\n",
              "    <tr>\n",
              "      <th>Peripheral Device Issues</th>\n",
              "      <td>216</td>\n",
              "    </tr>\n",
              "    <tr>\n",
              "      <th>Network Issues</th>\n",
              "      <td>216</td>\n",
              "    </tr>\n",
              "    <tr>\n",
              "      <th>General Hardware Issues</th>\n",
              "      <td>214</td>\n",
              "    </tr>\n",
              "    <tr>\n",
              "      <th>Job Orders</th>\n",
              "      <td>213</td>\n",
              "    </tr>\n",
              "    <tr>\n",
              "      <th>Uncategorized</th>\n",
              "      <td>205</td>\n",
              "    </tr>\n",
              "    <tr>\n",
              "      <th>Miscellaneous</th>\n",
              "      <td>199</td>\n",
              "    </tr>\n",
              "  </tbody>\n",
              "</table>\n",
              "</div><br><label><b>dtype:</b> int64</label>"
            ]
          },
          "metadata": {},
          "execution_count": 7
        }
      ]
    },
    {
      "cell_type": "code",
      "source": [
        "y_true.value_counts()"
      ],
      "metadata": {
        "execution": {
          "iopub.status.busy": "2024-09-29T09:52:05.832065Z",
          "iopub.execute_input": "2024-09-29T09:52:05.832745Z",
          "iopub.status.idle": "2024-09-29T09:52:05.870213Z",
          "shell.execute_reply.started": "2024-09-29T09:52:05.832712Z",
          "shell.execute_reply": "2024-09-29T09:52:05.869291Z"
        },
        "trusted": true,
        "colab": {
          "base_uri": "https://localhost:8080/",
          "height": 429
        },
        "id": "-cAk9w_dcLXD",
        "outputId": "324326af-dd86-42a7-e33b-e479fc07e5b7"
      },
      "execution_count": null,
      "outputs": [
        {
          "output_type": "execute_result",
          "data": {
            "text/plain": [
              "label\n",
              "Uncategorized               33\n",
              "Miscellaneous               33\n",
              "Network Issues              31\n",
              "General Hardware Issues     28\n",
              "Maintenance Requests        26\n",
              "Peripheral Device Issues    26\n",
              "Computer Issues             26\n",
              "Security Alerts             24\n",
              "Job Orders                  21\n",
              "Printer Issues              20\n",
              "Name: count, dtype: int64"
            ],
            "text/html": [
              "<div>\n",
              "<style scoped>\n",
              "    .dataframe tbody tr th:only-of-type {\n",
              "        vertical-align: middle;\n",
              "    }\n",
              "\n",
              "    .dataframe tbody tr th {\n",
              "        vertical-align: top;\n",
              "    }\n",
              "\n",
              "    .dataframe thead th {\n",
              "        text-align: right;\n",
              "    }\n",
              "</style>\n",
              "<table border=\"1\" class=\"dataframe\">\n",
              "  <thead>\n",
              "    <tr style=\"text-align: right;\">\n",
              "      <th></th>\n",
              "      <th>count</th>\n",
              "    </tr>\n",
              "    <tr>\n",
              "      <th>label</th>\n",
              "      <th></th>\n",
              "    </tr>\n",
              "  </thead>\n",
              "  <tbody>\n",
              "    <tr>\n",
              "      <th>Uncategorized</th>\n",
              "      <td>33</td>\n",
              "    </tr>\n",
              "    <tr>\n",
              "      <th>Miscellaneous</th>\n",
              "      <td>33</td>\n",
              "    </tr>\n",
              "    <tr>\n",
              "      <th>Network Issues</th>\n",
              "      <td>31</td>\n",
              "    </tr>\n",
              "    <tr>\n",
              "      <th>General Hardware Issues</th>\n",
              "      <td>28</td>\n",
              "    </tr>\n",
              "    <tr>\n",
              "      <th>Maintenance Requests</th>\n",
              "      <td>26</td>\n",
              "    </tr>\n",
              "    <tr>\n",
              "      <th>Peripheral Device Issues</th>\n",
              "      <td>26</td>\n",
              "    </tr>\n",
              "    <tr>\n",
              "      <th>Computer Issues</th>\n",
              "      <td>26</td>\n",
              "    </tr>\n",
              "    <tr>\n",
              "      <th>Security Alerts</th>\n",
              "      <td>24</td>\n",
              "    </tr>\n",
              "    <tr>\n",
              "      <th>Job Orders</th>\n",
              "      <td>21</td>\n",
              "    </tr>\n",
              "    <tr>\n",
              "      <th>Printer Issues</th>\n",
              "      <td>20</td>\n",
              "    </tr>\n",
              "  </tbody>\n",
              "</table>\n",
              "</div><br><label><b>dtype:</b> int64</label>"
            ]
          },
          "metadata": {},
          "execution_count": 8
        }
      ]
    },
    {
      "cell_type": "code",
      "source": [
        "# Convert to datasets\n",
        "train_data = Dataset.from_pandas(X_train[[\"text\"]])\n",
        "eval_data = Dataset.from_pandas(X_eval[[\"text\"]])"
      ],
      "metadata": {
        "execution": {
          "iopub.status.busy": "2024-09-29T09:52:09.398464Z",
          "iopub.execute_input": "2024-09-29T09:52:09.39879Z",
          "iopub.status.idle": "2024-09-29T09:52:09.532906Z",
          "shell.execute_reply.started": "2024-09-29T09:52:09.398764Z",
          "shell.execute_reply": "2024-09-29T09:52:09.531491Z"
        },
        "trusted": true,
        "id": "8j2c11I9cLXD"
      },
      "execution_count": null,
      "outputs": []
    },
    {
      "cell_type": "code",
      "source": [
        "train_data['text'][3]"
      ],
      "metadata": {
        "execution": {
          "iopub.status.busy": "2024-09-29T09:52:09.705729Z",
          "iopub.execute_input": "2024-09-29T09:52:09.706057Z",
          "iopub.status.idle": "2024-09-29T09:52:09.733872Z",
          "shell.execute_reply.started": "2024-09-29T09:52:09.706029Z",
          "shell.execute_reply": "2024-09-29T09:52:09.73297Z"
        },
        "trusted": true,
        "colab": {
          "base_uri": "https://localhost:8080/",
          "height": 161
        },
        "id": "mn4Iy4OFcLXD",
        "outputId": "8a3d4d59-6950-45e9-d821-eb3ee71f7a61"
      },
      "execution_count": null,
      "outputs": [
        {
          "output_type": "execute_result",
          "data": {
            "text/plain": [
              "'Classify the text into \"Computer Issues\", \"Peripheral Device Issues\", \"Security Alerts\"\\t, \"Uncategorized\", \"Printer Issues\", \"Job Orders\", \"Network Issues\",\"Miscellaneous\", \"Maintenance Requests\", \"General Hardware Issues\" and return the answer as the corresponding mental health disorder label.\\ntext: السلام عليكم ورحمه الله وبركاته لدينا مشكله في ربط جهاز مع شبكه المستشفي علي تنبيه باخلاء المسءوليه هذه الرساله ومرفقاتها معده لاستخدام المرسل اليه المقصود بالرساله فقط و قد تحتوي علي معلومات سريه او محميه قانونيا ان لم تكن الشخص المقصود فانه يمنع منعا باتا اي عرض او نشر او استخدام غير مصرح به للمحتوي نرجو اخطار المرسل عن طريق الرد علي هذا البريد الالكتروني واتلاف جميع النسخ الموجوده لديك تعد التصريحات و الاراء المذكوره في الرساله خاصه بالمرسل و لا تمثل وزاره الصحه كما لا تتحمل الوزاره مسءوليه الاضرار الناتجه عن اي فيروسات قد تحملها هذه الرساله  ملاحظة التاريخ صباحا المؤلف نوع التكنولوجيا الوقت معدل إعادة تعيين إلى المهندس عمر مختار ملاحظة ملاحظة التاريخ مساءًا المؤلف عمر مختار نوع التكنولوجيا الوقت معدل مرحبًا عزيزي تحياتي يرجى العلم أن المستشفى ليس لديه جدار حماية مع تحياتي عمر عبد العزيز مختار ملاحظة الجوال ملاحظة التاريخ صباحا المؤلف سارة البخيت نوع التكنولوجيا الوقت معدل تعيين إلى المهندس أحمد ملاحظة\\nlabel: Computer Issues'"
            ],
            "application/vnd.google.colaboratory.intrinsic+json": {
              "type": "string"
            }
          },
          "metadata": {},
          "execution_count": 10
        }
      ]
    },
    {
      "cell_type": "markdown",
      "source": [
        "## Loading the model and tokenizer"
      ],
      "metadata": {
        "id": "NAWHvUCAcLXD"
      }
    },
    {
      "cell_type": "code",
      "source": [
        "# !pip install llama-stack"
      ],
      "metadata": {
        "execution": {
          "iopub.status.busy": "2024-09-29T09:56:32.270387Z",
          "iopub.execute_input": "2024-09-29T09:56:32.270751Z",
          "iopub.status.idle": "2024-09-29T09:56:49.664624Z",
          "shell.execute_reply.started": "2024-09-29T09:56:32.270725Z",
          "shell.execute_reply": "2024-09-29T09:56:49.662465Z"
        },
        "trusted": true,
        "id": "9XJSk1THcLXE"
      },
      "execution_count": null,
      "outputs": []
    },
    {
      "cell_type": "code",
      "source": [
        "!llama model list"
      ],
      "metadata": {
        "execution": {
          "iopub.status.busy": "2024-09-29T09:57:08.969536Z",
          "iopub.execute_input": "2024-09-29T09:57:08.970405Z",
          "iopub.status.idle": "2024-09-29T09:57:11.361337Z",
          "shell.execute_reply.started": "2024-09-29T09:57:08.970369Z",
          "shell.execute_reply": "2024-09-29T09:57:11.36023Z"
        },
        "trusted": true,
        "colab": {
          "base_uri": "https://localhost:8080/"
        },
        "id": "CEeUu3U7cLXE",
        "outputId": "1b6a8fd0-5833-450f-b75e-48d2f962cd05"
      },
      "execution_count": null,
      "outputs": [
        {
          "output_type": "stream",
          "name": "stdout",
          "text": [
            "+----------------------------------+------------------------------------------+----------------+\n",
            "\u001b[1m\u001b[97m| Model Descriptor                 | HuggingFace Repo                         | Context Length |\u001b[0m\n",
            "+----------------------------------+------------------------------------------+----------------+\n",
            "| Llama3.1-8B                      | meta-llama/Llama-3.1-8B                  | 128K           |\n",
            "+----------------------------------+------------------------------------------+----------------+\n",
            "| Llama3.1-70B                     | meta-llama/Llama-3.1-70B                 | 128K           |\n",
            "+----------------------------------+------------------------------------------+----------------+\n",
            "| Llama3.1-405B:bf16-mp8           | meta-llama/Llama-3.1-405B                | 128K           |\n",
            "+----------------------------------+------------------------------------------+----------------+\n",
            "| Llama3.1-405B                    | meta-llama/Llama-3.1-405B-FP8            | 128K           |\n",
            "+----------------------------------+------------------------------------------+----------------+\n",
            "| Llama3.1-405B:bf16-mp16          | meta-llama/Llama-3.1-405B                | 128K           |\n",
            "+----------------------------------+------------------------------------------+----------------+\n",
            "| Llama3.1-8B-Instruct             | meta-llama/Llama-3.1-8B-Instruct         | 128K           |\n",
            "+----------------------------------+------------------------------------------+----------------+\n",
            "| Llama3.1-70B-Instruct            | meta-llama/Llama-3.1-70B-Instruct        | 128K           |\n",
            "+----------------------------------+------------------------------------------+----------------+\n",
            "| Llama3.1-405B-Instruct:bf16-mp8  | meta-llama/Llama-3.1-405B-Instruct       | 128K           |\n",
            "+----------------------------------+------------------------------------------+----------------+\n",
            "| Llama3.1-405B-Instruct           | meta-llama/Llama-3.1-405B-Instruct-FP8   | 128K           |\n",
            "+----------------------------------+------------------------------------------+----------------+\n",
            "| Llama3.1-405B-Instruct:bf16-mp16 | meta-llama/Llama-3.1-405B-Instruct       | 128K           |\n",
            "+----------------------------------+------------------------------------------+----------------+\n",
            "| Llama3.2-1B                      | meta-llama/Llama-3.2-1B                  | 128K           |\n",
            "+----------------------------------+------------------------------------------+----------------+\n",
            "| Llama3.2-3B                      | meta-llama/Llama-3.2-3B                  | 128K           |\n",
            "+----------------------------------+------------------------------------------+----------------+\n",
            "| Llama3.2-11B-Vision              | meta-llama/Llama-3.2-11B-Vision          | 128K           |\n",
            "+----------------------------------+------------------------------------------+----------------+\n",
            "| Llama3.2-90B-Vision              | meta-llama/Llama-3.2-90B-Vision          | 128K           |\n",
            "+----------------------------------+------------------------------------------+----------------+\n",
            "| Llama3.2-1B-Instruct             | meta-llama/Llama-3.2-1B-Instruct         | 128K           |\n",
            "+----------------------------------+------------------------------------------+----------------+\n",
            "| Llama3.2-3B-Instruct             | meta-llama/Llama-3.2-3B-Instruct         | 128K           |\n",
            "+----------------------------------+------------------------------------------+----------------+\n",
            "| Llama3.2-11B-Vision-Instruct     | meta-llama/Llama-3.2-11B-Vision-Instruct | 128K           |\n",
            "+----------------------------------+------------------------------------------+----------------+\n",
            "| Llama3.2-90B-Vision-Instruct     | meta-llama/Llama-3.2-90B-Vision-Instruct | 128K           |\n",
            "+----------------------------------+------------------------------------------+----------------+\n",
            "| Llama-Guard-3-11B-Vision         | meta-llama/Llama-Guard-3-11B-Vision      | 128K           |\n",
            "+----------------------------------+------------------------------------------+----------------+\n",
            "| Llama-Guard-3-1B:int4-mp1        | meta-llama/Llama-Guard-3-1B-INT4         | 128K           |\n",
            "+----------------------------------+------------------------------------------+----------------+\n",
            "| Llama-Guard-3-1B                 | meta-llama/Llama-Guard-3-1B              | 128K           |\n",
            "+----------------------------------+------------------------------------------+----------------+\n",
            "| Llama-Guard-3-8B                 | meta-llama/Llama-Guard-3-8B              | 128K           |\n",
            "+----------------------------------+------------------------------------------+----------------+\n",
            "| Llama-Guard-3-8B:int8-mp1        | meta-llama/Llama-Guard-3-8B-INT8         | 128K           |\n",
            "+----------------------------------+------------------------------------------+----------------+\n",
            "| Prompt-Guard-86M                 | meta-llama/Prompt-Guard-86M              | 128K           |\n",
            "+----------------------------------+------------------------------------------+----------------+\n",
            "| Llama-Guard-2-8B                 | meta-llama/Llama-Guard-2-8B              | 4K             |\n",
            "+----------------------------------+------------------------------------------+----------------+\n"
          ]
        }
      ]
    },
    {
      "cell_type": "code",
      "source": [
        "# !llama model download --source meta --model-id  MODEL_ID"
      ],
      "metadata": {
        "execution": {
          "iopub.status.busy": "2024-09-29T09:58:42.64805Z",
          "iopub.execute_input": "2024-09-29T09:58:42.648456Z",
          "iopub.status.idle": "2024-09-29T09:58:43.681279Z",
          "shell.execute_reply.started": "2024-09-29T09:58:42.648421Z",
          "shell.execute_reply": "2024-09-29T09:58:43.680185Z"
        },
        "trusted": true,
        "id": "FTTW5qFDcLXE"
      },
      "execution_count": null,
      "outputs": []
    },
    {
      "cell_type": "code",
      "source": [
        "!huggingface-cli login"
      ],
      "metadata": {
        "colab": {
          "base_uri": "https://localhost:8080/"
        },
        "id": "Bm0oI-a7gVbL",
        "outputId": "ef6e5482-8399-446e-b5a4-36dfe9bd6cdb"
      },
      "execution_count": null,
      "outputs": [
        {
          "output_type": "stream",
          "name": "stdout",
          "text": [
            "\n",
            "    _|    _|  _|    _|    _|_|_|    _|_|_|  _|_|_|  _|      _|    _|_|_|      _|_|_|_|    _|_|      _|_|_|  _|_|_|_|\n",
            "    _|    _|  _|    _|  _|        _|          _|    _|_|    _|  _|            _|        _|    _|  _|        _|\n",
            "    _|_|_|_|  _|    _|  _|  _|_|  _|  _|_|    _|    _|  _|  _|  _|  _|_|      _|_|_|    _|_|_|_|  _|        _|_|_|\n",
            "    _|    _|  _|    _|  _|    _|  _|    _|    _|    _|    _|_|  _|    _|      _|        _|    _|  _|        _|\n",
            "    _|    _|    _|_|      _|_|_|    _|_|_|  _|_|_|  _|      _|    _|_|_|      _|        _|    _|    _|_|_|  _|_|_|_|\n",
            "\n",
            "    A token is already saved on your machine. Run `huggingface-cli whoami` to get more information or `huggingface-cli logout` if you want to log out.\n",
            "    Setting a new token will erase the existing one.\n",
            "    To login, `huggingface_hub` requires a token generated from https://huggingface.co/settings/tokens .\n",
            "Enter your token (input will not be visible): \n",
            "Add token as git credential? (Y/n) Y\n",
            "Token is valid (permission: fineGrained).\n",
            "\u001b[1m\u001b[31mCannot authenticate through git-credential as no helper is defined on your machine.\n",
            "You might have to re-authenticate when pushing to the Hugging Face Hub.\n",
            "Run the following command in your terminal in case you want to set the 'store' credential helper as default.\n",
            "\n",
            "git config --global credential.helper store\n",
            "\n",
            "Read https://git-scm.com/book/en/v2/Git-Tools-Credential-Storage for more details.\u001b[0m\n",
            "Token has not been saved to git credential helper.\n",
            "Your token has been saved to /root/.cache/huggingface/token\n",
            "Login successful\n"
          ]
        }
      ]
    },
    {
      "cell_type": "code",
      "source": [
        "# base_model_name = \"meta-llama/Meta-Llama-3-8B\"\n",
        "base_model_name = \"meta-llama/Llama-3.2-1B-Instruct\"\n",
        "bnb_config = BitsAndBytesConfig(\n",
        "    load_in_4bit=True,\n",
        "    bnb_4bit_use_double_quant=False,\n",
        "    bnb_4bit_quant_type=\"nf4\",\n",
        "    bnb_4bit_compute_dtype=\"float16\",\n",
        ")\n",
        "\n",
        "model = AutoModelForCausalLM.from_pretrained(\n",
        "    base_model_name,\n",
        "    device_map=\"auto\",\n",
        "    torch_dtype=\"float16\",\n",
        "    quantization_config=bnb_config,\n",
        ")\n",
        "\n",
        "model.config.use_cache = False\n",
        "model.config.pretraining_tp = 1"
      ],
      "metadata": {
        "execution": {
          "iopub.status.busy": "2024-09-29T09:52:16.068342Z",
          "iopub.execute_input": "2024-09-29T09:52:16.068708Z",
          "iopub.status.idle": "2024-09-29T09:52:16.444754Z",
          "shell.execute_reply.started": "2024-09-29T09:52:16.068676Z",
          "shell.execute_reply": "2024-09-29T09:52:16.443163Z"
        },
        "trusted": true,
        "colab": {
          "base_uri": "https://localhost:8080/"
        },
        "id": "FYlNwas_cLXE",
        "outputId": "d7a089d5-5f99-4598-a333-e345badcb1f6"
      },
      "execution_count": null,
      "outputs": [
        {
          "output_type": "stream",
          "name": "stderr",
          "text": [
            "/usr/local/lib/python3.10/dist-packages/huggingface_hub/utils/_token.py:89: UserWarning: \n",
            "The secret `HF_TOKEN` does not exist in your Colab secrets.\n",
            "To authenticate with the Hugging Face Hub, create a token in your settings tab (https://huggingface.co/settings/tokens), set it as secret in your Google Colab and restart your session.\n",
            "You will be able to reuse this secret in all of your notebooks.\n",
            "Please note that authentication is recommended but still optional to access public models or datasets.\n",
            "  warnings.warn(\n"
          ]
        }
      ]
    },
    {
      "cell_type": "code",
      "source": [
        "tokenizer = AutoTokenizer.from_pretrained(base_model_name)\n",
        "\n",
        "tokenizer.pad_token_id = tokenizer.eos_token_id"
      ],
      "metadata": {
        "execution": {
          "iopub.status.busy": "2024-07-28T09:24:29.485994Z",
          "iopub.execute_input": "2024-07-28T09:24:29.486508Z",
          "iopub.status.idle": "2024-07-28T09:24:30.634685Z",
          "shell.execute_reply.started": "2024-07-28T09:24:29.486472Z",
          "shell.execute_reply": "2024-07-28T09:24:30.633852Z"
        },
        "trusted": true,
        "id": "zwSTALBPcLXE"
      },
      "execution_count": null,
      "outputs": []
    },
    {
      "cell_type": "markdown",
      "source": [
        "## Model evalution before fine-tuning"
      ],
      "metadata": {
        "id": "fnjS_eSTcLXE"
      }
    },
    {
      "cell_type": "code",
      "source": [
        "def predict(test, model, tokenizer):\n",
        "    y_pred = []\n",
        "    categories = [\"Computer Issues\", \"Peripheral Device Issues\",\n",
        "                  \"Security Alerts\"\t, \"Uncategorized\",\n",
        "                  \"Printer Issues\", \"Job Orders\"\t,\n",
        "                  \"Network Issues\"\t,\"Miscellaneous\",\n",
        "                  \"Maintenance Requests\",\"General Hardware Issues\"]\n",
        "\n",
        "    for i in tqdm(range(len(test))):\n",
        "        prompt = test.iloc[i][\"text\"]\n",
        "        pipe = pipeline(task=\"text-generation\",\n",
        "                        model=model,\n",
        "                        tokenizer=tokenizer,\n",
        "                        max_new_tokens=2,\n",
        "                        temperature=0.1)\n",
        "\n",
        "        result = pipe(prompt)\n",
        "        answer = result[0]['generated_text'].split(\"label:\")[-1].strip()\n",
        "\n",
        "        # Determine the predicted category\n",
        "        for category in categories:\n",
        "            if category.lower() in answer.lower():\n",
        "                y_pred.append(category)\n",
        "                break\n",
        "        else:\n",
        "            y_pred.append(\"none\")\n",
        "\n",
        "    return y_pred"
      ],
      "metadata": {
        "execution": {
          "iopub.status.busy": "2024-07-28T09:24:30.635824Z",
          "iopub.execute_input": "2024-07-28T09:24:30.636113Z",
          "iopub.status.idle": "2024-07-28T09:24:31.159569Z",
          "shell.execute_reply.started": "2024-07-28T09:24:30.636087Z",
          "shell.execute_reply": "2024-07-28T09:24:31.158392Z"
        },
        "trusted": true,
        "id": "oKSRqDKicLXE"
      },
      "execution_count": null,
      "outputs": []
    },
    {
      "cell_type": "code",
      "source": [
        "y_pred = predict(X_test, model, tokenizer)"
      ],
      "metadata": {
        "execution": {
          "iopub.status.busy": "2024-07-28T09:24:31.16072Z",
          "iopub.execute_input": "2024-07-28T09:24:31.161064Z",
          "iopub.status.idle": "2024-07-28T09:29:15.564775Z",
          "shell.execute_reply.started": "2024-07-28T09:24:31.161032Z",
          "shell.execute_reply": "2024-07-28T09:29:15.563803Z"
        },
        "trusted": true,
        "colab": {
          "base_uri": "https://localhost:8080/"
        },
        "id": "Ey_k5nKpcLXE",
        "outputId": "98026d7e-e1da-432d-8e72-2e13e8b2d557"
      },
      "execution_count": null,
      "outputs": [
        {
          "output_type": "stream",
          "name": "stderr",
          "text": [
            "  0%|          | 0/268 [00:00<?, ?it/s]Starting from v4.46, the `logits` model output will have the same type as the model (except at train time, where it will always be FP32)\n",
            "100%|██████████| 268/268 [00:35<00:00,  7.62it/s]\n"
          ]
        }
      ]
    },
    {
      "cell_type": "code",
      "source": [
        "def evaluate(y_true, y_pred):\n",
        "    labels = [\"Computer Issues\", \"Peripheral Device Issues\",\n",
        "              \"Security Alerts\"\t, \"Uncategorized\",\n",
        "              \"Printer Issues\", \"Job Orders\"\t,\n",
        "              \"Network Issues\"\t,\"Miscellaneous\",\n",
        "              \"Maintenance Requests\", \"General Hardware Issues\"\t,]\n",
        "    mapping = {label: idx for idx, label in enumerate(labels)}\n",
        "\n",
        "    def map_func(x):\n",
        "        return mapping.get(x, -1)  # Map to -1 if not found, but should not occur with correct data\n",
        "\n",
        "    y_true_mapped = np.vectorize(map_func)(y_true)\n",
        "    y_pred_mapped = np.vectorize(map_func)(y_pred)\n",
        "\n",
        "    # Calculate accuracy\n",
        "    accuracy = accuracy_score(y_true=y_true_mapped, y_pred=y_pred_mapped)\n",
        "    print(f'Accuracy: {accuracy:.3f}')\n",
        "\n",
        "    # Generate accuracy report\n",
        "    unique_labels = set(y_true_mapped)  # Get unique labels\n",
        "\n",
        "    for label in unique_labels:\n",
        "        label_indices = [i for i in range(len(y_true_mapped)) if y_true_mapped[i] == label]\n",
        "        label_y_true = [y_true_mapped[i] for i in label_indices]\n",
        "        label_y_pred = [y_pred_mapped[i] for i in label_indices]\n",
        "        label_accuracy = accuracy_score(label_y_true, label_y_pred)\n",
        "        print(f'Accuracy for label {labels[label]}: {label_accuracy:.3f}')\n",
        "\n",
        "    # Generate classification report\n",
        "    class_report = classification_report(y_true=y_true_mapped, y_pred=y_pred_mapped, target_names=labels, labels=list(range(len(labels))))\n",
        "    print('\\nClassification Report:')\n",
        "    print(class_report)\n",
        "\n",
        "    # Generate confusion matrix\n",
        "    conf_matrix = confusion_matrix(y_true=y_true_mapped, y_pred=y_pred_mapped, labels=list(range(len(labels))))\n",
        "    print('\\nConfusion Matrix:')\n",
        "    print(conf_matrix)"
      ],
      "metadata": {
        "execution": {
          "iopub.status.busy": "2024-07-28T09:29:15.566222Z",
          "iopub.execute_input": "2024-07-28T09:29:15.566595Z",
          "iopub.status.idle": "2024-07-28T09:29:16.125323Z",
          "shell.execute_reply.started": "2024-07-28T09:29:15.566554Z",
          "shell.execute_reply": "2024-07-28T09:29:16.124517Z"
        },
        "trusted": true,
        "id": "-c7NltS-cLXE"
      },
      "execution_count": null,
      "outputs": []
    },
    {
      "cell_type": "code",
      "source": [
        "evaluate(y_true, y_pred)"
      ],
      "metadata": {
        "execution": {
          "iopub.status.busy": "2024-07-28T09:29:16.126408Z",
          "iopub.execute_input": "2024-07-28T09:29:16.126707Z",
          "iopub.status.idle": "2024-07-28T09:29:16.796883Z",
          "shell.execute_reply.started": "2024-07-28T09:29:16.126681Z",
          "shell.execute_reply": "2024-07-28T09:29:16.795906Z"
        },
        "trusted": true,
        "colab": {
          "base_uri": "https://localhost:8080/"
        },
        "id": "A0ekS0X7cLXE",
        "outputId": "984b31af-22f7-469f-b725-cdd803264812"
      },
      "execution_count": null,
      "outputs": [
        {
          "output_type": "stream",
          "name": "stdout",
          "text": [
            "Accuracy: 0.060\n",
            "Accuracy for label Computer Issues: 0.269\n",
            "Accuracy for label Peripheral Device Issues: 0.000\n",
            "Accuracy for label Security Alerts: 0.000\n",
            "Accuracy for label Uncategorized: 0.000\n",
            "Accuracy for label Printer Issues: 0.000\n",
            "Accuracy for label Job Orders: 0.000\n",
            "Accuracy for label Network Issues: 0.000\n",
            "Accuracy for label Miscellaneous: 0.273\n",
            "Accuracy for label Maintenance Requests: 0.000\n",
            "Accuracy for label General Hardware Issues: 0.000\n",
            "\n",
            "Classification Report:\n",
            "                          precision    recall  f1-score   support\n",
            "\n",
            "         Computer Issues       0.09      0.27      0.13        26\n",
            "Peripheral Device Issues       0.00      0.00      0.00        26\n",
            "         Security Alerts       0.00      0.00      0.00        24\n",
            "           Uncategorized       0.00      0.00      0.00        33\n",
            "          Printer Issues       0.00      0.00      0.00        20\n",
            "              Job Orders       0.00      0.00      0.00        21\n",
            "          Network Issues       0.00      0.00      0.00        31\n",
            "           Miscellaneous       0.35      0.27      0.31        33\n",
            "    Maintenance Requests       0.00      0.00      0.00        26\n",
            " General Hardware Issues       0.00      0.00      0.00        28\n",
            "\n",
            "               micro avg       0.15      0.06      0.09       268\n",
            "               macro avg       0.04      0.05      0.04       268\n",
            "            weighted avg       0.05      0.06      0.05       268\n",
            "\n",
            "\n",
            "Confusion Matrix:\n",
            "[[ 7  0  0  0  0  0  0  2  0  0]\n",
            " [ 7  0  0  0  0  0  0  2  0  0]\n",
            " [10  0  0  0  0  0  0  0  0  0]\n",
            " [10  0  0  0  0  0  0  2  0  0]\n",
            " [ 6  0  0  0  0  0  0  2  0  0]\n",
            " [ 4  0  0  0  0  0  0  0  0  0]\n",
            " [ 9  0  0  1  0  0  0  2  0  0]\n",
            " [ 8  0  0  1  0  0  0  9  0  0]\n",
            " [ 7  0  0  0  0  0  0  5  0  0]\n",
            " [11  0  0  0  0  0  0  2  0  0]]\n"
          ]
        },
        {
          "output_type": "stream",
          "name": "stderr",
          "text": [
            "/usr/local/lib/python3.10/dist-packages/sklearn/metrics/_classification.py:1531: UndefinedMetricWarning: Precision is ill-defined and being set to 0.0 in labels with no predicted samples. Use `zero_division` parameter to control this behavior.\n",
            "  _warn_prf(average, modifier, f\"{metric.capitalize()} is\", len(result))\n",
            "/usr/local/lib/python3.10/dist-packages/sklearn/metrics/_classification.py:1531: UndefinedMetricWarning: Precision is ill-defined and being set to 0.0 in labels with no predicted samples. Use `zero_division` parameter to control this behavior.\n",
            "  _warn_prf(average, modifier, f\"{metric.capitalize()} is\", len(result))\n",
            "/usr/local/lib/python3.10/dist-packages/sklearn/metrics/_classification.py:1531: UndefinedMetricWarning: Precision is ill-defined and being set to 0.0 in labels with no predicted samples. Use `zero_division` parameter to control this behavior.\n",
            "  _warn_prf(average, modifier, f\"{metric.capitalize()} is\", len(result))\n"
          ]
        }
      ]
    },
    {
      "cell_type": "markdown",
      "source": [
        "## Extracting the linear modules names"
      ],
      "metadata": {
        "id": "3I2nTD1WcLXE"
      }
    },
    {
      "cell_type": "code",
      "source": [
        "import bitsandbytes as bnb\n",
        "def find_all_linear_names(model):\n",
        "    cls = bnb.nn.Linear4bit\n",
        "    lora_module_names = set()\n",
        "    for name, module in model.named_modules():\n",
        "        if isinstance(module, cls):\n",
        "            names = name.split('.')\n",
        "            lora_module_names.add(names[0] if len(names) == 1 else names[-1])\n",
        "    if 'lm_head' in lora_module_names:  # needed for 16 bit\n",
        "        lora_module_names.remove('lm_head')\n",
        "    return list(lora_module_names)"
      ],
      "metadata": {
        "execution": {
          "iopub.status.busy": "2024-07-28T09:29:16.798064Z",
          "iopub.execute_input": "2024-07-28T09:29:16.798417Z",
          "iopub.status.idle": "2024-07-28T09:29:17.330552Z",
          "shell.execute_reply.started": "2024-07-28T09:29:16.798384Z",
          "shell.execute_reply": "2024-07-28T09:29:17.329553Z"
        },
        "trusted": true,
        "id": "G-f1to07cLXE"
      },
      "execution_count": null,
      "outputs": []
    },
    {
      "cell_type": "code",
      "source": [
        "modules = find_all_linear_names(model)\n",
        "modules"
      ],
      "metadata": {
        "execution": {
          "iopub.status.busy": "2024-07-28T09:29:17.333734Z",
          "iopub.execute_input": "2024-07-28T09:29:17.334039Z",
          "iopub.status.idle": "2024-07-28T09:29:17.903144Z",
          "shell.execute_reply.started": "2024-07-28T09:29:17.334013Z",
          "shell.execute_reply": "2024-07-28T09:29:17.902075Z"
        },
        "trusted": true,
        "colab": {
          "base_uri": "https://localhost:8080/"
        },
        "id": "OYJlu21VcLXE",
        "outputId": "73fd9b68-1a0b-45fc-b7bb-c8428ef46615"
      },
      "execution_count": null,
      "outputs": [
        {
          "output_type": "execute_result",
          "data": {
            "text/plain": [
              "['q_proj', 'k_proj', 'up_proj', 'down_proj', 'v_proj', 'gate_proj', 'o_proj']"
            ]
          },
          "metadata": {},
          "execution_count": 22
        }
      ]
    },
    {
      "cell_type": "markdown",
      "source": [
        "## Setting up the model"
      ],
      "metadata": {
        "id": "_QBnfuHicLXE"
      }
    },
    {
      "cell_type": "code",
      "source": [
        "n_classes = len(y_true.value_counts())\n",
        "n_classes"
      ],
      "metadata": {
        "colab": {
          "base_uri": "https://localhost:8080/"
        },
        "id": "g45DPdhEvHPT",
        "outputId": "96f5ab7f-b3de-4350-c975-ec6267f677fd"
      },
      "execution_count": null,
      "outputs": [
        {
          "output_type": "execute_result",
          "data": {
            "text/plain": [
              "10"
            ]
          },
          "metadata": {},
          "execution_count": 23
        }
      ]
    },
    {
      "cell_type": "code",
      "source": [
        "# !pip install -q -U torchmetrics\n",
        "import torch\n",
        "from torchmetrics import F1Score, Precision, Recall, Accuracy\n",
        "n_classes = len(y_true.value_counts())\n",
        "# Convert NumPy arrays to PyTorch tensors and calculate metrics\n",
        "def compute_metrics(p):\n",
        "  preds = torch.from_numpy(p.predictions)\n",
        "  labels = torch.from_numpy(p.label_ids)\n",
        "  preds = torch.argmax(preds, axis=1)\n",
        "\n",
        "  f1_score = F1Score(task=\"multiclass\", num_classes=n_classes, average='macro')\n",
        "  macro_f1 = f1_score(preds, labels)\n",
        "\n",
        "  precision = Precision(task=\"multiclass\", num_classes=n_classes, average='macro')\n",
        "  macro_precision = precision(preds, labels)\n",
        "\n",
        "  recall = Recall(task=\"multiclass\", num_classes=n_classes, average='macro')\n",
        "  macro_recall = recall(preds, labels)\n",
        "\n",
        "  accuracy = Accuracy(task=\"multiclass\", num_classes=n_classes)\n",
        "  acc = accuracy(preds, labels)\n",
        "\n",
        "  return {'macro_f1' : macro_f1, 'macro_precision': macro_precision, 'macro_recall': macro_recall, 'accuracy': acc}"
      ],
      "metadata": {
        "id": "80_br2a4uMDI"
      },
      "execution_count": null,
      "outputs": []
    },
    {
      "cell_type": "code",
      "source": [
        "output_dir=\"llama-3.2-instruct-fine-tuned-model\"\n",
        "\n",
        "peft_config = LoraConfig(\n",
        "    lora_alpha=16,\n",
        "    lora_dropout=0,\n",
        "    r=64,\n",
        "    bias=\"none\",\n",
        "    task_type=\"CAUSAL_LM\",\n",
        "    target_modules=modules,\n",
        ")\n",
        "\n",
        "training_arguments = TrainingArguments(\n",
        "    output_dir=output_dir,                    # directory to save and repository id\n",
        "    num_train_epochs=1,                       # number of training epochs\n",
        "    per_device_train_batch_size=1,            # batch size per device during training\n",
        "    gradient_accumulation_steps=16,            # number of steps before performing a backward/update pass\n",
        "    gradient_checkpointing=True,\n",
        "    optim=\"paged_adamw_32bit\",\n",
        "    logging_steps=3,\n",
        "    learning_rate=2e-5,                       # learning rate, based on QLoRA paper\n",
        "    weight_decay=0.001,\n",
        "    fp16=True,\n",
        "    bf16=False,\n",
        "    max_grad_norm=0.3,                        # max gradient norm based on QLoRA paper\n",
        "    max_steps=-1,\n",
        "    warmup_ratio=0.03,                        # warmup ratio based on QLoRA paper\n",
        "    group_by_length=False,\n",
        "    lr_scheduler_type=\"cosine\",               # use cosine learning rate scheduler\n",
        "    report_to=\"wandb\",                  # report metrics to w&b\n",
        "    eval_strategy=\"steps\",              # save checkpoint every epoch\n",
        "    eval_steps = 0.2\n",
        ")\n",
        "\n",
        "trainer = SFTTrainer(\n",
        "    model=model,\n",
        "    args=training_arguments,\n",
        "    train_dataset=train_data,\n",
        "    eval_dataset=eval_data,\n",
        "    peft_config=peft_config,\n",
        "    dataset_text_field=\"text\",\n",
        "    tokenizer=tokenizer,\n",
        "    max_seq_length=128,\n",
        "    packing=False,\n",
        "    # compute_metrics=compute_metrics,\n",
        "    dataset_kwargs={\n",
        "    \"add_special_tokens\": False,\n",
        "    \"append_concat_token\": False,\n",
        "    }\n",
        ")"
      ],
      "metadata": {
        "execution": {
          "iopub.status.busy": "2024-07-28T09:29:17.904544Z",
          "iopub.execute_input": "2024-07-28T09:29:17.905129Z",
          "iopub.status.idle": "2024-07-28T09:29:22.368422Z",
          "shell.execute_reply.started": "2024-07-28T09:29:17.905099Z",
          "shell.execute_reply": "2024-07-28T09:29:22.367477Z"
        },
        "trusted": true,
        "colab": {
          "base_uri": "https://localhost:8080/",
          "height": 315,
          "referenced_widgets": [
            "d9eae482ad654762ac51e84429e8ae08",
            "b39b370ee2c14780b4f8963453dea1f1",
            "cc4a059b35cb4ee488b2b99e712071d9",
            "1398c5003629498bbb4c8fdc7c8754e4",
            "5aeb3d1ee4b24208890755960a7109a5",
            "07ed6aae15df464baf3cf286e42fd456",
            "5f32e9ad0ab44932a17cad9e5a1ccf51",
            "76a72661d82248d8bf2a82b5b9316333",
            "3bb95ab82a0141b492798467c68f87eb",
            "217f70f1fa834b79ba1d196f355cbd02",
            "d261521a0a314ed082ea7ab3131babef",
            "6a1f81eb263642d9810c7613fbf5543e",
            "443dfe386261473280fe8090bad6aab9",
            "c71bcf20d14d494ab62f3670103608cb",
            "bb91911c270e46f798219ef2a9119aa1",
            "39340e8f64514103a0d16eaa7cc09c49",
            "25819837877847ef8080b092dfccc7f6",
            "de07f1f826b14a8d82763b9e13aeec7c",
            "4fe6135fae8f4868b40e5719fcf83b9b",
            "f1ddabff0be74c82b171a25764649e61",
            "d2304ff953704a67be3de8d4ce292a11",
            "604759fea7cf4c058bf2a31ee825e6d2"
          ]
        },
        "id": "zpJ6GE_-cLXE",
        "outputId": "bd56b121-0110-4c3e-fee3-78bb06d13999"
      },
      "execution_count": null,
      "outputs": [
        {
          "output_type": "stream",
          "name": "stderr",
          "text": [
            "/usr/local/lib/python3.10/dist-packages/huggingface_hub/utils/_deprecation.py:100: FutureWarning: Deprecated argument(s) used in '__init__': dataset_text_field, max_seq_length, dataset_kwargs. Will not be supported from version '1.0.0'.\n",
            "\n",
            "Deprecated positional argument(s) used in SFTTrainer, please use the SFTConfig to set these arguments instead.\n",
            "  warnings.warn(message, FutureWarning)\n",
            "/usr/local/lib/python3.10/dist-packages/trl/trainer/sft_trainer.py:283: UserWarning: You passed a `max_seq_length` argument to the SFTTrainer, the value you passed will override the one in the `SFTConfig`.\n",
            "  warnings.warn(\n",
            "/usr/local/lib/python3.10/dist-packages/trl/trainer/sft_trainer.py:321: UserWarning: You passed a `dataset_text_field` argument to the SFTTrainer, the value you passed will override the one in the `SFTConfig`.\n",
            "  warnings.warn(\n",
            "/usr/local/lib/python3.10/dist-packages/trl/trainer/sft_trainer.py:327: UserWarning: You passed a `dataset_kwargs` argument to the SFTTrainer, the value you passed will override the one in the `SFTConfig`.\n",
            "  warnings.warn(\n"
          ]
        },
        {
          "output_type": "display_data",
          "data": {
            "text/plain": [
              "Map:   0%|          | 0/2144 [00:00<?, ? examples/s]"
            ],
            "application/vnd.jupyter.widget-view+json": {
              "version_major": 2,
              "version_minor": 0,
              "model_id": "d9eae482ad654762ac51e84429e8ae08"
            }
          },
          "metadata": {}
        },
        {
          "output_type": "display_data",
          "data": {
            "text/plain": [
              "Map:   0%|          | 0/268 [00:00<?, ? examples/s]"
            ],
            "application/vnd.jupyter.widget-view+json": {
              "version_major": 2,
              "version_minor": 0,
              "model_id": "6a1f81eb263642d9810c7613fbf5543e"
            }
          },
          "metadata": {}
        },
        {
          "output_type": "stream",
          "name": "stderr",
          "text": [
            "/usr/local/lib/python3.10/dist-packages/accelerate/accelerator.py:494: FutureWarning: `torch.cuda.amp.GradScaler(args...)` is deprecated. Please use `torch.amp.GradScaler('cuda', args...)` instead.\n",
            "  self.scaler = torch.cuda.amp.GradScaler(**kwargs)\n"
          ]
        }
      ]
    },
    {
      "cell_type": "markdown",
      "source": [
        "## Model Training"
      ],
      "metadata": {
        "id": "jmiwgNvWcLXE"
      }
    },
    {
      "cell_type": "code",
      "source": [
        "# Train model\n",
        "trainer.train()"
      ],
      "metadata": {
        "execution": {
          "iopub.status.busy": "2024-07-28T09:29:22.369756Z",
          "iopub.execute_input": "2024-07-28T09:29:22.370044Z",
          "iopub.status.idle": "2024-07-28T09:29:58.883736Z",
          "shell.execute_reply.started": "2024-07-28T09:29:22.370019Z",
          "shell.execute_reply": "2024-07-28T09:29:58.88093Z"
        },
        "trusted": true,
        "colab": {
          "base_uri": "https://localhost:8080/",
          "height": 415
        },
        "id": "nidbJyPicLXE",
        "outputId": "1945b67e-d1e6-4197-c3df-c32532ce337b"
      },
      "execution_count": null,
      "outputs": [
        {
          "output_type": "display_data",
          "data": {
            "text/plain": [
              "<IPython.core.display.HTML object>"
            ],
            "text/html": [
              "Tracking run with wandb version 0.18.2"
            ]
          },
          "metadata": {}
        },
        {
          "output_type": "display_data",
          "data": {
            "text/plain": [
              "<IPython.core.display.HTML object>"
            ],
            "text/html": [
              "Run data is saved locally in <code>/content/wandb/run-20240929_131201-nhyr1tqz</code>"
            ]
          },
          "metadata": {}
        },
        {
          "output_type": "display_data",
          "data": {
            "text/plain": [
              "<IPython.core.display.HTML object>"
            ],
            "text/html": [
              "Syncing run <strong><a href='https://wandb.ai/crime/huggingface/runs/nhyr1tqz' target=\"_blank\">llama-3.2-instruct-fine-tuned-model</a></strong> to <a href='https://wandb.ai/crime/huggingface' target=\"_blank\">Weights & Biases</a> (<a href='https://wandb.me/run' target=\"_blank\">docs</a>)<br/>"
            ]
          },
          "metadata": {}
        },
        {
          "output_type": "display_data",
          "data": {
            "text/plain": [
              "<IPython.core.display.HTML object>"
            ],
            "text/html": [
              " View project at <a href='https://wandb.ai/crime/huggingface' target=\"_blank\">https://wandb.ai/crime/huggingface</a>"
            ]
          },
          "metadata": {}
        },
        {
          "output_type": "display_data",
          "data": {
            "text/plain": [
              "<IPython.core.display.HTML object>"
            ],
            "text/html": [
              " View run at <a href='https://wandb.ai/crime/huggingface/runs/nhyr1tqz' target=\"_blank\">https://wandb.ai/crime/huggingface/runs/nhyr1tqz</a>"
            ]
          },
          "metadata": {}
        },
        {
          "output_type": "stream",
          "name": "stderr",
          "text": [
            "/usr/local/lib/python3.10/dist-packages/torch/_dynamo/eval_frame.py:600: UserWarning: torch.utils.checkpoint: the use_reentrant parameter should be passed explicitly. In version 2.4 we will raise an exception if use_reentrant is not passed. use_reentrant=False is recommended, but if you need to preserve the current default behavior, you can pass use_reentrant=True. Refer to docs for more details on the differences between the two variants.\n",
            "  return fn(*args, **kwargs)\n",
            "/usr/local/lib/python3.10/dist-packages/torch/utils/checkpoint.py:295: FutureWarning: `torch.cpu.amp.autocast(args...)` is deprecated. Please use `torch.amp.autocast('cpu', args...)` instead.\n",
            "  with torch.enable_grad(), device_autocast_ctx, torch.cpu.amp.autocast(**ctx.cpu_autocast_kwargs):  # type: ignore[attr-defined]\n"
          ]
        },
        {
          "output_type": "display_data",
          "data": {
            "text/plain": [
              "<IPython.core.display.HTML object>"
            ],
            "text/html": [
              "\n",
              "    <div>\n",
              "      \n",
              "      <progress value='134' max='134' style='width:300px; height:20px; vertical-align: middle;'></progress>\n",
              "      [134/134 11:04, Epoch 1/1]\n",
              "    </div>\n",
              "    <table border=\"1\" class=\"dataframe\">\n",
              "  <thead>\n",
              " <tr style=\"text-align: left;\">\n",
              "      <th>Step</th>\n",
              "      <th>Training Loss</th>\n",
              "      <th>Validation Loss</th>\n",
              "    </tr>\n",
              "  </thead>\n",
              "  <tbody>\n",
              "    <tr>\n",
              "      <td>27</td>\n",
              "      <td>3.743100</td>\n",
              "      <td>3.654872</td>\n",
              "    </tr>\n",
              "    <tr>\n",
              "      <td>54</td>\n",
              "      <td>2.465300</td>\n",
              "      <td>2.449952</td>\n",
              "    </tr>\n",
              "    <tr>\n",
              "      <td>81</td>\n",
              "      <td>1.935300</td>\n",
              "      <td>1.980870</td>\n",
              "    </tr>\n",
              "    <tr>\n",
              "      <td>108</td>\n",
              "      <td>1.776200</td>\n",
              "      <td>1.833629</td>\n",
              "    </tr>\n",
              "  </tbody>\n",
              "</table><p>"
            ]
          },
          "metadata": {}
        },
        {
          "output_type": "execute_result",
          "data": {
            "text/plain": [
              "TrainOutput(global_step=134, training_loss=2.609753494832053, metrics={'train_runtime': 677.3124, 'train_samples_per_second': 3.165, 'train_steps_per_second': 0.198, 'total_flos': 1676299718246400.0, 'train_loss': 2.609753494832053, 'epoch': 1.0})"
            ]
          },
          "metadata": {},
          "execution_count": 35
        }
      ]
    },
    {
      "cell_type": "code",
      "source": [
        "wandb.finish()\n",
        "model.config.use_cache = True"
      ],
      "metadata": {
        "execution": {
          "iopub.status.busy": "2024-07-28T09:29:58.885093Z",
          "iopub.status.idle": "2024-07-28T09:29:58.885585Z",
          "shell.execute_reply.started": "2024-07-28T09:29:58.885335Z",
          "shell.execute_reply": "2024-07-28T09:29:58.885356Z"
        },
        "trusted": true,
        "colab": {
          "base_uri": "https://localhost:8080/",
          "height": 483,
          "referenced_widgets": [
            "aef47ea20339404cb252cdb0c5595562",
            "0fe9280479d44270a9be9c10ad4e8a78",
            "80f45f67339c460da161a030f03f1cd0",
            "7e5f7e0624194bcf89605dda3c8075eb",
            "7f92545d507843c7ab2e97c9291d3538",
            "ce874dc8a2974f94bb4f3965ee9624e5",
            "de28c4d2c7874cb187326ea0eea952f4",
            "93dae1b03d7c4a53b0a773b7914b0eca"
          ]
        },
        "id": "0BmU8KmpcLXE",
        "outputId": "78bb1d64-afe2-4a72-9baf-dfa05b33682b"
      },
      "execution_count": null,
      "outputs": [
        {
          "output_type": "display_data",
          "data": {
            "text/plain": [
              "VBox(children=(Label(value='0.024 MB of 0.024 MB uploaded\\r'), FloatProgress(value=1.0, max=1.0)))"
            ],
            "application/vnd.jupyter.widget-view+json": {
              "version_major": 2,
              "version_minor": 0,
              "model_id": "aef47ea20339404cb252cdb0c5595562"
            }
          },
          "metadata": {}
        },
        {
          "output_type": "display_data",
          "data": {
            "text/plain": [
              "<IPython.core.display.HTML object>"
            ],
            "text/html": [
              "<style>\n",
              "    table.wandb td:nth-child(1) { padding: 0 10px; text-align: left ; width: auto;} td:nth-child(2) {text-align: left ; width: 100%}\n",
              "    .wandb-row { display: flex; flex-direction: row; flex-wrap: wrap; justify-content: flex-start; width: 100% }\n",
              "    .wandb-col { display: flex; flex-direction: column; flex-basis: 100%; flex: 1; padding: 10px; }\n",
              "    </style>\n",
              "<div class=\"wandb-row\"><div class=\"wandb-col\"><h3>Run history:</h3><br/><table class=\"wandb\"><tr><td>eval/loss</td><td>█▃▂▁</td></tr><tr><td>eval/runtime</td><td>█▂▁▂</td></tr><tr><td>eval/samples_per_second</td><td>▁▇█▇</td></tr><tr><td>eval/steps_per_second</td><td>▁▇█▇</td></tr><tr><td>train/epoch</td><td>▁▁▁▂▂▂▂▂▂▃▃▃▃▃▄▄▄▄▄▄▅▅▅▅▅▅▆▆▆▆▆▇▇▇▇▇▇███</td></tr><tr><td>train/global_step</td><td>▁▁▁▁▂▂▂▂▂▂▃▃▃▃▃▄▄▄▄▄▅▅▅▅▅▅▅▆▆▆▆▇▇▇▇▇▇███</td></tr><tr><td>train/grad_norm</td><td>▄▃▄▄▄▄▅▅▅▅▅▅▆▇▇█▆▅▄▄▃▂▃▂▂▂▁▁▁▂▂▁▂▁▂▁▁▁▂▂</td></tr><tr><td>train/learning_rate</td><td>▅████████▇▇▇▇▆▆▆▆▆▅▅▅▄▄▄▄▃▃▃▃▂▂▂▂▂▁▁▁▁▁▁</td></tr><tr><td>train/loss</td><td>████▇▇▇▆▆▆▅▅▅▄▄▃▃▃▃▂▂▂▂▂▂▂▂▂▂▂▂▂▁▂▁▂▁▁▁▁</td></tr></table><br/></div><div class=\"wandb-col\"><h3>Run summary:</h3><br/><table class=\"wandb\"><tr><td>eval/loss</td><td>1.83363</td></tr><tr><td>eval/runtime</td><td>8.3773</td></tr><tr><td>eval/samples_per_second</td><td>31.991</td></tr><tr><td>eval/steps_per_second</td><td>4.059</td></tr><tr><td>total_flos</td><td>1676299718246400.0</td></tr><tr><td>train/epoch</td><td>1</td></tr><tr><td>train/global_step</td><td>134</td></tr><tr><td>train/grad_norm</td><td>0.63046</td></tr><tr><td>train/learning_rate</td><td>0.0</td></tr><tr><td>train/loss</td><td>1.7066</td></tr><tr><td>train_loss</td><td>2.60975</td></tr><tr><td>train_runtime</td><td>677.3124</td></tr><tr><td>train_samples_per_second</td><td>3.165</td></tr><tr><td>train_steps_per_second</td><td>0.198</td></tr></table><br/></div></div>"
            ]
          },
          "metadata": {}
        },
        {
          "output_type": "display_data",
          "data": {
            "text/plain": [
              "<IPython.core.display.HTML object>"
            ],
            "text/html": [
              " View run <strong style=\"color:#cdcd00\">llama-3.2-instruct-fine-tuned-model</strong> at: <a href='https://wandb.ai/crime/huggingface/runs/nhyr1tqz' target=\"_blank\">https://wandb.ai/crime/huggingface/runs/nhyr1tqz</a><br/> View project at: <a href='https://wandb.ai/crime/huggingface' target=\"_blank\">https://wandb.ai/crime/huggingface</a><br/>Synced 5 W&B file(s), 0 media file(s), 0 artifact file(s) and 0 other file(s)"
            ]
          },
          "metadata": {}
        },
        {
          "output_type": "display_data",
          "data": {
            "text/plain": [
              "<IPython.core.display.HTML object>"
            ],
            "text/html": [
              "Find logs at: <code>./wandb/run-20240929_131201-nhyr1tqz/logs</code>"
            ]
          },
          "metadata": {}
        }
      ]
    },
    {
      "cell_type": "markdown",
      "source": [
        "## Saving the model and tokenizer"
      ],
      "metadata": {
        "id": "P1gidtOScLXE"
      }
    },
    {
      "cell_type": "code",
      "source": [
        "# Save trained model and tokenizer\n",
        "trainer.save_model(output_dir)\n",
        "tokenizer.save_pretrained(output_dir)"
      ],
      "metadata": {
        "execution": {
          "iopub.status.busy": "2024-07-28T09:29:58.887205Z",
          "iopub.status.idle": "2024-07-28T09:29:58.887709Z",
          "shell.execute_reply.started": "2024-07-28T09:29:58.887445Z",
          "shell.execute_reply": "2024-07-28T09:29:58.887467Z"
        },
        "trusted": true,
        "colab": {
          "base_uri": "https://localhost:8080/"
        },
        "id": "Ahzq3m8mcLXF",
        "outputId": "717a7202-35bd-4d13-ce7f-ece2732a6524"
      },
      "execution_count": null,
      "outputs": [
        {
          "output_type": "execute_result",
          "data": {
            "text/plain": [
              "('llama-3.2-instruct-fine-tuned-model/tokenizer_config.json',\n",
              " 'llama-3.2-instruct-fine-tuned-model/special_tokens_map.json',\n",
              " 'llama-3.2-instruct-fine-tuned-model/tokenizer.json')"
            ]
          },
          "metadata": {},
          "execution_count": 30
        }
      ]
    },
    {
      "cell_type": "markdown",
      "source": [
        "## Testing model after fine-tuning"
      ],
      "metadata": {
        "id": "Ji0I-EGtcLXF"
      }
    },
    {
      "cell_type": "code",
      "source": [
        "y_pred = predict(X_test, model, tokenizer)\n",
        "evaluate(y_true, y_pred)"
      ],
      "metadata": {
        "execution": {
          "iopub.status.busy": "2024-07-28T09:29:58.88899Z",
          "iopub.status.idle": "2024-07-28T09:29:58.889442Z",
          "shell.execute_reply.started": "2024-07-28T09:29:58.889199Z",
          "shell.execute_reply": "2024-07-28T09:29:58.889217Z"
        },
        "trusted": true,
        "colab": {
          "base_uri": "https://localhost:8080/"
        },
        "id": "a2o7PyAtcLXF",
        "outputId": "9528f550-f213-4ecc-a5fc-f409a05c81d4"
      },
      "execution_count": null,
      "outputs": [
        {
          "output_type": "stream",
          "name": "stderr",
          "text": [
            "\r  0%|          | 0/268 [00:00<?, ?it/s]/usr/local/lib/python3.10/dist-packages/torch/_dynamo/eval_frame.py:600: UserWarning: torch.utils.checkpoint: the use_reentrant parameter should be passed explicitly. In version 2.4 we will raise an exception if use_reentrant is not passed. use_reentrant=False is recommended, but if you need to preserve the current default behavior, you can pass use_reentrant=True. Refer to docs for more details on the differences between the two variants.\n",
            "  return fn(*args, **kwargs)\n",
            "/usr/local/lib/python3.10/dist-packages/torch/utils/checkpoint.py:92: UserWarning: None of the inputs have requires_grad=True. Gradients will be None\n",
            "  warnings.warn(\n",
            "100%|██████████| 268/268 [01:19<00:00,  3.35it/s]"
          ]
        },
        {
          "output_type": "stream",
          "name": "stdout",
          "text": [
            "Accuracy: 0.168\n",
            "Accuracy for label Computer Issues: 0.000\n",
            "Accuracy for label Peripheral Device Issues: 0.000\n",
            "Accuracy for label Security Alerts: 0.000\n",
            "Accuracy for label Uncategorized: 0.848\n",
            "Accuracy for label Printer Issues: 0.000\n",
            "Accuracy for label Job Orders: 0.000\n",
            "Accuracy for label Network Issues: 0.000\n",
            "Accuracy for label Miscellaneous: 0.515\n",
            "Accuracy for label Maintenance Requests: 0.000\n",
            "Accuracy for label General Hardware Issues: 0.000\n",
            "\n",
            "Classification Report:\n",
            "                          precision    recall  f1-score   support\n",
            "\n",
            "         Computer Issues       0.00      0.00      0.00        26\n",
            "Peripheral Device Issues       0.00      0.00      0.00        26\n",
            "         Security Alerts       0.00      0.00      0.00        24\n",
            "           Uncategorized       0.16      0.85      0.27        33\n",
            "          Printer Issues       0.00      0.00      0.00        20\n",
            "              Job Orders       0.00      0.00      0.00        21\n",
            "          Network Issues       0.00      0.00      0.00        31\n",
            "           Miscellaneous       0.19      0.52      0.28        33\n",
            "    Maintenance Requests       0.00      0.00      0.00        26\n",
            " General Hardware Issues       0.00      0.00      0.00        28\n",
            "\n",
            "               micro avg       0.17      0.17      0.17       268\n",
            "               macro avg       0.04      0.14      0.05       268\n",
            "            weighted avg       0.04      0.17      0.07       268\n",
            "\n",
            "\n",
            "Confusion Matrix:\n",
            "[[ 0  0  0 15  0  0  0 11  0  0]\n",
            " [ 0  0  0 17  0  0  0  8  0  0]\n",
            " [ 0  0  0 15  0  0  0  9  0  0]\n",
            " [ 0  0  0 28  0  0  0  5  0  0]\n",
            " [ 0  0  0 13  0  0  0  6  0  0]\n",
            " [ 0  0  0 13  0  0  0  5  0  0]\n",
            " [ 0  0  0 23  0  0  0  7  0  0]\n",
            " [ 0  0  0 16  0  0  0 17  0  0]\n",
            " [ 0  0  0 11  0  0  0 15  0  0]\n",
            " [ 0  0  0 21  0  0  0  7  0  0]]\n"
          ]
        },
        {
          "output_type": "stream",
          "name": "stderr",
          "text": [
            "\n",
            "/usr/local/lib/python3.10/dist-packages/sklearn/metrics/_classification.py:1531: UndefinedMetricWarning: Precision is ill-defined and being set to 0.0 in labels with no predicted samples. Use `zero_division` parameter to control this behavior.\n",
            "  _warn_prf(average, modifier, f\"{metric.capitalize()} is\", len(result))\n",
            "/usr/local/lib/python3.10/dist-packages/sklearn/metrics/_classification.py:1531: UndefinedMetricWarning: Precision is ill-defined and being set to 0.0 in labels with no predicted samples. Use `zero_division` parameter to control this behavior.\n",
            "  _warn_prf(average, modifier, f\"{metric.capitalize()} is\", len(result))\n",
            "/usr/local/lib/python3.10/dist-packages/sklearn/metrics/_classification.py:1531: UndefinedMetricWarning: Precision is ill-defined and being set to 0.0 in labels with no predicted samples. Use `zero_division` parameter to control this behavior.\n",
            "  _warn_prf(average, modifier, f\"{metric.capitalize()} is\", len(result))\n"
          ]
        }
      ]
    },
    {
      "cell_type": "code",
      "source": [],
      "metadata": {
        "id": "qevVAnik5vR6"
      },
      "execution_count": null,
      "outputs": []
    },
    {
      "cell_type": "code",
      "source": [
        "# Save trained model and tokenizer\n",
        "# !pip install -q -U rouge_score\n",
        "from nltk.translate.bleu_score import sentence_bleu\n",
        "from rouge_score import rouge_scorer\n",
        "\n",
        "# Assuming 'preds' and 'real_values' are your model's predictions and true labels\n",
        "# Convert predictions and true labels to lists of strings if they are not already\n",
        "predicted_labels = [str(p) for p in y_pred] # removed .item() method as it's not needed for strings\n",
        "true_labels = [str(r) for r in y_true] # removed .item() method as it's not needed for elements in a series\n",
        "\n",
        "\n",
        "# Calculate ROUGE scores\n",
        "scorer = rouge_scorer.RougeScorer(['rouge1', 'rouge2', 'rougeL'], use_stemmer=True)\n",
        "rouge_scores = []\n",
        "for pred_label, true_label in zip(predicted_labels, true_labels):\n",
        "  scores = scorer.score(true_label, pred_label)\n",
        "  rouge_scores.append(scores)\n",
        "\n",
        "# Calculate average ROUGE scores\n",
        "avg_rouge1 = sum([s['rouge1'].fmeasure for s in rouge_scores]) / len(rouge_scores)\n",
        "avg_rouge2 = sum([s['rouge2'].fmeasure for s in rouge_scores]) / len(rouge_scores)\n",
        "avg_rougeL = sum([s['rougeL'].fmeasure for s in rouge_scores]) / len(rouge_scores)\n",
        "\n",
        "\n",
        "# Calculate BLEU scores\n",
        "bleu_scores = []\n",
        "for pred_label, true_label in zip(predicted_labels, true_labels):\n",
        "    reference = [true_label.split()]\n",
        "    candidate = pred_label.split()\n",
        "    bleu_scores.append(sentence_bleu(reference, candidate))\n",
        "\n",
        "# Calculate average BLEU scores\n",
        "avg_bleu_score = sum(bleu_scores) / len(bleu_scores)\n",
        "\n",
        "print(f\"Average ROUGE-1: {avg_rouge1}\")\n",
        "print(f\"Average ROUGE-2: {avg_rouge2}\")\n",
        "print(f\"Average ROUGE-L: {avg_rougeL}\")\n",
        "print(f\"Average BLEU Score: {avg_bleu_score}\")"
      ],
      "metadata": {
        "colab": {
          "base_uri": "https://localhost:8080/"
        },
        "id": "yhhxl1CmuhJN",
        "outputId": "4ee34f7f-ed8a-4546-c9fc-0534802e3d81"
      },
      "execution_count": null,
      "outputs": [
        {
          "output_type": "stream",
          "name": "stdout",
          "text": [
            "Average ROUGE-1: 0.16417910447761194\n",
            "Average ROUGE-2: 0.0\n",
            "Average ROUGE-L: 0.16417910447761194\n",
            "Average BLEU Score: 2.9910674453580224e-232\n"
          ]
        },
        {
          "output_type": "stream",
          "name": "stderr",
          "text": [
            "/usr/local/lib/python3.10/dist-packages/nltk/translate/bleu_score.py:552: UserWarning: \n",
            "The hypothesis contains 0 counts of 2-gram overlaps.\n",
            "Therefore the BLEU score evaluates to 0, independently of\n",
            "how many N-gram overlaps of lower order it contains.\n",
            "Consider using lower n-gram order or use SmoothingFunction()\n",
            "  warnings.warn(_msg)\n",
            "/usr/local/lib/python3.10/dist-packages/nltk/translate/bleu_score.py:552: UserWarning: \n",
            "The hypothesis contains 0 counts of 3-gram overlaps.\n",
            "Therefore the BLEU score evaluates to 0, independently of\n",
            "how many N-gram overlaps of lower order it contains.\n",
            "Consider using lower n-gram order or use SmoothingFunction()\n",
            "  warnings.warn(_msg)\n",
            "/usr/local/lib/python3.10/dist-packages/nltk/translate/bleu_score.py:552: UserWarning: \n",
            "The hypothesis contains 0 counts of 4-gram overlaps.\n",
            "Therefore the BLEU score evaluates to 0, independently of\n",
            "how many N-gram overlaps of lower order it contains.\n",
            "Consider using lower n-gram order or use SmoothingFunction()\n",
            "  warnings.warn(_msg)\n"
          ]
        }
      ]
    },
    {
      "cell_type": "code",
      "source": [],
      "metadata": {
        "id": "D66187zC56C8"
      },
      "execution_count": null,
      "outputs": []
    }
  ]
}
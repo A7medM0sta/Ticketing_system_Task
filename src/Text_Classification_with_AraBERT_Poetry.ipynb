{
  "nbformat": 4,
  "nbformat_minor": 0,
  "metadata": {
    "accelerator": "GPU",
    "colab": {
      "provenance": [],
      "collapsed_sections": [
        "TVay9KamnC3I",
        "joWPYWGMqLau",
        "sycNXzvgr7BZ",
        "bgmdEZhgssMM",
        "5EZF6bJbtq5X",
        "MA5607R9jU3a",
        "AANFYzSruvH9",
        "blL_Z_oQ2gY9",
        "Bcwdslw7v0Q8"
      ],
      "machine_shape": "hm"
    },
    "kernelspec": {
      "display_name": "Python 3",
      "name": "python3"
    },
    "widgets": {
      "application/vnd.jupyter.widget-state+json": {
        "6715fc436829473297bd428034fc7d54": {
          "model_module": "@jupyter-widgets/controls",
          "model_name": "HBoxModel",
          "model_module_version": "1.5.0",
          "state": {
            "_dom_classes": [],
            "_model_module": "@jupyter-widgets/controls",
            "_model_module_version": "1.5.0",
            "_model_name": "HBoxModel",
            "_view_count": null,
            "_view_module": "@jupyter-widgets/controls",
            "_view_module_version": "1.5.0",
            "_view_name": "HBoxView",
            "box_style": "",
            "children": [
              "IPY_MODEL_90523c9a0679461dbb3057b22e5f517e",
              "IPY_MODEL_1cedcfb8ed88447baac39cff80a334d0",
              "IPY_MODEL_f62847b693ec4e9e8c942854ddf74112"
            ],
            "layout": "IPY_MODEL_72f11487ee0e425eaddcd485cc58f293"
          }
        },
        "90523c9a0679461dbb3057b22e5f517e": {
          "model_module": "@jupyter-widgets/controls",
          "model_name": "HTMLModel",
          "model_module_version": "1.5.0",
          "state": {
            "_dom_classes": [],
            "_model_module": "@jupyter-widgets/controls",
            "_model_module_version": "1.5.0",
            "_model_name": "HTMLModel",
            "_view_count": null,
            "_view_module": "@jupyter-widgets/controls",
            "_view_module_version": "1.5.0",
            "_view_name": "HTMLView",
            "description": "",
            "description_tooltip": null,
            "layout": "IPY_MODEL_521cbd283bfd42a0b4383bc6edaaed8f",
            "placeholder": "​",
            "style": "IPY_MODEL_6f8bc013218c4a299b73cf06ddcc2f44",
            "value": "tokenizer_config.json: 100%"
          }
        },
        "1cedcfb8ed88447baac39cff80a334d0": {
          "model_module": "@jupyter-widgets/controls",
          "model_name": "FloatProgressModel",
          "model_module_version": "1.5.0",
          "state": {
            "_dom_classes": [],
            "_model_module": "@jupyter-widgets/controls",
            "_model_module_version": "1.5.0",
            "_model_name": "FloatProgressModel",
            "_view_count": null,
            "_view_module": "@jupyter-widgets/controls",
            "_view_module_version": "1.5.0",
            "_view_name": "ProgressView",
            "bar_style": "success",
            "description": "",
            "description_tooltip": null,
            "layout": "IPY_MODEL_61aed38ec131490794d021f22c73e0fc",
            "max": 86,
            "min": 0,
            "orientation": "horizontal",
            "style": "IPY_MODEL_55d01e144f6448c6aeb19d0cb51b09cc",
            "value": 86
          }
        },
        "f62847b693ec4e9e8c942854ddf74112": {
          "model_module": "@jupyter-widgets/controls",
          "model_name": "HTMLModel",
          "model_module_version": "1.5.0",
          "state": {
            "_dom_classes": [],
            "_model_module": "@jupyter-widgets/controls",
            "_model_module_version": "1.5.0",
            "_model_name": "HTMLModel",
            "_view_count": null,
            "_view_module": "@jupyter-widgets/controls",
            "_view_module_version": "1.5.0",
            "_view_name": "HTMLView",
            "description": "",
            "description_tooltip": null,
            "layout": "IPY_MODEL_1895853a10204055a8730831adbb8c0b",
            "placeholder": "​",
            "style": "IPY_MODEL_7a5b7b44f7f042e7b375c5cd4f38e1db",
            "value": " 86.0/86.0 [00:00&lt;00:00, 3.61kB/s]"
          }
        },
        "72f11487ee0e425eaddcd485cc58f293": {
          "model_module": "@jupyter-widgets/base",
          "model_name": "LayoutModel",
          "model_module_version": "1.2.0",
          "state": {
            "_model_module": "@jupyter-widgets/base",
            "_model_module_version": "1.2.0",
            "_model_name": "LayoutModel",
            "_view_count": null,
            "_view_module": "@jupyter-widgets/base",
            "_view_module_version": "1.2.0",
            "_view_name": "LayoutView",
            "align_content": null,
            "align_items": null,
            "align_self": null,
            "border": null,
            "bottom": null,
            "display": null,
            "flex": null,
            "flex_flow": null,
            "grid_area": null,
            "grid_auto_columns": null,
            "grid_auto_flow": null,
            "grid_auto_rows": null,
            "grid_column": null,
            "grid_gap": null,
            "grid_row": null,
            "grid_template_areas": null,
            "grid_template_columns": null,
            "grid_template_rows": null,
            "height": null,
            "justify_content": null,
            "justify_items": null,
            "left": null,
            "margin": null,
            "max_height": null,
            "max_width": null,
            "min_height": null,
            "min_width": null,
            "object_fit": null,
            "object_position": null,
            "order": null,
            "overflow": null,
            "overflow_x": null,
            "overflow_y": null,
            "padding": null,
            "right": null,
            "top": null,
            "visibility": null,
            "width": null
          }
        },
        "521cbd283bfd42a0b4383bc6edaaed8f": {
          "model_module": "@jupyter-widgets/base",
          "model_name": "LayoutModel",
          "model_module_version": "1.2.0",
          "state": {
            "_model_module": "@jupyter-widgets/base",
            "_model_module_version": "1.2.0",
            "_model_name": "LayoutModel",
            "_view_count": null,
            "_view_module": "@jupyter-widgets/base",
            "_view_module_version": "1.2.0",
            "_view_name": "LayoutView",
            "align_content": null,
            "align_items": null,
            "align_self": null,
            "border": null,
            "bottom": null,
            "display": null,
            "flex": null,
            "flex_flow": null,
            "grid_area": null,
            "grid_auto_columns": null,
            "grid_auto_flow": null,
            "grid_auto_rows": null,
            "grid_column": null,
            "grid_gap": null,
            "grid_row": null,
            "grid_template_areas": null,
            "grid_template_columns": null,
            "grid_template_rows": null,
            "height": null,
            "justify_content": null,
            "justify_items": null,
            "left": null,
            "margin": null,
            "max_height": null,
            "max_width": null,
            "min_height": null,
            "min_width": null,
            "object_fit": null,
            "object_position": null,
            "order": null,
            "overflow": null,
            "overflow_x": null,
            "overflow_y": null,
            "padding": null,
            "right": null,
            "top": null,
            "visibility": null,
            "width": null
          }
        },
        "6f8bc013218c4a299b73cf06ddcc2f44": {
          "model_module": "@jupyter-widgets/controls",
          "model_name": "DescriptionStyleModel",
          "model_module_version": "1.5.0",
          "state": {
            "_model_module": "@jupyter-widgets/controls",
            "_model_module_version": "1.5.0",
            "_model_name": "DescriptionStyleModel",
            "_view_count": null,
            "_view_module": "@jupyter-widgets/base",
            "_view_module_version": "1.2.0",
            "_view_name": "StyleView",
            "description_width": ""
          }
        },
        "61aed38ec131490794d021f22c73e0fc": {
          "model_module": "@jupyter-widgets/base",
          "model_name": "LayoutModel",
          "model_module_version": "1.2.0",
          "state": {
            "_model_module": "@jupyter-widgets/base",
            "_model_module_version": "1.2.0",
            "_model_name": "LayoutModel",
            "_view_count": null,
            "_view_module": "@jupyter-widgets/base",
            "_view_module_version": "1.2.0",
            "_view_name": "LayoutView",
            "align_content": null,
            "align_items": null,
            "align_self": null,
            "border": null,
            "bottom": null,
            "display": null,
            "flex": null,
            "flex_flow": null,
            "grid_area": null,
            "grid_auto_columns": null,
            "grid_auto_flow": null,
            "grid_auto_rows": null,
            "grid_column": null,
            "grid_gap": null,
            "grid_row": null,
            "grid_template_areas": null,
            "grid_template_columns": null,
            "grid_template_rows": null,
            "height": null,
            "justify_content": null,
            "justify_items": null,
            "left": null,
            "margin": null,
            "max_height": null,
            "max_width": null,
            "min_height": null,
            "min_width": null,
            "object_fit": null,
            "object_position": null,
            "order": null,
            "overflow": null,
            "overflow_x": null,
            "overflow_y": null,
            "padding": null,
            "right": null,
            "top": null,
            "visibility": null,
            "width": null
          }
        },
        "55d01e144f6448c6aeb19d0cb51b09cc": {
          "model_module": "@jupyter-widgets/controls",
          "model_name": "ProgressStyleModel",
          "model_module_version": "1.5.0",
          "state": {
            "_model_module": "@jupyter-widgets/controls",
            "_model_module_version": "1.5.0",
            "_model_name": "ProgressStyleModel",
            "_view_count": null,
            "_view_module": "@jupyter-widgets/base",
            "_view_module_version": "1.2.0",
            "_view_name": "StyleView",
            "bar_color": null,
            "description_width": ""
          }
        },
        "1895853a10204055a8730831adbb8c0b": {
          "model_module": "@jupyter-widgets/base",
          "model_name": "LayoutModel",
          "model_module_version": "1.2.0",
          "state": {
            "_model_module": "@jupyter-widgets/base",
            "_model_module_version": "1.2.0",
            "_model_name": "LayoutModel",
            "_view_count": null,
            "_view_module": "@jupyter-widgets/base",
            "_view_module_version": "1.2.0",
            "_view_name": "LayoutView",
            "align_content": null,
            "align_items": null,
            "align_self": null,
            "border": null,
            "bottom": null,
            "display": null,
            "flex": null,
            "flex_flow": null,
            "grid_area": null,
            "grid_auto_columns": null,
            "grid_auto_flow": null,
            "grid_auto_rows": null,
            "grid_column": null,
            "grid_gap": null,
            "grid_row": null,
            "grid_template_areas": null,
            "grid_template_columns": null,
            "grid_template_rows": null,
            "height": null,
            "justify_content": null,
            "justify_items": null,
            "left": null,
            "margin": null,
            "max_height": null,
            "max_width": null,
            "min_height": null,
            "min_width": null,
            "object_fit": null,
            "object_position": null,
            "order": null,
            "overflow": null,
            "overflow_x": null,
            "overflow_y": null,
            "padding": null,
            "right": null,
            "top": null,
            "visibility": null,
            "width": null
          }
        },
        "7a5b7b44f7f042e7b375c5cd4f38e1db": {
          "model_module": "@jupyter-widgets/controls",
          "model_name": "DescriptionStyleModel",
          "model_module_version": "1.5.0",
          "state": {
            "_model_module": "@jupyter-widgets/controls",
            "_model_module_version": "1.5.0",
            "_model_name": "DescriptionStyleModel",
            "_view_count": null,
            "_view_module": "@jupyter-widgets/base",
            "_view_module_version": "1.2.0",
            "_view_name": "StyleView",
            "description_width": ""
          }
        },
        "c0a632ead6644974b92052555f669006": {
          "model_module": "@jupyter-widgets/controls",
          "model_name": "HBoxModel",
          "model_module_version": "1.5.0",
          "state": {
            "_dom_classes": [],
            "_model_module": "@jupyter-widgets/controls",
            "_model_module_version": "1.5.0",
            "_model_name": "HBoxModel",
            "_view_count": null,
            "_view_module": "@jupyter-widgets/controls",
            "_view_module_version": "1.5.0",
            "_view_name": "HBoxView",
            "box_style": "",
            "children": [
              "IPY_MODEL_e602f7fe400c42c8bba8bef5991ab6ea",
              "IPY_MODEL_8bebcc0d1f664149a4c1a6ceac1441e0",
              "IPY_MODEL_2c63afb45e43421a98350d042d06e4d4"
            ],
            "layout": "IPY_MODEL_4a84e1004caa4a74a67b2815690a0b77"
          }
        },
        "e602f7fe400c42c8bba8bef5991ab6ea": {
          "model_module": "@jupyter-widgets/controls",
          "model_name": "HTMLModel",
          "model_module_version": "1.5.0",
          "state": {
            "_dom_classes": [],
            "_model_module": "@jupyter-widgets/controls",
            "_model_module_version": "1.5.0",
            "_model_name": "HTMLModel",
            "_view_count": null,
            "_view_module": "@jupyter-widgets/controls",
            "_view_module_version": "1.5.0",
            "_view_name": "HTMLView",
            "description": "",
            "description_tooltip": null,
            "layout": "IPY_MODEL_ed9fdb0701934e53b79e485b3c63e899",
            "placeholder": "​",
            "style": "IPY_MODEL_1b8d2d55c6314278a5633d9661673d5e",
            "value": "config.json: 100%"
          }
        },
        "8bebcc0d1f664149a4c1a6ceac1441e0": {
          "model_module": "@jupyter-widgets/controls",
          "model_name": "FloatProgressModel",
          "model_module_version": "1.5.0",
          "state": {
            "_dom_classes": [],
            "_model_module": "@jupyter-widgets/controls",
            "_model_module_version": "1.5.0",
            "_model_name": "FloatProgressModel",
            "_view_count": null,
            "_view_module": "@jupyter-widgets/controls",
            "_view_module_version": "1.5.0",
            "_view_name": "ProgressView",
            "bar_style": "success",
            "description": "",
            "description_tooltip": null,
            "layout": "IPY_MODEL_d902323432df42d3abda5bed96187f08",
            "max": 3051,
            "min": 0,
            "orientation": "horizontal",
            "style": "IPY_MODEL_c30593e590334e70a86f2aa9afb7cdce",
            "value": 3051
          }
        },
        "2c63afb45e43421a98350d042d06e4d4": {
          "model_module": "@jupyter-widgets/controls",
          "model_name": "HTMLModel",
          "model_module_version": "1.5.0",
          "state": {
            "_dom_classes": [],
            "_model_module": "@jupyter-widgets/controls",
            "_model_module_version": "1.5.0",
            "_model_name": "HTMLModel",
            "_view_count": null,
            "_view_module": "@jupyter-widgets/controls",
            "_view_module_version": "1.5.0",
            "_view_name": "HTMLView",
            "description": "",
            "description_tooltip": null,
            "layout": "IPY_MODEL_72848fbf22414978a2e6337187b52808",
            "placeholder": "​",
            "style": "IPY_MODEL_77555dbdfcdb47b4b3cd42eee638f502",
            "value": " 3.05k/3.05k [00:00&lt;00:00, 57.9kB/s]"
          }
        },
        "4a84e1004caa4a74a67b2815690a0b77": {
          "model_module": "@jupyter-widgets/base",
          "model_name": "LayoutModel",
          "model_module_version": "1.2.0",
          "state": {
            "_model_module": "@jupyter-widgets/base",
            "_model_module_version": "1.2.0",
            "_model_name": "LayoutModel",
            "_view_count": null,
            "_view_module": "@jupyter-widgets/base",
            "_view_module_version": "1.2.0",
            "_view_name": "LayoutView",
            "align_content": null,
            "align_items": null,
            "align_self": null,
            "border": null,
            "bottom": null,
            "display": null,
            "flex": null,
            "flex_flow": null,
            "grid_area": null,
            "grid_auto_columns": null,
            "grid_auto_flow": null,
            "grid_auto_rows": null,
            "grid_column": null,
            "grid_gap": null,
            "grid_row": null,
            "grid_template_areas": null,
            "grid_template_columns": null,
            "grid_template_rows": null,
            "height": null,
            "justify_content": null,
            "justify_items": null,
            "left": null,
            "margin": null,
            "max_height": null,
            "max_width": null,
            "min_height": null,
            "min_width": null,
            "object_fit": null,
            "object_position": null,
            "order": null,
            "overflow": null,
            "overflow_x": null,
            "overflow_y": null,
            "padding": null,
            "right": null,
            "top": null,
            "visibility": null,
            "width": null
          }
        },
        "ed9fdb0701934e53b79e485b3c63e899": {
          "model_module": "@jupyter-widgets/base",
          "model_name": "LayoutModel",
          "model_module_version": "1.2.0",
          "state": {
            "_model_module": "@jupyter-widgets/base",
            "_model_module_version": "1.2.0",
            "_model_name": "LayoutModel",
            "_view_count": null,
            "_view_module": "@jupyter-widgets/base",
            "_view_module_version": "1.2.0",
            "_view_name": "LayoutView",
            "align_content": null,
            "align_items": null,
            "align_self": null,
            "border": null,
            "bottom": null,
            "display": null,
            "flex": null,
            "flex_flow": null,
            "grid_area": null,
            "grid_auto_columns": null,
            "grid_auto_flow": null,
            "grid_auto_rows": null,
            "grid_column": null,
            "grid_gap": null,
            "grid_row": null,
            "grid_template_areas": null,
            "grid_template_columns": null,
            "grid_template_rows": null,
            "height": null,
            "justify_content": null,
            "justify_items": null,
            "left": null,
            "margin": null,
            "max_height": null,
            "max_width": null,
            "min_height": null,
            "min_width": null,
            "object_fit": null,
            "object_position": null,
            "order": null,
            "overflow": null,
            "overflow_x": null,
            "overflow_y": null,
            "padding": null,
            "right": null,
            "top": null,
            "visibility": null,
            "width": null
          }
        },
        "1b8d2d55c6314278a5633d9661673d5e": {
          "model_module": "@jupyter-widgets/controls",
          "model_name": "DescriptionStyleModel",
          "model_module_version": "1.5.0",
          "state": {
            "_model_module": "@jupyter-widgets/controls",
            "_model_module_version": "1.5.0",
            "_model_name": "DescriptionStyleModel",
            "_view_count": null,
            "_view_module": "@jupyter-widgets/base",
            "_view_module_version": "1.2.0",
            "_view_name": "StyleView",
            "description_width": ""
          }
        },
        "d902323432df42d3abda5bed96187f08": {
          "model_module": "@jupyter-widgets/base",
          "model_name": "LayoutModel",
          "model_module_version": "1.2.0",
          "state": {
            "_model_module": "@jupyter-widgets/base",
            "_model_module_version": "1.2.0",
            "_model_name": "LayoutModel",
            "_view_count": null,
            "_view_module": "@jupyter-widgets/base",
            "_view_module_version": "1.2.0",
            "_view_name": "LayoutView",
            "align_content": null,
            "align_items": null,
            "align_self": null,
            "border": null,
            "bottom": null,
            "display": null,
            "flex": null,
            "flex_flow": null,
            "grid_area": null,
            "grid_auto_columns": null,
            "grid_auto_flow": null,
            "grid_auto_rows": null,
            "grid_column": null,
            "grid_gap": null,
            "grid_row": null,
            "grid_template_areas": null,
            "grid_template_columns": null,
            "grid_template_rows": null,
            "height": null,
            "justify_content": null,
            "justify_items": null,
            "left": null,
            "margin": null,
            "max_height": null,
            "max_width": null,
            "min_height": null,
            "min_width": null,
            "object_fit": null,
            "object_position": null,
            "order": null,
            "overflow": null,
            "overflow_x": null,
            "overflow_y": null,
            "padding": null,
            "right": null,
            "top": null,
            "visibility": null,
            "width": null
          }
        },
        "c30593e590334e70a86f2aa9afb7cdce": {
          "model_module": "@jupyter-widgets/controls",
          "model_name": "ProgressStyleModel",
          "model_module_version": "1.5.0",
          "state": {
            "_model_module": "@jupyter-widgets/controls",
            "_model_module_version": "1.5.0",
            "_model_name": "ProgressStyleModel",
            "_view_count": null,
            "_view_module": "@jupyter-widgets/base",
            "_view_module_version": "1.2.0",
            "_view_name": "StyleView",
            "bar_color": null,
            "description_width": ""
          }
        },
        "72848fbf22414978a2e6337187b52808": {
          "model_module": "@jupyter-widgets/base",
          "model_name": "LayoutModel",
          "model_module_version": "1.2.0",
          "state": {
            "_model_module": "@jupyter-widgets/base",
            "_model_module_version": "1.2.0",
            "_model_name": "LayoutModel",
            "_view_count": null,
            "_view_module": "@jupyter-widgets/base",
            "_view_module_version": "1.2.0",
            "_view_name": "LayoutView",
            "align_content": null,
            "align_items": null,
            "align_self": null,
            "border": null,
            "bottom": null,
            "display": null,
            "flex": null,
            "flex_flow": null,
            "grid_area": null,
            "grid_auto_columns": null,
            "grid_auto_flow": null,
            "grid_auto_rows": null,
            "grid_column": null,
            "grid_gap": null,
            "grid_row": null,
            "grid_template_areas": null,
            "grid_template_columns": null,
            "grid_template_rows": null,
            "height": null,
            "justify_content": null,
            "justify_items": null,
            "left": null,
            "margin": null,
            "max_height": null,
            "max_width": null,
            "min_height": null,
            "min_width": null,
            "object_fit": null,
            "object_position": null,
            "order": null,
            "overflow": null,
            "overflow_x": null,
            "overflow_y": null,
            "padding": null,
            "right": null,
            "top": null,
            "visibility": null,
            "width": null
          }
        },
        "77555dbdfcdb47b4b3cd42eee638f502": {
          "model_module": "@jupyter-widgets/controls",
          "model_name": "DescriptionStyleModel",
          "model_module_version": "1.5.0",
          "state": {
            "_model_module": "@jupyter-widgets/controls",
            "_model_module_version": "1.5.0",
            "_model_name": "DescriptionStyleModel",
            "_view_count": null,
            "_view_module": "@jupyter-widgets/base",
            "_view_module_version": "1.2.0",
            "_view_name": "StyleView",
            "description_width": ""
          }
        },
        "d8ab1e16e72440f198ec066cf95c9228": {
          "model_module": "@jupyter-widgets/controls",
          "model_name": "HBoxModel",
          "model_module_version": "1.5.0",
          "state": {
            "_dom_classes": [],
            "_model_module": "@jupyter-widgets/controls",
            "_model_module_version": "1.5.0",
            "_model_name": "HBoxModel",
            "_view_count": null,
            "_view_module": "@jupyter-widgets/controls",
            "_view_module_version": "1.5.0",
            "_view_name": "HBoxView",
            "box_style": "",
            "children": [
              "IPY_MODEL_3ae4e48e1d9347d9ac5d622408144819",
              "IPY_MODEL_e277a04bac6a42ef89e3185a94591889",
              "IPY_MODEL_cedfcc1673014f0eb9e63b37e5a9ccff"
            ],
            "layout": "IPY_MODEL_66eaa6f0374f4af6b783b863c88ac20b"
          }
        },
        "3ae4e48e1d9347d9ac5d622408144819": {
          "model_module": "@jupyter-widgets/controls",
          "model_name": "HTMLModel",
          "model_module_version": "1.5.0",
          "state": {
            "_dom_classes": [],
            "_model_module": "@jupyter-widgets/controls",
            "_model_module_version": "1.5.0",
            "_model_name": "HTMLModel",
            "_view_count": null,
            "_view_module": "@jupyter-widgets/controls",
            "_view_module_version": "1.5.0",
            "_view_name": "HTMLView",
            "description": "",
            "description_tooltip": null,
            "layout": "IPY_MODEL_a1d6ef5494b547ca92d5865809274caa",
            "placeholder": "​",
            "style": "IPY_MODEL_a21c91f523b4496fb5cfee940993754b",
            "value": "vocab.txt: 100%"
          }
        },
        "e277a04bac6a42ef89e3185a94591889": {
          "model_module": "@jupyter-widgets/controls",
          "model_name": "FloatProgressModel",
          "model_module_version": "1.5.0",
          "state": {
            "_dom_classes": [],
            "_model_module": "@jupyter-widgets/controls",
            "_model_module_version": "1.5.0",
            "_model_name": "FloatProgressModel",
            "_view_count": null,
            "_view_module": "@jupyter-widgets/controls",
            "_view_module_version": "1.5.0",
            "_view_name": "ProgressView",
            "bar_style": "success",
            "description": "",
            "description_tooltip": null,
            "layout": "IPY_MODEL_94851222709a4a2ba34aa4653abd617f",
            "max": 304561,
            "min": 0,
            "orientation": "horizontal",
            "style": "IPY_MODEL_89a21a2e0d884b69a3a8526e56b071fa",
            "value": 304561
          }
        },
        "cedfcc1673014f0eb9e63b37e5a9ccff": {
          "model_module": "@jupyter-widgets/controls",
          "model_name": "HTMLModel",
          "model_module_version": "1.5.0",
          "state": {
            "_dom_classes": [],
            "_model_module": "@jupyter-widgets/controls",
            "_model_module_version": "1.5.0",
            "_model_name": "HTMLModel",
            "_view_count": null,
            "_view_module": "@jupyter-widgets/controls",
            "_view_module_version": "1.5.0",
            "_view_name": "HTMLView",
            "description": "",
            "description_tooltip": null,
            "layout": "IPY_MODEL_2f9638f3256a44858c2b9934eb798584",
            "placeholder": "​",
            "style": "IPY_MODEL_ba22395b6ea2429080e6673edc726d85",
            "value": " 305k/305k [00:00&lt;00:00, 3.72MB/s]"
          }
        },
        "66eaa6f0374f4af6b783b863c88ac20b": {
          "model_module": "@jupyter-widgets/base",
          "model_name": "LayoutModel",
          "model_module_version": "1.2.0",
          "state": {
            "_model_module": "@jupyter-widgets/base",
            "_model_module_version": "1.2.0",
            "_model_name": "LayoutModel",
            "_view_count": null,
            "_view_module": "@jupyter-widgets/base",
            "_view_module_version": "1.2.0",
            "_view_name": "LayoutView",
            "align_content": null,
            "align_items": null,
            "align_self": null,
            "border": null,
            "bottom": null,
            "display": null,
            "flex": null,
            "flex_flow": null,
            "grid_area": null,
            "grid_auto_columns": null,
            "grid_auto_flow": null,
            "grid_auto_rows": null,
            "grid_column": null,
            "grid_gap": null,
            "grid_row": null,
            "grid_template_areas": null,
            "grid_template_columns": null,
            "grid_template_rows": null,
            "height": null,
            "justify_content": null,
            "justify_items": null,
            "left": null,
            "margin": null,
            "max_height": null,
            "max_width": null,
            "min_height": null,
            "min_width": null,
            "object_fit": null,
            "object_position": null,
            "order": null,
            "overflow": null,
            "overflow_x": null,
            "overflow_y": null,
            "padding": null,
            "right": null,
            "top": null,
            "visibility": null,
            "width": null
          }
        },
        "a1d6ef5494b547ca92d5865809274caa": {
          "model_module": "@jupyter-widgets/base",
          "model_name": "LayoutModel",
          "model_module_version": "1.2.0",
          "state": {
            "_model_module": "@jupyter-widgets/base",
            "_model_module_version": "1.2.0",
            "_model_name": "LayoutModel",
            "_view_count": null,
            "_view_module": "@jupyter-widgets/base",
            "_view_module_version": "1.2.0",
            "_view_name": "LayoutView",
            "align_content": null,
            "align_items": null,
            "align_self": null,
            "border": null,
            "bottom": null,
            "display": null,
            "flex": null,
            "flex_flow": null,
            "grid_area": null,
            "grid_auto_columns": null,
            "grid_auto_flow": null,
            "grid_auto_rows": null,
            "grid_column": null,
            "grid_gap": null,
            "grid_row": null,
            "grid_template_areas": null,
            "grid_template_columns": null,
            "grid_template_rows": null,
            "height": null,
            "justify_content": null,
            "justify_items": null,
            "left": null,
            "margin": null,
            "max_height": null,
            "max_width": null,
            "min_height": null,
            "min_width": null,
            "object_fit": null,
            "object_position": null,
            "order": null,
            "overflow": null,
            "overflow_x": null,
            "overflow_y": null,
            "padding": null,
            "right": null,
            "top": null,
            "visibility": null,
            "width": null
          }
        },
        "a21c91f523b4496fb5cfee940993754b": {
          "model_module": "@jupyter-widgets/controls",
          "model_name": "DescriptionStyleModel",
          "model_module_version": "1.5.0",
          "state": {
            "_model_module": "@jupyter-widgets/controls",
            "_model_module_version": "1.5.0",
            "_model_name": "DescriptionStyleModel",
            "_view_count": null,
            "_view_module": "@jupyter-widgets/base",
            "_view_module_version": "1.2.0",
            "_view_name": "StyleView",
            "description_width": ""
          }
        },
        "94851222709a4a2ba34aa4653abd617f": {
          "model_module": "@jupyter-widgets/base",
          "model_name": "LayoutModel",
          "model_module_version": "1.2.0",
          "state": {
            "_model_module": "@jupyter-widgets/base",
            "_model_module_version": "1.2.0",
            "_model_name": "LayoutModel",
            "_view_count": null,
            "_view_module": "@jupyter-widgets/base",
            "_view_module_version": "1.2.0",
            "_view_name": "LayoutView",
            "align_content": null,
            "align_items": null,
            "align_self": null,
            "border": null,
            "bottom": null,
            "display": null,
            "flex": null,
            "flex_flow": null,
            "grid_area": null,
            "grid_auto_columns": null,
            "grid_auto_flow": null,
            "grid_auto_rows": null,
            "grid_column": null,
            "grid_gap": null,
            "grid_row": null,
            "grid_template_areas": null,
            "grid_template_columns": null,
            "grid_template_rows": null,
            "height": null,
            "justify_content": null,
            "justify_items": null,
            "left": null,
            "margin": null,
            "max_height": null,
            "max_width": null,
            "min_height": null,
            "min_width": null,
            "object_fit": null,
            "object_position": null,
            "order": null,
            "overflow": null,
            "overflow_x": null,
            "overflow_y": null,
            "padding": null,
            "right": null,
            "top": null,
            "visibility": null,
            "width": null
          }
        },
        "89a21a2e0d884b69a3a8526e56b071fa": {
          "model_module": "@jupyter-widgets/controls",
          "model_name": "ProgressStyleModel",
          "model_module_version": "1.5.0",
          "state": {
            "_model_module": "@jupyter-widgets/controls",
            "_model_module_version": "1.5.0",
            "_model_name": "ProgressStyleModel",
            "_view_count": null,
            "_view_module": "@jupyter-widgets/base",
            "_view_module_version": "1.2.0",
            "_view_name": "StyleView",
            "bar_color": null,
            "description_width": ""
          }
        },
        "2f9638f3256a44858c2b9934eb798584": {
          "model_module": "@jupyter-widgets/base",
          "model_name": "LayoutModel",
          "model_module_version": "1.2.0",
          "state": {
            "_model_module": "@jupyter-widgets/base",
            "_model_module_version": "1.2.0",
            "_model_name": "LayoutModel",
            "_view_count": null,
            "_view_module": "@jupyter-widgets/base",
            "_view_module_version": "1.2.0",
            "_view_name": "LayoutView",
            "align_content": null,
            "align_items": null,
            "align_self": null,
            "border": null,
            "bottom": null,
            "display": null,
            "flex": null,
            "flex_flow": null,
            "grid_area": null,
            "grid_auto_columns": null,
            "grid_auto_flow": null,
            "grid_auto_rows": null,
            "grid_column": null,
            "grid_gap": null,
            "grid_row": null,
            "grid_template_areas": null,
            "grid_template_columns": null,
            "grid_template_rows": null,
            "height": null,
            "justify_content": null,
            "justify_items": null,
            "left": null,
            "margin": null,
            "max_height": null,
            "max_width": null,
            "min_height": null,
            "min_width": null,
            "object_fit": null,
            "object_position": null,
            "order": null,
            "overflow": null,
            "overflow_x": null,
            "overflow_y": null,
            "padding": null,
            "right": null,
            "top": null,
            "visibility": null,
            "width": null
          }
        },
        "ba22395b6ea2429080e6673edc726d85": {
          "model_module": "@jupyter-widgets/controls",
          "model_name": "DescriptionStyleModel",
          "model_module_version": "1.5.0",
          "state": {
            "_model_module": "@jupyter-widgets/controls",
            "_model_module_version": "1.5.0",
            "_model_name": "DescriptionStyleModel",
            "_view_count": null,
            "_view_module": "@jupyter-widgets/base",
            "_view_module_version": "1.2.0",
            "_view_name": "StyleView",
            "description_width": ""
          }
        },
        "30f82dac209640e7bcd34677bbcb6f68": {
          "model_module": "@jupyter-widgets/controls",
          "model_name": "HBoxModel",
          "model_module_version": "1.5.0",
          "state": {
            "_dom_classes": [],
            "_model_module": "@jupyter-widgets/controls",
            "_model_module_version": "1.5.0",
            "_model_name": "HBoxModel",
            "_view_count": null,
            "_view_module": "@jupyter-widgets/controls",
            "_view_module_version": "1.5.0",
            "_view_name": "HBoxView",
            "box_style": "",
            "children": [
              "IPY_MODEL_49a0782efc24443e93aa34af8cbd004b",
              "IPY_MODEL_7e966575089a404db54b17b81cd66fe6",
              "IPY_MODEL_3b26cac77ece480095f6d0a64f3d4e89"
            ],
            "layout": "IPY_MODEL_761aee53c151453f829e9043742f5ab9"
          }
        },
        "49a0782efc24443e93aa34af8cbd004b": {
          "model_module": "@jupyter-widgets/controls",
          "model_name": "HTMLModel",
          "model_module_version": "1.5.0",
          "state": {
            "_dom_classes": [],
            "_model_module": "@jupyter-widgets/controls",
            "_model_module_version": "1.5.0",
            "_model_name": "HTMLModel",
            "_view_count": null,
            "_view_module": "@jupyter-widgets/controls",
            "_view_module_version": "1.5.0",
            "_view_name": "HTMLView",
            "description": "",
            "description_tooltip": null,
            "layout": "IPY_MODEL_1117098d71594ad89dae09efd8a6285e",
            "placeholder": "​",
            "style": "IPY_MODEL_42cc9ae001014f00881ed06b71dfadd6",
            "value": "special_tokens_map.json: 100%"
          }
        },
        "7e966575089a404db54b17b81cd66fe6": {
          "model_module": "@jupyter-widgets/controls",
          "model_name": "FloatProgressModel",
          "model_module_version": "1.5.0",
          "state": {
            "_dom_classes": [],
            "_model_module": "@jupyter-widgets/controls",
            "_model_module_version": "1.5.0",
            "_model_name": "FloatProgressModel",
            "_view_count": null,
            "_view_module": "@jupyter-widgets/controls",
            "_view_module_version": "1.5.0",
            "_view_name": "ProgressView",
            "bar_style": "success",
            "description": "",
            "description_tooltip": null,
            "layout": "IPY_MODEL_eec46a72d00d456483a17b2356fd5bd8",
            "max": 112,
            "min": 0,
            "orientation": "horizontal",
            "style": "IPY_MODEL_7198e215f0a349ea80fde7ed71570d60",
            "value": 112
          }
        },
        "3b26cac77ece480095f6d0a64f3d4e89": {
          "model_module": "@jupyter-widgets/controls",
          "model_name": "HTMLModel",
          "model_module_version": "1.5.0",
          "state": {
            "_dom_classes": [],
            "_model_module": "@jupyter-widgets/controls",
            "_model_module_version": "1.5.0",
            "_model_name": "HTMLModel",
            "_view_count": null,
            "_view_module": "@jupyter-widgets/controls",
            "_view_module_version": "1.5.0",
            "_view_name": "HTMLView",
            "description": "",
            "description_tooltip": null,
            "layout": "IPY_MODEL_d81624c8022247a99ab22a95cb674e30",
            "placeholder": "​",
            "style": "IPY_MODEL_7ad3c7c335254419aafe1b21c87563b8",
            "value": " 112/112 [00:00&lt;00:00, 7.18kB/s]"
          }
        },
        "761aee53c151453f829e9043742f5ab9": {
          "model_module": "@jupyter-widgets/base",
          "model_name": "LayoutModel",
          "model_module_version": "1.2.0",
          "state": {
            "_model_module": "@jupyter-widgets/base",
            "_model_module_version": "1.2.0",
            "_model_name": "LayoutModel",
            "_view_count": null,
            "_view_module": "@jupyter-widgets/base",
            "_view_module_version": "1.2.0",
            "_view_name": "LayoutView",
            "align_content": null,
            "align_items": null,
            "align_self": null,
            "border": null,
            "bottom": null,
            "display": null,
            "flex": null,
            "flex_flow": null,
            "grid_area": null,
            "grid_auto_columns": null,
            "grid_auto_flow": null,
            "grid_auto_rows": null,
            "grid_column": null,
            "grid_gap": null,
            "grid_row": null,
            "grid_template_areas": null,
            "grid_template_columns": null,
            "grid_template_rows": null,
            "height": null,
            "justify_content": null,
            "justify_items": null,
            "left": null,
            "margin": null,
            "max_height": null,
            "max_width": null,
            "min_height": null,
            "min_width": null,
            "object_fit": null,
            "object_position": null,
            "order": null,
            "overflow": null,
            "overflow_x": null,
            "overflow_y": null,
            "padding": null,
            "right": null,
            "top": null,
            "visibility": null,
            "width": null
          }
        },
        "1117098d71594ad89dae09efd8a6285e": {
          "model_module": "@jupyter-widgets/base",
          "model_name": "LayoutModel",
          "model_module_version": "1.2.0",
          "state": {
            "_model_module": "@jupyter-widgets/base",
            "_model_module_version": "1.2.0",
            "_model_name": "LayoutModel",
            "_view_count": null,
            "_view_module": "@jupyter-widgets/base",
            "_view_module_version": "1.2.0",
            "_view_name": "LayoutView",
            "align_content": null,
            "align_items": null,
            "align_self": null,
            "border": null,
            "bottom": null,
            "display": null,
            "flex": null,
            "flex_flow": null,
            "grid_area": null,
            "grid_auto_columns": null,
            "grid_auto_flow": null,
            "grid_auto_rows": null,
            "grid_column": null,
            "grid_gap": null,
            "grid_row": null,
            "grid_template_areas": null,
            "grid_template_columns": null,
            "grid_template_rows": null,
            "height": null,
            "justify_content": null,
            "justify_items": null,
            "left": null,
            "margin": null,
            "max_height": null,
            "max_width": null,
            "min_height": null,
            "min_width": null,
            "object_fit": null,
            "object_position": null,
            "order": null,
            "overflow": null,
            "overflow_x": null,
            "overflow_y": null,
            "padding": null,
            "right": null,
            "top": null,
            "visibility": null,
            "width": null
          }
        },
        "42cc9ae001014f00881ed06b71dfadd6": {
          "model_module": "@jupyter-widgets/controls",
          "model_name": "DescriptionStyleModel",
          "model_module_version": "1.5.0",
          "state": {
            "_model_module": "@jupyter-widgets/controls",
            "_model_module_version": "1.5.0",
            "_model_name": "DescriptionStyleModel",
            "_view_count": null,
            "_view_module": "@jupyter-widgets/base",
            "_view_module_version": "1.2.0",
            "_view_name": "StyleView",
            "description_width": ""
          }
        },
        "eec46a72d00d456483a17b2356fd5bd8": {
          "model_module": "@jupyter-widgets/base",
          "model_name": "LayoutModel",
          "model_module_version": "1.2.0",
          "state": {
            "_model_module": "@jupyter-widgets/base",
            "_model_module_version": "1.2.0",
            "_model_name": "LayoutModel",
            "_view_count": null,
            "_view_module": "@jupyter-widgets/base",
            "_view_module_version": "1.2.0",
            "_view_name": "LayoutView",
            "align_content": null,
            "align_items": null,
            "align_self": null,
            "border": null,
            "bottom": null,
            "display": null,
            "flex": null,
            "flex_flow": null,
            "grid_area": null,
            "grid_auto_columns": null,
            "grid_auto_flow": null,
            "grid_auto_rows": null,
            "grid_column": null,
            "grid_gap": null,
            "grid_row": null,
            "grid_template_areas": null,
            "grid_template_columns": null,
            "grid_template_rows": null,
            "height": null,
            "justify_content": null,
            "justify_items": null,
            "left": null,
            "margin": null,
            "max_height": null,
            "max_width": null,
            "min_height": null,
            "min_width": null,
            "object_fit": null,
            "object_position": null,
            "order": null,
            "overflow": null,
            "overflow_x": null,
            "overflow_y": null,
            "padding": null,
            "right": null,
            "top": null,
            "visibility": null,
            "width": null
          }
        },
        "7198e215f0a349ea80fde7ed71570d60": {
          "model_module": "@jupyter-widgets/controls",
          "model_name": "ProgressStyleModel",
          "model_module_version": "1.5.0",
          "state": {
            "_model_module": "@jupyter-widgets/controls",
            "_model_module_version": "1.5.0",
            "_model_name": "ProgressStyleModel",
            "_view_count": null,
            "_view_module": "@jupyter-widgets/base",
            "_view_module_version": "1.2.0",
            "_view_name": "StyleView",
            "bar_color": null,
            "description_width": ""
          }
        },
        "d81624c8022247a99ab22a95cb674e30": {
          "model_module": "@jupyter-widgets/base",
          "model_name": "LayoutModel",
          "model_module_version": "1.2.0",
          "state": {
            "_model_module": "@jupyter-widgets/base",
            "_model_module_version": "1.2.0",
            "_model_name": "LayoutModel",
            "_view_count": null,
            "_view_module": "@jupyter-widgets/base",
            "_view_module_version": "1.2.0",
            "_view_name": "LayoutView",
            "align_content": null,
            "align_items": null,
            "align_self": null,
            "border": null,
            "bottom": null,
            "display": null,
            "flex": null,
            "flex_flow": null,
            "grid_area": null,
            "grid_auto_columns": null,
            "grid_auto_flow": null,
            "grid_auto_rows": null,
            "grid_column": null,
            "grid_gap": null,
            "grid_row": null,
            "grid_template_areas": null,
            "grid_template_columns": null,
            "grid_template_rows": null,
            "height": null,
            "justify_content": null,
            "justify_items": null,
            "left": null,
            "margin": null,
            "max_height": null,
            "max_width": null,
            "min_height": null,
            "min_width": null,
            "object_fit": null,
            "object_position": null,
            "order": null,
            "overflow": null,
            "overflow_x": null,
            "overflow_y": null,
            "padding": null,
            "right": null,
            "top": null,
            "visibility": null,
            "width": null
          }
        },
        "7ad3c7c335254419aafe1b21c87563b8": {
          "model_module": "@jupyter-widgets/controls",
          "model_name": "DescriptionStyleModel",
          "model_module_version": "1.5.0",
          "state": {
            "_model_module": "@jupyter-widgets/controls",
            "_model_module_version": "1.5.0",
            "_model_name": "DescriptionStyleModel",
            "_view_count": null,
            "_view_module": "@jupyter-widgets/base",
            "_view_module_version": "1.2.0",
            "_view_name": "StyleView",
            "description_width": ""
          }
        },
        "930981e38d214d6d8398e0e5a6f0f052": {
          "model_module": "@jupyter-widgets/controls",
          "model_name": "HBoxModel",
          "model_module_version": "1.5.0",
          "state": {
            "_dom_classes": [],
            "_model_module": "@jupyter-widgets/controls",
            "_model_module_version": "1.5.0",
            "_model_name": "HBoxModel",
            "_view_count": null,
            "_view_module": "@jupyter-widgets/controls",
            "_view_module_version": "1.5.0",
            "_view_name": "HBoxView",
            "box_style": "",
            "children": [
              "IPY_MODEL_04411e664842408c96a54800e8d7d1c6",
              "IPY_MODEL_58478faaf1474ffea78f70164eeb66a5",
              "IPY_MODEL_41475ab7f5844134a797c8929c455e88"
            ],
            "layout": "IPY_MODEL_a973da3530014f50a389b51644f312d9"
          }
        },
        "04411e664842408c96a54800e8d7d1c6": {
          "model_module": "@jupyter-widgets/controls",
          "model_name": "HTMLModel",
          "model_module_version": "1.5.0",
          "state": {
            "_dom_classes": [],
            "_model_module": "@jupyter-widgets/controls",
            "_model_module_version": "1.5.0",
            "_model_name": "HTMLModel",
            "_view_count": null,
            "_view_module": "@jupyter-widgets/controls",
            "_view_module_version": "1.5.0",
            "_view_name": "HTMLView",
            "description": "",
            "description_tooltip": null,
            "layout": "IPY_MODEL_c2a8267a87644dad8e69f5adb97f4216",
            "placeholder": "​",
            "style": "IPY_MODEL_0a0241eea7624496a4650ed21119272c",
            "value": "pytorch_model.bin: 100%"
          }
        },
        "58478faaf1474ffea78f70164eeb66a5": {
          "model_module": "@jupyter-widgets/controls",
          "model_name": "FloatProgressModel",
          "model_module_version": "1.5.0",
          "state": {
            "_dom_classes": [],
            "_model_module": "@jupyter-widgets/controls",
            "_model_module_version": "1.5.0",
            "_model_name": "FloatProgressModel",
            "_view_count": null,
            "_view_module": "@jupyter-widgets/controls",
            "_view_module_version": "1.5.0",
            "_view_name": "ProgressView",
            "bar_style": "success",
            "description": "",
            "description_tooltip": null,
            "layout": "IPY_MODEL_95613f0ea731406f9b6f859a506d3444",
            "max": 436450689,
            "min": 0,
            "orientation": "horizontal",
            "style": "IPY_MODEL_84b6e515d75a4fe4a11e8f2c033accc6",
            "value": 436450689
          }
        },
        "41475ab7f5844134a797c8929c455e88": {
          "model_module": "@jupyter-widgets/controls",
          "model_name": "HTMLModel",
          "model_module_version": "1.5.0",
          "state": {
            "_dom_classes": [],
            "_model_module": "@jupyter-widgets/controls",
            "_model_module_version": "1.5.0",
            "_model_name": "HTMLModel",
            "_view_count": null,
            "_view_module": "@jupyter-widgets/controls",
            "_view_module_version": "1.5.0",
            "_view_name": "HTMLView",
            "description": "",
            "description_tooltip": null,
            "layout": "IPY_MODEL_c02131bafadc47a79ba7a12db5545a4b",
            "placeholder": "​",
            "style": "IPY_MODEL_7133cb8e4434461e81c3f51608cc496f",
            "value": " 436M/436M [00:11&lt;00:00, 97.3MB/s]"
          }
        },
        "a973da3530014f50a389b51644f312d9": {
          "model_module": "@jupyter-widgets/base",
          "model_name": "LayoutModel",
          "model_module_version": "1.2.0",
          "state": {
            "_model_module": "@jupyter-widgets/base",
            "_model_module_version": "1.2.0",
            "_model_name": "LayoutModel",
            "_view_count": null,
            "_view_module": "@jupyter-widgets/base",
            "_view_module_version": "1.2.0",
            "_view_name": "LayoutView",
            "align_content": null,
            "align_items": null,
            "align_self": null,
            "border": null,
            "bottom": null,
            "display": null,
            "flex": null,
            "flex_flow": null,
            "grid_area": null,
            "grid_auto_columns": null,
            "grid_auto_flow": null,
            "grid_auto_rows": null,
            "grid_column": null,
            "grid_gap": null,
            "grid_row": null,
            "grid_template_areas": null,
            "grid_template_columns": null,
            "grid_template_rows": null,
            "height": null,
            "justify_content": null,
            "justify_items": null,
            "left": null,
            "margin": null,
            "max_height": null,
            "max_width": null,
            "min_height": null,
            "min_width": null,
            "object_fit": null,
            "object_position": null,
            "order": null,
            "overflow": null,
            "overflow_x": null,
            "overflow_y": null,
            "padding": null,
            "right": null,
            "top": null,
            "visibility": null,
            "width": null
          }
        },
        "c2a8267a87644dad8e69f5adb97f4216": {
          "model_module": "@jupyter-widgets/base",
          "model_name": "LayoutModel",
          "model_module_version": "1.2.0",
          "state": {
            "_model_module": "@jupyter-widgets/base",
            "_model_module_version": "1.2.0",
            "_model_name": "LayoutModel",
            "_view_count": null,
            "_view_module": "@jupyter-widgets/base",
            "_view_module_version": "1.2.0",
            "_view_name": "LayoutView",
            "align_content": null,
            "align_items": null,
            "align_self": null,
            "border": null,
            "bottom": null,
            "display": null,
            "flex": null,
            "flex_flow": null,
            "grid_area": null,
            "grid_auto_columns": null,
            "grid_auto_flow": null,
            "grid_auto_rows": null,
            "grid_column": null,
            "grid_gap": null,
            "grid_row": null,
            "grid_template_areas": null,
            "grid_template_columns": null,
            "grid_template_rows": null,
            "height": null,
            "justify_content": null,
            "justify_items": null,
            "left": null,
            "margin": null,
            "max_height": null,
            "max_width": null,
            "min_height": null,
            "min_width": null,
            "object_fit": null,
            "object_position": null,
            "order": null,
            "overflow": null,
            "overflow_x": null,
            "overflow_y": null,
            "padding": null,
            "right": null,
            "top": null,
            "visibility": null,
            "width": null
          }
        },
        "0a0241eea7624496a4650ed21119272c": {
          "model_module": "@jupyter-widgets/controls",
          "model_name": "DescriptionStyleModel",
          "model_module_version": "1.5.0",
          "state": {
            "_model_module": "@jupyter-widgets/controls",
            "_model_module_version": "1.5.0",
            "_model_name": "DescriptionStyleModel",
            "_view_count": null,
            "_view_module": "@jupyter-widgets/base",
            "_view_module_version": "1.2.0",
            "_view_name": "StyleView",
            "description_width": ""
          }
        },
        "95613f0ea731406f9b6f859a506d3444": {
          "model_module": "@jupyter-widgets/base",
          "model_name": "LayoutModel",
          "model_module_version": "1.2.0",
          "state": {
            "_model_module": "@jupyter-widgets/base",
            "_model_module_version": "1.2.0",
            "_model_name": "LayoutModel",
            "_view_count": null,
            "_view_module": "@jupyter-widgets/base",
            "_view_module_version": "1.2.0",
            "_view_name": "LayoutView",
            "align_content": null,
            "align_items": null,
            "align_self": null,
            "border": null,
            "bottom": null,
            "display": null,
            "flex": null,
            "flex_flow": null,
            "grid_area": null,
            "grid_auto_columns": null,
            "grid_auto_flow": null,
            "grid_auto_rows": null,
            "grid_column": null,
            "grid_gap": null,
            "grid_row": null,
            "grid_template_areas": null,
            "grid_template_columns": null,
            "grid_template_rows": null,
            "height": null,
            "justify_content": null,
            "justify_items": null,
            "left": null,
            "margin": null,
            "max_height": null,
            "max_width": null,
            "min_height": null,
            "min_width": null,
            "object_fit": null,
            "object_position": null,
            "order": null,
            "overflow": null,
            "overflow_x": null,
            "overflow_y": null,
            "padding": null,
            "right": null,
            "top": null,
            "visibility": null,
            "width": null
          }
        },
        "84b6e515d75a4fe4a11e8f2c033accc6": {
          "model_module": "@jupyter-widgets/controls",
          "model_name": "ProgressStyleModel",
          "model_module_version": "1.5.0",
          "state": {
            "_model_module": "@jupyter-widgets/controls",
            "_model_module_version": "1.5.0",
            "_model_name": "ProgressStyleModel",
            "_view_count": null,
            "_view_module": "@jupyter-widgets/base",
            "_view_module_version": "1.2.0",
            "_view_name": "StyleView",
            "bar_color": null,
            "description_width": ""
          }
        },
        "c02131bafadc47a79ba7a12db5545a4b": {
          "model_module": "@jupyter-widgets/base",
          "model_name": "LayoutModel",
          "model_module_version": "1.2.0",
          "state": {
            "_model_module": "@jupyter-widgets/base",
            "_model_module_version": "1.2.0",
            "_model_name": "LayoutModel",
            "_view_count": null,
            "_view_module": "@jupyter-widgets/base",
            "_view_module_version": "1.2.0",
            "_view_name": "LayoutView",
            "align_content": null,
            "align_items": null,
            "align_self": null,
            "border": null,
            "bottom": null,
            "display": null,
            "flex": null,
            "flex_flow": null,
            "grid_area": null,
            "grid_auto_columns": null,
            "grid_auto_flow": null,
            "grid_auto_rows": null,
            "grid_column": null,
            "grid_gap": null,
            "grid_row": null,
            "grid_template_areas": null,
            "grid_template_columns": null,
            "grid_template_rows": null,
            "height": null,
            "justify_content": null,
            "justify_items": null,
            "left": null,
            "margin": null,
            "max_height": null,
            "max_width": null,
            "min_height": null,
            "min_width": null,
            "object_fit": null,
            "object_position": null,
            "order": null,
            "overflow": null,
            "overflow_x": null,
            "overflow_y": null,
            "padding": null,
            "right": null,
            "top": null,
            "visibility": null,
            "width": null
          }
        },
        "7133cb8e4434461e81c3f51608cc496f": {
          "model_module": "@jupyter-widgets/controls",
          "model_name": "DescriptionStyleModel",
          "model_module_version": "1.5.0",
          "state": {
            "_model_module": "@jupyter-widgets/controls",
            "_model_module_version": "1.5.0",
            "_model_name": "DescriptionStyleModel",
            "_view_count": null,
            "_view_module": "@jupyter-widgets/base",
            "_view_module_version": "1.2.0",
            "_view_name": "StyleView",
            "description_width": ""
          }
        },
        "c4c82537224240eb9dbd46a4f8c69851": {
          "model_module": "@jupyter-widgets/controls",
          "model_name": "HBoxModel",
          "model_module_version": "1.5.0",
          "state": {
            "_dom_classes": [],
            "_model_module": "@jupyter-widgets/controls",
            "_model_module_version": "1.5.0",
            "_model_name": "HBoxModel",
            "_view_count": null,
            "_view_module": "@jupyter-widgets/controls",
            "_view_module_version": "1.5.0",
            "_view_name": "HBoxView",
            "box_style": "",
            "children": [
              "IPY_MODEL_132d498eaf7d4eb38e5ac67984fdefa4",
              "IPY_MODEL_46b1872c666a461d9dea9502939f0bf6",
              "IPY_MODEL_34443bea7572451c849f721956d5c776"
            ],
            "layout": "IPY_MODEL_1ccdc6d2f8c9443da5c2a18368cfd051"
          }
        },
        "132d498eaf7d4eb38e5ac67984fdefa4": {
          "model_module": "@jupyter-widgets/controls",
          "model_name": "HTMLModel",
          "model_module_version": "1.5.0",
          "state": {
            "_dom_classes": [],
            "_model_module": "@jupyter-widgets/controls",
            "_model_module_version": "1.5.0",
            "_model_name": "HTMLModel",
            "_view_count": null,
            "_view_module": "@jupyter-widgets/controls",
            "_view_module_version": "1.5.0",
            "_view_name": "HTMLView",
            "description": "",
            "description_tooltip": null,
            "layout": "IPY_MODEL_a77ce69cc873458cbb3c2171e03cc6c7",
            "placeholder": "​",
            "style": "IPY_MODEL_2bd8740476d54bf68c636bed1cde7fdd",
            "value": ""
          }
        },
        "46b1872c666a461d9dea9502939f0bf6": {
          "model_module": "@jupyter-widgets/controls",
          "model_name": "FloatProgressModel",
          "model_module_version": "1.5.0",
          "state": {
            "_dom_classes": [],
            "_model_module": "@jupyter-widgets/controls",
            "_model_module_version": "1.5.0",
            "_model_name": "FloatProgressModel",
            "_view_count": null,
            "_view_module": "@jupyter-widgets/controls",
            "_view_module_version": "1.5.0",
            "_view_name": "ProgressView",
            "bar_style": "success",
            "description": "",
            "description_tooltip": null,
            "layout": "IPY_MODEL_9ca797a6b5e64ed5a5f6cb5f78aedf5b",
            "max": 1,
            "min": 0,
            "orientation": "horizontal",
            "style": "IPY_MODEL_0672f64a79e146d2a5a8a28187f9edef",
            "value": 1
          }
        },
        "34443bea7572451c849f721956d5c776": {
          "model_module": "@jupyter-widgets/controls",
          "model_name": "HTMLModel",
          "model_module_version": "1.5.0",
          "state": {
            "_dom_classes": [],
            "_model_module": "@jupyter-widgets/controls",
            "_model_module_version": "1.5.0",
            "_model_name": "HTMLModel",
            "_view_count": null,
            "_view_module": "@jupyter-widgets/controls",
            "_view_module_version": "1.5.0",
            "_view_name": "HTMLView",
            "description": "",
            "description_tooltip": null,
            "layout": "IPY_MODEL_258c6f8573e84079a465877a5dd42171",
            "placeholder": "​",
            "style": "IPY_MODEL_1b8ce973a1a44563a9db2cffd0ba68f8",
            "value": " 17/? [00:10&lt;00:00,  2.40it/s]"
          }
        },
        "1ccdc6d2f8c9443da5c2a18368cfd051": {
          "model_module": "@jupyter-widgets/base",
          "model_name": "LayoutModel",
          "model_module_version": "1.2.0",
          "state": {
            "_model_module": "@jupyter-widgets/base",
            "_model_module_version": "1.2.0",
            "_model_name": "LayoutModel",
            "_view_count": null,
            "_view_module": "@jupyter-widgets/base",
            "_view_module_version": "1.2.0",
            "_view_name": "LayoutView",
            "align_content": null,
            "align_items": null,
            "align_self": null,
            "border": null,
            "bottom": null,
            "display": null,
            "flex": null,
            "flex_flow": null,
            "grid_area": null,
            "grid_auto_columns": null,
            "grid_auto_flow": null,
            "grid_auto_rows": null,
            "grid_column": null,
            "grid_gap": null,
            "grid_row": null,
            "grid_template_areas": null,
            "grid_template_columns": null,
            "grid_template_rows": null,
            "height": null,
            "justify_content": null,
            "justify_items": null,
            "left": null,
            "margin": null,
            "max_height": null,
            "max_width": null,
            "min_height": null,
            "min_width": null,
            "object_fit": null,
            "object_position": null,
            "order": null,
            "overflow": null,
            "overflow_x": null,
            "overflow_y": null,
            "padding": null,
            "right": null,
            "top": null,
            "visibility": null,
            "width": null
          }
        },
        "a77ce69cc873458cbb3c2171e03cc6c7": {
          "model_module": "@jupyter-widgets/base",
          "model_name": "LayoutModel",
          "model_module_version": "1.2.0",
          "state": {
            "_model_module": "@jupyter-widgets/base",
            "_model_module_version": "1.2.0",
            "_model_name": "LayoutModel",
            "_view_count": null,
            "_view_module": "@jupyter-widgets/base",
            "_view_module_version": "1.2.0",
            "_view_name": "LayoutView",
            "align_content": null,
            "align_items": null,
            "align_self": null,
            "border": null,
            "bottom": null,
            "display": null,
            "flex": null,
            "flex_flow": null,
            "grid_area": null,
            "grid_auto_columns": null,
            "grid_auto_flow": null,
            "grid_auto_rows": null,
            "grid_column": null,
            "grid_gap": null,
            "grid_row": null,
            "grid_template_areas": null,
            "grid_template_columns": null,
            "grid_template_rows": null,
            "height": null,
            "justify_content": null,
            "justify_items": null,
            "left": null,
            "margin": null,
            "max_height": null,
            "max_width": null,
            "min_height": null,
            "min_width": null,
            "object_fit": null,
            "object_position": null,
            "order": null,
            "overflow": null,
            "overflow_x": null,
            "overflow_y": null,
            "padding": null,
            "right": null,
            "top": null,
            "visibility": null,
            "width": null
          }
        },
        "2bd8740476d54bf68c636bed1cde7fdd": {
          "model_module": "@jupyter-widgets/controls",
          "model_name": "DescriptionStyleModel",
          "model_module_version": "1.5.0",
          "state": {
            "_model_module": "@jupyter-widgets/controls",
            "_model_module_version": "1.5.0",
            "_model_name": "DescriptionStyleModel",
            "_view_count": null,
            "_view_module": "@jupyter-widgets/base",
            "_view_module_version": "1.2.0",
            "_view_name": "StyleView",
            "description_width": ""
          }
        },
        "9ca797a6b5e64ed5a5f6cb5f78aedf5b": {
          "model_module": "@jupyter-widgets/base",
          "model_name": "LayoutModel",
          "model_module_version": "1.2.0",
          "state": {
            "_model_module": "@jupyter-widgets/base",
            "_model_module_version": "1.2.0",
            "_model_name": "LayoutModel",
            "_view_count": null,
            "_view_module": "@jupyter-widgets/base",
            "_view_module_version": "1.2.0",
            "_view_name": "LayoutView",
            "align_content": null,
            "align_items": null,
            "align_self": null,
            "border": null,
            "bottom": null,
            "display": null,
            "flex": null,
            "flex_flow": null,
            "grid_area": null,
            "grid_auto_columns": null,
            "grid_auto_flow": null,
            "grid_auto_rows": null,
            "grid_column": null,
            "grid_gap": null,
            "grid_row": null,
            "grid_template_areas": null,
            "grid_template_columns": null,
            "grid_template_rows": null,
            "height": null,
            "justify_content": null,
            "justify_items": null,
            "left": null,
            "margin": null,
            "max_height": null,
            "max_width": null,
            "min_height": null,
            "min_width": null,
            "object_fit": null,
            "object_position": null,
            "order": null,
            "overflow": null,
            "overflow_x": null,
            "overflow_y": null,
            "padding": null,
            "right": null,
            "top": null,
            "visibility": null,
            "width": "20px"
          }
        },
        "0672f64a79e146d2a5a8a28187f9edef": {
          "model_module": "@jupyter-widgets/controls",
          "model_name": "ProgressStyleModel",
          "model_module_version": "1.5.0",
          "state": {
            "_model_module": "@jupyter-widgets/controls",
            "_model_module_version": "1.5.0",
            "_model_name": "ProgressStyleModel",
            "_view_count": null,
            "_view_module": "@jupyter-widgets/base",
            "_view_module_version": "1.2.0",
            "_view_name": "StyleView",
            "bar_color": null,
            "description_width": ""
          }
        },
        "258c6f8573e84079a465877a5dd42171": {
          "model_module": "@jupyter-widgets/base",
          "model_name": "LayoutModel",
          "model_module_version": "1.2.0",
          "state": {
            "_model_module": "@jupyter-widgets/base",
            "_model_module_version": "1.2.0",
            "_model_name": "LayoutModel",
            "_view_count": null,
            "_view_module": "@jupyter-widgets/base",
            "_view_module_version": "1.2.0",
            "_view_name": "LayoutView",
            "align_content": null,
            "align_items": null,
            "align_self": null,
            "border": null,
            "bottom": null,
            "display": null,
            "flex": null,
            "flex_flow": null,
            "grid_area": null,
            "grid_auto_columns": null,
            "grid_auto_flow": null,
            "grid_auto_rows": null,
            "grid_column": null,
            "grid_gap": null,
            "grid_row": null,
            "grid_template_areas": null,
            "grid_template_columns": null,
            "grid_template_rows": null,
            "height": null,
            "justify_content": null,
            "justify_items": null,
            "left": null,
            "margin": null,
            "max_height": null,
            "max_width": null,
            "min_height": null,
            "min_width": null,
            "object_fit": null,
            "object_position": null,
            "order": null,
            "overflow": null,
            "overflow_x": null,
            "overflow_y": null,
            "padding": null,
            "right": null,
            "top": null,
            "visibility": null,
            "width": null
          }
        },
        "1b8ce973a1a44563a9db2cffd0ba68f8": {
          "model_module": "@jupyter-widgets/controls",
          "model_name": "DescriptionStyleModel",
          "model_module_version": "1.5.0",
          "state": {
            "_model_module": "@jupyter-widgets/controls",
            "_model_module_version": "1.5.0",
            "_model_name": "DescriptionStyleModel",
            "_view_count": null,
            "_view_module": "@jupyter-widgets/base",
            "_view_module_version": "1.2.0",
            "_view_name": "StyleView",
            "description_width": ""
          }
        },
        "f6a964d7060b41b0b2f604edaf293486": {
          "model_module": "@jupyter-widgets/controls",
          "model_name": "HBoxModel",
          "model_module_version": "1.5.0",
          "state": {
            "_dom_classes": [],
            "_model_module": "@jupyter-widgets/controls",
            "_model_module_version": "1.5.0",
            "_model_name": "HBoxModel",
            "_view_count": null,
            "_view_module": "@jupyter-widgets/controls",
            "_view_module_version": "1.5.0",
            "_view_name": "HBoxView",
            "box_style": "",
            "children": [
              "IPY_MODEL_977b108417284080a0e93b3c99260341",
              "IPY_MODEL_1301e876c10e4f3396070599f68c17e4",
              "IPY_MODEL_6c1ceafa940b4b889548bb271abf59bd"
            ],
            "layout": "IPY_MODEL_712a9921aa0c453387372c8a46fec7a2"
          }
        },
        "977b108417284080a0e93b3c99260341": {
          "model_module": "@jupyter-widgets/controls",
          "model_name": "HTMLModel",
          "model_module_version": "1.5.0",
          "state": {
            "_dom_classes": [],
            "_model_module": "@jupyter-widgets/controls",
            "_model_module_version": "1.5.0",
            "_model_name": "HTMLModel",
            "_view_count": null,
            "_view_module": "@jupyter-widgets/controls",
            "_view_module_version": "1.5.0",
            "_view_name": "HTMLView",
            "description": "",
            "description_tooltip": null,
            "layout": "IPY_MODEL_606b07adb1b3445fab446f28f74201d6",
            "placeholder": "​",
            "style": "IPY_MODEL_219fd11c01e14c5494df9f7a1b304766",
            "value": ""
          }
        },
        "1301e876c10e4f3396070599f68c17e4": {
          "model_module": "@jupyter-widgets/controls",
          "model_name": "FloatProgressModel",
          "model_module_version": "1.5.0",
          "state": {
            "_dom_classes": [],
            "_model_module": "@jupyter-widgets/controls",
            "_model_module_version": "1.5.0",
            "_model_name": "FloatProgressModel",
            "_view_count": null,
            "_view_module": "@jupyter-widgets/controls",
            "_view_module_version": "1.5.0",
            "_view_name": "ProgressView",
            "bar_style": "success",
            "description": "",
            "description_tooltip": null,
            "layout": "IPY_MODEL_8ac01e1aa1624042b59a72b7d762c360",
            "max": 1,
            "min": 0,
            "orientation": "horizontal",
            "style": "IPY_MODEL_99560957658649a3946ee1dda9748a00",
            "value": 1
          }
        },
        "6c1ceafa940b4b889548bb271abf59bd": {
          "model_module": "@jupyter-widgets/controls",
          "model_name": "HTMLModel",
          "model_module_version": "1.5.0",
          "state": {
            "_dom_classes": [],
            "_model_module": "@jupyter-widgets/controls",
            "_model_module_version": "1.5.0",
            "_model_name": "HTMLModel",
            "_view_count": null,
            "_view_module": "@jupyter-widgets/controls",
            "_view_module_version": "1.5.0",
            "_view_name": "HTMLView",
            "description": "",
            "description_tooltip": null,
            "layout": "IPY_MODEL_12b46f5637fa4b88a2560b4735714499",
            "placeholder": "​",
            "style": "IPY_MODEL_94515408d4a34615a204a4cba683500a",
            "value": " 17/? [00:10&lt;00:00,  1.75it/s]"
          }
        },
        "712a9921aa0c453387372c8a46fec7a2": {
          "model_module": "@jupyter-widgets/base",
          "model_name": "LayoutModel",
          "model_module_version": "1.2.0",
          "state": {
            "_model_module": "@jupyter-widgets/base",
            "_model_module_version": "1.2.0",
            "_model_name": "LayoutModel",
            "_view_count": null,
            "_view_module": "@jupyter-widgets/base",
            "_view_module_version": "1.2.0",
            "_view_name": "LayoutView",
            "align_content": null,
            "align_items": null,
            "align_self": null,
            "border": null,
            "bottom": null,
            "display": null,
            "flex": null,
            "flex_flow": null,
            "grid_area": null,
            "grid_auto_columns": null,
            "grid_auto_flow": null,
            "grid_auto_rows": null,
            "grid_column": null,
            "grid_gap": null,
            "grid_row": null,
            "grid_template_areas": null,
            "grid_template_columns": null,
            "grid_template_rows": null,
            "height": null,
            "justify_content": null,
            "justify_items": null,
            "left": null,
            "margin": null,
            "max_height": null,
            "max_width": null,
            "min_height": null,
            "min_width": null,
            "object_fit": null,
            "object_position": null,
            "order": null,
            "overflow": null,
            "overflow_x": null,
            "overflow_y": null,
            "padding": null,
            "right": null,
            "top": null,
            "visibility": null,
            "width": null
          }
        },
        "606b07adb1b3445fab446f28f74201d6": {
          "model_module": "@jupyter-widgets/base",
          "model_name": "LayoutModel",
          "model_module_version": "1.2.0",
          "state": {
            "_model_module": "@jupyter-widgets/base",
            "_model_module_version": "1.2.0",
            "_model_name": "LayoutModel",
            "_view_count": null,
            "_view_module": "@jupyter-widgets/base",
            "_view_module_version": "1.2.0",
            "_view_name": "LayoutView",
            "align_content": null,
            "align_items": null,
            "align_self": null,
            "border": null,
            "bottom": null,
            "display": null,
            "flex": null,
            "flex_flow": null,
            "grid_area": null,
            "grid_auto_columns": null,
            "grid_auto_flow": null,
            "grid_auto_rows": null,
            "grid_column": null,
            "grid_gap": null,
            "grid_row": null,
            "grid_template_areas": null,
            "grid_template_columns": null,
            "grid_template_rows": null,
            "height": null,
            "justify_content": null,
            "justify_items": null,
            "left": null,
            "margin": null,
            "max_height": null,
            "max_width": null,
            "min_height": null,
            "min_width": null,
            "object_fit": null,
            "object_position": null,
            "order": null,
            "overflow": null,
            "overflow_x": null,
            "overflow_y": null,
            "padding": null,
            "right": null,
            "top": null,
            "visibility": null,
            "width": null
          }
        },
        "219fd11c01e14c5494df9f7a1b304766": {
          "model_module": "@jupyter-widgets/controls",
          "model_name": "DescriptionStyleModel",
          "model_module_version": "1.5.0",
          "state": {
            "_model_module": "@jupyter-widgets/controls",
            "_model_module_version": "1.5.0",
            "_model_name": "DescriptionStyleModel",
            "_view_count": null,
            "_view_module": "@jupyter-widgets/base",
            "_view_module_version": "1.2.0",
            "_view_name": "StyleView",
            "description_width": ""
          }
        },
        "8ac01e1aa1624042b59a72b7d762c360": {
          "model_module": "@jupyter-widgets/base",
          "model_name": "LayoutModel",
          "model_module_version": "1.2.0",
          "state": {
            "_model_module": "@jupyter-widgets/base",
            "_model_module_version": "1.2.0",
            "_model_name": "LayoutModel",
            "_view_count": null,
            "_view_module": "@jupyter-widgets/base",
            "_view_module_version": "1.2.0",
            "_view_name": "LayoutView",
            "align_content": null,
            "align_items": null,
            "align_self": null,
            "border": null,
            "bottom": null,
            "display": null,
            "flex": null,
            "flex_flow": null,
            "grid_area": null,
            "grid_auto_columns": null,
            "grid_auto_flow": null,
            "grid_auto_rows": null,
            "grid_column": null,
            "grid_gap": null,
            "grid_row": null,
            "grid_template_areas": null,
            "grid_template_columns": null,
            "grid_template_rows": null,
            "height": null,
            "justify_content": null,
            "justify_items": null,
            "left": null,
            "margin": null,
            "max_height": null,
            "max_width": null,
            "min_height": null,
            "min_width": null,
            "object_fit": null,
            "object_position": null,
            "order": null,
            "overflow": null,
            "overflow_x": null,
            "overflow_y": null,
            "padding": null,
            "right": null,
            "top": null,
            "visibility": null,
            "width": "20px"
          }
        },
        "99560957658649a3946ee1dda9748a00": {
          "model_module": "@jupyter-widgets/controls",
          "model_name": "ProgressStyleModel",
          "model_module_version": "1.5.0",
          "state": {
            "_model_module": "@jupyter-widgets/controls",
            "_model_module_version": "1.5.0",
            "_model_name": "ProgressStyleModel",
            "_view_count": null,
            "_view_module": "@jupyter-widgets/base",
            "_view_module_version": "1.2.0",
            "_view_name": "StyleView",
            "bar_color": null,
            "description_width": ""
          }
        },
        "12b46f5637fa4b88a2560b4735714499": {
          "model_module": "@jupyter-widgets/base",
          "model_name": "LayoutModel",
          "model_module_version": "1.2.0",
          "state": {
            "_model_module": "@jupyter-widgets/base",
            "_model_module_version": "1.2.0",
            "_model_name": "LayoutModel",
            "_view_count": null,
            "_view_module": "@jupyter-widgets/base",
            "_view_module_version": "1.2.0",
            "_view_name": "LayoutView",
            "align_content": null,
            "align_items": null,
            "align_self": null,
            "border": null,
            "bottom": null,
            "display": null,
            "flex": null,
            "flex_flow": null,
            "grid_area": null,
            "grid_auto_columns": null,
            "grid_auto_flow": null,
            "grid_auto_rows": null,
            "grid_column": null,
            "grid_gap": null,
            "grid_row": null,
            "grid_template_areas": null,
            "grid_template_columns": null,
            "grid_template_rows": null,
            "height": null,
            "justify_content": null,
            "justify_items": null,
            "left": null,
            "margin": null,
            "max_height": null,
            "max_width": null,
            "min_height": null,
            "min_width": null,
            "object_fit": null,
            "object_position": null,
            "order": null,
            "overflow": null,
            "overflow_x": null,
            "overflow_y": null,
            "padding": null,
            "right": null,
            "top": null,
            "visibility": null,
            "width": null
          }
        },
        "94515408d4a34615a204a4cba683500a": {
          "model_module": "@jupyter-widgets/controls",
          "model_name": "DescriptionStyleModel",
          "model_module_version": "1.5.0",
          "state": {
            "_model_module": "@jupyter-widgets/controls",
            "_model_module_version": "1.5.0",
            "_model_name": "DescriptionStyleModel",
            "_view_count": null,
            "_view_module": "@jupyter-widgets/base",
            "_view_module_version": "1.2.0",
            "_view_name": "StyleView",
            "description_width": ""
          }
        },
        "68426e49f79445a598a51d7fcfa67456": {
          "model_module": "@jupyter-widgets/controls",
          "model_name": "HBoxModel",
          "model_module_version": "1.5.0",
          "state": {
            "_dom_classes": [],
            "_model_module": "@jupyter-widgets/controls",
            "_model_module_version": "1.5.0",
            "_model_name": "HBoxModel",
            "_view_count": null,
            "_view_module": "@jupyter-widgets/controls",
            "_view_module_version": "1.5.0",
            "_view_name": "HBoxView",
            "box_style": "",
            "children": [
              "IPY_MODEL_9ae7369eabf546dc98b96adbc1ce3dbb",
              "IPY_MODEL_9ad0d928d23e4abe9a53ace27485bf84",
              "IPY_MODEL_1e7712e306804d5192e216405d22771c"
            ],
            "layout": "IPY_MODEL_907f9e8dce9d4c3c8283d01e4e2206a0"
          }
        },
        "9ae7369eabf546dc98b96adbc1ce3dbb": {
          "model_module": "@jupyter-widgets/controls",
          "model_name": "HTMLModel",
          "model_module_version": "1.5.0",
          "state": {
            "_dom_classes": [],
            "_model_module": "@jupyter-widgets/controls",
            "_model_module_version": "1.5.0",
            "_model_name": "HTMLModel",
            "_view_count": null,
            "_view_module": "@jupyter-widgets/controls",
            "_view_module_version": "1.5.0",
            "_view_name": "HTMLView",
            "description": "",
            "description_tooltip": null,
            "layout": "IPY_MODEL_9d2bfbecfcb54727872bda63fa890705",
            "placeholder": "​",
            "style": "IPY_MODEL_8d23c7a051e04052ae635f506bc8f927",
            "value": ""
          }
        },
        "9ad0d928d23e4abe9a53ace27485bf84": {
          "model_module": "@jupyter-widgets/controls",
          "model_name": "FloatProgressModel",
          "model_module_version": "1.5.0",
          "state": {
            "_dom_classes": [],
            "_model_module": "@jupyter-widgets/controls",
            "_model_module_version": "1.5.0",
            "_model_name": "FloatProgressModel",
            "_view_count": null,
            "_view_module": "@jupyter-widgets/controls",
            "_view_module_version": "1.5.0",
            "_view_name": "ProgressView",
            "bar_style": "success",
            "description": "",
            "description_tooltip": null,
            "layout": "IPY_MODEL_9b3fd0eb44d9459ba408b8c7ce795fb9",
            "max": 1,
            "min": 0,
            "orientation": "horizontal",
            "style": "IPY_MODEL_3d5843d9fdba4ae7bb1bf966c890430c",
            "value": 1
          }
        },
        "1e7712e306804d5192e216405d22771c": {
          "model_module": "@jupyter-widgets/controls",
          "model_name": "HTMLModel",
          "model_module_version": "1.5.0",
          "state": {
            "_dom_classes": [],
            "_model_module": "@jupyter-widgets/controls",
            "_model_module_version": "1.5.0",
            "_model_name": "HTMLModel",
            "_view_count": null,
            "_view_module": "@jupyter-widgets/controls",
            "_view_module_version": "1.5.0",
            "_view_name": "HTMLView",
            "description": "",
            "description_tooltip": null,
            "layout": "IPY_MODEL_6c22dd4618f949edb290d890a14c7753",
            "placeholder": "​",
            "style": "IPY_MODEL_34ab4879271e42609f42453a8e89a066",
            "value": " 17/? [00:05&lt;00:00,  3.16it/s]"
          }
        },
        "907f9e8dce9d4c3c8283d01e4e2206a0": {
          "model_module": "@jupyter-widgets/base",
          "model_name": "LayoutModel",
          "model_module_version": "1.2.0",
          "state": {
            "_model_module": "@jupyter-widgets/base",
            "_model_module_version": "1.2.0",
            "_model_name": "LayoutModel",
            "_view_count": null,
            "_view_module": "@jupyter-widgets/base",
            "_view_module_version": "1.2.0",
            "_view_name": "LayoutView",
            "align_content": null,
            "align_items": null,
            "align_self": null,
            "border": null,
            "bottom": null,
            "display": null,
            "flex": null,
            "flex_flow": null,
            "grid_area": null,
            "grid_auto_columns": null,
            "grid_auto_flow": null,
            "grid_auto_rows": null,
            "grid_column": null,
            "grid_gap": null,
            "grid_row": null,
            "grid_template_areas": null,
            "grid_template_columns": null,
            "grid_template_rows": null,
            "height": null,
            "justify_content": null,
            "justify_items": null,
            "left": null,
            "margin": null,
            "max_height": null,
            "max_width": null,
            "min_height": null,
            "min_width": null,
            "object_fit": null,
            "object_position": null,
            "order": null,
            "overflow": null,
            "overflow_x": null,
            "overflow_y": null,
            "padding": null,
            "right": null,
            "top": null,
            "visibility": null,
            "width": null
          }
        },
        "9d2bfbecfcb54727872bda63fa890705": {
          "model_module": "@jupyter-widgets/base",
          "model_name": "LayoutModel",
          "model_module_version": "1.2.0",
          "state": {
            "_model_module": "@jupyter-widgets/base",
            "_model_module_version": "1.2.0",
            "_model_name": "LayoutModel",
            "_view_count": null,
            "_view_module": "@jupyter-widgets/base",
            "_view_module_version": "1.2.0",
            "_view_name": "LayoutView",
            "align_content": null,
            "align_items": null,
            "align_self": null,
            "border": null,
            "bottom": null,
            "display": null,
            "flex": null,
            "flex_flow": null,
            "grid_area": null,
            "grid_auto_columns": null,
            "grid_auto_flow": null,
            "grid_auto_rows": null,
            "grid_column": null,
            "grid_gap": null,
            "grid_row": null,
            "grid_template_areas": null,
            "grid_template_columns": null,
            "grid_template_rows": null,
            "height": null,
            "justify_content": null,
            "justify_items": null,
            "left": null,
            "margin": null,
            "max_height": null,
            "max_width": null,
            "min_height": null,
            "min_width": null,
            "object_fit": null,
            "object_position": null,
            "order": null,
            "overflow": null,
            "overflow_x": null,
            "overflow_y": null,
            "padding": null,
            "right": null,
            "top": null,
            "visibility": null,
            "width": null
          }
        },
        "8d23c7a051e04052ae635f506bc8f927": {
          "model_module": "@jupyter-widgets/controls",
          "model_name": "DescriptionStyleModel",
          "model_module_version": "1.5.0",
          "state": {
            "_model_module": "@jupyter-widgets/controls",
            "_model_module_version": "1.5.0",
            "_model_name": "DescriptionStyleModel",
            "_view_count": null,
            "_view_module": "@jupyter-widgets/base",
            "_view_module_version": "1.2.0",
            "_view_name": "StyleView",
            "description_width": ""
          }
        },
        "9b3fd0eb44d9459ba408b8c7ce795fb9": {
          "model_module": "@jupyter-widgets/base",
          "model_name": "LayoutModel",
          "model_module_version": "1.2.0",
          "state": {
            "_model_module": "@jupyter-widgets/base",
            "_model_module_version": "1.2.0",
            "_model_name": "LayoutModel",
            "_view_count": null,
            "_view_module": "@jupyter-widgets/base",
            "_view_module_version": "1.2.0",
            "_view_name": "LayoutView",
            "align_content": null,
            "align_items": null,
            "align_self": null,
            "border": null,
            "bottom": null,
            "display": null,
            "flex": null,
            "flex_flow": null,
            "grid_area": null,
            "grid_auto_columns": null,
            "grid_auto_flow": null,
            "grid_auto_rows": null,
            "grid_column": null,
            "grid_gap": null,
            "grid_row": null,
            "grid_template_areas": null,
            "grid_template_columns": null,
            "grid_template_rows": null,
            "height": null,
            "justify_content": null,
            "justify_items": null,
            "left": null,
            "margin": null,
            "max_height": null,
            "max_width": null,
            "min_height": null,
            "min_width": null,
            "object_fit": null,
            "object_position": null,
            "order": null,
            "overflow": null,
            "overflow_x": null,
            "overflow_y": null,
            "padding": null,
            "right": null,
            "top": null,
            "visibility": null,
            "width": "20px"
          }
        },
        "3d5843d9fdba4ae7bb1bf966c890430c": {
          "model_module": "@jupyter-widgets/controls",
          "model_name": "ProgressStyleModel",
          "model_module_version": "1.5.0",
          "state": {
            "_model_module": "@jupyter-widgets/controls",
            "_model_module_version": "1.5.0",
            "_model_name": "ProgressStyleModel",
            "_view_count": null,
            "_view_module": "@jupyter-widgets/base",
            "_view_module_version": "1.2.0",
            "_view_name": "StyleView",
            "bar_color": null,
            "description_width": ""
          }
        },
        "6c22dd4618f949edb290d890a14c7753": {
          "model_module": "@jupyter-widgets/base",
          "model_name": "LayoutModel",
          "model_module_version": "1.2.0",
          "state": {
            "_model_module": "@jupyter-widgets/base",
            "_model_module_version": "1.2.0",
            "_model_name": "LayoutModel",
            "_view_count": null,
            "_view_module": "@jupyter-widgets/base",
            "_view_module_version": "1.2.0",
            "_view_name": "LayoutView",
            "align_content": null,
            "align_items": null,
            "align_self": null,
            "border": null,
            "bottom": null,
            "display": null,
            "flex": null,
            "flex_flow": null,
            "grid_area": null,
            "grid_auto_columns": null,
            "grid_auto_flow": null,
            "grid_auto_rows": null,
            "grid_column": null,
            "grid_gap": null,
            "grid_row": null,
            "grid_template_areas": null,
            "grid_template_columns": null,
            "grid_template_rows": null,
            "height": null,
            "justify_content": null,
            "justify_items": null,
            "left": null,
            "margin": null,
            "max_height": null,
            "max_width": null,
            "min_height": null,
            "min_width": null,
            "object_fit": null,
            "object_position": null,
            "order": null,
            "overflow": null,
            "overflow_x": null,
            "overflow_y": null,
            "padding": null,
            "right": null,
            "top": null,
            "visibility": null,
            "width": null
          }
        },
        "34ab4879271e42609f42453a8e89a066": {
          "model_module": "@jupyter-widgets/controls",
          "model_name": "DescriptionStyleModel",
          "model_module_version": "1.5.0",
          "state": {
            "_model_module": "@jupyter-widgets/controls",
            "_model_module_version": "1.5.0",
            "_model_name": "DescriptionStyleModel",
            "_view_count": null,
            "_view_module": "@jupyter-widgets/base",
            "_view_module_version": "1.2.0",
            "_view_name": "StyleView",
            "description_width": ""
          }
        },
        "08687a0424a746a6aa13a6dea160edc8": {
          "model_module": "@jupyter-widgets/controls",
          "model_name": "HBoxModel",
          "model_module_version": "1.5.0",
          "state": {
            "_dom_classes": [],
            "_model_module": "@jupyter-widgets/controls",
            "_model_module_version": "1.5.0",
            "_model_name": "HBoxModel",
            "_view_count": null,
            "_view_module": "@jupyter-widgets/controls",
            "_view_module_version": "1.5.0",
            "_view_name": "HBoxView",
            "box_style": "",
            "children": [
              "IPY_MODEL_1818d961eef1494fa69468363383ea00",
              "IPY_MODEL_ef3d7687cfda49ba911cce31789f6a13",
              "IPY_MODEL_55008b13818441efb13f6aa677d59aa7"
            ],
            "layout": "IPY_MODEL_157cb22c17de4c4abdbb06563ac2190e"
          }
        },
        "1818d961eef1494fa69468363383ea00": {
          "model_module": "@jupyter-widgets/controls",
          "model_name": "HTMLModel",
          "model_module_version": "1.5.0",
          "state": {
            "_dom_classes": [],
            "_model_module": "@jupyter-widgets/controls",
            "_model_module_version": "1.5.0",
            "_model_name": "HTMLModel",
            "_view_count": null,
            "_view_module": "@jupyter-widgets/controls",
            "_view_module_version": "1.5.0",
            "_view_name": "HTMLView",
            "description": "",
            "description_tooltip": null,
            "layout": "IPY_MODEL_7256ce87f3904505b01c057f58a10281",
            "placeholder": "​",
            "style": "IPY_MODEL_438d0fc2a7814d888fc2c1c32421cdd3",
            "value": ""
          }
        },
        "ef3d7687cfda49ba911cce31789f6a13": {
          "model_module": "@jupyter-widgets/controls",
          "model_name": "FloatProgressModel",
          "model_module_version": "1.5.0",
          "state": {
            "_dom_classes": [],
            "_model_module": "@jupyter-widgets/controls",
            "_model_module_version": "1.5.0",
            "_model_name": "FloatProgressModel",
            "_view_count": null,
            "_view_module": "@jupyter-widgets/controls",
            "_view_module_version": "1.5.0",
            "_view_name": "ProgressView",
            "bar_style": "success",
            "description": "",
            "description_tooltip": null,
            "layout": "IPY_MODEL_62a88beb4b4d4123ac67a2e6f0f71b69",
            "max": 1,
            "min": 0,
            "orientation": "horizontal",
            "style": "IPY_MODEL_b32ea186566a40ddbd046f6c49f2eb65",
            "value": 1
          }
        },
        "55008b13818441efb13f6aa677d59aa7": {
          "model_module": "@jupyter-widgets/controls",
          "model_name": "HTMLModel",
          "model_module_version": "1.5.0",
          "state": {
            "_dom_classes": [],
            "_model_module": "@jupyter-widgets/controls",
            "_model_module_version": "1.5.0",
            "_model_name": "HTMLModel",
            "_view_count": null,
            "_view_module": "@jupyter-widgets/controls",
            "_view_module_version": "1.5.0",
            "_view_name": "HTMLView",
            "description": "",
            "description_tooltip": null,
            "layout": "IPY_MODEL_949f15290f89452e93d45e97c4044108",
            "placeholder": "​",
            "style": "IPY_MODEL_597eadff107c4960a17bb7d794501f3c",
            "value": " 17/? [00:08&lt;00:00,  1.57it/s]"
          }
        },
        "157cb22c17de4c4abdbb06563ac2190e": {
          "model_module": "@jupyter-widgets/base",
          "model_name": "LayoutModel",
          "model_module_version": "1.2.0",
          "state": {
            "_model_module": "@jupyter-widgets/base",
            "_model_module_version": "1.2.0",
            "_model_name": "LayoutModel",
            "_view_count": null,
            "_view_module": "@jupyter-widgets/base",
            "_view_module_version": "1.2.0",
            "_view_name": "LayoutView",
            "align_content": null,
            "align_items": null,
            "align_self": null,
            "border": null,
            "bottom": null,
            "display": null,
            "flex": null,
            "flex_flow": null,
            "grid_area": null,
            "grid_auto_columns": null,
            "grid_auto_flow": null,
            "grid_auto_rows": null,
            "grid_column": null,
            "grid_gap": null,
            "grid_row": null,
            "grid_template_areas": null,
            "grid_template_columns": null,
            "grid_template_rows": null,
            "height": null,
            "justify_content": null,
            "justify_items": null,
            "left": null,
            "margin": null,
            "max_height": null,
            "max_width": null,
            "min_height": null,
            "min_width": null,
            "object_fit": null,
            "object_position": null,
            "order": null,
            "overflow": null,
            "overflow_x": null,
            "overflow_y": null,
            "padding": null,
            "right": null,
            "top": null,
            "visibility": null,
            "width": null
          }
        },
        "7256ce87f3904505b01c057f58a10281": {
          "model_module": "@jupyter-widgets/base",
          "model_name": "LayoutModel",
          "model_module_version": "1.2.0",
          "state": {
            "_model_module": "@jupyter-widgets/base",
            "_model_module_version": "1.2.0",
            "_model_name": "LayoutModel",
            "_view_count": null,
            "_view_module": "@jupyter-widgets/base",
            "_view_module_version": "1.2.0",
            "_view_name": "LayoutView",
            "align_content": null,
            "align_items": null,
            "align_self": null,
            "border": null,
            "bottom": null,
            "display": null,
            "flex": null,
            "flex_flow": null,
            "grid_area": null,
            "grid_auto_columns": null,
            "grid_auto_flow": null,
            "grid_auto_rows": null,
            "grid_column": null,
            "grid_gap": null,
            "grid_row": null,
            "grid_template_areas": null,
            "grid_template_columns": null,
            "grid_template_rows": null,
            "height": null,
            "justify_content": null,
            "justify_items": null,
            "left": null,
            "margin": null,
            "max_height": null,
            "max_width": null,
            "min_height": null,
            "min_width": null,
            "object_fit": null,
            "object_position": null,
            "order": null,
            "overflow": null,
            "overflow_x": null,
            "overflow_y": null,
            "padding": null,
            "right": null,
            "top": null,
            "visibility": null,
            "width": null
          }
        },
        "438d0fc2a7814d888fc2c1c32421cdd3": {
          "model_module": "@jupyter-widgets/controls",
          "model_name": "DescriptionStyleModel",
          "model_module_version": "1.5.0",
          "state": {
            "_model_module": "@jupyter-widgets/controls",
            "_model_module_version": "1.5.0",
            "_model_name": "DescriptionStyleModel",
            "_view_count": null,
            "_view_module": "@jupyter-widgets/base",
            "_view_module_version": "1.2.0",
            "_view_name": "StyleView",
            "description_width": ""
          }
        },
        "62a88beb4b4d4123ac67a2e6f0f71b69": {
          "model_module": "@jupyter-widgets/base",
          "model_name": "LayoutModel",
          "model_module_version": "1.2.0",
          "state": {
            "_model_module": "@jupyter-widgets/base",
            "_model_module_version": "1.2.0",
            "_model_name": "LayoutModel",
            "_view_count": null,
            "_view_module": "@jupyter-widgets/base",
            "_view_module_version": "1.2.0",
            "_view_name": "LayoutView",
            "align_content": null,
            "align_items": null,
            "align_self": null,
            "border": null,
            "bottom": null,
            "display": null,
            "flex": null,
            "flex_flow": null,
            "grid_area": null,
            "grid_auto_columns": null,
            "grid_auto_flow": null,
            "grid_auto_rows": null,
            "grid_column": null,
            "grid_gap": null,
            "grid_row": null,
            "grid_template_areas": null,
            "grid_template_columns": null,
            "grid_template_rows": null,
            "height": null,
            "justify_content": null,
            "justify_items": null,
            "left": null,
            "margin": null,
            "max_height": null,
            "max_width": null,
            "min_height": null,
            "min_width": null,
            "object_fit": null,
            "object_position": null,
            "order": null,
            "overflow": null,
            "overflow_x": null,
            "overflow_y": null,
            "padding": null,
            "right": null,
            "top": null,
            "visibility": null,
            "width": "20px"
          }
        },
        "b32ea186566a40ddbd046f6c49f2eb65": {
          "model_module": "@jupyter-widgets/controls",
          "model_name": "ProgressStyleModel",
          "model_module_version": "1.5.0",
          "state": {
            "_model_module": "@jupyter-widgets/controls",
            "_model_module_version": "1.5.0",
            "_model_name": "ProgressStyleModel",
            "_view_count": null,
            "_view_module": "@jupyter-widgets/base",
            "_view_module_version": "1.2.0",
            "_view_name": "StyleView",
            "bar_color": null,
            "description_width": ""
          }
        },
        "949f15290f89452e93d45e97c4044108": {
          "model_module": "@jupyter-widgets/base",
          "model_name": "LayoutModel",
          "model_module_version": "1.2.0",
          "state": {
            "_model_module": "@jupyter-widgets/base",
            "_model_module_version": "1.2.0",
            "_model_name": "LayoutModel",
            "_view_count": null,
            "_view_module": "@jupyter-widgets/base",
            "_view_module_version": "1.2.0",
            "_view_name": "LayoutView",
            "align_content": null,
            "align_items": null,
            "align_self": null,
            "border": null,
            "bottom": null,
            "display": null,
            "flex": null,
            "flex_flow": null,
            "grid_area": null,
            "grid_auto_columns": null,
            "grid_auto_flow": null,
            "grid_auto_rows": null,
            "grid_column": null,
            "grid_gap": null,
            "grid_row": null,
            "grid_template_areas": null,
            "grid_template_columns": null,
            "grid_template_rows": null,
            "height": null,
            "justify_content": null,
            "justify_items": null,
            "left": null,
            "margin": null,
            "max_height": null,
            "max_width": null,
            "min_height": null,
            "min_width": null,
            "object_fit": null,
            "object_position": null,
            "order": null,
            "overflow": null,
            "overflow_x": null,
            "overflow_y": null,
            "padding": null,
            "right": null,
            "top": null,
            "visibility": null,
            "width": null
          }
        },
        "597eadff107c4960a17bb7d794501f3c": {
          "model_module": "@jupyter-widgets/controls",
          "model_name": "DescriptionStyleModel",
          "model_module_version": "1.5.0",
          "state": {
            "_model_module": "@jupyter-widgets/controls",
            "_model_module_version": "1.5.0",
            "_model_name": "DescriptionStyleModel",
            "_view_count": null,
            "_view_module": "@jupyter-widgets/base",
            "_view_module_version": "1.2.0",
            "_view_name": "StyleView",
            "description_width": ""
          }
        },
        "1adfc933b52143519e06f4dbbace4f4e": {
          "model_module": "@jupyter-widgets/controls",
          "model_name": "HBoxModel",
          "model_module_version": "1.5.0",
          "state": {
            "_dom_classes": [],
            "_model_module": "@jupyter-widgets/controls",
            "_model_module_version": "1.5.0",
            "_model_name": "HBoxModel",
            "_view_count": null,
            "_view_module": "@jupyter-widgets/controls",
            "_view_module_version": "1.5.0",
            "_view_name": "HBoxView",
            "box_style": "",
            "children": [
              "IPY_MODEL_4f050a02904f4544b1185180943b4f02",
              "IPY_MODEL_3454ee95860e4daba9de3233cb1e6faa",
              "IPY_MODEL_cfa83286d7554fa7b60a2766091863b3"
            ],
            "layout": "IPY_MODEL_f4d60bc54aa9458682502710941907cc"
          }
        },
        "4f050a02904f4544b1185180943b4f02": {
          "model_module": "@jupyter-widgets/controls",
          "model_name": "HTMLModel",
          "model_module_version": "1.5.0",
          "state": {
            "_dom_classes": [],
            "_model_module": "@jupyter-widgets/controls",
            "_model_module_version": "1.5.0",
            "_model_name": "HTMLModel",
            "_view_count": null,
            "_view_module": "@jupyter-widgets/controls",
            "_view_module_version": "1.5.0",
            "_view_name": "HTMLView",
            "description": "",
            "description_tooltip": null,
            "layout": "IPY_MODEL_3651326c9f554ff696fc735310394db7",
            "placeholder": "​",
            "style": "IPY_MODEL_b9f69d478dca4ed5b22fa91945adca0a",
            "value": ""
          }
        },
        "3454ee95860e4daba9de3233cb1e6faa": {
          "model_module": "@jupyter-widgets/controls",
          "model_name": "FloatProgressModel",
          "model_module_version": "1.5.0",
          "state": {
            "_dom_classes": [],
            "_model_module": "@jupyter-widgets/controls",
            "_model_module_version": "1.5.0",
            "_model_name": "FloatProgressModel",
            "_view_count": null,
            "_view_module": "@jupyter-widgets/controls",
            "_view_module_version": "1.5.0",
            "_view_name": "ProgressView",
            "bar_style": "success",
            "description": "",
            "description_tooltip": null,
            "layout": "IPY_MODEL_9013723981694abbb9bc149399b4b701",
            "max": 1,
            "min": 0,
            "orientation": "horizontal",
            "style": "IPY_MODEL_8f601bac916c4c649bb4f7da67248087",
            "value": 1
          }
        },
        "cfa83286d7554fa7b60a2766091863b3": {
          "model_module": "@jupyter-widgets/controls",
          "model_name": "HTMLModel",
          "model_module_version": "1.5.0",
          "state": {
            "_dom_classes": [],
            "_model_module": "@jupyter-widgets/controls",
            "_model_module_version": "1.5.0",
            "_model_name": "HTMLModel",
            "_view_count": null,
            "_view_module": "@jupyter-widgets/controls",
            "_view_module_version": "1.5.0",
            "_view_name": "HTMLView",
            "description": "",
            "description_tooltip": null,
            "layout": "IPY_MODEL_770fc54cad8146acabc46bfaf1e3bc9d",
            "placeholder": "​",
            "style": "IPY_MODEL_900b1c9f2d8843c990a293bc07d83a55",
            "value": " 17/? [00:09&lt;00:00,  1.81it/s]"
          }
        },
        "f4d60bc54aa9458682502710941907cc": {
          "model_module": "@jupyter-widgets/base",
          "model_name": "LayoutModel",
          "model_module_version": "1.2.0",
          "state": {
            "_model_module": "@jupyter-widgets/base",
            "_model_module_version": "1.2.0",
            "_model_name": "LayoutModel",
            "_view_count": null,
            "_view_module": "@jupyter-widgets/base",
            "_view_module_version": "1.2.0",
            "_view_name": "LayoutView",
            "align_content": null,
            "align_items": null,
            "align_self": null,
            "border": null,
            "bottom": null,
            "display": null,
            "flex": null,
            "flex_flow": null,
            "grid_area": null,
            "grid_auto_columns": null,
            "grid_auto_flow": null,
            "grid_auto_rows": null,
            "grid_column": null,
            "grid_gap": null,
            "grid_row": null,
            "grid_template_areas": null,
            "grid_template_columns": null,
            "grid_template_rows": null,
            "height": null,
            "justify_content": null,
            "justify_items": null,
            "left": null,
            "margin": null,
            "max_height": null,
            "max_width": null,
            "min_height": null,
            "min_width": null,
            "object_fit": null,
            "object_position": null,
            "order": null,
            "overflow": null,
            "overflow_x": null,
            "overflow_y": null,
            "padding": null,
            "right": null,
            "top": null,
            "visibility": null,
            "width": null
          }
        },
        "3651326c9f554ff696fc735310394db7": {
          "model_module": "@jupyter-widgets/base",
          "model_name": "LayoutModel",
          "model_module_version": "1.2.0",
          "state": {
            "_model_module": "@jupyter-widgets/base",
            "_model_module_version": "1.2.0",
            "_model_name": "LayoutModel",
            "_view_count": null,
            "_view_module": "@jupyter-widgets/base",
            "_view_module_version": "1.2.0",
            "_view_name": "LayoutView",
            "align_content": null,
            "align_items": null,
            "align_self": null,
            "border": null,
            "bottom": null,
            "display": null,
            "flex": null,
            "flex_flow": null,
            "grid_area": null,
            "grid_auto_columns": null,
            "grid_auto_flow": null,
            "grid_auto_rows": null,
            "grid_column": null,
            "grid_gap": null,
            "grid_row": null,
            "grid_template_areas": null,
            "grid_template_columns": null,
            "grid_template_rows": null,
            "height": null,
            "justify_content": null,
            "justify_items": null,
            "left": null,
            "margin": null,
            "max_height": null,
            "max_width": null,
            "min_height": null,
            "min_width": null,
            "object_fit": null,
            "object_position": null,
            "order": null,
            "overflow": null,
            "overflow_x": null,
            "overflow_y": null,
            "padding": null,
            "right": null,
            "top": null,
            "visibility": null,
            "width": null
          }
        },
        "b9f69d478dca4ed5b22fa91945adca0a": {
          "model_module": "@jupyter-widgets/controls",
          "model_name": "DescriptionStyleModel",
          "model_module_version": "1.5.0",
          "state": {
            "_model_module": "@jupyter-widgets/controls",
            "_model_module_version": "1.5.0",
            "_model_name": "DescriptionStyleModel",
            "_view_count": null,
            "_view_module": "@jupyter-widgets/base",
            "_view_module_version": "1.2.0",
            "_view_name": "StyleView",
            "description_width": ""
          }
        },
        "9013723981694abbb9bc149399b4b701": {
          "model_module": "@jupyter-widgets/base",
          "model_name": "LayoutModel",
          "model_module_version": "1.2.0",
          "state": {
            "_model_module": "@jupyter-widgets/base",
            "_model_module_version": "1.2.0",
            "_model_name": "LayoutModel",
            "_view_count": null,
            "_view_module": "@jupyter-widgets/base",
            "_view_module_version": "1.2.0",
            "_view_name": "LayoutView",
            "align_content": null,
            "align_items": null,
            "align_self": null,
            "border": null,
            "bottom": null,
            "display": null,
            "flex": null,
            "flex_flow": null,
            "grid_area": null,
            "grid_auto_columns": null,
            "grid_auto_flow": null,
            "grid_auto_rows": null,
            "grid_column": null,
            "grid_gap": null,
            "grid_row": null,
            "grid_template_areas": null,
            "grid_template_columns": null,
            "grid_template_rows": null,
            "height": null,
            "justify_content": null,
            "justify_items": null,
            "left": null,
            "margin": null,
            "max_height": null,
            "max_width": null,
            "min_height": null,
            "min_width": null,
            "object_fit": null,
            "object_position": null,
            "order": null,
            "overflow": null,
            "overflow_x": null,
            "overflow_y": null,
            "padding": null,
            "right": null,
            "top": null,
            "visibility": null,
            "width": "20px"
          }
        },
        "8f601bac916c4c649bb4f7da67248087": {
          "model_module": "@jupyter-widgets/controls",
          "model_name": "ProgressStyleModel",
          "model_module_version": "1.5.0",
          "state": {
            "_model_module": "@jupyter-widgets/controls",
            "_model_module_version": "1.5.0",
            "_model_name": "ProgressStyleModel",
            "_view_count": null,
            "_view_module": "@jupyter-widgets/base",
            "_view_module_version": "1.2.0",
            "_view_name": "StyleView",
            "bar_color": null,
            "description_width": ""
          }
        },
        "770fc54cad8146acabc46bfaf1e3bc9d": {
          "model_module": "@jupyter-widgets/base",
          "model_name": "LayoutModel",
          "model_module_version": "1.2.0",
          "state": {
            "_model_module": "@jupyter-widgets/base",
            "_model_module_version": "1.2.0",
            "_model_name": "LayoutModel",
            "_view_count": null,
            "_view_module": "@jupyter-widgets/base",
            "_view_module_version": "1.2.0",
            "_view_name": "LayoutView",
            "align_content": null,
            "align_items": null,
            "align_self": null,
            "border": null,
            "bottom": null,
            "display": null,
            "flex": null,
            "flex_flow": null,
            "grid_area": null,
            "grid_auto_columns": null,
            "grid_auto_flow": null,
            "grid_auto_rows": null,
            "grid_column": null,
            "grid_gap": null,
            "grid_row": null,
            "grid_template_areas": null,
            "grid_template_columns": null,
            "grid_template_rows": null,
            "height": null,
            "justify_content": null,
            "justify_items": null,
            "left": null,
            "margin": null,
            "max_height": null,
            "max_width": null,
            "min_height": null,
            "min_width": null,
            "object_fit": null,
            "object_position": null,
            "order": null,
            "overflow": null,
            "overflow_x": null,
            "overflow_y": null,
            "padding": null,
            "right": null,
            "top": null,
            "visibility": null,
            "width": null
          }
        },
        "900b1c9f2d8843c990a293bc07d83a55": {
          "model_module": "@jupyter-widgets/controls",
          "model_name": "DescriptionStyleModel",
          "model_module_version": "1.5.0",
          "state": {
            "_model_module": "@jupyter-widgets/controls",
            "_model_module_version": "1.5.0",
            "_model_name": "DescriptionStyleModel",
            "_view_count": null,
            "_view_module": "@jupyter-widgets/base",
            "_view_module_version": "1.2.0",
            "_view_name": "StyleView",
            "description_width": ""
          }
        }
      }
    }
  },
  "cells": [
    {
      "cell_type": "markdown",
      "metadata": {
        "id": "g4mZ8KYblg-g"
      },
      "source": [
        "#installing dependencies"
      ]
    },
    {
      "cell_type": "code",
      "metadata": {
        "colab": {
          "base_uri": "https://localhost:8080/"
        },
        "id": "C4tlwQ8si_FI",
        "outputId": "74ac8eb1-62d1-423f-bb67-9f0b3dc4136d"
      },
      "source": [
        "import torch\n",
        "\n",
        "# If there's a GPU available...\n",
        "if torch.cuda.is_available():\n",
        "\n",
        "    # Tell PyTorch to use the GPU.\n",
        "    device = torch.device(\"cuda\")\n",
        "    print('There are %d GPU(s) available.' % torch.cuda.device_count())\n",
        "    print('We will use the GPU:', torch.cuda.get_device_name(0))\n",
        "    !nvidia-smi\n",
        "# If not...\n",
        "else:\n",
        "    print('No GPU available, using the CPU instead.')\n",
        "    device = torch.device(\"cpu\")"
      ],
      "execution_count": 1,
      "outputs": [
        {
          "output_type": "stream",
          "name": "stdout",
          "text": [
            "There are 1 GPU(s) available.\n",
            "We will use the GPU: Tesla T4\n",
            "Sun Sep 29 11:00:12 2024       \n",
            "+---------------------------------------------------------------------------------------+\n",
            "| NVIDIA-SMI 535.104.05             Driver Version: 535.104.05   CUDA Version: 12.2     |\n",
            "|-----------------------------------------+----------------------+----------------------+\n",
            "| GPU  Name                 Persistence-M | Bus-Id        Disp.A | Volatile Uncorr. ECC |\n",
            "| Fan  Temp   Perf          Pwr:Usage/Cap |         Memory-Usage | GPU-Util  Compute M. |\n",
            "|                                         |                      |               MIG M. |\n",
            "|=========================================+======================+======================|\n",
            "|   0  Tesla T4                       Off | 00000000:00:04.0 Off |                    0 |\n",
            "| N/A   34C    P8              11W /  70W |      3MiB / 15360MiB |      0%      Default |\n",
            "|                                         |                      |                  N/A |\n",
            "+-----------------------------------------+----------------------+----------------------+\n",
            "                                                                                         \n",
            "+---------------------------------------------------------------------------------------+\n",
            "| Processes:                                                                            |\n",
            "|  GPU   GI   CI        PID   Type   Process name                            GPU Memory |\n",
            "|        ID   ID                                                             Usage      |\n",
            "|=======================================================================================|\n",
            "|  No running processes found                                                           |\n",
            "+---------------------------------------------------------------------------------------+\n"
          ]
        }
      ]
    },
    {
      "cell_type": "markdown",
      "metadata": {
        "id": "MaJf2e5VyNbK"
      },
      "source": [
        "This notebook works fine with transformers 4.12, it is not tested on newer versions"
      ]
    },
    {
      "cell_type": "code",
      "metadata": {
        "id": "y024z5AnlTLz",
        "outputId": "83489dc7-6e6a-41f9-b022-079fb7ad515e",
        "colab": {
          "base_uri": "https://localhost:8080/"
        }
      },
      "source": [
        "!pip install -q -U transformers==4.12.2 torchmetrics\n",
        "!pip install -q -U farasapy==0.0.14\n",
        "!pip install -q -U pyarabic==0.6.14\n",
        "!git clone https://github.com/aub-mind/arabert\n",
        "!pip install -q -U emoji==1.6.1\n",
        "!pip install -q -U sentencepiece==0.1.96"
      ],
      "execution_count": 38,
      "outputs": [
        {
          "output_type": "stream",
          "name": "stdout",
          "text": [
            "  Installing build dependencies ... \u001b[?25l\u001b[?25hdone\n",
            "  Getting requirements to build wheel ... \u001b[?25l\u001b[?25hdone\n",
            "  Preparing metadata (pyproject.toml) ... \u001b[?25l\u001b[?25hdone\n",
            "\u001b[2K   \u001b[90m━━━━━━━━━━━━━━━━━━━━━━━━━━━━━━━━━━━━━━━━\u001b[0m \u001b[32m869.2/869.2 kB\u001b[0m \u001b[31m12.7 MB/s\u001b[0m eta \u001b[36m0:00:00\u001b[0m\n",
            "\u001b[?25h  \u001b[1;31merror\u001b[0m: \u001b[1msubprocess-exited-with-error\u001b[0m\n",
            "  \n",
            "  \u001b[31m×\u001b[0m \u001b[32mBuilding wheel for tokenizers \u001b[0m\u001b[1;32m(\u001b[0m\u001b[32mpyproject.toml\u001b[0m\u001b[1;32m)\u001b[0m did not run successfully.\n",
            "  \u001b[31m│\u001b[0m exit code: \u001b[1;36m1\u001b[0m\n",
            "  \u001b[31m╰─>\u001b[0m See above for output.\n",
            "  \n",
            "  \u001b[1;35mnote\u001b[0m: This error originates from a subprocess, and is likely not a problem with pip.\n",
            "  Building wheel for tokenizers (pyproject.toml) ... \u001b[?25l\u001b[?25herror\n",
            "\u001b[31m  ERROR: Failed building wheel for tokenizers\u001b[0m\u001b[31m\n",
            "\u001b[0m\u001b[31mERROR: ERROR: Failed to build installable wheels for some pyproject.toml based projects (tokenizers)\u001b[0m\u001b[31m\n",
            "\u001b[0mfatal: destination path 'arabert' already exists and is not an empty directory.\n"
          ]
        }
      ]
    },
    {
      "cell_type": "markdown",
      "metadata": {
        "id": "3f3KKtL5yMub"
      },
      "source": [
        "Let's download some Arabic text classification datasets"
      ]
    },
    {
      "cell_type": "code",
      "metadata": {
        "id": "Qpdi0DENyLmt",
        "colab": {
          "base_uri": "https://localhost:8080/"
        },
        "outputId": "db8f870c-68ca-412b-ece5-190eb015436e"
      },
      "source": [
        "!git clone https://github.com/elnagara/HARD-Arabic-Dataset\n",
        "!git clone https://github.com/mahmoudnabil/ASTD\n",
        "!git clone https://github.com/nora-twairesh/AraSenti\n",
        "!git clone https://github.com/mohamedadaly/LABR\n",
        "!wget http://homepages.inf.ed.ac.uk/wmagdy/Resources/ArSAS.zip\n",
        "!unzip ArSAS.zip\n",
        "!unrar x '/content/HARD-Arabic-Dataset/data/unbalanced-reviews.rar'\n",
        "!unzip '/content/HARD-Arabic-Dataset/data/balanced-reviews.zip'"
      ],
      "execution_count": 3,
      "outputs": [
        {
          "output_type": "stream",
          "name": "stdout",
          "text": [
            "Cloning into 'HARD-Arabic-Dataset'...\n",
            "remote: Enumerating objects: 100, done.\u001b[K\n",
            "remote: Total 100 (delta 0), reused 0 (delta 0), pack-reused 100 (from 1)\u001b[K\n",
            "Receiving objects: 100% (100/100), 116.36 MiB | 24.02 MiB/s, done.\n",
            "Resolving deltas: 100% (35/35), done.\n",
            "Cloning into 'ASTD'...\n",
            "remote: Enumerating objects: 29, done.\u001b[K\n",
            "remote: Total 29 (delta 0), reused 0 (delta 0), pack-reused 29 (from 1)\u001b[K\n",
            "Receiving objects: 100% (29/29), 558.04 KiB | 1.57 MiB/s, done.\n",
            "Resolving deltas: 100% (6/6), done.\n",
            "Cloning into 'AraSenti'...\n",
            "remote: Enumerating objects: 20, done.\u001b[K\n",
            "remote: Total 20 (delta 0), reused 0 (delta 0), pack-reused 20 (from 1)\u001b[K\n",
            "Receiving objects: 100% (20/20), 1.69 MiB | 3.71 MiB/s, done.\n",
            "Resolving deltas: 100% (2/2), done.\n",
            "Cloning into 'LABR'...\n",
            "remote: Enumerating objects: 37, done.\u001b[K\n",
            "remote: Total 37 (delta 0), reused 0 (delta 0), pack-reused 37 (from 1)\u001b[K\n",
            "Receiving objects: 100% (37/37), 12.32 MiB | 5.20 MiB/s, done.\n",
            "Resolving deltas: 100% (12/12), done.\n",
            "--2024-09-29 11:01:17--  http://homepages.inf.ed.ac.uk/wmagdy/Resources/ArSAS.zip\n",
            "Resolving homepages.inf.ed.ac.uk (homepages.inf.ed.ac.uk)... 129.215.32.113\n",
            "Connecting to homepages.inf.ed.ac.uk (homepages.inf.ed.ac.uk)|129.215.32.113|:80... connected.\n",
            "HTTP request sent, awaiting response... 301 Moved Permanently\n",
            "Location: https://homepages.inf.ed.ac.uk/wmagdy/Resources/ArSAS.zip [following]\n",
            "--2024-09-29 11:01:17--  https://homepages.inf.ed.ac.uk/wmagdy/Resources/ArSAS.zip\n",
            "Connecting to homepages.inf.ed.ac.uk (homepages.inf.ed.ac.uk)|129.215.32.113|:443... connected.\n",
            "HTTP request sent, awaiting response... 200 OK\n",
            "Length: 1905723 (1.8M) [application/zip]\n",
            "Saving to: ‘ArSAS.zip’\n",
            "\n",
            "ArSAS.zip           100%[===================>]   1.82M  1.74MB/s    in 1.0s    \n",
            "\n",
            "2024-09-29 11:01:19 (1.74 MB/s) - ‘ArSAS.zip’ saved [1905723/1905723]\n",
            "\n",
            "Archive:  ArSAS.zip\n",
            "  inflating: ArSAS..txt              \n",
            "\n",
            "UNRAR 6.11 beta 1 freeware      Copyright (c) 1993-2022 Alexander Roshal\n",
            "\n",
            "\n",
            "Extracting from /content/HARD-Arabic-Dataset/data/unbalanced-reviews.rar\n",
            "\n",
            "Extracting  unbalanced-reviews.txt                                       \b\b\b\b  0%\b\b\b\b  1%\b\b\b\b  2%\b\b\b\b  3%\b\b\b\b  4%\b\b\b\b  5%\b\b\b\b  6%\b\b\b\b  7%\b\b\b\b  8%\b\b\b\b  9%\b\b\b\b 10%\b\b\b\b 11%\b\b\b\b 12%\b\b\b\b 13%\b\b\b\b 14%\b\b\b\b 15%\b\b\b\b 16%\b\b\b\b 17%\b\b\b\b 18%\b\b\b\b 19%\b\b\b\b 20%\b\b\b\b 21%\b\b\b\b 22%\b\b\b\b 23%\b\b\b\b 24%\b\b\b\b 25%\b\b\b\b 26%\b\b\b\b 27%\b\b\b\b 28%\b\b\b\b 29%\b\b\b\b 30%\b\b\b\b 31%\b\b\b\b 32%\b\b\b\b 33%\b\b\b\b 34%\b\b\b\b 35%\b\b\b\b 36%\b\b\b\b 37%\b\b\b\b 38%\b\b\b\b 39%\b\b\b\b 40%\b\b\b\b 41%\b\b\b\b 42%\b\b\b\b 43%\b\b\b\b 44%\b\b\b\b 45%\b\b\b\b 46%\b\b\b\b 47%\b\b\b\b 48%\b\b\b\b 49%\b\b\b\b 50%\b\b\b\b 51%\b\b\b\b 52%\b\b\b\b 53%\b\b\b\b 54%\b\b\b\b 55%\b\b\b\b 56%\b\b\b\b 57%\b\b\b\b 58%\b\b\b\b 59%\b\b\b\b 60%\b\b\b\b 61%\b\b\b\b 62%\b\b\b\b 63%\b\b\b\b 64%\b\b\b\b 65%\b\b\b\b 66%\b\b\b\b 67%\b\b\b\b 68%\b\b\b\b 69%\b\b\b\b 70%\b\b\b\b 71%\b\b\b\b 72%\b\b\b\b 73%\b\b\b\b 74%\b\b\b\b 75%\b\b\b\b 76%\b\b\b\b 77%\b\b\b\b 78%\b\b\b\b 79%\b\b\b\b 80%\b\b\b\b 81%\b\b\b\b 82%\b\b\b\b 83%\b\b\b\b 84%\b\b\b\b 85%\b\b\b\b 86%\b\b\b\b 87%\b\b\b\b 88%\b\b\b\b 89%\b\b\b\b 90%\b\b\b\b 91%\b\b\b\b 92%\b\b\b\b 93%\b\b\b\b 94%\b\b\b\b 95%\b\b\b\b 96%\b\b\b\b 97%\b\b\b\b 98%\b\b\b\b 99%\b\b\b\b100%\b\b\b\b\b  OK \n",
            "All OK\n",
            "Archive:  /content/HARD-Arabic-Dataset/data/balanced-reviews.zip\n",
            "  inflating: balanced-reviews.txt    \n"
          ]
        }
      ]
    },
    {
      "cell_type": "markdown",
      "metadata": {
        "id": "TVay9KamnC3I"
      },
      "source": [
        "#Creating training datasets"
      ]
    },
    {
      "cell_type": "code",
      "metadata": {
        "id": "hr84ozGinCFh"
      },
      "source": [
        "import pandas as pd\n",
        "import numpy as np\n",
        "from typing import List\n",
        "from tqdm import tqdm_notebook as tqdm\n",
        "from sklearn.model_selection import train_test_split"
      ],
      "execution_count": 4,
      "outputs": []
    },
    {
      "cell_type": "markdown",
      "metadata": {
        "id": "3jD0IueryovK"
      },
      "source": [
        "This custom dataset class will help us hold our datasets in a structred manner.\n",
        "It's not necessary to use it with your own data"
      ]
    },
    {
      "cell_type": "code",
      "metadata": {
        "id": "8PhWP2JzrEci"
      },
      "source": [
        "class CustomDataset:\n",
        "    def __init__(\n",
        "        self,\n",
        "        name: str,\n",
        "        train: List[pd.DataFrame],\n",
        "        test: List[pd.DataFrame],\n",
        "        label_list: List[str],\n",
        "    ):\n",
        "        \"\"\"Class to hold and structure datasets.\n",
        "\n",
        "        Args:\n",
        "\n",
        "        name (str): holds the name of the dataset so we can select it later\n",
        "        train (List[pd.DataFrame]): holds training pandas dataframe with 2 columns [\"text\",\"label\"]\n",
        "        test (List[pd.DataFrame]): holds testing pandas dataframe with 2 columns [\"text\",\"label\"]\n",
        "        label_list (List[str]): holds the list  of labels\n",
        "        \"\"\"\n",
        "        self.name = name\n",
        "        self.train = train\n",
        "        self.test = test\n",
        "        self.label_list = label_list"
      ],
      "execution_count": 5,
      "outputs": []
    },
    {
      "cell_type": "code",
      "metadata": {
        "id": "-WYy5ikAs7l3"
      },
      "source": [
        "# This will hold all the downloaded and structred datasets\n",
        "all_datasets= []\n",
        "DATA_COLUMN = \"text\"\n",
        "LABEL_COLUMN = \"label\""
      ],
      "execution_count": 6,
      "outputs": []
    },
    {
      "cell_type": "markdown",
      "metadata": {
        "id": "3sHrgqmOzZ-4"
      },
      "source": [
        "You can choose which ever dataset you like or use your own.\n",
        "At this stage we don't do any preprocessing on the text, this is done later when loading the text."
      ]
    },
    {
      "cell_type": "markdown",
      "metadata": {
        "id": "joWPYWGMqLau"
      },
      "source": [
        "##HARD - Balanced"
      ]
    },
    {
      "cell_type": "code",
      "source": [
        "df_HARD = pd.read_excel(\"/content/combine_claass_df_balnce.xlsx\")\n",
        "df_HARD.head()"
      ],
      "metadata": {
        "id": "ahr4W_2rKFPs",
        "outputId": "a65428c5-2481-404d-e995-b63d86f2703a",
        "colab": {
          "base_uri": "https://localhost:8080/",
          "height": 206
        }
      },
      "execution_count": 7,
      "outputs": [
        {
          "output_type": "execute_result",
          "data": {
            "text/plain": [
              "   Unnamed: 0                                               text  \\\n",
              "0           0   وليد عبدالله العتيبي مستشفي عفيف العام شركه ا...   \n",
              "1           1   تنبيه باخلاء المسءوليه هذه الرساله ومرفقاتها ...   \n",
              "2           2  الاخوه الزملاء السلام عليكم ورحمه الله وبركاته...   \n",
              "3           3   تنبيه باخلاء المسءوليه هذه الرساله ومرفقاتها ...   \n",
              "4           4   تنبيه باخلاء المسءوليه هذه الرساله ومرفقاتها ...   \n",
              "\n",
              "                      label  \n",
              "0           Computer Issues  \n",
              "1  Peripheral Device Issues  \n",
              "2           Security Alerts  \n",
              "3             Uncategorized  \n",
              "4            Printer Issues  "
            ],
            "text/html": [
              "\n",
              "  <div id=\"df-8253aac2-e971-4984-b97f-b2c84b2805b9\" class=\"colab-df-container\">\n",
              "    <div>\n",
              "<style scoped>\n",
              "    .dataframe tbody tr th:only-of-type {\n",
              "        vertical-align: middle;\n",
              "    }\n",
              "\n",
              "    .dataframe tbody tr th {\n",
              "        vertical-align: top;\n",
              "    }\n",
              "\n",
              "    .dataframe thead th {\n",
              "        text-align: right;\n",
              "    }\n",
              "</style>\n",
              "<table border=\"1\" class=\"dataframe\">\n",
              "  <thead>\n",
              "    <tr style=\"text-align: right;\">\n",
              "      <th></th>\n",
              "      <th>Unnamed: 0</th>\n",
              "      <th>text</th>\n",
              "      <th>label</th>\n",
              "    </tr>\n",
              "  </thead>\n",
              "  <tbody>\n",
              "    <tr>\n",
              "      <th>0</th>\n",
              "      <td>0</td>\n",
              "      <td>وليد عبدالله العتيبي مستشفي عفيف العام شركه ا...</td>\n",
              "      <td>Computer Issues</td>\n",
              "    </tr>\n",
              "    <tr>\n",
              "      <th>1</th>\n",
              "      <td>1</td>\n",
              "      <td>تنبيه باخلاء المسءوليه هذه الرساله ومرفقاتها ...</td>\n",
              "      <td>Peripheral Device Issues</td>\n",
              "    </tr>\n",
              "    <tr>\n",
              "      <th>2</th>\n",
              "      <td>2</td>\n",
              "      <td>الاخوه الزملاء السلام عليكم ورحمه الله وبركاته...</td>\n",
              "      <td>Security Alerts</td>\n",
              "    </tr>\n",
              "    <tr>\n",
              "      <th>3</th>\n",
              "      <td>3</td>\n",
              "      <td>تنبيه باخلاء المسءوليه هذه الرساله ومرفقاتها ...</td>\n",
              "      <td>Uncategorized</td>\n",
              "    </tr>\n",
              "    <tr>\n",
              "      <th>4</th>\n",
              "      <td>4</td>\n",
              "      <td>تنبيه باخلاء المسءوليه هذه الرساله ومرفقاتها ...</td>\n",
              "      <td>Printer Issues</td>\n",
              "    </tr>\n",
              "  </tbody>\n",
              "</table>\n",
              "</div>\n",
              "    <div class=\"colab-df-buttons\">\n",
              "\n",
              "  <div class=\"colab-df-container\">\n",
              "    <button class=\"colab-df-convert\" onclick=\"convertToInteractive('df-8253aac2-e971-4984-b97f-b2c84b2805b9')\"\n",
              "            title=\"Convert this dataframe to an interactive table.\"\n",
              "            style=\"display:none;\">\n",
              "\n",
              "  <svg xmlns=\"http://www.w3.org/2000/svg\" height=\"24px\" viewBox=\"0 -960 960 960\">\n",
              "    <path d=\"M120-120v-720h720v720H120Zm60-500h600v-160H180v160Zm220 220h160v-160H400v160Zm0 220h160v-160H400v160ZM180-400h160v-160H180v160Zm440 0h160v-160H620v160ZM180-180h160v-160H180v160Zm440 0h160v-160H620v160Z\"/>\n",
              "  </svg>\n",
              "    </button>\n",
              "\n",
              "  <style>\n",
              "    .colab-df-container {\n",
              "      display:flex;\n",
              "      gap: 12px;\n",
              "    }\n",
              "\n",
              "    .colab-df-convert {\n",
              "      background-color: #E8F0FE;\n",
              "      border: none;\n",
              "      border-radius: 50%;\n",
              "      cursor: pointer;\n",
              "      display: none;\n",
              "      fill: #1967D2;\n",
              "      height: 32px;\n",
              "      padding: 0 0 0 0;\n",
              "      width: 32px;\n",
              "    }\n",
              "\n",
              "    .colab-df-convert:hover {\n",
              "      background-color: #E2EBFA;\n",
              "      box-shadow: 0px 1px 2px rgba(60, 64, 67, 0.3), 0px 1px 3px 1px rgba(60, 64, 67, 0.15);\n",
              "      fill: #174EA6;\n",
              "    }\n",
              "\n",
              "    .colab-df-buttons div {\n",
              "      margin-bottom: 4px;\n",
              "    }\n",
              "\n",
              "    [theme=dark] .colab-df-convert {\n",
              "      background-color: #3B4455;\n",
              "      fill: #D2E3FC;\n",
              "    }\n",
              "\n",
              "    [theme=dark] .colab-df-convert:hover {\n",
              "      background-color: #434B5C;\n",
              "      box-shadow: 0px 1px 3px 1px rgba(0, 0, 0, 0.15);\n",
              "      filter: drop-shadow(0px 1px 2px rgba(0, 0, 0, 0.3));\n",
              "      fill: #FFFFFF;\n",
              "    }\n",
              "  </style>\n",
              "\n",
              "    <script>\n",
              "      const buttonEl =\n",
              "        document.querySelector('#df-8253aac2-e971-4984-b97f-b2c84b2805b9 button.colab-df-convert');\n",
              "      buttonEl.style.display =\n",
              "        google.colab.kernel.accessAllowed ? 'block' : 'none';\n",
              "\n",
              "      async function convertToInteractive(key) {\n",
              "        const element = document.querySelector('#df-8253aac2-e971-4984-b97f-b2c84b2805b9');\n",
              "        const dataTable =\n",
              "          await google.colab.kernel.invokeFunction('convertToInteractive',\n",
              "                                                    [key], {});\n",
              "        if (!dataTable) return;\n",
              "\n",
              "        const docLinkHtml = 'Like what you see? Visit the ' +\n",
              "          '<a target=\"_blank\" href=https://colab.research.google.com/notebooks/data_table.ipynb>data table notebook</a>'\n",
              "          + ' to learn more about interactive tables.';\n",
              "        element.innerHTML = '';\n",
              "        dataTable['output_type'] = 'display_data';\n",
              "        await google.colab.output.renderOutput(dataTable, element);\n",
              "        const docLink = document.createElement('div');\n",
              "        docLink.innerHTML = docLinkHtml;\n",
              "        element.appendChild(docLink);\n",
              "      }\n",
              "    </script>\n",
              "  </div>\n",
              "\n",
              "\n",
              "<div id=\"df-fe0cd1fa-ba1c-4972-b553-e9f48040db39\">\n",
              "  <button class=\"colab-df-quickchart\" onclick=\"quickchart('df-fe0cd1fa-ba1c-4972-b553-e9f48040db39')\"\n",
              "            title=\"Suggest charts\"\n",
              "            style=\"display:none;\">\n",
              "\n",
              "<svg xmlns=\"http://www.w3.org/2000/svg\" height=\"24px\"viewBox=\"0 0 24 24\"\n",
              "     width=\"24px\">\n",
              "    <g>\n",
              "        <path d=\"M19 3H5c-1.1 0-2 .9-2 2v14c0 1.1.9 2 2 2h14c1.1 0 2-.9 2-2V5c0-1.1-.9-2-2-2zM9 17H7v-7h2v7zm4 0h-2V7h2v10zm4 0h-2v-4h2v4z\"/>\n",
              "    </g>\n",
              "</svg>\n",
              "  </button>\n",
              "\n",
              "<style>\n",
              "  .colab-df-quickchart {\n",
              "      --bg-color: #E8F0FE;\n",
              "      --fill-color: #1967D2;\n",
              "      --hover-bg-color: #E2EBFA;\n",
              "      --hover-fill-color: #174EA6;\n",
              "      --disabled-fill-color: #AAA;\n",
              "      --disabled-bg-color: #DDD;\n",
              "  }\n",
              "\n",
              "  [theme=dark] .colab-df-quickchart {\n",
              "      --bg-color: #3B4455;\n",
              "      --fill-color: #D2E3FC;\n",
              "      --hover-bg-color: #434B5C;\n",
              "      --hover-fill-color: #FFFFFF;\n",
              "      --disabled-bg-color: #3B4455;\n",
              "      --disabled-fill-color: #666;\n",
              "  }\n",
              "\n",
              "  .colab-df-quickchart {\n",
              "    background-color: var(--bg-color);\n",
              "    border: none;\n",
              "    border-radius: 50%;\n",
              "    cursor: pointer;\n",
              "    display: none;\n",
              "    fill: var(--fill-color);\n",
              "    height: 32px;\n",
              "    padding: 0;\n",
              "    width: 32px;\n",
              "  }\n",
              "\n",
              "  .colab-df-quickchart:hover {\n",
              "    background-color: var(--hover-bg-color);\n",
              "    box-shadow: 0 1px 2px rgba(60, 64, 67, 0.3), 0 1px 3px 1px rgba(60, 64, 67, 0.15);\n",
              "    fill: var(--button-hover-fill-color);\n",
              "  }\n",
              "\n",
              "  .colab-df-quickchart-complete:disabled,\n",
              "  .colab-df-quickchart-complete:disabled:hover {\n",
              "    background-color: var(--disabled-bg-color);\n",
              "    fill: var(--disabled-fill-color);\n",
              "    box-shadow: none;\n",
              "  }\n",
              "\n",
              "  .colab-df-spinner {\n",
              "    border: 2px solid var(--fill-color);\n",
              "    border-color: transparent;\n",
              "    border-bottom-color: var(--fill-color);\n",
              "    animation:\n",
              "      spin 1s steps(1) infinite;\n",
              "  }\n",
              "\n",
              "  @keyframes spin {\n",
              "    0% {\n",
              "      border-color: transparent;\n",
              "      border-bottom-color: var(--fill-color);\n",
              "      border-left-color: var(--fill-color);\n",
              "    }\n",
              "    20% {\n",
              "      border-color: transparent;\n",
              "      border-left-color: var(--fill-color);\n",
              "      border-top-color: var(--fill-color);\n",
              "    }\n",
              "    30% {\n",
              "      border-color: transparent;\n",
              "      border-left-color: var(--fill-color);\n",
              "      border-top-color: var(--fill-color);\n",
              "      border-right-color: var(--fill-color);\n",
              "    }\n",
              "    40% {\n",
              "      border-color: transparent;\n",
              "      border-right-color: var(--fill-color);\n",
              "      border-top-color: var(--fill-color);\n",
              "    }\n",
              "    60% {\n",
              "      border-color: transparent;\n",
              "      border-right-color: var(--fill-color);\n",
              "    }\n",
              "    80% {\n",
              "      border-color: transparent;\n",
              "      border-right-color: var(--fill-color);\n",
              "      border-bottom-color: var(--fill-color);\n",
              "    }\n",
              "    90% {\n",
              "      border-color: transparent;\n",
              "      border-bottom-color: var(--fill-color);\n",
              "    }\n",
              "  }\n",
              "</style>\n",
              "\n",
              "  <script>\n",
              "    async function quickchart(key) {\n",
              "      const quickchartButtonEl =\n",
              "        document.querySelector('#' + key + ' button');\n",
              "      quickchartButtonEl.disabled = true;  // To prevent multiple clicks.\n",
              "      quickchartButtonEl.classList.add('colab-df-spinner');\n",
              "      try {\n",
              "        const charts = await google.colab.kernel.invokeFunction(\n",
              "            'suggestCharts', [key], {});\n",
              "      } catch (error) {\n",
              "        console.error('Error during call to suggestCharts:', error);\n",
              "      }\n",
              "      quickchartButtonEl.classList.remove('colab-df-spinner');\n",
              "      quickchartButtonEl.classList.add('colab-df-quickchart-complete');\n",
              "    }\n",
              "    (() => {\n",
              "      let quickchartButtonEl =\n",
              "        document.querySelector('#df-fe0cd1fa-ba1c-4972-b553-e9f48040db39 button');\n",
              "      quickchartButtonEl.style.display =\n",
              "        google.colab.kernel.accessAllowed ? 'block' : 'none';\n",
              "    })();\n",
              "  </script>\n",
              "</div>\n",
              "\n",
              "    </div>\n",
              "  </div>\n"
            ],
            "application/vnd.google.colaboratory.intrinsic+json": {
              "type": "dataframe",
              "variable_name": "df_HARD",
              "summary": "{\n  \"name\": \"df_HARD\",\n  \"rows\": 2680,\n  \"fields\": [\n    {\n      \"column\": \"Unnamed: 0\",\n      \"properties\": {\n        \"dtype\": \"number\",\n        \"std\": 773,\n        \"min\": 0,\n        \"max\": 2679,\n        \"num_unique_values\": 2680,\n        \"samples\": [\n          1064,\n          1674,\n          2021\n        ],\n        \"semantic_type\": \"\",\n        \"description\": \"\"\n      }\n    },\n    {\n      \"column\": \"text\",\n      \"properties\": {\n        \"dtype\": \"category\",\n        \"num_unique_values\": 837,\n        \"samples\": [\n          \"\\u0644\\u0644\\u062a\\u0630\\u0643\\u064a\\u0631 \\u0645\\u0646 \\u0627\\u062f\\u0627\\u0631\\u0647 \\u062a\\u0642\\u0646\\u064a\\u0647 \\u0627\\u0644\\u0645\\u0639\\u0644\\u0648\\u0645\\u0627\\u062a \\u0628\\u0645\\u0633\\u062a\\u0634\\u0641\\u064a \\u0627\\u0644\\u0648\\u0644\\u0627\\u062f\\u0647 \\u0648\\u0627\\u0644\\u0627\\u0637\\u0641\\u0627\\u0644 \\u0628\\u0628\\u0631\\u064a\\u062f\\u0647 \\u200f\\u200f\\u062a\\u0645 \\u0627\\u0644\\u0627\\u0631\\u0633\\u0627\\u0644 \\u0631\\u062c\\u0628 \\u0645 \\u0627\\u0644\\u064a \\u0637\\u0644\\u0628 \\u0627\\u0646\\u0634\\u0627\\u0621 \\u0646\\u0642\\u0627\\u0637 \\u0634\\u0628\\u0643\\u0647 \\u0644\\u0633\\u0644\\u0627\\u0645 \\u0639\\u0644\\u064a\\u0643\\u0645 \\u0627\\u0644\\u0627\\u062e\\u0648\\u0647 \\u0627\\u0644\\u0627\\u0639\\u0632\\u0627\\u0621 \\u0627\\u0644\\u0631\\u062c\\u0627\\u0621 \\u062a\\u0648\\u0635\\u064a\\u0644 \\u0639\\u062f\\u062f \\u0646\\u0642\\u0637\\u0647 \\u0634\\u0628\\u0643\\u0647 \\u062c\\u062f\\u064a\\u062f\\u0647 \\u0628\\u0634\\u0643\\u0644 \\u0639\\u0627\\u062c\\u0644 \\u0644\\u0644\\u062a\\u0648\\u0627\\u0635\\u0644 \\u062a\\u0646\\u0628\\u064a\\u0647 \\u0628\\u0627\\u062e\\u0644\\u0627\\u0621 \\u0627\\u0644\\u0645\\u0633\\u0621\\u0648\\u0644\\u064a\\u0647 \\u0647\\u0630\\u0647 \\u0627\\u0644\\u0631\\u0633\\u0627\\u0644\\u0647 \\u0648\\u0645\\u0631\\u0641\\u0642\\u0627\\u062a\\u0647\\u0627 \\u0645\\u0639\\u062f\\u0647 \\u0644\\u0627\\u0633\\u062a\\u062e\\u062f\\u0627\\u0645 \\u0627\\u0644\\u0645\\u0631\\u0633\\u0644 \\u0627\\u0644\\u064a\\u0647 \\u0627\\u0644\\u0645\\u0642\\u0635\\u0648\\u062f \\u0628\\u0627\\u0644\\u0631\\u0633\\u0627\\u0644\\u0647 \\u0641\\u0642\\u0637 \\u0648 \\u0642\\u062f \\u062a\\u062d\\u062a\\u0648\\u064a \\u0639\\u0644\\u064a \\u0645\\u0639\\u0644\\u0648\\u0645\\u0627\\u062a \\u0633\\u0631\\u064a\\u0647 \\u0627\\u0648 \\u0645\\u062d\\u0645\\u064a\\u0647 \\u0642\\u0627\\u0646\\u0648\\u0646\\u064a\\u0627 \\u0627\\u0646 \\u0644\\u0645 \\u062a\\u0643\\u0646 \\u0627\\u0644\\u0634\\u062e\\u0635 \\u0627\\u0644\\u0645\\u0642\\u0635\\u0648\\u062f \\u0641\\u0627\\u0646\\u0647 \\u064a\\u0645\\u0646\\u0639 \\u0645\\u0646\\u0639\\u0627 \\u0628\\u0627\\u062a\\u0627 \\u0627\\u064a \\u0639\\u0631\\u0636 \\u0627\\u0648 \\u0646\\u0634\\u0631 \\u0627\\u0648 \\u0627\\u0633\\u062a\\u062e\\u062f\\u0627\\u0645 \\u063a\\u064a\\u0631 \\u0645\\u0635\\u0631\\u062d \\u0628\\u0647 \\u0644\\u0644\\u0645\\u062d\\u062a\\u0648\\u064a \\u0646\\u0631\\u062c\\u0648 \\u0627\\u062e\\u0637\\u0627\\u0631 \\u0627\\u0644\\u0645\\u0631\\u0633\\u0644 \\u0639\\u0646 \\u0637\\u0631\\u064a\\u0642 \\u0627\\u0644\\u0631\\u062f \\u0639\\u0644\\u064a \\u0647\\u0630\\u0627 \\u0627\\u0644\\u0628\\u0631\\u064a\\u062f \\u0627\\u0644\\u0627\\u0644\\u0643\\u062a\\u0631\\u0648\\u0646\\u064a \\u0648\\u0627\\u062a\\u0644\\u0627\\u0641 \\u062c\\u0645\\u064a\\u0639 \\u0627\\u0644\\u0646\\u0633\\u062e \\u0627\\u0644\\u0645\\u0648\\u062c\\u0648\\u062f\\u0647 \\u0644\\u062f\\u064a\\u0643 \\u062a\\u0639\\u062f \\u0627\\u0644\\u062a\\u0635\\u0631\\u064a\\u062d\\u0627\\u062a \\u0648 \\u0627\\u0644\\u0627\\u0631\\u0627\\u0621 \\u0627\\u0644\\u0645\\u0630\\u0643\\u0648\\u0631\\u0647 \\u0641\\u064a \\u0627\\u0644\\u0631\\u0633\\u0627\\u0644\\u0647 \\u062e\\u0627\\u0635\\u0647 \\u0628\\u0627\\u0644\\u0645\\u0631\\u0633\\u0644 \\u0648 \\u0644\\u0627 \\u062a\\u0645\\u062b\\u0644 \\u0648\\u0632\\u0627\\u0631\\u0647 \\u0627\\u0644\\u0635\\u062d\\u0647 \\u0643\\u0645\\u0627 \\u0644\\u0627 \\u062a\\u062a\\u062d\\u0645\\u0644 \\u0627\\u0644\\u0648\\u0632\\u0627\\u0631\\u0647 \\u0645\\u0633\\u0621\\u0648\\u0644\\u064a\\u0647 \\u0627\\u0644\\u0627\\u0636\\u0631\\u0627\\u0631 \\u0627\\u0644\\u0646\\u0627\\u062a\\u062c\\u0647 \\u0639\\u0646 \\u0627\\u064a \\u0641\\u064a\\u0631\\u0648\\u0633\\u0627\\u062a \\u0642\\u062f \\u062a\\u062d\\u0645\\u0644\\u0647\\u0627 \\u0647\\u0630\\u0647 \\u0627\\u0644\\u0631\\u0633\\u0627\\u0644\\u0647  \\u0645\\u0644\\u0627\\u062d\\u0638\\u0629 \\u0627\\u0644\\u062a\\u0627\\u0631\\u064a\\u062e \\u0645\\u0633\\u0627\\u0621\\u064b \\u0627\\u0644\\u0645\\u0624\\u0644\\u0641 \\u062e\\u0636\\u0631\\u0627 \\u0646\\u0648\\u0639 \\u0645\\u0639\\u062f\\u0644 \\u0627\\u0644\\u0648\\u0642\\u062a \\u0627\\u0644\\u062a\\u0642\\u0646\\u064a \\u0627\\u0644\\u0633\\u0644\\u0627\\u0645 \\u0639\\u0644\\u064a\\u0643\\u0645 \\u0648\\u0631\\u062d\\u0645\\u0647 \\u0627\\u0644\\u0644\\u0647 \\u0648\\u0628\\u0631\\u0643\\u0627\\u062a\\u0647 \\u0627\\u0644\\u0633\\u0627\\u062f\\u0647 \\u0627\\u0644\\u0643\\u0631\\u0627\\u0645 \\u0645\\u0633\\u062a\\u0634\\u0641\\u064a \\u0627\\u0644\\u0648\\u0644\\u0627\\u062f\\u0647 \\u0648\\u0627\\u0644\\u0627\\u0637\\u0641\\u0627\\u0644 \\u062a\\u062d\\u064a\\u0647 \\u0637\\u064a\\u0628\\u0647 \\u0646\\u0633\\u0639\\u062f \\u0628\\u062a\\u0648\\u0627\\u0635\\u0644\\u0643\\u0645 \\u0648\\u0646\\u0648\\u062f \\u0627\\u0639\\u0644\\u0627\\u0645\\u0643\\u0645 \\u0628\\u0627\\u0646 \\u062a\\u0645 \\u062c\\u062f\\u0648\\u0644\\u0647 \\u0627\\u0644\\u0645\\u0642\\u0628\\u0644 \\u0632\\u064a\\u0627\\u0631\\u0629 \\u0645\\u0646\\u0637\\u0642\\u0647 \\u0627\\u0644\\u0642\\u0635\\u064a\\u0645 \\u0628\\u0627\\u0631\\u062a \\u062a\\u0645\\u062f\\u064a\\u062f \\u0634\\u0628\\u0643\\u0627\\u062a \\u0641\\u064a \\u0634\\u0647\\u0631 \\u062a\\u0633\\u064a\\u0631 \\u0645\\u0639\\u0643\\u0645 \\u0628\\u0646\\u062c\\u0627\\u062d \\u0627\\u0644\\u0645\\u0637\\u0644\\u0648\\u0628 \\u0645\\u0644\\u0627\\u062d\\u0638\\u0629 \\u0628\\u0627\\u0646\\u0647 \\u064a\\u0645\\u0643\\u0646\\u0643\\u0645 \\u0627\\u0644\\u0645\\u062a\\u0627\\u0628\\u0639\\u0647 \\u0639\\u0644\\u064a \\u0631\\u0642\\u0645 \\u0627\\u0644\\u0628\\u0644\\u0627\\u063a \\u0627\\u0644\\u0642\\u062f\\u064a\\u0645 \\u062a\\u0645 \\u0641\\u062a\\u062d\\u0647 \\u0633\\u0627\\u0628\\u0642\\u0627 \\u0628\\u0631\\u0642\\u0645 \\u0634\\u0643\\u0631\\u0627 \\u0644\\u0643\\u0645 \\u0645\\u0644\\u0627\\u062d\\u0638\\u0629 \\u0645\\u0644\\u0627\\u062d\\u0638\\u0629 \\u0627\\u0644\\u062a\\u0627\\u0631\\u064a\\u062e \\u0645\\u0633\\u0627\\u0621 \\u0627\\u0644\\u0645\\u0624\\u0644\\u0641 \\u0627\\u062e\\u062f\\u0631\\u0627 \\u0646\\u0648\\u0639 \\u0627\\u0644\\u062a\\u0643\\u0646\\u0648\\u0644\\u0648\\u062c\\u064a\\u0627 \\u0645\\u0639\\u062f\\u0644 \\u0627\\u0644\\u0648\\u0642\\u062a \\u062a\\u0643\\u0631\\u0627\\u0631 \\u062a\\u0630\\u0643\\u0631\\u0629 \\u0645\\u0644\\u0627\\u062d\\u0638\\u0629\",\n          \" \\u0627\\u062f\\u0631\\u0627\\u0647 \\u062a\\u0642\\u0646\\u064a\\u0647 \\u0627\\u0644\\u0645\\u0639\\u0644\\u0648\\u0645\\u0627\\u062a \\u0645\\u0633\\u062a\\u0634\\u0641\\u064a \\u0627\\u0644\\u062c\\u0628\\u064a\\u0644 \\u0627\\u0644\\u0639\\u0627\\u0645 \\u0645\\u0634\\u0643\\u0644\\u0647 \\u0639\\u062f\\u0645 \\u062a\\u0648\\u0641\\u064a\\u0631 \\u0645\\u0627\\u0633\\u062d\\u0627\\u062a \\u0636\\u0648\\u0621\\u064a\\u0647 \\u0628\\u062f\\u064a\\u0644\\u0647 \\u0639\\u0646 \\u0627\\u0644\\u0645\\u062a\\u0639\\u0637\\u0644\\u0647 \\u0645\\u0646 \\u0634\\u0631\\u0643\\u0647 \\u0627\\u0644\\u0645\\u0639\\u0645\\u0631 \\u0644\\u0644\\u0635\\u064a\\u0627\\u0646\\u0647 \\u0627\\u062f\\u0631\\u0627\\u0647 \\u062a\\u0642\\u0646\\u064a\\u0647 \\u0627\\u0644\\u0645\\u0639\\u0644\\u0648\\u0645\\u0627\\u062a \\u0645\\u0633\\u062a\\u0634\\u0641\\u064a \\u0627\\u0644\\u062c\\u0628\\u064a\\u0644 \\u0627\\u0644\\u0639\\u0627\\u0645 \\u0645\\u0634\\u0643\\u0644\\u0647 \\u0639\\u062f\\u0645 \\u062a\\u0648\\u0641\\u064a\\u0631 \\u0645\\u0627\\u0633\\u062d\\u0627\\u062a \\u0636\\u0648\\u0621\\u064a\\u0647 \\u0628\\u062f\\u064a\\u0644\\u0647 \\u0639\\u0646 \\u0627\\u0644\\u0645\\u062a\\u0639\\u0637\\u0644\\u0647 \\u0645\\u0646 \\u0634\\u0631\\u0643\\u0647 \\u0627\\u0644\\u0645\\u0639\\u0645\\u0631 \\u0644\\u0644\\u0635\\u064a\\u0627\\u0646\\u0647 \\u0627\\u0644\\u0645\\u0647\\u0646\\u062f\\u0633 \\u0645\\u062d\\u0645\\u062f \\u0627\\u0644\\u0632\\u064a\\u0627\\u062f\\u064a \\u0627\\u0644\\u0645\\u062d\\u062a\\u0631\\u0645 \\u0627\\u0644\\u0633\\u0644\\u0627\\u0645 \\u0639\\u0644\\u064a\\u0643\\u0645 \\u0648\\u0631\\u062d\\u0645\\u0647 \\u0627\\u0644\\u0644\\u0647 \\u0648\\u0628\\u0631\\u0643\\u0627\\u062a\\u0647 \\u062a\\u062c\\u062f\\u0648\\u0646 \\u0628\\u0631\\u0641\\u0642\\u0647 \\u0627\\u0644\\u0628\\u0644\\u0627\\u063a\\u0627\\u062a \\u0627\\u0644\\u0645\\u0631\\u0641\\u0648\\u0639\\u0647 \\u0644\\u0635\\u064a\\u0627\\u0646\\u0647 \\u0639\\u062f\\u062f \\u0645\\u0627\\u0633\\u062d\\u0627\\u062a \\u0636\\u0648\\u0621\\u064a\\u0647 \\u0645\\u0646\\u0630 \\u0639\\u062f\\u0647 \\u0627\\u0634\\u0647\\u0631 \\u062d\\u064a\\u062b \\u0643\\u0627\\u0646\\u062a \\u0631\\u062f\\u0648\\u062f \\u0645\\u0647\\u0646\\u062f\\u0633 \\u0627\\u0644\\u0635\\u064a\\u0627\\u0646\\u0647 \\u0639\\u062f\\u0645 \\u062a\\u0648\\u0641\\u0631 \\u0642\\u0637\\u0639 \\u063a\\u064a\\u0627\\u0631 \\u0644\\u0644\\u0645\\u0627\\u0633\\u062d\\u0627\\u062a \\u0627\\u0644\\u0636\\u0648\\u0621\\u064a\\u0647 \\u0648\\u0646\\u0638\\u0631\\u0627 \\u0644\\u0643\\u062b\\u0631\\u0647 \\u0627\\u0644\\u0634\\u0643\\u0627\\u0648\\u064a \\u0645\\u0646 \\u0627\\u0644\\u0627\\u0642\\u0633\\u0627\\u0645 \\u0628\\u0627\\u0644\\u0645\\u0633\\u062a\\u0634\\u0641\\u064a \\u062d\\u064a\\u0627\\u0644 \\u0627\\u0635\\u0644\\u0627\\u062d \\u0627\\u062c\\u0647\\u0632\\u062a\\u0647\\u0645 \\u062d\\u064a\\u062b \\u0627\\u0646\\u0647\\u0627 \\u0639\\u0647\\u062f \\u0639\\u0644\\u064a \\u0627\\u0644\\u0627\\u0642\\u0633\\u0627\\u0645 \\u0627\\u0648 \\u062a\\u0648\\u0641\\u064a\\u0631 \\u0628\\u062f\\u064a\\u0644 \\u0644\\u0647\\u0627 \\u0648\\u0628\\u0646\\u0627\\u0621 \\u0639\\u0644\\u064a \\u0627\\u0644\\u0627\\u064a\\u0645\\u064a\\u0644 \\u0627\\u0644\\u0645\\u0631\\u0633\\u0644 \\u0644\\u0643\\u0645 \\u0633\\u0627\\u0628\\u0642\\u0627 \\u0644\\u0645 \\u064a\\u062a\\u0645 \\u062d\\u062a\\u064a \\u062a\\u0627\\u0631\\u064a\\u062e\\u0647 \\u0645\\u0646 \\u062a\\u0632\\u0648\\u064a\\u062f\\u0646\\u0627 \\u0628\\u0627\\u0644\\u0645\\u0627\\u0633\\u062d\\u0627\\u062a \\u0627\\u0644\\u0628\\u062f\\u064a\\u0644\\u0647 \\u0628\\u0646\\u0641\\u0633 \\u0645\\u0648\\u0627\\u0635\\u0641\\u0627\\u062a \\u0627\\u0644\\u0645\\u062a\\u0639\\u0637\\u0644\\u0647 \\u0639\\u0644\\u064a\\u0647 \\u0646\\u0627\\u0645\\u0644 \\u0627\\u0644\\u0645\\u0633\\u0627\\u0639\\u062f\\u0647 \\u0641\\u064a \\u062d\\u0644 \\u0645\\u0634\\u0643\\u0644\\u0647 \\u062a\\u0644\\u0643 \\u0627\\u0644\\u0627\\u062c\\u0647\\u0632\\u0647 \\u0647\\u0630\\u0627 \\u0648\\u062a\\u0642\\u0628\\u0644\\u0648\\u0627 \\u0645\\u0646\\u064a \\u0641\\u0627\\u0621\\u0642 \\u0627\\u0644\\u0627\\u062d\\u062a\\u0631\\u0627\\u0645 \\u0639\\u0628\\u062f\\u0627\\u0644\\u0645\\u062d\\u0633\\u0646 \\u0628\\u0646 \\u0639\\u0628\\u062f\\u0627\\u0644\\u0644\\u0647 \\u0627\\u0644\\u0642\\u0635\\u0627\\u0628 \\u0645\\u062f\\u064a\\u0631 \\u0627\\u062f\\u0627\\u0631\\u0647 \\u0627\\u0644\\u0635\\u062d\\u0647 \\u0627\\u0644\\u0627\\u0644\\u0643\\u062a\\u0631\\u0648\\u0646\\u064a\\u0647 \\u0628\\u0634\\u0628\\u0643\\u0647 \\u0627\\u0644\\u062c\\u0628\\u064a\\u0644 \\u0627\\u0644\\u0635\\u062d\\u064a\\u0647 \\u0645\\u0646 \\u0627\\u0644\\u0627\\u0631\\u0633\\u0627\\u0644 \\u0631\\u062c\\u0628 \\u0645 \\u0627\\u0644\\u064a \\u0627\\u062f\\u0631\\u0627\\u0647 \\u062a\\u0642\\u0646\\u064a\\u0647 \\u0627\\u0644\\u0645\\u0639\\u0644\\u0648\\u0645\\u0627\\u062a \\u0645\\u0633\\u062a\\u0634\\u0641\\u064a \\u0627\\u0644\\u062c\\u0628\\u064a\\u0644 \\u0627\\u0644\\u0639\\u0627\\u0645 \\u200f\\u200f\\u0627\\u0644\\u0645\\u0648\\u0636\\u0648\\u0639 \\u0627\\u062f\\u0631\\u0627\\u0647 \\u062a\\u0642\\u0646\\u064a\\u0647 \\u0627\\u0644\\u0645\\u0639\\u0644\\u0648\\u0645\\u0627\\u062a \\u0645\\u0633\\u062a\\u0634\\u0641\\u064a \\u0627\\u0644\\u062c\\u0628\\u064a\\u0644 \\u0627\\u0644\\u0639\\u0627\\u0645 \\u0627\\u0639\\u0627\\u062f\\u0647 \\u062a\\u0648\\u062c\\u064a\\u0647 \\u0627\\u0644\\u0645\\u0647\\u0646\\u062f\\u0633 \\u0645\\u062d\\u0645\\u062f \\u0627\\u0644\\u0632\\u064a\\u0627\\u062f\\u064a \\u0627\\u0644\\u0645\\u062d\\u062a\\u0631\\u0645 \\u0627\\u0644\\u0633\\u0644\\u0627\\u0645 \\u0639\\u0644\\u064a\\u0643\\u0645 \\u0648\\u0631\\u062d\\u0645\\u0647 \\u0627\\u0644\\u0644\\u0647 \\u0648\\u0628\\u0631\\u0643\\u0627\\u062a\\u0647 \\u062a\\u062c\\u062f\\u0648\\u0646 \\u0628\\u0631\\u0641\\u0642\\u0647 \\u0627\\u0644\\u0628\\u0644\\u0627\\u063a\\u0627\\u062a \\u0627\\u0644\\u0645\\u0631\\u0641\\u0648\\u0639\\u0647 \\u0644\\u0635\\u064a\\u0627\\u0646\\u0647 \\u0639\\u062f\\u062f \\u0645\\u0627\\u0633\\u062d\\u0627\\u062a \\u0636\\u0648\\u0621\\u064a\\u0647 \\u0645\\u0646\\u0630 \\u0639\\u062f\\u0647 \\u0627\\u0634\\u0647\\u0631 \\u062d\\u064a\\u062b \\u0643\\u0627\\u0646\\u062a \\u0631\\u062f\\u0648\\u062f \\u0645\\u0647\\u0646\\u062f\\u0633 \\u0627\\u0644\\u0635\\u064a\\u0627\\u0646\\u0647 \\u0639\\u062f\\u0645 \\u062a\\u0648\\u0641\\u0631 \\u0642\\u0637\\u0639 \\u063a\\u064a\\u0627\\u0631 \\u0644\\u0644\\u0645\\u0627\\u0633\\u062d\\u0627\\u062a \\u0627\\u0644\\u0636\\u0648\\u0621\\u064a\\u0647 \\u0648\\u0646\\u0638\\u0631\\u0627 \\u0644\\u0643\\u062b\\u0631\\u0647 \\u0627\\u0644\\u0634\\u0643\\u0627\\u0648\\u064a \\u0645\\u0646 \\u0627\\u0644\\u0627\\u0642\\u0633\\u0627\\u0645 \\u0628\\u0627\\u0644\\u0645\\u0633\\u062a\\u0634\\u0641\\u064a \\u062d\\u064a\\u0627\\u0644 \\u0627\\u0635\\u0644\\u0627\\u062d \\u0627\\u062c\\u0647\\u0632\\u062a\\u0647\\u0645 \\u062d\\u064a\\u062b \\u0627\\u0646\\u0647\\u0627 \\u0639\\u0647\\u062f \\u0639\\u0644\\u064a \\u0627\\u0644\\u0627\\u0642\\u0633\\u0627\\u0645 \\u0627\\u0648 \\u062a\\u0648\\u0641\\u064a\\u0631 \\u0628\\u062f\\u064a\\u0644 \\u0644\\u0647\\u0627 \\u0639\\u0644\\u064a\\u0647 \\u0646\\u0627\\u0645\\u0644 \\u0627\\u0644\\u0645\\u0633\\u0627\\u0639\\u062f\\u0647 \\u0641\\u064a \\u062d\\u0644 \\u0645\\u0634\\u0643\\u0644\\u0647 \\u062a\\u0644\\u0643 \\u0627\\u0644\\u0627\\u062c\\u0647\\u0632\\u0647 \\u0647\\u0630\\u0627 \\u0648\\u062a\\u0642\\u0628\\u0644\\u0648\\u0627 \\u0645\\u0646\\u064a \\u0641\\u0627\\u0621\\u0642 \\u0627\\u0644\\u0627\\u062d\\u062a\\u0631\\u0627\\u0645 \\u0639\\u0628\\u062f\\u0627\\u0644\\u0645\\u062d\\u0633\\u0646 \\u0628\\u0646 \\u0639\\u0628\\u062f\\u0627\\u0644\\u0644\\u0647 \\u0627\\u0644\\u0642\\u0635\\u0627\\u0628 \\u0645\\u062f\\u064a\\u0631 \\u0627\\u062f\\u0627\\u0631\\u0647 \\u0627\\u0644\\u0635\\u062d\\u0647 \\u0627\\u0644\\u0627\\u0644\\u0643\\u062a\\u0631\\u0648\\u0646\\u064a\\u0647 \\u0628\\u0634\\u0628\\u0643\\u0647 \\u0627\\u0644\\u062c\\u0628\\u064a\\u0644 \\u0627\\u0644\\u0635\\u062d\\u064a\\u0647 \\u0645\\u0646 \\u200f\\u200f\\u062a\\u0645 \\u0627\\u0644\\u0627\\u0631\\u0633\\u0627\\u0644 \\u0631\\u062c\\u0628 \\u0635 \\u0627\\u0644\\u064a \\u0646\\u0633\\u062e\\u0647 \\u0627\\u062f\\u0631\\u0627\\u0647 \\u062a\\u0642\\u0646\\u064a\\u0647 \\u0627\\u0644\\u0645\\u0639\\u0644\\u0648\\u0645\\u0627\\u062a \\u0645\\u0633\\u062a\\u0634\\u0641\\u064a \\u0627\\u0644\\u062c\\u0628\\u064a\\u0644 \\u0627\\u0644\\u0639\\u0627\\u0645 \\u200f\\u200f\\u0627\\u0644\\u0645\\u0648\\u0636\\u0648\\u0639 \\u0631\\u062f \\u0646\\u0641\\u064a\\u062f\\u0643\\u0645 \\u062d\\u062a\\u064a \\u062a\\u0627\\u0631\\u064a\\u062e \\u0627\\u0644\\u064a\\u0648\\u0645 \\u0644\\u0645 \\u062a\\u0645 \\u0627\\u0644\\u0631\\u062f \\u0639\\u0644\\u064a \\u062a\\u0643\\u062a \\u062c\\u0647\\u0627\\u0632\\u064a\\u0646 \\u0627\\u0644\\u0645\\u0627\\u0633\\u062d \\u0627\\u0644\\u0636\\u0648\\u0621\\u064a \\u0631\\u0642\\u0645 \\u0627\\u0644\\u062a\\u0643\\u062a \\u0639\\u0644\\u0645\\u0627 \\u0627\\u0646\\u0627 \\u0627\\u0644\\u062c\\u0647\\u0627\\u0632\\u064a\\u0646 \\u062a\\u0645 \\u0633\\u062d\\u0628\\u0647\\u0645 \\u0644\\u0644\\u0635\\u064a\\u0627\\u0646\\u0647 \\u0645\\u0646 \\u062a\\u0627\\u0631\\u064a\\u062e \\u0645\\u0639 \\u0627\\u0644\\u0645\\u0647\\u0646\\u062f\\u0633 \\u0641\\u0648\\u0627\\u0632 \\u0627\\u062a\\u0645\\u0646\\u064a \\u0627\\u0644\\u0631\\u062f \\u0639\\u0644\\u064a \\u0645\\u062f\\u064a\\u0631 \\u0627\\u0644\\u0635\\u062d\\u0647 \\u0627\\u0644\\u0627\\u0643\\u062a\\u0631\\u0648\\u0646\\u064a\\u0647 \\u0644\\u062a\\u0636\\u0648\\u064a\\u062d \\u0633\\u0628\\u0628 \\u0627\\u0644\\u062a\\u0627\\u062e\\u064a\\u0631 \\u0648\\u0634\\u0643\\u0631\\u0627 \\u0645\\u0646 \\u200f\\u200f\\u062a\\u0645 \\u0627\\u0644\\u0627\\u0631\\u0633\\u0627\\u0644 \\u0631\\u062c\\u0628 \\u0635 \\u0627\\u0644\\u064a \\u0646\\u0633\\u062e\\u0647 \\u0627\\u062f\\u0631\\u0627\\u0647 \\u062a\\u0642\\u0646\\u064a\\u0647 \\u0627\\u0644\\u0645\\u0639\\u0644\\u0648\\u0645\\u0627\\u062a \\u0645\\u0633\\u062a\\u0634\\u0641\\u064a \\u0627\\u0644\\u062c\\u0628\\u064a\\u0644 \\u0627\\u0644\\u0639\\u0627\\u0645 \\u200f\\u200f\\u0627\\u0644\\u0645\\u0648\\u0636\\u0648\\u0639 \\u0631\\u062f \\u0646\\u0641\\u064a\\u062f\\u0643\\u0645 \\u062d\\u062a\\u064a \\u062a\\u0627\\u0631\\u064a\\u062e \\u0627\\u0644\\u064a\\u0648\\u0645 \\u0644\\u0645 \\u062a\\u0645 \\u0627\\u0644\\u0631\\u062f \\u0639\\u0644\\u064a \\u062a\\u0643\\u062a \\u062c\\u0647\\u0627\\u0632\\u064a\\u0646 \\u0627\\u0644\\u0645\\u0627\\u0633\\u062d \\u0627\\u0644\\u0636\\u0648\\u0621\\u064a \\u0631\\u0642\\u0645 \\u0627\\u0644\\u062a\\u0643\\u062a \\u0639\\u0644\\u0645\\u0627 \\u0627\\u0646\\u0627 \\u0627\\u0644\\u062c\\u0647\\u0627\\u0632\\u064a\\u0646 \\u062a\\u0645 \\u0633\\u062d\\u0628\\u0647\\u0645 \\u0644\\u0644\\u0635\\u064a\\u0627\\u0646\\u0647 \\u0645\\u0646 \\u062a\\u0627\\u0631\\u064a\\u062e \\u0645\\u0639 \\u0627\\u0644\\u0645\\u0647\\u0646\\u062f\\u0633 \\u0641\\u0648\\u0627\\u0632 \\u0627\\u062a\\u0645\\u0646\\u064a \\u0627\\u0644\\u0631\\u062f \\u0639\\u0644\\u064a \\u0645\\u062f\\u064a\\u0631 \\u0627\\u0644\\u0635\\u062d\\u0647 \\u0627\\u0644\\u0627\\u0643\\u062a\\u0631\\u0648\\u0646\\u064a\\u0647 \\u0644\\u062a\\u0636\\u0648\\u064a\\u062d \\u0633\\u0628\\u0628 \\u0627\\u0644\\u062a\\u0627\\u062e\\u064a\\u0631 \\u0648\\u0634\\u0643\\u0631\\u0627 \\u0645\\u0646 \\u200f\\u200f\\u062a\\u0645 \\u0627\\u0644\\u0627\\u0631\\u0633\\u0627\\u0644 \\u062c\\u0645\\u0627\\u062f\\u064a \\u0627\\u0644\\u0627\\u0648\\u0644\\u064a \\u0635 \\u0627\\u0644\\u064a \\u0627\\u062f\\u0631\\u0627\\u0647 \\u062a\\u0642\\u0646\\u064a\\u0647 \\u0627\\u0644\\u0645\\u0639\\u0644\\u0648\\u0645\\u0627\\u062a \\u0645\\u0633\\u062a\\u0634\\u0641\\u064a \\u0627\\u0644\\u062c\\u0628\\u064a\\u0644 \\u0627\\u0644\\u0639\\u0627\\u0645 \\u200f\\u200f\\u0627\\u0644\\u0645\\u0648\\u0636\\u0648\\u0639 \\u0627\\u0644\\u0633\\u0644\\u0627\\u0645 \\u0639\\u0644\\u064a\\u0643\\u0645 \\u0628\\u062e\\u0635\\u0648\\u0635 \\u0627\\u0644\\u0627\\u0633\\u0643\\u0627\\u0646 \\u0627\\u0631\\u062c\\u0648 \\u0627\\u0644\\u0627\\u0641\\u0627\\u062f\\u0647 \\u0648\\u0627\\u0644\\u0631\\u062f \\u0639\\u0644\\u064a \\u0627\\u062f\\u0627\\u0631\\u0647 \\u0627\\u0644\\u0635\\u062d\\u0647 \\u0627\\u0644\\u0627\\u0644\\u0643\\u062a\\u0631\\u0648\\u0646\\u064a\\u0647 \\u0635\\u064a\\u0627\\u0646\\u0647 \\u0639\\u062f\\u062f \\u0627\\u0633\\u0643\\u0627\\u0646 \\u062a\\u0645 \\u0633\\u062d\\u0628\\u0647\\u0645 \\u0644\\u0644\\u0635\\u064a\\u0627\\u0646\\u0647 \\u062a\\u062c\\u0627\\u0648\\u0632\\u062a \\u0627\\u0644\\u0634\\u0647\\u0631\\u064a\\u0646 \\u062a\\u0642\\u0631\\u064a\\u0628\\u0627 \\u0634\\u0643\\u0631\\u0627 \\u0644\\u062a\\u0639\\u0627\\u0648\\u0646\\u0643\\u0645 \\u062d\\u0633\\u0646 \\u0645\\u064a\\u0631\\u0632\\u0627 \\u0627\\u0644\\u062c\\u0633\\u0627\\u0633 \\u0645\\u0633\\u062a\\u0634\\u0641\\u064a \\u0627\\u0644\\u062c\\u0628\\u064a\\u0644 \\u0627\\u0644\\u0639\\u0627\\u0645 \\u0631\\u0642\\u0645 \\u0627\\u0644\\u062a\\u064a\\u0643\\u062a \\u0645\\u0647\\u0646\\u062f\\u0633 \\u0641\\u0648\\u0627\\u0632 \\u062a\\u0646\\u0628\\u064a\\u0647 \\u0628\\u0627\\u062e\\u0644\\u0627\\u0621 \\u0627\\u0644\\u0645\\u0633\\u0621\\u0648\\u0644\\u064a\\u0647 \\u0647\\u0630\\u0647 \\u0627\\u0644\\u0631\\u0633\\u0627\\u0644\\u0647 \\u0648\\u0645\\u0631\\u0641\\u0642\\u0627\\u062a\\u0647\\u0627 \\u0645\\u0639\\u062f\\u0647 \\u0644\\u0627\\u0633\\u062a\\u062e\\u062f\\u0627\\u0645 \\u0627\\u0644\\u0645\\u0631\\u0633\\u0644 \\u0627\\u0644\\u064a\\u0647 \\u0627\\u0644\\u0645\\u0642\\u0635\\u0648\\u062f \\u0628\\u0627\\u0644\\u0631\\u0633\\u0627\\u0644\\u0647 \\u0641\\u0642\\u0637 \\u0648 \\u0642\\u062f \\u062a\\u062d\\u062a\\u0648\\u064a \\u0639\\u0644\\u064a \\u0645\\u0639\\u0644\\u0648\\u0645\\u0627\\u062a \\u0633\\u0631\\u064a\\u0647 \\u0627\\u0648 \\u0645\\u062d\\u0645\\u064a\\u0647 \\u0642\\u0627\\u0646\\u0648\\u0646\\u064a\\u0627 \\u0627\\u0646 \\u0644\\u0645 \\u062a\\u0643\\u0646 \\u0627\\u0644\\u0634\\u062e\\u0635 \\u0627\\u0644\\u0645\\u0642\\u0635\\u0648\\u062f \\u0641\\u0627\\u0646\\u0647 \\u064a\\u0645\\u0646\\u0639 \\u0645\\u0646\\u0639\\u0627 \\u0628\\u0627\\u062a\\u0627 \\u0627\\u064a \\u0639\\u0631\\u0636 \\u0627\\u0648 \\u0646\\u0634\\u0631 \\u0627\\u0648 \\u0627\\u0633\\u062a\\u062e\\u062f\\u0627\\u0645 \\u063a\\u064a\\u0631 \\u0645\\u0635\\u0631\\u062d \\u0628\\u0647 \\u0644\\u0644\\u0645\\u062d\\u062a\\u0648\\u064a \\u0646\\u0631\\u062c\\u0648 \\u0627\\u062e\\u0637\\u0627\\u0631 \\u0627\\u0644\\u0645\\u0631\\u0633\\u0644 \\u0639\\u0646 \\u0637\\u0631\\u064a\\u0642 \\u0627\\u0644\\u0631\\u062f \\u0639\\u0644\\u064a \\u0647\\u0630\\u0627 \\u0627\\u0644\\u0628\\u0631\\u064a\\u062f \\u0627\\u0644\\u0627\\u0644\\u0643\\u062a\\u0631\\u0648\\u0646\\u064a \\u0648\\u0627\\u062a\\u0644\\u0627\\u0641 \\u062c\\u0645\\u064a\\u0639 \\u0627\\u0644\\u0646\\u0633\\u062e \\u0627\\u0644\\u0645\\u0648\\u062c\\u0648\\u062f\\u0647 \\u0644\\u062f\\u064a\\u0643 \\u062a\\u0639\\u062f \\u0627\\u0644\\u062a\\u0635\\u0631\\u064a\\u062d\\u0627\\u062a \\u0648 \\u0627\\u0644\\u0627\\u0631\\u0627\\u0621 \\u0627\\u0644\\u0645\\u0630\\u0643\\u0648\\u0631\\u0647 \\u0641\\u064a \\u0627\\u0644\\u0631\\u0633\\u0627\\u0644\\u0647 \\u062e\\u0627\\u0635\\u0647 \\u0628\\u0627\\u0644\\u0645\\u0631\\u0633\\u0644 \\u0648 \\u0644\\u0627 \\u062a\\u0645\\u062b\\u0644 \\u0648\\u0632\\u0627\\u0631\\u0647 \\u0627\\u0644\\u0635\\u062d\\u0647 \\u0643\\u0645\\u0627 \\u0644\\u0627 \\u062a\\u062a\\u062d\\u0645\\u0644 \\u0627\\u0644\\u0648\\u0632\\u0627\\u0631\\u0647 \\u0645\\u0633\\u0621\\u0648\\u0644\\u064a\\u0647 \\u0627\\u0644\\u0627\\u0636\\u0631\\u0627\\u0631 \\u0627\\u0644\\u0646\\u0627\\u062a\\u062c\\u0647 \\u0639\\u0646 \\u0627\\u064a \\u0641\\u064a\\u0631\\u0648\\u0633\\u0627\\u062a \\u0642\\u062f \\u062a\\u062d\\u0645\\u0644\\u0647\\u0627 \\u0647\\u0630\\u0647 \\u0627\\u0644\\u0631\\u0633\\u0627\\u0644\\u0647  \\u0645\\u0644\\u0627\\u062d\\u0638\\u0629 \\u0627\\u0644\\u062a\\u0627\\u0631\\u064a\\u062e \\u0627\\u0644\\u0645\\u0624\\u0644\\u0641 \\u0623\\u0648\\u062e\\u0627\\u062f\\u0631\\u0627 \\u0627\\u0644\\u0646\\u0648\\u0639 \\u0627\\u0644\\u062a\\u0643\\u0646\\u0648\\u0644\\u0648\\u062c\\u064a\\u0627 \\u0627\\u0644\\u0648\\u0642\\u062a \\u0627\\u0644\\u0645\\u0639\\u062f\\u0644 \\u0645\\u062a\\u0627\\u0628\\u0639\\u0629 \\u0627\\u0644\\u0628\\u0631\\u064a\\u062f \\u0627\\u0644\\u0625\\u0644\\u0643\\u062a\\u0631\\u0648\\u0646\\u064a \\u0627\\u0644\\u0645\\u0644\\u0627\\u062d\\u0638\\u0629\",\n          \" \\u202d \\u202c \\u062a\\u0646\\u0628\\u064a\\u0647 \\u0628\\u0627\\u062e\\u0644\\u0627\\u0621 \\u0627\\u0644\\u0645\\u0633\\u0621\\u0648\\u0644\\u064a\\u0647 \\u0647\\u0630\\u0647 \\u0627\\u0644\\u0631\\u0633\\u0627\\u0644\\u0647 \\u0648\\u0645\\u0631\\u0641\\u0642\\u0627\\u062a\\u0647\\u0627 \\u0645\\u0639\\u062f\\u0647 \\u0644\\u0627\\u0633\\u062a\\u062e\\u062f\\u0627\\u0645 \\u0627\\u0644\\u0645\\u0631\\u0633\\u0644 \\u0627\\u0644\\u064a\\u0647 \\u0627\\u0644\\u0645\\u0642\\u0635\\u0648\\u062f \\u0628\\u0627\\u0644\\u0631\\u0633\\u0627\\u0644\\u0647 \\u0641\\u0642\\u0637 \\u0648 \\u0642\\u062f \\u062a\\u062d\\u062a\\u0648\\u064a \\u0639\\u0644\\u064a \\u0645\\u0639\\u0644\\u0648\\u0645\\u0627\\u062a \\u0633\\u0631\\u064a\\u0647 \\u0627\\u0648 \\u0645\\u062d\\u0645\\u064a\\u0647 \\u0642\\u0627\\u0646\\u0648\\u0646\\u064a\\u0627 \\u0627\\u0646 \\u0644\\u0645 \\u062a\\u0643\\u0646 \\u0627\\u0644\\u0634\\u062e\\u0635 \\u0627\\u0644\\u0645\\u0642\\u0635\\u0648\\u062f \\u0641\\u0627\\u0646\\u0647 \\u064a\\u0645\\u0646\\u0639 \\u0645\\u0646\\u0639\\u0627 \\u0628\\u0627\\u062a\\u0627 \\u0627\\u064a \\u0639\\u0631\\u0636 \\u0627\\u0648 \\u0646\\u0634\\u0631 \\u0627\\u0648 \\u0627\\u0633\\u062a\\u062e\\u062f\\u0627\\u0645 \\u063a\\u064a\\u0631 \\u0645\\u0635\\u0631\\u062d \\u0628\\u0647 \\u0644\\u0644\\u0645\\u062d\\u062a\\u0648\\u064a \\u0646\\u0631\\u062c\\u0648 \\u0627\\u062e\\u0637\\u0627\\u0631 \\u0627\\u0644\\u0645\\u0631\\u0633\\u0644 \\u0639\\u0646 \\u0637\\u0631\\u064a\\u0642 \\u0627\\u0644\\u0631\\u062f \\u0639\\u0644\\u064a \\u0647\\u0630\\u0627 \\u0627\\u0644\\u0628\\u0631\\u064a\\u062f \\u0627\\u0644\\u0627\\u0644\\u0643\\u062a\\u0631\\u0648\\u0646\\u064a \\u0648\\u0627\\u062a\\u0644\\u0627\\u0641 \\u062c\\u0645\\u064a\\u0639 \\u0627\\u0644\\u0646\\u0633\\u062e \\u0627\\u0644\\u0645\\u0648\\u062c\\u0648\\u062f\\u0647 \\u0644\\u062f\\u064a\\u0643 \\u062a\\u0639\\u062f \\u0627\\u0644\\u062a\\u0635\\u0631\\u064a\\u062d\\u0627\\u062a \\u0648 \\u0627\\u0644\\u0627\\u0631\\u0627\\u0621 \\u0627\\u0644\\u0645\\u0630\\u0643\\u0648\\u0631\\u0647 \\u0641\\u064a \\u0627\\u0644\\u0631\\u0633\\u0627\\u0644\\u0647 \\u062e\\u0627\\u0635\\u0647 \\u0628\\u0627\\u0644\\u0645\\u0631\\u0633\\u0644 \\u0648 \\u0644\\u0627 \\u062a\\u0645\\u062b\\u0644 \\u0648\\u0632\\u0627\\u0631\\u0647 \\u0627\\u0644\\u0635\\u062d\\u0647 \\u0643\\u0645\\u0627 \\u0644\\u0627 \\u062a\\u062a\\u062d\\u0645\\u0644 \\u0627\\u0644\\u0648\\u0632\\u0627\\u0631\\u0647 \\u0645\\u0633\\u0621\\u0648\\u0644\\u064a\\u0647 \\u0627\\u0644\\u0627\\u0636\\u0631\\u0627\\u0631 \\u0627\\u0644\\u0646\\u0627\\u062a\\u062c\\u0647 \\u0639\\u0646 \\u0627\\u064a \\u0641\\u064a\\u0631\\u0648\\u0633\\u0627\\u062a \\u0642\\u062f \\u062a\\u062d\\u0645\\u0644\\u0647\\u0627 \\u0647\\u0630\\u0647 \\u0627\\u0644\\u0631\\u0633\\u0627\\u0644\\u0647  \\u0645\\u0644\\u0627\\u062d\\u0638\\u0629 \\u0627\\u0644\\u062a\\u0627\\u0631\\u064a\\u062e \\u0631\\u0633\\u0627\\u0644\\u0629 \\u062e\\u0627\\u0635\\u0629 \\u0627\\u0644\\u0645\\u0624\\u0644\\u0641 \\u0627\\u0644\\u0646\\u0648\\u0639 \\u0639\\u0632\\u064a\\u0632\\u064a \\u0627\\u0644\\u0645\\u0647\\u0646\\u062f\\u0633 \\u0625\\u0628\\u0631\\u0627\\u0647\\u064a\\u0645 \\u0648\\u0641\\u0642\\u064b\\u0627 \\u0644\\u0639\\u0645\\u0644\\u064a\\u0629 \\u0627\\u0644\\u062a\\u0635\\u0648\\u064a\\u0631\\u060c \\u0648\\u062c\\u062f\\u0646\\u0627 \\u0623\\u0646 \\u0627\\u0644\\u0645\\u0634\\u0643\\u0644\\u0629 \\u062a\\u062a\\u0639\\u0644\\u0642 \\u0628\\u062e\\u0627\\u062f\\u0645 \\u0644\\u0623\\u0646\\u0647 \\u064a\\u062d\\u0644 \\u0639\\u0646\\u0648\\u0627\\u0646 \\u0627\\u0644\\u062e\\u0627\\u0637\\u0626 \\u0644\\u0645\\u0648\\u0627\\u0642\\u0639 \\u0627\\u0644\\u0645\\u062d\\u0644\\u064a\\u0629 \\u0627\\u0644\\u062d\\u0644 \\u0642\\u0645 \\u0628\\u062a\\u063a\\u064a\\u064a\\u0631 \\u0645\\u0644\\u0641 \\u0627\\u0644\\u0645\\u0636\\u064a\\u0641 \\u0627\\u0644\\u0645\\u0634\\u062a\\u0631\\u0643 \\u0627\\u0644\\u062b\\u0627\\u0628\\u062a \\u0644\\u062d\\u0644 \\u0639\\u0646\\u0648\\u0627\\u0646 \\u0639\\u0644\\u0649 \\u0627\\u0644\\u062e\\u0627\\u062f\\u0645 \\u0628\\u0627\\u0644\\u0625\\u0636\\u0627\\u0641\\u0629 \\u0625\\u0644\\u0649 \\u062e\\u0627\\u062f\\u0645 \\u0639\\u0644\\u0649 \\u0627\\u0644\\u0646\\u062d\\u0648 \\u0627\\u0644\\u062a\\u0627\\u0644\\u064a \\u0633\\u064a\\u0633\\u062a\\u063a\\u0631\\u0642 \\u062a\\u0648\\u0632\\u064a\\u0639 \\u0627\\u0644\\u062a\\u062d\\u062f\\u064a\\u062b \\u0639\\u0644\\u0649 \\u062c\\u0645\\u064a\\u0639 \\u0627\\u0644\\u0623\\u062c\\u0647\\u0632\\u0629 \\u0627\\u0644\\u0637\\u0631\\u0641\\u064a\\u0629 \\u0648\\u0642\\u062a\\u064b\\u0627 \\u0637\\u0648\\u064a\\u0644\\u0627\\u064b \\u0644\\u0645\\u0632\\u064a\\u062f \\u0645\\u0646 \\u0627\\u0644\\u062f\\u0639\\u0645 \\u0648\\u0627\\u0644\\u0645\\u0639\\u0644\\u0648\\u0645\\u0627\\u062a\\u060c \\u0644\\u0627 \\u062a\\u062a\\u0631\\u062f\\u062f \\u0641\\u064a \\u0627\\u0644\\u0627\\u062a\\u0635\\u0627\\u0644 \\u0628\\u0646\\u0627 \\u0634\\u0643\\u0631\\u064b\\u0627 \\u0644\\u0643 \\u0645\\u0639 \\u062a\\u062d\\u064a\\u0627\\u062a\\u064a \\u0645\\u0647\\u0646\\u062f\\u0633 \\u0623\\u0645\\u0627\\u0646 \\u0627\\u0644\\u0634\\u0628\\u0643\\u0627\\u062a \\u0645\\u0644\\u0627\\u062d\\u0638\\u0629 \\u0645\\u0644\\u0627\\u062d\\u0638\\u0629 \\u0627\\u0644\\u062a\\u0627\\u0631\\u064a\\u062e \\u0635\\u0628\\u0627\\u062d\\u064b\\u0627 \\u0627\\u0644\\u0645\\u0624\\u0644\\u0641 \\u0627\\u0644\\u0646\\u0648\\u0639 \\u0627\\u0644\\u0645\\u0639\\u064a\\u0646 \\u0644\\u0640 \\u0646\\u0648\\u062a\\u0629 \\u0627\\u0644\\u0631\\u064a\\u062d\\u0627\\u0646\"\n        ],\n        \"semantic_type\": \"\",\n        \"description\": \"\"\n      }\n    },\n    {\n      \"column\": \"label\",\n      \"properties\": {\n        \"dtype\": \"category\",\n        \"num_unique_values\": 10,\n        \"samples\": [\n          \"Maintenance Requests\",\n          \"Peripheral Device Issues\",\n          \"Job Orders\"\n        ],\n        \"semantic_type\": \"\",\n        \"description\": \"\"\n      }\n    }\n  ]\n}"
            }
          },
          "metadata": {},
          "execution_count": 7
        }
      ]
    },
    {
      "cell_type": "code",
      "source": [
        "!pip install -q -U deep_translator fuzzywuzzy"
      ],
      "metadata": {
        "collapsed": true,
        "id": "l91ZYJJ16vIX",
        "outputId": "99147f44-d0e3-4b14-9c4a-c44c2a03337c",
        "colab": {
          "base_uri": "https://localhost:8080/"
        }
      },
      "execution_count": 8,
      "outputs": [
        {
          "output_type": "stream",
          "name": "stdout",
          "text": [
            "\u001b[?25l   \u001b[90m━━━━━━━━━━━━━━━━━━━━━━━━━━━━━━━━━━━━━━━━\u001b[0m \u001b[32m0.0/42.3 kB\u001b[0m \u001b[31m?\u001b[0m eta \u001b[36m-:--:--\u001b[0m\r\u001b[2K   \u001b[90m━━━━━━━━━━━━━━━━━━━━━━━━━━━━━━━━━━━━━━━━\u001b[0m \u001b[32m42.3/42.3 kB\u001b[0m \u001b[31m2.6 MB/s\u001b[0m eta \u001b[36m0:00:00\u001b[0m\n",
            "\u001b[?25h"
          ]
        }
      ]
    },
    {
      "cell_type": "code",
      "source": [
        "# from deep_translator import GoogleTranslator\n",
        "\n",
        "# def translate_to_english(text):\n",
        "#   \"\"\"\n",
        "#   Translates Arabic text to English using Google Translator.\n",
        "\n",
        "#   Args:\n",
        "#     text: The Arabic text to translate.\n",
        "\n",
        "#   Returns:\n",
        "#     The translated English text, or the original text if translation fails.\n",
        "#   \"\"\"\n",
        "#   try:\n",
        "#     translator = GoogleTranslator(source='ar', target='en')\n",
        "#     translated_text = translator.translate(text)\n",
        "#     return translated_text\n",
        "#   except Exception as e:\n",
        "#     print(f\"Translation error: {e}\")\n",
        "#     return text\n",
        "\n",
        "\n",
        "# # Apply the translation function to the 'Subject' column\n",
        "# df_HARD['Subject_English'] = df_HARD['Subject'].apply(translate_to_english)\n",
        "\n",
        "# # Print the updated DataFrame to verify the changes\n",
        "# df_HARD[['Subject', 'Subject_English']].head()"
      ],
      "metadata": {
        "id": "2XAGAJum6qhz"
      },
      "execution_count": 10,
      "outputs": []
    },
    {
      "cell_type": "code",
      "source": [
        "# import pandas as pd\n",
        "# from fuzzywuzzy import process\n",
        "\n",
        "# # Updated class mapping with more keywords\n",
        "# class_mapping = {\n",
        "#     \"Printer Issues\": [\n",
        "#         \"printer\", \"paper jam\", \"laser jet\", \"open a printer\",\n",
        "#         \"barcode printer\", \"printer not working\", \"printer failure\"\n",
        "#     ],\n",
        "#     \"Computer Issues\": [\n",
        "#         \"computer\", \"device\", \"pc\", \"hardware\",\n",
        "#         \"device screen\", \"computer malfunction\", \"computer not working\"\n",
        "#     ],\n",
        "#     \"Peripheral Device Issues\": [\n",
        "#         \"keyboard\", \"mouse\", \"hard disk\", \"power supply\", \"usb\",\n",
        "#         \"monitor\", \"display\", \"mouse malfunction\", \"keyboard malfunction\"\n",
        "#     ],\n",
        "#     \"Network Issues\": [\n",
        "#         \"network\", \"internet\", \"access points\", \"extend network\",\n",
        "#         \"network failure\", \"internet problem\", \"internet outage\"\n",
        "#     ],\n",
        "#     \"Maintenance Requests\": [\n",
        "#         \"maintenance\", \"repair\", \"fix\", \"maintenance request\",\n",
        "#         \"equipment maintenance\", \"device maintenance\"\n",
        "#     ],\n",
        "#     \"General Hardware Issues\": [\n",
        "#         \"failure\", \"malfunction\", \"issue\", \"hardware failure\",\n",
        "#         \"device issue\", \"system failure\"\n",
        "#     ],\n",
        "#     \"Security Alerts\": [\n",
        "#         \"security alert\", \"urgent security\", \"security report\",\n",
        "#         \"urgent report\", \"security issue\"\n",
        "#     ],\n",
        "#     \"Job Orders\": [\n",
        "#         \"job - order\", \"job order\", \"task order\", \"job request\"\n",
        "#     ],\n",
        "#     \"Miscellaneous\": [\n",
        "#         \"re:\", \"holidays\", \"scan\", \"hospital\", \"urgent\",\n",
        "#         \"general inquiry\", \"request\", \"question\", \"help\"\n",
        "#     ]\n",
        "# }\n",
        "\n",
        "# # Function to classify subjects with fuzzy matching\n",
        "# def classify_subject_fuzzy(subject, threshold=80):\n",
        "#     subject = subject.lower()\n",
        "#     for class_name, keywords in class_mapping.items():\n",
        "#         match, score = process.extractOne(subject, keywords)\n",
        "#         if score >= threshold:\n",
        "#             return class_name\n",
        "#     return \"Uncategorized\"\n",
        "\n",
        "# # Applying the fuzzy classification function to the 'Subject_English' column\n",
        "# df_HARD['Class'] = df_HARD['Subject_English'].apply(classify_subject_fuzzy)\n",
        "\n",
        "# # Display the updated DataFrame\n",
        "# df_HARD[\"Class\"].value_counts()"
      ],
      "metadata": {
        "id": "4J6TAesu64lq"
      },
      "execution_count": 11,
      "outputs": []
    },
    {
      "cell_type": "code",
      "source": [
        "# df_HARD[\"text\"] = df_HARD[\"Request Detail\"]+' '+df_HARD[\"Notes\"]\n",
        "# # df_HARD.to_excel(\"combine_claass_df.xlsx\")\n",
        "# df_HARD.head()"
      ],
      "metadata": {
        "id": "h9f_JhG5_GU5"
      },
      "execution_count": 12,
      "outputs": []
    },
    {
      "cell_type": "code",
      "source": [
        "# prompt: this code under do not make the upasample balance well\n",
        "\n",
        "import pandas as pd\n",
        "from sklearn.utils import resample\n",
        "\n",
        "# Identify the majority and minority classes\n",
        "class_counts = df_HARD['Class'].value_counts()\n",
        "majority_class = class_counts.idxmax()\n",
        "minority_classes = class_counts[class_counts < class_counts.max()].index.tolist()\n",
        "\n",
        "# Upsample the minority classes to match the majority class size\n",
        "upsampled_dfs = []\n",
        "for minority_class in minority_classes:\n",
        "  minority_df = df_HARD[df_HARD['Class'] == minority_class]\n",
        "  upsampled_df = resample(minority_df,\n",
        "                          replace=True,  # Sample with replacement\n",
        "                          n_samples=class_counts[majority_class],  # Match majority class size\n",
        "                          random_state=42)  # Set a random seed for reproducibility\n",
        "  upsampled_dfs.append(upsampled_df)\n",
        "\n",
        "# Concatenate the upsampled minority class DataFrames with the original DataFrame\n",
        "upsampled_df_HARD = pd.concat([df_HARD[df_HARD['Class'] == majority_class]] + upsampled_dfs)\n",
        "\n",
        "# Verify the class distribution after upsampling\n",
        "print(upsampled_df_HARD['Class'].value_counts())\n",
        "\n",
        "# Now you can use `upsampled_df_HARD` for training your model\n",
        "# You might want to shuffle the DataFrame after upsampling\n",
        "upsampled_df_HARD = upsampled_df_HARD.sample(frac=1, random_state=42).reset_index(drop=True)\n",
        "upsampled_df_HARD[\"Class\"].value_counts()"
      ],
      "metadata": {
        "id": "wMoFsW3KAw_N",
        "outputId": "5b0cfa32-1604-4b86-cbf4-23365313454d",
        "colab": {
          "base_uri": "https://localhost:8080/",
          "height": 643
        }
      },
      "execution_count": 19,
      "outputs": [
        {
          "output_type": "stream",
          "name": "stdout",
          "text": [
            "Class\n",
            "Printer Issues              268\n",
            "Network Issues              268\n",
            "Uncategorized               268\n",
            "Computer Issues             268\n",
            "Maintenance Requests        268\n",
            "Miscellaneous               268\n",
            "Peripheral Device Issues    268\n",
            "Security Alerts             268\n",
            "General Hardware Issues     268\n",
            "Job Orders                  268\n",
            "Name: count, dtype: int64\n"
          ]
        },
        {
          "output_type": "execute_result",
          "data": {
            "text/plain": [
              "Class\n",
              "Computer Issues             268\n",
              "Peripheral Device Issues    268\n",
              "Security Alerts             268\n",
              "Uncategorized               268\n",
              "Printer Issues              268\n",
              "Job Orders                  268\n",
              "Network Issues              268\n",
              "Miscellaneous               268\n",
              "Maintenance Requests        268\n",
              "General Hardware Issues     268\n",
              "Name: count, dtype: int64"
            ],
            "text/html": [
              "<div>\n",
              "<style scoped>\n",
              "    .dataframe tbody tr th:only-of-type {\n",
              "        vertical-align: middle;\n",
              "    }\n",
              "\n",
              "    .dataframe tbody tr th {\n",
              "        vertical-align: top;\n",
              "    }\n",
              "\n",
              "    .dataframe thead th {\n",
              "        text-align: right;\n",
              "    }\n",
              "</style>\n",
              "<table border=\"1\" class=\"dataframe\">\n",
              "  <thead>\n",
              "    <tr style=\"text-align: right;\">\n",
              "      <th></th>\n",
              "      <th>count</th>\n",
              "    </tr>\n",
              "    <tr>\n",
              "      <th>Class</th>\n",
              "      <th></th>\n",
              "    </tr>\n",
              "  </thead>\n",
              "  <tbody>\n",
              "    <tr>\n",
              "      <th>Computer Issues</th>\n",
              "      <td>268</td>\n",
              "    </tr>\n",
              "    <tr>\n",
              "      <th>Peripheral Device Issues</th>\n",
              "      <td>268</td>\n",
              "    </tr>\n",
              "    <tr>\n",
              "      <th>Security Alerts</th>\n",
              "      <td>268</td>\n",
              "    </tr>\n",
              "    <tr>\n",
              "      <th>Uncategorized</th>\n",
              "      <td>268</td>\n",
              "    </tr>\n",
              "    <tr>\n",
              "      <th>Printer Issues</th>\n",
              "      <td>268</td>\n",
              "    </tr>\n",
              "    <tr>\n",
              "      <th>Job Orders</th>\n",
              "      <td>268</td>\n",
              "    </tr>\n",
              "    <tr>\n",
              "      <th>Network Issues</th>\n",
              "      <td>268</td>\n",
              "    </tr>\n",
              "    <tr>\n",
              "      <th>Miscellaneous</th>\n",
              "      <td>268</td>\n",
              "    </tr>\n",
              "    <tr>\n",
              "      <th>Maintenance Requests</th>\n",
              "      <td>268</td>\n",
              "    </tr>\n",
              "    <tr>\n",
              "      <th>General Hardware Issues</th>\n",
              "      <td>268</td>\n",
              "    </tr>\n",
              "  </tbody>\n",
              "</table>\n",
              "</div><br><label><b>dtype:</b> int64</label>"
            ]
          },
          "metadata": {},
          "execution_count": 19
        }
      ]
    },
    {
      "cell_type": "code",
      "source": [
        "df_HARD.drop(columns=[\"Unnamed: 0\"], inplace=True)"
      ],
      "metadata": {
        "id": "uIRJkqkWCJTe"
      },
      "execution_count": 13,
      "outputs": []
    },
    {
      "cell_type": "code",
      "metadata": {
        "id": "-6oL3qkXmOgJ",
        "colab": {
          "base_uri": "https://localhost:8080/"
        },
        "outputId": "b07bdfce-2e68-45f4-f384-6cb4356d5634"
      },
      "source": [
        "# This will hold all the downloaded and structred datasets\n",
        "all_datasets= []\n",
        "DATA_COLUMN = \"text\"\n",
        "LABEL_COLUMN = \"label\"\n",
        "\n",
        "# df_HARD = pd.read_excel(\"/content/combine_claass_df.xlsx\")\n",
        "\n",
        "# df_HARD = pd.read_csv(\"/content/balanced-reviews.txt\", sep=\"\\t\", header=0,encoding='utf-16')\n",
        "\n",
        "df_HARD = df_HARD[[\"text\",\"label\"]]  # we are interested in rating and review only\n",
        "df_HARD.columns = [DATA_COLUMN, LABEL_COLUMN]\n",
        "print(df_HARD[LABEL_COLUMN].value_counts())\n",
        "# code rating as +ve if > 3, -ve if less, no 3s in dataset\n",
        "\n",
        "hard_map = {\n",
        "    \"Printer Issues\": \"Printer Issues\",\n",
        "    \"Computer Issues\": \"Computer Issues\",\n",
        "     \"Peripheral Device Issues\": \"Peripheral Device Issues\",\n",
        "     \"Network Issues\": \"Network Issues\",\n",
        "    'Maintenance Requests':'Maintenance Requests', # removed tab character from key\n",
        "    \"Uncategorized\":\"Uncategorized\",\n",
        "    \"General Hardware Issues\": \"General Hardware Issues\",\n",
        "    \"Security Alerts\": \"Security Alerts\",\n",
        "    \"Job Orders\": \"Job Orders\",\n",
        "    \"Miscellaneous\": \"Miscellaneous\"\n",
        "}\n",
        "\n",
        "\n",
        "df_HARD[LABEL_COLUMN] = df_HARD[LABEL_COLUMN].apply(lambda x: hard_map[x])\n",
        "train_HARD, test_HARD = train_test_split(df_HARD, test_size=0.2, random_state=42)\n",
        "label_list_HARD = [\"Computer Issues\", \"Peripheral Device Issues\", \"Security Alerts\"\t, \"Uncategorized\", \"Printer Issues\", \"Job Orders\"\t, \"Network Issues\"\t,\"Miscellaneous\",\"Maintenance Requests\"\t,\n",
        "    \"General Hardware Issues\"\t,\n",
        "]\n",
        "\n",
        "data_Hard = CustomDataset(\"HARD\", train_HARD, test_HARD, label_list_HARD)\n",
        "all_datasets.append(data_Hard)"
      ],
      "execution_count": 15,
      "outputs": [
        {
          "output_type": "stream",
          "name": "stdout",
          "text": [
            "label\n",
            "Computer Issues             268\n",
            "Peripheral Device Issues    268\n",
            "Security Alerts             268\n",
            "Uncategorized               268\n",
            "Printer Issues              268\n",
            "Job Orders                  268\n",
            "Network Issues              268\n",
            "Miscellaneous               268\n",
            "Maintenance Requests        268\n",
            "General Hardware Issues     268\n",
            "Name: count, dtype: int64\n"
          ]
        }
      ]
    },
    {
      "cell_type": "code",
      "source": [
        "upsampled_df_HARD.to_excel(\"combine_claass_df_balnce.xlsx\")"
      ],
      "metadata": {
        "id": "v8MIT5AiCelB"
      },
      "execution_count": 29,
      "outputs": []
    },
    {
      "cell_type": "markdown",
      "metadata": {
        "id": "Bcwdslw7v0Q8"
      },
      "source": [
        "#Trainer"
      ]
    },
    {
      "cell_type": "markdown",
      "metadata": {
        "id": "fhcYKB663eoz"
      },
      "source": [
        "Start the training procedure"
      ]
    },
    {
      "cell_type": "code",
      "metadata": {
        "id": "HUn2RB6Bvrxj"
      },
      "source": [
        "import numpy as np\n",
        "import torch\n",
        "import random\n",
        "import matplotlib.pyplot as plt\n",
        "import copy\n",
        "\n",
        "from arabert.preprocess import ArabertPreprocessor\n",
        "from sklearn.metrics import (accuracy_score, classification_report,\n",
        "                             confusion_matrix, f1_score, precision_score,\n",
        "                             recall_score)\n",
        "from torch.utils.data import DataLoader, Dataset\n",
        "from transformers import (AutoConfig, AutoModelForSequenceClassification,\n",
        "                          AutoTokenizer, BertTokenizer, Trainer,\n",
        "                          TrainingArguments)\n",
        "from transformers.data.processors.utils import InputFeatures"
      ],
      "execution_count": 16,
      "outputs": []
    },
    {
      "cell_type": "markdown",
      "metadata": {
        "id": "0tv-ZwCt3iZE"
      },
      "source": [
        "List all the datasets we have"
      ]
    },
    {
      "cell_type": "code",
      "metadata": {
        "colab": {
          "base_uri": "https://localhost:8080/"
        },
        "id": "R4SGYoB2EDJD",
        "outputId": "6eda8b68-b473-4a5d-8b82-d43491e4054a"
      },
      "source": [
        "for x in all_datasets:\n",
        "  print(x.name)"
      ],
      "execution_count": 17,
      "outputs": [
        {
          "output_type": "stream",
          "name": "stdout",
          "text": [
            "HARD\n"
          ]
        }
      ]
    },
    {
      "cell_type": "code",
      "metadata": {
        "id": "vzeVFoz1wDYf"
      },
      "source": [
        "# select a dataset\n",
        "dataset_name = 'HARD'\n",
        "# select a model from the huggingface modelhub https://huggingface.co/models?language=ar\n",
        "# model_name = 'aubmindlab/bert-base-arabertv02-twitter' # we are going to use the twitter AraBERT since it has emojis and dialects\n",
        "# Load model directly\n",
        "from transformers import AutoTokenizer, AutoModelForMaskedLM\n",
        "\n",
        "# tokenizer = AutoTokenizer.from_pretrained(\"google-bert/bert-base-multilingual-cased\")\n",
        "# model_name = AutoModelForMaskedLM.from_pretrained(\"google-bert/bert-base-multilingual-cased\")\n",
        "model_name =\"CAMeL-Lab/bert-base-arabic-camelbert-ca-poetry\""
      ],
      "execution_count": 24,
      "outputs": []
    },
    {
      "cell_type": "code",
      "metadata": {
        "colab": {
          "base_uri": "https://localhost:8080/"
        },
        "id": "_ieCOj90aw8X",
        "outputId": "952144ed-64da-4ba0-fb0b-45d2f1d81d2a"
      },
      "source": [
        "import copy\n",
        "for d in all_datasets:\n",
        "  if d.name==dataset_name:\n",
        "    selected_dataset = copy.deepcopy(d)\n",
        "    print('Dataset found')\n",
        "    break"
      ],
      "execution_count": 25,
      "outputs": [
        {
          "output_type": "stream",
          "name": "stdout",
          "text": [
            "Dataset found\n"
          ]
        }
      ]
    },
    {
      "cell_type": "markdown",
      "metadata": {
        "id": "Icuhwx3S4NLM"
      },
      "source": [
        "Create and apply preprocessing using the AraBERT processor"
      ]
    },
    {
      "cell_type": "code",
      "source": [
        "from arabert import ArabertPreprocessor"
      ],
      "metadata": {
        "id": "giwcLkeVMAqj"
      },
      "execution_count": 26,
      "outputs": []
    },
    {
      "cell_type": "code",
      "metadata": {
        "id": "lt_lGy85zuca",
        "colab": {
          "base_uri": "https://localhost:8080/"
        },
        "outputId": "8fcf2d45-dec6-43ce-b6fa-3052acca4dcd"
      },
      "source": [
        "arabic_prep = ArabertPreprocessor(model_name)\n",
        "\n",
        "selected_dataset.train[DATA_COLUMN] = selected_dataset.train[DATA_COLUMN].apply(lambda x: arabic_prep.preprocess(x))\n",
        "selected_dataset.test[DATA_COLUMN] = selected_dataset.test[DATA_COLUMN].apply(lambda x: arabic_prep.preprocess(x))"
      ],
      "execution_count": 27,
      "outputs": [
        {
          "output_type": "stream",
          "name": "stderr",
          "text": [
            "WARNING:root:Model provided is not in the accepted model list. Preprocessor will default to a base Arabic preprocessor\n"
          ]
        }
      ]
    },
    {
      "cell_type": "code",
      "metadata": {
        "colab": {
          "base_uri": "https://localhost:8080/"
        },
        "id": "v-tHPrqeEqHm",
        "outputId": "8b984f81-7042-4aca-d294-575371bfbd37"
      },
      "source": [
        "# Sanity check on the dataset\n",
        "list(selected_dataset.train[DATA_COLUMN][0:10])"
      ],
      "execution_count": 35,
      "outputs": [
        {
          "output_type": "execute_result",
          "data": {
            "text/plain": [
              "['ملاحظة التاريخ رسالة خاصة المؤلف عمر مختار النوع تقنية الوقت المعدل مرحبا عزيزي يسمح بالدخول إلى مواقع الويب هذه تأكد من الكتابة في المتصفح قبل عنوان إذا لم يعمل ، يرجى الاتصال ب مع تحياتي عمر عبد العزيز مختار ملاحظة الجوال ملاحظة التاريخ أنا المؤلف م عزت النوع تقنية الوقت المعدل مستشفى نافع لا يمكنه الدخول إلى مواقع الويب هذه إلى عمر ملاحظة',\n",
              " 'ملاحظة التاريخ أنا المؤلف سارة البخيت النوع الفني الوقت المعدل تم تعيينه إلى ملاحظة التاريخ مساءا المؤلف باسل علي النوع الفني الوقت المعدل عزيزي روح الدرعية تحياتي لقد استبعدنا عنوان من خادم شكرا لك تحياتي باسل علي مهندس أمان الشبكات ملاحظة',\n",
              " 'ملاحظة التاريخ رسالة خاصة المؤلف أوخضرة النوع فني الوقت المعدل المخصص للمهندس عبد الله ملاحظة ملاحظة التاريخ رسالة خاصة المؤلف أ فضل س س النوع فني الوقت المعدل عزيزي عبد العزيز لقد قمنا باستبدال المفتاح المعيب بمفتاح جديد من نفس الطراز منافذ سيسكو تحياتي عبد الله فضل س مهندس شبكات ملاحظة',\n",
              " 'تنبيه باخلاء المسءوليه هذه الرساله ومرفقاتها معده لاستخدام المرسل اليه المقصود بالرساله فقط و قد تحتوي علي معلومات سريه او محميه قانونيا ان لم تكن الشخص المقصود فانه يمنع منعا باتا اي عرض او نشر او استخدام غير مصرح به للمحتوي نرجو اخطار المرسل عن طريق الرد علي هذا البريد الالكتروني واتلاف جميع النسخ الموجوده لديك تعد التصريحات و الاراء المذكوره في الرساله خاصه بالمرسل و لا تمثل وزاره الصحه كما لا تتحمل الوزاره مسءوليه الاضرار الناتجه عن اي فيروسات قد تحملها هذه الرساله ملاحظة التاريخ أنا المؤلف سارة البخيت النوع الفني الوقت المعدل المخصص للمهندس عبد الخالق ملاحظة ملاحظة التاريخ أنا المؤلف أ جاويد النوع الفني الوقت المعدل تم فحصه ووجد مشكلة في الذاكرة بحاجة إلى ذاكرة جيجا بايت ملاحظة ملاحظة التاريخ مساءا المؤلف م عزت النوع الفني الوقت المعدل سيتم زيارة الموقع في وقت مبكر من الأسبوع المقبل لاستبدال الجزء المعيب ملاحظة',\n",
              " 'تنبيه باخلاء المسءوليه هذه الرساله ومرفقاتها معده لاستخدام المرسل اليه المقصود بالرساله فقط و قد تحتوي علي معلومات سريه او محميه قانونيا ان لم تكن الشخص المقصود فانه يمنع منعا باتا اي عرض او نشر او استخدام غير مصرح به للمحتوي نرجو اخطار المرسل عن طريق الرد علي هذا البريد الالكتروني واتلاف جميع النسخ الموجوده لديك تعد التصريحات و الاراء المذكوره في الرساله خاصه بالمرسل و لا تمثل وزاره الصحه كما لا تتحمل الوزاره مسءوليه الاضرار الناتجه عن اي فيروسات قد تحملها هذه الرساله ملاحظة التاريخ رسالة خاصة المؤلف أ جاويد س س النوع تقني الوقت المعدل تم استبدال ذاكرة الوصول العشوائي بسعة 16 جيجابايت والكمبيوتر الشخصي يعمل بشكل جيد ملاحظة د ملاحظة التاريخ رسالة خاصة المؤلف أوخضرة النوع تقني الوقت المعدل تم تعيينه إلى المهندس عبد الخالق ملاحظة',\n",
              " 'الساده شركه المعمر المحترمين السلام عليكم ورحمه الله وبركاته نحتاج عدد كيبورد عدد ماوس الرجاء السرعه في توفير القطع لتعطل بعض الاجهزه وشكرا تنبيه باخلاء المسءوليه هذه الرساله ومرفقاتها معده لاستخدام المرسل اليه المقصود بالرساله فقط و قد تحتوي علي معلومات سريه او محميه قانونيا ان لم تكن الشخص المقصود فانه يمنع منعا باتا اي عرض او نشر او استخدام غير مصرح به للمحتوي نرجو اخطار المرسل عن طريق الرد علي هذا البريد الالكتروني واتلاف جميع النسخ الموجوده لديك تعد التصريحات و الاراء المذكوره في الرساله خاصه بالمرسل و لا تمثل وزاره الصحه كما لا تتحمل الوزاره مسءوليه الاضرار الناتجه عن اي فيروسات قد تحملها هذه الرساله ملاحظة التاريخ صباحا المؤلف وليد عيسى كوم سا نوع معدل الوقت التقني السادة مستشفي البكيريه المحترمين تحيه طيبه تم تسليم عدد ماوس و كيبورد تحياتي مهندس وليد ملاحظة تاريخ الملاحظة مساء المؤلف خضرا نوع التكنولوجيا معدل الوقت المخصص للمهندس وليد ملاحظة ملاحظة التاريخ مساء المؤلف اخدرا نوع التكنولوجيا معدل الوقت السلام عليكم ورحمه الله وبركاته الساده الكرام تحيه طيبه نسعد بتواصلكم ونامل منكم تزويدنا بالارقام تسلسليه للاجهزه المتعطله لنتمكن من خدمةكم بشكل افضل شكرا لكم ملاحظة ملاحظة التاريخ مساء المؤلف معدل الوقت الساده مستشفي البكيريه المحترمين تحيه طيبه جاري العمل علي توفير المطلوب تحياتي مهندس وليد ملاحظة الارقاميه للقطع المتعطله من دعم مركزي الارسال شعب م الي اداره تقنيه المعلومات وتسجيل بمستشفي البكيريه العام الموضوع تذكرة تذكير في انتظار العميل طلب كيبورد و موسده شركه المعمر اسم المرفق اسم المرفق اسم المرفق اسم المرفق اسم المرفق اسم المرفق اسم المرفق اسم المرفق اسم المرفق اسم المرفق اسم المرفق اسم المرفق اسم المرفق اسم المرفق اسم المرفق اسم المرفق اسم المرفق اسم المرفق اسم المرفق اسم المرفق اسم المرفق اسم المرفق اسم المرفق اسم المرفق اسم المرفق اسم المرفق اسم المرفق اسم المرفق اسم المرفق اسم المرفق اسم المرفق اسم المرفق اسم المرفق ملاحظة',\n",
              " 'ملاحظة التاريخ رسالة خاصة المؤلف أوخضرة النوع فني الوقت المعدل المخصص للمهندس عبد الله ملاحظة ملاحظة التاريخ رسالة خاصة المؤلف أ فضل س س النوع فني الوقت المعدل عزيزي عبد العزيز لقد قمنا باستبدال المفتاح المعيب بمفتاح جديد من نفس الطراز منافذ سيسكو تحياتي عبد الله فضل س مهندس شبكات ملاحظة',\n",
              " 'تنبيه باخلاء المسءوليه هذه الرساله ومرفقاتها معده لاستخدام المرسل اليه المقصود بالرساله فقط و قد تحتوي علي معلومات سريه او محميه قانونيا ان لم تكن الشخص المقصود فانه يمنع منعا باتا اي عرض او نشر او استخدام غير مصرح به للمحتوي نرجو اخطار المرسل عن طريق الرد علي هذا البريد الالكتروني واتلاف جميع النسخ الموجوده لديك تعد التصريحات و الاراء المذكوره في الرساله خاصه بالمرسل و لا تمثل وزاره الصحه كما لا تتحمل الوزاره مسءوليه الاضرار الناتجه عن اي فيروسات قد تحملها هذه الرساله ملاحظة التاريخ مساء المؤلف وليد عيسى كوم سا نوع التكنولوجيا معدل الوقت السادة مستشفي الولاده والاطفال المحترمين تحيه طيبه تم ختم القلم والطابعه ليس فيها ايال الحرص بشكل جيد تحياتي مهندس وليد ملاحظة تاريخ الملاحظة مساء المؤلف معدل الوقت المخصص للمهندس وليد ملاحظة ملاحظة التاريخ مساء المؤلف وليد عيسى نوع معدل الوقت التقني سادهشفي الولاده الاطفال والا محترمين تحيه طيبه حسب الجدول الزمني ستتمتم يوم الأحد تحياتي مهندس وليد ملاحظة',\n",
              " 'السلام عليكم ورحمه الله وبركاته الساده شركه المعمر نود ابلاغكم في وجود مشكله في اعدادات طبق الميكرويف نامل منكم ايجاد حل للمشكله اسم المستشفي مستشفي وثيلان رقم التواصل تنبيه باخلاء المسءوليه هذه الرساله ومرفقاتها معده لاستخدام المرسل اليه المقصود بالرساله فقط و قد تحتوي علي معلومات سريه او محميه قانونيا ان لم تكن الشخص المقصود فانه يمنع منعا باتا اي عرض او نشر او استخدام غير مصرح به للمحتوي نرجو اخطار المرسل عن طريق الرد علي هذا البريد الالكتروني واتلاف جميع النسخ الموجوده لديك تعد التصريحات و الاراء المذكوره في الرساله خاصه بالمرسل و لا تمثل وزاره الصحه كما لا تتحمل الوزاره مسءوليه الاضرار الناتجه عن اي فيروسات قد تحملها هذه الرساله ملاحظة التاريخ رسالة خاصة المؤلف أحمد سوالمة النوع فني الوقت المعدل عزيزي المهندس مها كما تمت مناقشته عبر الهاتف مع المهندس محمد ، فقد أشار إلى أنه سيتصل بنا غدا لحل المشكلة لأن الميكروويف يحتاج إلى تكوين تحياتي أحمد سوالمة مهندس شبكات ملاحظة ملاحظة التاريخ صباحا المؤلف أحمد سوالمة النوع فني الوقت المعدل عزيزي المهندس مها لقد زودناك بعناوين للميكروويف ليتم تكوينه عليه عبر تطبيق لا تتردد في فتح حالة جديدة لأي دعم تحياتي أحمد سوالمة مهندس شبكات ملاحظة ملاحظة التاريخ رسالة خاصة المؤلف سارة البخيت النوع فني الوقت المعدل المخصص للمهندس أحمد ملاحظة',\n",
              " 'ملاحظة التاريخ رسالة خاصة المؤلف أ جاويد س النوع التقنية الوقت المعدل تم فحصه ووجد أن المشكلة في لوحة التنسيق لا يتم اكتشافها تحتاج إلى استبدال الطابعة ملاحظة ملاحظة التاريخ رسالة خاصة المؤلف سارة البخيت س النوع التقنية الوقت المعدل المخصص للمهندس عبد الخالق ملاحظة']"
            ]
          },
          "metadata": {},
          "execution_count": 35
        }
      ]
    },
    {
      "cell_type": "markdown",
      "metadata": {
        "id": "BH2yldN-4vcX"
      },
      "source": [
        "Now we need to check the tokenized sentence length to decide on the maximum sentence length value"
      ]
    },
    {
      "cell_type": "code",
      "metadata": {
        "id": "IOVdVmfEguAT",
        "colab": {
          "base_uri": "https://localhost:8080/",
          "height": 201,
          "referenced_widgets": [
            "6715fc436829473297bd428034fc7d54",
            "90523c9a0679461dbb3057b22e5f517e",
            "1cedcfb8ed88447baac39cff80a334d0",
            "f62847b693ec4e9e8c942854ddf74112",
            "72f11487ee0e425eaddcd485cc58f293",
            "521cbd283bfd42a0b4383bc6edaaed8f",
            "6f8bc013218c4a299b73cf06ddcc2f44",
            "61aed38ec131490794d021f22c73e0fc",
            "55d01e144f6448c6aeb19d0cb51b09cc",
            "1895853a10204055a8730831adbb8c0b",
            "7a5b7b44f7f042e7b375c5cd4f38e1db",
            "c0a632ead6644974b92052555f669006",
            "e602f7fe400c42c8bba8bef5991ab6ea",
            "8bebcc0d1f664149a4c1a6ceac1441e0",
            "2c63afb45e43421a98350d042d06e4d4",
            "4a84e1004caa4a74a67b2815690a0b77",
            "ed9fdb0701934e53b79e485b3c63e899",
            "1b8d2d55c6314278a5633d9661673d5e",
            "d902323432df42d3abda5bed96187f08",
            "c30593e590334e70a86f2aa9afb7cdce",
            "72848fbf22414978a2e6337187b52808",
            "77555dbdfcdb47b4b3cd42eee638f502",
            "d8ab1e16e72440f198ec066cf95c9228",
            "3ae4e48e1d9347d9ac5d622408144819",
            "e277a04bac6a42ef89e3185a94591889",
            "cedfcc1673014f0eb9e63b37e5a9ccff",
            "66eaa6f0374f4af6b783b863c88ac20b",
            "a1d6ef5494b547ca92d5865809274caa",
            "a21c91f523b4496fb5cfee940993754b",
            "94851222709a4a2ba34aa4653abd617f",
            "89a21a2e0d884b69a3a8526e56b071fa",
            "2f9638f3256a44858c2b9934eb798584",
            "ba22395b6ea2429080e6673edc726d85",
            "30f82dac209640e7bcd34677bbcb6f68",
            "49a0782efc24443e93aa34af8cbd004b",
            "7e966575089a404db54b17b81cd66fe6",
            "3b26cac77ece480095f6d0a64f3d4e89",
            "761aee53c151453f829e9043742f5ab9",
            "1117098d71594ad89dae09efd8a6285e",
            "42cc9ae001014f00881ed06b71dfadd6",
            "eec46a72d00d456483a17b2356fd5bd8",
            "7198e215f0a349ea80fde7ed71570d60",
            "d81624c8022247a99ab22a95cb674e30",
            "7ad3c7c335254419aafe1b21c87563b8"
          ]
        },
        "outputId": "e3257c97-4d2c-487f-89db-1f3696a4767f"
      },
      "source": [
        "from transformers import AutoTokenizer\n",
        "tokenizer = AutoTokenizer.from_pretrained(\"CAMeL-Lab/bert-base-arabic-camelbert-ca-poetry\")\n",
        "tok = AutoTokenizer.from_pretrained(model_name)"
      ],
      "execution_count": 28,
      "outputs": [
        {
          "output_type": "display_data",
          "data": {
            "text/plain": [
              "tokenizer_config.json:   0%|          | 0.00/86.0 [00:00<?, ?B/s]"
            ],
            "application/vnd.jupyter.widget-view+json": {
              "version_major": 2,
              "version_minor": 0,
              "model_id": "6715fc436829473297bd428034fc7d54"
            }
          },
          "metadata": {}
        },
        {
          "output_type": "display_data",
          "data": {
            "text/plain": [
              "config.json:   0%|          | 0.00/3.05k [00:00<?, ?B/s]"
            ],
            "application/vnd.jupyter.widget-view+json": {
              "version_major": 2,
              "version_minor": 0,
              "model_id": "c0a632ead6644974b92052555f669006"
            }
          },
          "metadata": {}
        },
        {
          "output_type": "display_data",
          "data": {
            "text/plain": [
              "vocab.txt:   0%|          | 0.00/305k [00:00<?, ?B/s]"
            ],
            "application/vnd.jupyter.widget-view+json": {
              "version_major": 2,
              "version_minor": 0,
              "model_id": "d8ab1e16e72440f198ec066cf95c9228"
            }
          },
          "metadata": {}
        },
        {
          "output_type": "display_data",
          "data": {
            "text/plain": [
              "special_tokens_map.json:   0%|          | 0.00/112 [00:00<?, ?B/s]"
            ],
            "application/vnd.jupyter.widget-view+json": {
              "version_major": 2,
              "version_minor": 0,
              "model_id": "30f82dac209640e7bcd34677bbcb6f68"
            }
          },
          "metadata": {}
        },
        {
          "output_type": "stream",
          "name": "stderr",
          "text": [
            "/usr/local/lib/python3.10/dist-packages/transformers/tokenization_utils_base.py:1601: FutureWarning: `clean_up_tokenization_spaces` was not set. It will be set to `True` by default. This behavior will be depracted in transformers v4.45, and will be then set to `False` by default. For more details check this issue: https://github.com/huggingface/transformers/issues/31884\n",
            "  warnings.warn(\n"
          ]
        }
      ]
    },
    {
      "cell_type": "code",
      "metadata": {
        "colab": {
          "base_uri": "https://localhost:8080/",
          "height": 879
        },
        "id": "pP5ziUabgpeb",
        "outputId": "00940b35-f130-4b2d-e01d-bc59e7e46e57"
      },
      "source": [
        "import matplotlib.pyplot as plt\n",
        "print(\"Training Sentence Lengths: \")\n",
        "plt.hist([ len(tok.tokenize(sentence)) for sentence in selected_dataset.train[DATA_COLUMN].to_list()],bins=range(0,128,2))\n",
        "plt.show()\n",
        "\n",
        "print(\"Testing Sentence Lengths: \")\n",
        "plt.hist([ len(tok.tokenize(sentence)) for sentence in selected_dataset.test[DATA_COLUMN].to_list()],bins=range(0,128,2))\n",
        "plt.show()"
      ],
      "execution_count": 37,
      "outputs": [
        {
          "output_type": "stream",
          "name": "stdout",
          "text": [
            "Training Sentence Lengths: \n"
          ]
        },
        {
          "output_type": "display_data",
          "data": {
            "text/plain": [
              "<Figure size 640x480 with 1 Axes>"
            ],
            "image/png": "[encoded data removed]"
          },
          "metadata": {}
        },
        {
          "output_type": "stream",
          "name": "stdout",
          "text": [
            "Testing Sentence Lengths: \n"
          ]
        },
        {
          "output_type": "display_data",
          "data": {
            "text/plain": [
              "<Figure size 640x480 with 1 Axes>"
            ],
            "image/png": "[encoded data removed]"
          },
          "metadata": {}
        }
      ]
    },
    {
      "cell_type": "markdown",
      "metadata": {
        "id": "GSDt3uyd5K2C"
      },
      "source": [
        "Let's select 100 as our maximum sentence length, and check how many sequences will be truncated"
      ]
    },
    {
      "cell_type": "code",
      "metadata": {
        "id": "09RumWom5bG2"
      },
      "source": [
        "max_len = 128"
      ],
      "execution_count": 29,
      "outputs": []
    },
    {
      "cell_type": "code",
      "metadata": {
        "colab": {
          "base_uri": "https://localhost:8080/"
        },
        "id": "SLhNqO2w5DIn",
        "outputId": "e8a1e4dc-e47a-4ad9-a4f0-fc26ee1405c1"
      },
      "source": [
        "print(\"Truncated training sequences: \", sum([len(tok.tokenize(sentence)) > max_len for sentence in selected_dataset.test[DATA_COLUMN].to_list()]))\n",
        "print(\"Truncated testing sequences: \", sum([len(tok.tokenize(sentence)) > max_len for sentence in selected_dataset.test[DATA_COLUMN].to_list()]))"
      ],
      "execution_count": 30,
      "outputs": [
        {
          "output_type": "stream",
          "name": "stdout",
          "text": [
            "Truncated training sequences:  468\n",
            "Truncated testing sequences:  468\n"
          ]
        }
      ]
    },
    {
      "cell_type": "markdown",
      "metadata": {
        "id": "gwDilG055gtf"
      },
      "source": [
        "8 out of ~4000 for testing isn't bad"
      ]
    },
    {
      "cell_type": "markdown",
      "metadata": {
        "id": "yqENWrht6A5n"
      },
      "source": [
        "Now let's create a classification dataset to load the data"
      ]
    },
    {
      "cell_type": "code",
      "metadata": {
        "id": "4YS7XI2bZTyz"
      },
      "source": [
        "from torch.utils.data import Dataset\n",
        "class ClassificationDataset(Dataset):\n",
        "    def __init__(self, text, target, model_name, max_len, label_map):\n",
        "      super(ClassificationDataset).__init__()\n",
        "      \"\"\"\n",
        "      Args:\n",
        "      text (List[str]): List of the training text\n",
        "      target (List[str]): List of the training labels\n",
        "      tokenizer_name (str): The tokenizer name (same as model_name).\n",
        "      max_len (int): Maximum sentence length\n",
        "      label_map (Dict[str,int]): A dictionary that maps the class labels to integer\n",
        "      \"\"\"\n",
        "      self.text = text\n",
        "      self.target = target\n",
        "      self.tokenizer_name = model_name\n",
        "      self.tokenizer = AutoTokenizer.from_pretrained(model_name)\n",
        "      self.max_len = max_len\n",
        "      self.label_map = label_map\n",
        "\n",
        "\n",
        "    def __len__(self):\n",
        "      return len(self.text)\n",
        "\n",
        "    def __getitem__(self,item):\n",
        "      text = str(self.text[item])\n",
        "      text = \" \".join(text.split())\n",
        "\n",
        "      inputs = self.tokenizer(\n",
        "          text,\n",
        "          max_length=self.max_len,\n",
        "          padding='max_length',\n",
        "          truncation=True\n",
        "      )\n",
        "      return InputFeatures(**inputs,label=self.label_map[self.target[item]])"
      ],
      "execution_count": 31,
      "outputs": []
    },
    {
      "cell_type": "code",
      "metadata": {
        "colab": {
          "base_uri": "https://localhost:8080/"
        },
        "id": "mciZOFz-amkV",
        "outputId": "783d84e4-3108-423a-92e4-773b1bba72ed"
      },
      "source": [
        "label_map = { v:index for index, v in enumerate(selected_dataset.label_list) }\n",
        "print(label_map)\n",
        "\n",
        "train_dataset = ClassificationDataset(\n",
        "    selected_dataset.train[DATA_COLUMN].to_list(),\n",
        "    selected_dataset.train[LABEL_COLUMN].to_list(),\n",
        "    model_name,\n",
        "    max_len,\n",
        "    label_map\n",
        "  )\n",
        "test_dataset = ClassificationDataset(\n",
        "    selected_dataset.test[DATA_COLUMN].to_list(),\n",
        "    selected_dataset.test[LABEL_COLUMN].to_list(),\n",
        "    model_name,\n",
        "    max_len,\n",
        "    label_map\n",
        "  )"
      ],
      "execution_count": 32,
      "outputs": [
        {
          "output_type": "stream",
          "name": "stdout",
          "text": [
            "{'Computer Issues': 0, 'Peripheral Device Issues': 1, 'Security Alerts': 2, 'Uncategorized': 3, 'Printer Issues': 4, 'Job Orders': 5, 'Network Issues': 6, 'Miscellaneous': 7, 'Maintenance Requests': 8, 'General Hardware Issues': 9}\n"
          ]
        }
      ]
    },
    {
      "cell_type": "markdown",
      "metadata": {
        "id": "XoOyOzRu8Jwo"
      },
      "source": [
        "Check the dataset output"
      ]
    },
    {
      "cell_type": "code",
      "source": [
        "from torch.utils.data import Dataset\n",
        "from transformers import AutoTokenizer\n",
        "\n",
        "class InputFeatures(object): # Add this class definition\n",
        "    \"\"\"A single set of features of data.\"\"\"\n",
        "\n",
        "    def __init__(self, input_ids, attention_mask, token_type_ids, label):\n",
        "        self.input_ids = input_ids\n",
        "        self.attention_mask = attention_mask\n",
        "        self.token_type_ids = token_type_ids\n",
        "        self.label = label\n",
        "\n",
        "class ClassificationDataset(Dataset):\n",
        "    def __init__(self, text, target, model_name, max_len, label_map):\n",
        "      super(ClassificationDataset).__init__()\n",
        "      \"\"\"\n",
        "      Args:\n",
        "      text (List[str]): List of the training text\n",
        "      target (List[str]): List of the training labels\n",
        "      tokenizer_name (str): The tokenizer name (same as model_name).\n",
        "      max_len (int): Maximum sentence length\n",
        "      label_map (Dict[str,int]): A dictionary that maps the class labels to integer\n",
        "      \"\"\"\n",
        "      self.text = text\n",
        "      self.target = target\n",
        "      self.tokenizer_name = model_name\n",
        "      self.tokenizer = AutoTokenizer.from_pretrained(model_name)\n",
        "      self.max_len = max_len\n",
        "      self.label_map = label_map\n",
        "\n",
        "\n",
        "    def __len__(self):\n",
        "      return len(self.text)\n",
        "\n",
        "    def __getitem__(self,item):\n",
        "      text = str(self.text[item])\n",
        "      text = \" \".join(text.split())\n",
        "\n",
        "      inputs = self.tokenizer(\n",
        "          text,\n",
        "          max_length=self.max_len,\n",
        "          padding='max_length',\n",
        "          truncation=True\n",
        "      )\n",
        "      return InputFeatures(**inputs,label=self.label_map[self.target[item]]) # Now this line should work"
      ],
      "metadata": {
        "id": "1kNVHamqM3Hi"
      },
      "execution_count": 33,
      "outputs": []
    },
    {
      "cell_type": "code",
      "metadata": {
        "colab": {
          "base_uri": "https://localhost:8080/"
        },
        "id": "bhi41co270I9",
        "outputId": "3a81f874-885e-4c01-853d-45d4bae864f0"
      },
      "source": [
        "print(next(iter(train_dataset)))"
      ],
      "execution_count": 34,
      "outputs": [
        {
          "output_type": "stream",
          "name": "stdout",
          "text": [
            "<__main__.InputFeatures object at 0x7b3bb2667d00>\n"
          ]
        }
      ]
    },
    {
      "cell_type": "markdown",
      "metadata": {
        "id": "SFHzbq6p8P2C"
      },
      "source": [
        "Create a function that return a pretrained model ready to do classification"
      ]
    },
    {
      "cell_type": "code",
      "metadata": {
        "id": "lt7l0IxjbmNu"
      },
      "source": [
        "def model_init():\n",
        "    return AutoModelForSequenceClassification.from_pretrained(model_name, return_dict=True, num_labels=len(label_map), ignore_mismatched_sizes=True)\n",
        "    # Added ignore_mismatched_sizes=True to handle the mismatch in the number of labels."
      ],
      "execution_count": 35,
      "outputs": []
    },
    {
      "cell_type": "markdown",
      "metadata": {
        "id": "4WCYBfiB8hIb"
      },
      "source": [
        "Define whatever metric you want here"
      ]
    },
    {
      "cell_type": "code",
      "source": [
        "!pip install torchmetrics"
      ],
      "metadata": {
        "colab": {
          "base_uri": "https://localhost:8080/"
        },
        "id": "VQd6NUMQPRl7",
        "outputId": "57128532-751e-4d4d-fbed-c63c660f09ea"
      },
      "execution_count": 45,
      "outputs": [
        {
          "output_type": "stream",
          "name": "stdout",
          "text": [
            "Collecting torchmetrics\n",
            "  Downloading torchmetrics-1.4.2-py3-none-any.whl.metadata (19 kB)\n",
            "Requirement already satisfied: numpy>1.20.0 in /usr/local/lib/python3.10/dist-packages (from torchmetrics) (1.26.4)\n",
            "Requirement already satisfied: packaging>17.1 in /usr/local/lib/python3.10/dist-packages (from torchmetrics) (24.1)\n",
            "Requirement already satisfied: torch>=1.10.0 in /usr/local/lib/python3.10/dist-packages (from torchmetrics) (2.4.1+cu121)\n",
            "Collecting lightning-utilities>=0.8.0 (from torchmetrics)\n",
            "  Downloading lightning_utilities-0.11.7-py3-none-any.whl.metadata (5.2 kB)\n",
            "Requirement already satisfied: setuptools in /usr/local/lib/python3.10/dist-packages (from lightning-utilities>=0.8.0->torchmetrics) (71.0.4)\n",
            "Requirement already satisfied: typing-extensions in /usr/local/lib/python3.10/dist-packages (from lightning-utilities>=0.8.0->torchmetrics) (4.12.2)\n",
            "Requirement already satisfied: filelock in /usr/local/lib/python3.10/dist-packages (from torch>=1.10.0->torchmetrics) (3.16.1)\n",
            "Requirement already satisfied: sympy in /usr/local/lib/python3.10/dist-packages (from torch>=1.10.0->torchmetrics) (1.13.3)\n",
            "Requirement already satisfied: networkx in /usr/local/lib/python3.10/dist-packages (from torch>=1.10.0->torchmetrics) (3.3)\n",
            "Requirement already satisfied: jinja2 in /usr/local/lib/python3.10/dist-packages (from torch>=1.10.0->torchmetrics) (3.1.4)\n",
            "Requirement already satisfied: fsspec in /usr/local/lib/python3.10/dist-packages (from torch>=1.10.0->torchmetrics) (2024.6.1)\n",
            "Requirement already satisfied: MarkupSafe>=2.0 in /usr/local/lib/python3.10/dist-packages (from jinja2->torch>=1.10.0->torchmetrics) (2.1.5)\n",
            "Requirement already satisfied: mpmath<1.4,>=1.1.0 in /usr/local/lib/python3.10/dist-packages (from sympy->torch>=1.10.0->torchmetrics) (1.3.0)\n",
            "Downloading torchmetrics-1.4.2-py3-none-any.whl (869 kB)\n",
            "\u001b[2K   \u001b[90m━━━━━━━━━━━━━━━━━━━━━━━━━━━━━━━━━━━━━━━━\u001b[0m \u001b[32m869.2/869.2 kB\u001b[0m \u001b[31m17.3 MB/s\u001b[0m eta \u001b[36m0:00:00\u001b[0m\n",
            "\u001b[?25hDownloading lightning_utilities-0.11.7-py3-none-any.whl (26 kB)\n",
            "Installing collected packages: lightning-utilities, torchmetrics\n",
            "Successfully installed lightning-utilities-0.11.7 torchmetrics-1.4.2\n"
          ]
        }
      ]
    },
    {
      "cell_type": "code",
      "source": [
        "n_classes = len(label_map)"
      ],
      "metadata": {
        "id": "V46Nmob5PO0e"
      },
      "execution_count": 36,
      "outputs": []
    },
    {
      "cell_type": "code",
      "metadata": {
        "id": "UYU6G4vWc5nz"
      },
      "source": [
        "# from torchmetrics import F1Score\n",
        "# def compute_metrics(p): #p should be of type EvalPrediction\n",
        "#   preds = np.argmax(p.predictions, axis=1)\n",
        "#   assert len(preds) == len(p.label_ids)\n",
        "#   #print(classification_report(p.label_ids,preds))\n",
        "#   #print(confusion_matrix(p.label_ids,preds))\n",
        "#   f1_score = F1Score(task=\"multiclass\", num_classes=n_classes, average='macro') # Create an F1Score instance with the 'multiclass' task\n",
        "#   macro_f1 = f1_score(preds, p.label_ids) # Calculate the F1 score by passing the predictions and labels and store it in a variable\n",
        "#   # macro_f1 = F1Score(p.label_ids,preds,average='macro')\n",
        "#   #macro_precision = precision_score(p.label_ids,preds,average='macro')\n",
        "#   #macro_recall = recall_score(p.label_ids,preds,average='macro')\n",
        "#   acc = accuracy_score(p.label_ids,preds)\n",
        "#   return {\n",
        "#       'macro_f1' : macro_f1,\n",
        "#       'accuracy': acc\n",
        "#   }\n",
        "#   # \"CAMeL-Lab/bert-base-arabic-camelbert-ca-poetry\""
      ],
      "execution_count": null,
      "outputs": []
    },
    {
      "cell_type": "code",
      "metadata": {
        "id": "HEznOOD4COn7"
      },
      "source": [
        "def set_seed(seed=42):\n",
        "  random.seed(seed)\n",
        "  np.random.seed(seed)\n",
        "  torch.manual_seed(seed)\n",
        "  torch.cuda.manual_seed(seed)\n",
        "  torch.cuda.manual_seed_all(seed)\n",
        "  torch.backends.cudnn.deterministic=True\n",
        "  torch.backends.cudnn.benchmark = False"
      ],
      "execution_count": 37,
      "outputs": []
    },
    {
      "cell_type": "markdown",
      "metadata": {
        "id": "vTmvFEs41WkV"
      },
      "source": [
        "#Regular Training"
      ]
    },
    {
      "cell_type": "markdown",
      "metadata": {
        "id": "hym-1aiJ8zS8"
      },
      "source": [
        "Define our training parameters.\n",
        "Check the TrainingArguments documentation for more options https://huggingface.co/transformers/main_classes/trainer.html#trainingarguments"
      ]
    },
    {
      "cell_type": "code",
      "metadata": {
        "id": "BplVarm6h6qj",
        "colab": {
          "base_uri": "https://localhost:8080/"
        },
        "outputId": "5409a1d8-bc5c-4d5f-f535-e2081ed0d9bb"
      },
      "source": [
        "from transformers import TrainingArguments, Trainer\n",
        "import random\n",
        "training_args = TrainingArguments(\n",
        "    output_dir= \"./train\",\n",
        "    adam_epsilon = 1e-8,\n",
        "    learning_rate = 2e-5,\n",
        "    fp16 = True, # enable this when using V100 or T4 GPU\n",
        "    per_device_train_batch_size = 16, # up to 64 on 16GB with max len of 128\n",
        "    per_device_eval_batch_size = 128,\n",
        "    gradient_accumulation_steps = 2, # use this to scale batch size without needing more memory\n",
        "    num_train_epochs= 10,\n",
        "    warmup_ratio = 0,\n",
        "    do_eval = True,\n",
        "    evaluation_strategy = 'epoch',\n",
        "    save_strategy = 'epoch',\n",
        "    load_best_model_at_end = True, # this allows to automatically get the best model at the end based on whatever metric we want\n",
        "    metric_for_best_model = 'macro_f1',\n",
        "    greater_is_better = True,\n",
        "    seed = 25\n",
        "  )\n",
        "\n",
        "set_seed(training_args.seed)"
      ],
      "execution_count": 40,
      "outputs": [
        {
          "output_type": "stream",
          "name": "stderr",
          "text": [
            "/usr/local/lib/python3.10/dist-packages/transformers/training_args.py:1525: FutureWarning: `evaluation_strategy` is deprecated and will be removed in version 4.46 of 🤗 Transformers. Use `eval_strategy` instead\n",
            "  warnings.warn(\n"
          ]
        }
      ]
    },
    {
      "cell_type": "markdown",
      "metadata": {
        "id": "pVODSK3D89OZ"
      },
      "source": [
        "Create the trainer"
      ]
    },
    {
      "cell_type": "code",
      "metadata": {
        "colab": {
          "base_uri": "https://localhost:8080/",
          "height": 959,
          "referenced_widgets": [
            "930981e38d214d6d8398e0e5a6f0f052",
            "04411e664842408c96a54800e8d7d1c6",
            "58478faaf1474ffea78f70164eeb66a5",
            "41475ab7f5844134a797c8929c455e88",
            "a973da3530014f50a389b51644f312d9",
            "c2a8267a87644dad8e69f5adb97f4216",
            "0a0241eea7624496a4650ed21119272c",
            "95613f0ea731406f9b6f859a506d3444",
            "84b6e515d75a4fe4a11e8f2c033accc6",
            "c02131bafadc47a79ba7a12db5545a4b",
            "7133cb8e4434461e81c3f51608cc496f"
          ]
        },
        "id": "Ro5BW5ak4uc1",
        "outputId": "d2dd167a-338a-4560-b813-3360234c11dd"
      },
      "source": [
        "!pip install torchmetrics\n",
        "# !pip install --upgrade torch\n",
        "\n",
        "from transformers import AutoModelForSequenceClassification\n",
        "import torch\n",
        "from torchmetrics import F1Score, Precision, Recall, Accuracy\n",
        "\n",
        "# Convert NumPy arrays to PyTorch tensors and calculate metrics\n",
        "def compute_metrics(p):\n",
        "  preds = torch.from_numpy(p.predictions)\n",
        "  labels = torch.from_numpy(p.label_ids)\n",
        "  preds = torch.argmax(preds, axis=1)\n",
        "\n",
        "  f1_score = F1Score(task=\"multiclass\", num_classes=n_classes, average='macro')\n",
        "  macro_f1 = f1_score(preds, labels)\n",
        "\n",
        "  precision = Precision(task=\"multiclass\", num_classes=n_classes, average='macro')\n",
        "  macro_precision = precision(preds, labels)\n",
        "\n",
        "  recall = Recall(task=\"multiclass\", num_classes=n_classes, average='macro')\n",
        "  macro_recall = recall(preds, labels)\n",
        "\n",
        "  accuracy = Accuracy(task=\"multiclass\", num_classes=n_classes)\n",
        "  acc = accuracy(preds, labels)\n",
        "\n",
        "  return {'macro_f1' : macro_f1, 'macro_precision': macro_precision, 'macro_recall': macro_recall, 'accuracy': acc}\n",
        "\n",
        "trainer = Trainer(\n",
        "    model = model_init(),\n",
        "    args = training_args,\n",
        "    train_dataset = train_dataset,\n",
        "    eval_dataset=test_dataset,\n",
        "    compute_metrics=compute_metrics,\n",
        ")\n",
        "trainer.train()"
      ],
      "execution_count": 42,
      "outputs": [
        {
          "output_type": "stream",
          "name": "stdout",
          "text": [
            "Collecting torchmetrics\n",
            "  Using cached torchmetrics-1.4.2-py3-none-any.whl.metadata (19 kB)\n",
            "Requirement already satisfied: numpy>1.20.0 in /usr/local/lib/python3.10/dist-packages (from torchmetrics) (1.26.4)\n",
            "Requirement already satisfied: packaging>17.1 in /usr/local/lib/python3.10/dist-packages (from torchmetrics) (24.1)\n",
            "Requirement already satisfied: torch>=1.10.0 in /usr/local/lib/python3.10/dist-packages (from torchmetrics) (2.4.1+cu121)\n",
            "Collecting lightning-utilities>=0.8.0 (from torchmetrics)\n",
            "  Using cached lightning_utilities-0.11.7-py3-none-any.whl.metadata (5.2 kB)\n",
            "Requirement already satisfied: setuptools in /usr/local/lib/python3.10/dist-packages (from lightning-utilities>=0.8.0->torchmetrics) (71.0.4)\n",
            "Requirement already satisfied: typing-extensions in /usr/local/lib/python3.10/dist-packages (from lightning-utilities>=0.8.0->torchmetrics) (4.12.2)\n",
            "Requirement already satisfied: filelock in /usr/local/lib/python3.10/dist-packages (from torch>=1.10.0->torchmetrics) (3.16.1)\n",
            "Requirement already satisfied: sympy in /usr/local/lib/python3.10/dist-packages (from torch>=1.10.0->torchmetrics) (1.13.3)\n",
            "Requirement already satisfied: networkx in /usr/local/lib/python3.10/dist-packages (from torch>=1.10.0->torchmetrics) (3.3)\n",
            "Requirement already satisfied: jinja2 in /usr/local/lib/python3.10/dist-packages (from torch>=1.10.0->torchmetrics) (3.1.4)\n",
            "Requirement already satisfied: fsspec in /usr/local/lib/python3.10/dist-packages (from torch>=1.10.0->torchmetrics) (2024.6.1)\n",
            "Requirement already satisfied: MarkupSafe>=2.0 in /usr/local/lib/python3.10/dist-packages (from jinja2->torch>=1.10.0->torchmetrics) (2.1.5)\n",
            "Requirement already satisfied: mpmath<1.4,>=1.1.0 in /usr/local/lib/python3.10/dist-packages (from sympy->torch>=1.10.0->torchmetrics) (1.3.0)\n",
            "Using cached torchmetrics-1.4.2-py3-none-any.whl (869 kB)\n",
            "Using cached lightning_utilities-0.11.7-py3-none-any.whl (26 kB)\n",
            "Installing collected packages: lightning-utilities, torchmetrics\n",
            "Successfully installed lightning-utilities-0.11.7 torchmetrics-1.4.2\n"
          ]
        },
        {
          "output_type": "display_data",
          "data": {
            "text/plain": [
              "pytorch_model.bin:   0%|          | 0.00/436M [00:00<?, ?B/s]"
            ],
            "application/vnd.jupyter.widget-view+json": {
              "version_major": 2,
              "version_minor": 0,
              "model_id": "930981e38d214d6d8398e0e5a6f0f052"
            }
          },
          "metadata": {}
        },
        {
          "output_type": "stream",
          "name": "stderr",
          "text": [
            "Some weights of BertForSequenceClassification were not initialized from the model checkpoint at CAMeL-Lab/bert-base-arabic-camelbert-ca-poetry and are newly initialized because the shapes did not match:\n",
            "- classifier.weight: found shape torch.Size([23, 768]) in the checkpoint and torch.Size([10, 768]) in the model instantiated\n",
            "- classifier.bias: found shape torch.Size([23]) in the checkpoint and torch.Size([10]) in the model instantiated\n",
            "You should probably TRAIN this model on a down-stream task to be able to use it for predictions and inference.\n",
            "/usr/local/lib/python3.10/dist-packages/accelerate/accelerator.py:494: FutureWarning: `torch.cuda.amp.GradScaler(args...)` is deprecated. Please use `torch.amp.GradScaler('cuda', args...)` instead.\n",
            "  self.scaler = torch.cuda.amp.GradScaler(**kwargs)\n"
          ]
        },
        {
          "output_type": "display_data",
          "data": {
            "text/plain": [
              "<IPython.core.display.HTML object>"
            ],
            "text/html": [
              "\n",
              "    <div>\n",
              "      \n",
              "      <progress value='670' max='670' style='width:300px; height:20px; vertical-align: middle;'></progress>\n",
              "      [670/670 04:46, Epoch 10/10]\n",
              "    </div>\n",
              "    <table border=\"1\" class=\"dataframe\">\n",
              "  <thead>\n",
              " <tr style=\"text-align: left;\">\n",
              "      <th>Epoch</th>\n",
              "      <th>Training Loss</th>\n",
              "      <th>Validation Loss</th>\n",
              "      <th>Macro F1</th>\n",
              "      <th>Macro Precision</th>\n",
              "      <th>Macro Recall</th>\n",
              "      <th>Accuracy</th>\n",
              "    </tr>\n",
              "  </thead>\n",
              "  <tbody>\n",
              "    <tr>\n",
              "      <td>1</td>\n",
              "      <td>No log</td>\n",
              "      <td>2.529585</td>\n",
              "      <td>0.016123</td>\n",
              "      <td>0.008769</td>\n",
              "      <td>0.100000</td>\n",
              "      <td>0.087687</td>\n",
              "    </tr>\n",
              "    <tr>\n",
              "      <td>2</td>\n",
              "      <td>No log</td>\n",
              "      <td>2.641871</td>\n",
              "      <td>0.018305</td>\n",
              "      <td>0.010075</td>\n",
              "      <td>0.100000</td>\n",
              "      <td>0.100746</td>\n",
              "    </tr>\n",
              "    <tr>\n",
              "      <td>3</td>\n",
              "      <td>No log</td>\n",
              "      <td>2.577691</td>\n",
              "      <td>0.017376</td>\n",
              "      <td>0.009515</td>\n",
              "      <td>0.100000</td>\n",
              "      <td>0.095149</td>\n",
              "    </tr>\n",
              "    <tr>\n",
              "      <td>4</td>\n",
              "      <td>No log</td>\n",
              "      <td>2.414201</td>\n",
              "      <td>0.019224</td>\n",
              "      <td>0.010634</td>\n",
              "      <td>0.100000</td>\n",
              "      <td>0.106343</td>\n",
              "    </tr>\n",
              "    <tr>\n",
              "      <td>5</td>\n",
              "      <td>No log</td>\n",
              "      <td>2.436615</td>\n",
              "      <td>0.019224</td>\n",
              "      <td>0.010634</td>\n",
              "      <td>0.100000</td>\n",
              "      <td>0.106343</td>\n",
              "    </tr>\n",
              "    <tr>\n",
              "      <td>6</td>\n",
              "      <td>No log</td>\n",
              "      <td>2.353942</td>\n",
              "      <td>0.015808</td>\n",
              "      <td>0.008582</td>\n",
              "      <td>0.100000</td>\n",
              "      <td>0.085821</td>\n",
              "    </tr>\n",
              "    <tr>\n",
              "      <td>7</td>\n",
              "      <td>No log</td>\n",
              "      <td>2.360803</td>\n",
              "      <td>0.020134</td>\n",
              "      <td>0.011194</td>\n",
              "      <td>0.100000</td>\n",
              "      <td>0.111940</td>\n",
              "    </tr>\n",
              "    <tr>\n",
              "      <td>8</td>\n",
              "      <td>2.492600</td>\n",
              "      <td>2.370004</td>\n",
              "      <td>0.017997</td>\n",
              "      <td>0.009888</td>\n",
              "      <td>0.100000</td>\n",
              "      <td>0.098881</td>\n",
              "    </tr>\n",
              "    <tr>\n",
              "      <td>9</td>\n",
              "      <td>2.492600</td>\n",
              "      <td>2.374322</td>\n",
              "      <td>0.020134</td>\n",
              "      <td>0.011194</td>\n",
              "      <td>0.100000</td>\n",
              "      <td>0.111940</td>\n",
              "    </tr>\n",
              "    <tr>\n",
              "      <td>10</td>\n",
              "      <td>2.492600</td>\n",
              "      <td>2.310212</td>\n",
              "      <td>0.017376</td>\n",
              "      <td>0.009515</td>\n",
              "      <td>0.100000</td>\n",
              "      <td>0.095149</td>\n",
              "    </tr>\n",
              "  </tbody>\n",
              "</table><p>"
            ]
          },
          "metadata": {}
        },
        {
          "output_type": "execute_result",
          "data": {
            "text/plain": [
              "TrainOutput(global_step=670, training_loss=2.4584684001865673, metrics={'train_runtime': 288.0362, 'train_samples_per_second': 74.435, 'train_steps_per_second': 2.326, 'total_flos': 1410376555069440.0, 'train_loss': 2.4584684001865673, 'epoch': 10.0})"
            ]
          },
          "metadata": {},
          "execution_count": 42
        }
      ]
    },
    {
      "cell_type": "code",
      "source": [],
      "metadata": {
        "id": "AzKIFIXFYhp9"
      },
      "execution_count": null,
      "outputs": []
    },
    {
      "cell_type": "code",
      "source": [],
      "metadata": {
        "id": "xthJQJ0yYhmw"
      },
      "execution_count": null,
      "outputs": []
    },
    {
      "cell_type": "code",
      "source": [],
      "metadata": {
        "id": "mIJvWhqmYhjG"
      },
      "execution_count": null,
      "outputs": []
    },
    {
      "cell_type": "code",
      "source": [],
      "metadata": {
        "id": "NQ8I7tFyYgyS"
      },
      "execution_count": null,
      "outputs": []
    },
    {
      "cell_type": "markdown",
      "metadata": {
        "id": "PZJE_H0j-ldm"
      },
      "source": [
        "Save the model, the tokenizer and the config"
      ]
    },
    {
      "cell_type": "code",
      "metadata": {
        "colab": {
          "base_uri": "https://localhost:8080/"
        },
        "id": "7pru84em-lMR",
        "outputId": "1c6d2e3a-b2b4-4082-be2e-497124310fb5"
      },
      "source": [
        "inv_label_map = inv_label_map = { v:k for k, v in label_map.items()}\n",
        "print(inv_label_map)\n",
        "trainer.model.config.label2id = label_map\n",
        "trainer.model.config.id2label = inv_label_map\n",
        "trainer.save_model(\"output_dir\")\n",
        "train_dataset.tokenizer.save_pretrained(\"output_dir\")"
      ],
      "execution_count": 50,
      "outputs": [
        {
          "output_type": "stream",
          "name": "stdout",
          "text": [
            "{0: 'Computer Issues', 1: 'Peripheral Device Issues', 2: 'Security Alerts', 3: 'Uncategorized', 4: 'Printer Issues', 5: 'Job Orders', 6: 'Network Issues', 7: 'Miscellaneous', 8: 'Maintenance Requests', 9: 'General Hardware Issues'}\n"
          ]
        },
        {
          "output_type": "execute_result",
          "data": {
            "text/plain": [
              "('output_dir/tokenizer_config.json',\n",
              " 'output_dir/special_tokens_map.json',\n",
              " 'output_dir/vocab.txt',\n",
              " 'output_dir/added_tokens.json',\n",
              " 'output_dir/tokenizer.json')"
            ]
          },
          "metadata": {},
          "execution_count": 50
        }
      ]
    },
    {
      "cell_type": "code",
      "metadata": {
        "id": "Ckb8jYZu_pCu",
        "colab": {
          "base_uri": "https://localhost:8080/"
        },
        "outputId": "cb59705d-7f06-4f7e-e384-38810f07fd39"
      },
      "source": [
        "#copy the model to drive\n",
        "!cp output_dir /content/drive/MyDrive"
      ],
      "execution_count": null,
      "outputs": [
        {
          "output_type": "stream",
          "name": "stdout",
          "text": [
            "cp: -r not specified; omitting directory 'output_dir'\n"
          ]
        }
      ]
    },
    {
      "cell_type": "markdown",
      "metadata": {
        "id": "RaDLMebgF8EE"
      },
      "source": [
        "## predict using the saved model"
      ]
    },
    {
      "cell_type": "code",
      "metadata": {
        "id": "TFqMbH5uF-TR"
      },
      "source": [
        "from transformers import pipeline"
      ],
      "execution_count": 51,
      "outputs": []
    },
    {
      "cell_type": "code",
      "source": [],
      "metadata": {
        "id": "gmqPSiUoNWBP"
      },
      "execution_count": null,
      "outputs": []
    },
    {
      "cell_type": "code",
      "metadata": {
        "id": "Mx4k9zqkF7Wb",
        "colab": {
          "base_uri": "https://localhost:8080/"
        },
        "outputId": "83865102-3774-43c9-d149-7ac92a58ed48"
      },
      "source": [
        "# initialize pipline\n",
        "pipe = pipeline(\"text-classification\", model=\"output_dir\", device=0, return_all_scores=True)"
      ],
      "execution_count": 52,
      "outputs": [
        {
          "output_type": "stream",
          "name": "stderr",
          "text": [
            "/usr/local/lib/python3.10/dist-packages/transformers/pipelines/text_classification.py:104: UserWarning: `return_all_scores` is now deprecated,  if want a similar functionality use `top_k=None` instead of `return_all_scores=True` or `top_k=1` instead of `return_all_scores=False`.\n",
            "  warnings.warn(\n"
          ]
        }
      ]
    },
    {
      "cell_type": "code",
      "metadata": {
        "id": "_ecQR0_tGDQ0",
        "colab": {
          "base_uri": "https://localhost:8080/"
        },
        "outputId": "1e8008b3-2130-401e-fa3d-daf05d0a778b"
      },
      "source": [
        "pipe(\"نفيد سعادتكم بوجود مشكله جهاز عياده العظام الدخول وفتح الجهاز بيوزر موظف نوع الجهاز رقم الجهاز برجاء الاطلاع وتوجيه المختصين ليدكم لحل المشكله ولكم جزيل الشكر مدير تقنيه المعلومات بمستشفي السليل العام منصور عبدالله الحابي تنبيه باخلاء المسءوليه ومرفقاتها معده لاستخدام اليه بالرساله فقط تحتوي سريه محميه قانونيا تكن الشخص فانه يمنع منعا باتا عرض نشر استخدام مصرح للمحتوي اخطار الالكتروني واتلاف النسخ الموجوده لديك تعد التصريحات الاراء بالمرسل تمثل تتحمل مسءوليه الاضرار الناتجه فيروسات تحملها\")"
      ],
      "execution_count": 53,
      "outputs": [
        {
          "output_type": "execute_result",
          "data": {
            "text/plain": [
              "[[{'label': 'Computer Issues', 'score': 0.14079122245311737},\n",
              "  {'label': 'Peripheral Device Issues', 'score': 0.004707982297986746},\n",
              "  {'label': 'Security Alerts', 'score': 0.019273553043603897},\n",
              "  {'label': 'Uncategorized', 'score': 0.05770004913210869},\n",
              "  {'label': 'Printer Issues', 'score': 0.05498286709189415},\n",
              "  {'label': 'Job Orders', 'score': 0.006223469041287899},\n",
              "  {'label': 'Network Issues', 'score': 0.014804959297180176},\n",
              "  {'label': 'Miscellaneous', 'score': 0.10969039797782898},\n",
              "  {'label': 'Maintenance Requests', 'score': 0.5517280697822571},\n",
              "  {'label': 'General Hardware Issues', 'score': 0.040097422897815704}]]"
            ]
          },
          "metadata": {},
          "execution_count": 53
        }
      ]
    },
    {
      "cell_type": "markdown",
      "metadata": {
        "id": "NcMplCCFUPBP"
      },
      "source": [
        "# K-fold"
      ]
    },
    {
      "cell_type": "markdown",
      "metadata": {
        "id": "Dr3tPLSB_vSN"
      },
      "source": [
        "This section is bit more advanced.\n",
        "\n",
        "We will divide the training set into K-folds and train model with cross-validation to check for the best hyper-parameters before check the performance on the test set.\n",
        "\n",
        "Alternatively, you can combine the training and testing set if you are participating in a competition, then ensemble the output models"
      ]
    },
    {
      "cell_type": "code",
      "metadata": {
        "id": "3vpem-JlUS8W"
      },
      "source": [
        "# do kfold on the training. Check the perfomance on the test set\n",
        "kfold_dataset = selected_dataset.train\n",
        "# do kfold on all the dataset. Here we will not have any dataset to checl final performance on (this is used mainly in competitions)\n",
        "# kfold_dataset = pd.concat([selected_dataset.train,selected_dataset.test])\n",
        "kfold_dataset.reset_index(inplace=True,drop=True)"
      ],
      "execution_count": 54,
      "outputs": []
    },
    {
      "cell_type": "code",
      "metadata": {
        "id": "zhpJcw3YUuh9"
      },
      "source": [
        "# this is used later\n",
        "inv_label_map = { v:k for k, v in label_map.items()}"
      ],
      "execution_count": 55,
      "outputs": []
    },
    {
      "cell_type": "markdown",
      "metadata": {
        "id": "5DGjYvn7BBUg"
      },
      "source": [
        "Defing the number of Stratified kfold splits"
      ]
    },
    {
      "cell_type": "code",
      "metadata": {
        "id": "eOmi63psUS8X"
      },
      "source": [
        "from sklearn.model_selection import StratifiedKFold\n",
        "\n",
        "kf = StratifiedKFold(\n",
        "    n_splits=5,\n",
        "    shuffle=True,\n",
        "    random_state=123\n",
        "  )"
      ],
      "execution_count": 56,
      "outputs": []
    },
    {
      "cell_type": "markdown",
      "metadata": {
        "id": "kF2JYbkSC8KA"
      },
      "source": [
        "Train using cross validation and save the best model at each fold"
      ]
    },
    {
      "cell_type": "code",
      "metadata": {
        "id": "rHUsDFTeUyKr",
        "colab": {
          "base_uri": "https://localhost:8080/",
          "height": 1000
        },
        "outputId": "c64b15ab-1618-41ac-83d0-5cbca0350edb"
      },
      "source": [
        "all_results = []\n",
        "fold_best_f1 = 0\n",
        "best_fold = None\n",
        "for fold_num , (train, dev) in enumerate(kf.split(kfold_dataset,kfold_dataset['label'])):\n",
        "  print(\"**************************Starting Fold Num: \", fold_num,\" **************************\")\n",
        "\n",
        "  train_dataset = ClassificationDataset(list(kfold_dataset[DATA_COLUMN][train]),\n",
        "                              list(kfold_dataset[LABEL_COLUMN][train]),\n",
        "                              model_name,\n",
        "                              max_len,\n",
        "                              label_map)\n",
        "\n",
        "  val_dataset = ClassificationDataset(list(kfold_dataset[DATA_COLUMN][dev]),\n",
        "                              list(kfold_dataset[LABEL_COLUMN][dev]),\n",
        "                              model_name,\n",
        "                              max_len,\n",
        "                              label_map)\n",
        "\n",
        "  training_args = TrainingArguments(\n",
        "    output_dir= f\"./train_{fold_num}\",\n",
        "    adam_epsilon = 1e-8,\n",
        "    learning_rate = 2e-5,\n",
        "    fp16 = False,\n",
        "    per_device_train_batch_size = 64,\n",
        "    per_device_eval_batch_size = 128,\n",
        "    gradient_accumulation_steps = 2,\n",
        "    num_train_epochs= 2,\n",
        "    warmup_ratio = 0,\n",
        "    do_eval = True,\n",
        "    evaluation_strategy = 'epoch',\n",
        "    save_strategy = 'epoch',\n",
        "    load_best_model_at_end = True,\n",
        "    metric_for_best_model = 'macro_f1',\n",
        "    greater_is_better = True,\n",
        "    seed = 123\n",
        "  )\n",
        "\n",
        "  set_seed(training_args.seed)\n",
        "\n",
        "  trainer = Trainer(\n",
        "    model = model_init(),\n",
        "    args = training_args,\n",
        "    train_dataset = train_dataset,\n",
        "    eval_dataset=val_dataset,\n",
        "    compute_metrics=compute_metrics,\n",
        "  )\n",
        "  trainer.model.config.label2id = label_map\n",
        "  trainer.model.config.id2label = inv_label_map\n",
        "\n",
        "  trainer.train()\n",
        "\n",
        "  results = trainer.evaluate()\n",
        "  all_results.append(results)\n",
        "  print(results)\n",
        "\n",
        "  trainer.save_model(f\"./train_{fold_num}/best_model\")\n",
        "  val_dataset.tokenizer.save_pretrained(f\"./train_{fold_num}/best_model\")\n",
        "\n",
        "  # delete the rest of the checkpoints\n",
        "  !rm -rf f\"./train_{fold_num}/checkpoint-*\"\n",
        "\n",
        "  if results['eval_macro_f1'] > fold_best_f1:\n",
        "    print('**************************New Best Model Found!**************************')\n",
        "    fold_best_f1 = results['eval_macro_f1']\n",
        "    best_fold = fold_num"
      ],
      "execution_count": 57,
      "outputs": [
        {
          "metadata": {
            "tags": null
          },
          "name": "stdout",
          "output_type": "stream",
          "text": [
            "**************************Starting Fold Num:  0  **************************\n"
          ]
        },
        {
          "metadata": {
            "tags": null
          },
          "name": "stderr",
          "output_type": "stream",
          "text": [
            "/usr/local/lib/python3.10/dist-packages/transformers/tokenization_utils_base.py:1601: FutureWarning: `clean_up_tokenization_spaces` was not set. It will be set to `True` by default. This behavior will be depracted in transformers v4.45, and will be then set to `False` by default. For more details check this issue: https://github.com/huggingface/transformers/issues/31884\n",
            "  warnings.warn(\n",
            "/usr/local/lib/python3.10/dist-packages/transformers/tokenization_utils_base.py:1601: FutureWarning: `clean_up_tokenization_spaces` was not set. It will be set to `True` by default. This behavior will be depracted in transformers v4.45, and will be then set to `False` by default. For more details check this issue: https://github.com/huggingface/transformers/issues/31884\n",
            "  warnings.warn(\n",
            "/usr/local/lib/python3.10/dist-packages/transformers/training_args.py:1525: FutureWarning: `evaluation_strategy` is deprecated and will be removed in version 4.46 of 🤗 Transformers. Use `eval_strategy` instead\n",
            "  warnings.warn(\n",
            "Some weights of BertForSequenceClassification were not initialized from the model checkpoint at CAMeL-Lab/bert-base-arabic-camelbert-ca-poetry and are newly initialized because the shapes did not match:\n",
            "- classifier.weight: found shape torch.Size([23, 768]) in the checkpoint and torch.Size([10, 768]) in the model instantiated\n",
            "- classifier.bias: found shape torch.Size([23]) in the checkpoint and torch.Size([10]) in the model instantiated\n",
            "You should probably TRAIN this model on a down-stream task to be able to use it for predictions and inference.\n"
          ]
        },
        {
          "data": {
            "text/html": [
              "\n",
              "    <div>\n",
              "      \n",
              "      <progress value='26' max='26' style='width:300px; height:20px; vertical-align: middle;'></progress>\n",
              "      [26/26 03:51, Epoch 1/2]\n",
              "    </div>\n",
              "    <table border=\"1\" class=\"dataframe\">\n",
              "  <thead>\n",
              " <tr style=\"text-align: left;\">\n",
              "      <th>Epoch</th>\n",
              "      <th>Training Loss</th>\n",
              "      <th>Validation Loss</th>\n",
              "      <th>Macro F1</th>\n",
              "      <th>Macro Precision</th>\n",
              "      <th>Macro Recall</th>\n",
              "      <th>Accuracy</th>\n",
              "    </tr>\n",
              "  </thead>\n",
              "  <tbody>\n",
              "    <tr>\n",
              "      <td>0</td>\n",
              "      <td>No log</td>\n",
              "      <td>2.190735</td>\n",
              "      <td>0.174119</td>\n",
              "      <td>0.148741</td>\n",
              "      <td>0.238122</td>\n",
              "      <td>0.240093</td>\n",
              "    </tr>\n",
              "    <tr>\n",
              "      <td>1</td>\n",
              "      <td>No log</td>\n",
              "      <td>2.124217</td>\n",
              "      <td>0.199679</td>\n",
              "      <td>0.235990</td>\n",
              "      <td>0.279518</td>\n",
              "      <td>0.279720</td>\n",
              "    </tr>\n",
              "  </tbody>\n",
              "</table><p>"
            ],
            "text/plain": [
              "<IPython.core.display.HTML object>"
            ]
          },
          "metadata": {},
          "output_type": "display_data"
        },
        {
          "data": {
            "text/html": [
              "\n",
              "    <div>\n",
              "      \n",
              "      <progress value='4' max='4' style='width:300px; height:20px; vertical-align: middle;'></progress>\n",
              "      [4/4 00:01]\n",
              "    </div>\n",
              "    "
            ],
            "text/plain": [
              "<IPython.core.display.HTML object>"
            ]
          },
          "metadata": {},
          "output_type": "display_data"
        },
        {
          "metadata": {
            "tags": null
          },
          "name": "stdout",
          "output_type": "stream",
          "text": [
            "{'eval_loss': 2.1242172718048096, 'eval_macro_f1': 0.19967903196811676, 'eval_macro_precision': 0.2359902262687683, 'eval_macro_recall': 0.27951812744140625, 'eval_accuracy': 0.279720276594162, 'eval_runtime': 3.0734, 'eval_samples_per_second': 139.587, 'eval_steps_per_second': 1.302, 'epoch': 1.925925925925926}\n",
            "**************************New Best Model Found!**************************\n",
            "**************************Starting Fold Num:  1  **************************\n"
          ]
        },
        {
          "metadata": {
            "tags": null
          },
          "name": "stderr",
          "output_type": "stream",
          "text": [
            "/usr/local/lib/python3.10/dist-packages/transformers/tokenization_utils_base.py:1601: FutureWarning: `clean_up_tokenization_spaces` was not set. It will be set to `True` by default. This behavior will be depracted in transformers v4.45, and will be then set to `False` by default. For more details check this issue: https://github.com/huggingface/transformers/issues/31884\n",
            "  warnings.warn(\n",
            "/usr/local/lib/python3.10/dist-packages/transformers/tokenization_utils_base.py:1601: FutureWarning: `clean_up_tokenization_spaces` was not set. It will be set to `True` by default. This behavior will be depracted in transformers v4.45, and will be then set to `False` by default. For more details check this issue: https://github.com/huggingface/transformers/issues/31884\n",
            "  warnings.warn(\n",
            "/usr/local/lib/python3.10/dist-packages/transformers/training_args.py:1525: FutureWarning: `evaluation_strategy` is deprecated and will be removed in version 4.46 of 🤗 Transformers. Use `eval_strategy` instead\n",
            "  warnings.warn(\n",
            "Some weights of BertForSequenceClassification were not initialized from the model checkpoint at CAMeL-Lab/bert-base-arabic-camelbert-ca-poetry and are newly initialized because the shapes did not match:\n",
            "- classifier.weight: found shape torch.Size([23, 768]) in the checkpoint and torch.Size([10, 768]) in the model instantiated\n",
            "- classifier.bias: found shape torch.Size([23]) in the checkpoint and torch.Size([10]) in the model instantiated\n",
            "You should probably TRAIN this model on a down-stream task to be able to use it for predictions and inference.\n"
          ]
        },
        {
          "data": {
            "text/html": [
              "\n",
              "    <div>\n",
              "      \n",
              "      <progress value='26' max='26' style='width:300px; height:20px; vertical-align: middle;'></progress>\n",
              "      [26/26 02:32, Epoch 1/2]\n",
              "    </div>\n",
              "    <table border=\"1\" class=\"dataframe\">\n",
              "  <thead>\n",
              " <tr style=\"text-align: left;\">\n",
              "      <th>Epoch</th>\n",
              "      <th>Training Loss</th>\n",
              "      <th>Validation Loss</th>\n",
              "      <th>Macro F1</th>\n",
              "      <th>Macro Precision</th>\n",
              "      <th>Macro Recall</th>\n",
              "      <th>Accuracy</th>\n",
              "    </tr>\n",
              "  </thead>\n",
              "  <tbody>\n",
              "    <tr>\n",
              "      <td>0</td>\n",
              "      <td>No log</td>\n",
              "      <td>2.173897</td>\n",
              "      <td>0.203112</td>\n",
              "      <td>0.287883</td>\n",
              "      <td>0.289729</td>\n",
              "      <td>0.289044</td>\n",
              "    </tr>\n",
              "    <tr>\n",
              "      <td>1</td>\n",
              "      <td>No log</td>\n",
              "      <td>2.095217</td>\n",
              "      <td>0.278172</td>\n",
              "      <td>0.311964</td>\n",
              "      <td>0.325871</td>\n",
              "      <td>0.326340</td>\n",
              "    </tr>\n",
              "  </tbody>\n",
              "</table><p>"
            ],
            "text/plain": [
              "<IPython.core.display.HTML object>"
            ]
          },
          "metadata": {},
          "output_type": "display_data"
        },
        {
          "data": {
            "text/html": [
              "\n",
              "    <div>\n",
              "      \n",
              "      <progress value='4' max='4' style='width:300px; height:20px; vertical-align: middle;'></progress>\n",
              "      [4/4 00:02]\n",
              "    </div>\n",
              "    "
            ],
            "text/plain": [
              "<IPython.core.display.HTML object>"
            ]
          },
          "metadata": {},
          "output_type": "display_data"
        },
        {
          "metadata": {
            "tags": null
          },
          "name": "stdout",
          "output_type": "stream",
          "text": [
            "{'eval_loss': 2.0952165126800537, 'eval_macro_f1': 0.2781718075275421, 'eval_macro_precision': 0.3119640052318573, 'eval_macro_recall': 0.3258708715438843, 'eval_accuracy': 0.32634031772613525, 'eval_runtime': 3.2798, 'eval_samples_per_second': 130.802, 'eval_steps_per_second': 1.22, 'epoch': 1.925925925925926}\n",
            "**************************New Best Model Found!**************************\n",
            "**************************Starting Fold Num:  2  **************************\n"
          ]
        },
        {
          "metadata": {
            "tags": null
          },
          "name": "stderr",
          "output_type": "stream",
          "text": [
            "/usr/local/lib/python3.10/dist-packages/transformers/tokenization_utils_base.py:1601: FutureWarning: `clean_up_tokenization_spaces` was not set. It will be set to `True` by default. This behavior will be depracted in transformers v4.45, and will be then set to `False` by default. For more details check this issue: https://github.com/huggingface/transformers/issues/31884\n",
            "  warnings.warn(\n",
            "/usr/local/lib/python3.10/dist-packages/transformers/tokenization_utils_base.py:1601: FutureWarning: `clean_up_tokenization_spaces` was not set. It will be set to `True` by default. This behavior will be depracted in transformers v4.45, and will be then set to `False` by default. For more details check this issue: https://github.com/huggingface/transformers/issues/31884\n",
            "  warnings.warn(\n",
            "/usr/local/lib/python3.10/dist-packages/transformers/training_args.py:1525: FutureWarning: `evaluation_strategy` is deprecated and will be removed in version 4.46 of 🤗 Transformers. Use `eval_strategy` instead\n",
            "  warnings.warn(\n",
            "Some weights of BertForSequenceClassification were not initialized from the model checkpoint at CAMeL-Lab/bert-base-arabic-camelbert-ca-poetry and are newly initialized because the shapes did not match:\n",
            "- classifier.weight: found shape torch.Size([23, 768]) in the checkpoint and torch.Size([10, 768]) in the model instantiated\n",
            "- classifier.bias: found shape torch.Size([23]) in the checkpoint and torch.Size([10]) in the model instantiated\n",
            "You should probably TRAIN this model on a down-stream task to be able to use it for predictions and inference.\n"
          ]
        },
        {
          "data": {
            "text/html": [
              "\n",
              "    <div>\n",
              "      \n",
              "      <progress value='26' max='26' style='width:300px; height:20px; vertical-align: middle;'></progress>\n",
              "      [26/26 03:01, Epoch 1/2]\n",
              "    </div>\n",
              "    <table border=\"1\" class=\"dataframe\">\n",
              "  <thead>\n",
              " <tr style=\"text-align: left;\">\n",
              "      <th>Epoch</th>\n",
              "      <th>Training Loss</th>\n",
              "      <th>Validation Loss</th>\n",
              "      <th>Macro F1</th>\n",
              "      <th>Macro Precision</th>\n",
              "      <th>Macro Recall</th>\n",
              "      <th>Accuracy</th>\n",
              "    </tr>\n",
              "  </thead>\n",
              "  <tbody>\n",
              "    <tr>\n",
              "      <td>0</td>\n",
              "      <td>No log</td>\n",
              "      <td>2.176960</td>\n",
              "      <td>0.187885</td>\n",
              "      <td>0.243367</td>\n",
              "      <td>0.223125</td>\n",
              "      <td>0.223776</td>\n",
              "    </tr>\n",
              "    <tr>\n",
              "      <td>1</td>\n",
              "      <td>No log</td>\n",
              "      <td>2.105450</td>\n",
              "      <td>0.250940</td>\n",
              "      <td>0.245727</td>\n",
              "      <td>0.288631</td>\n",
              "      <td>0.289044</td>\n",
              "    </tr>\n",
              "  </tbody>\n",
              "</table><p>"
            ],
            "text/plain": [
              "<IPython.core.display.HTML object>"
            ]
          },
          "metadata": {},
          "output_type": "display_data"
        },
        {
          "data": {
            "text/html": [
              "\n",
              "    <div>\n",
              "      \n",
              "      <progress value='4' max='4' style='width:300px; height:20px; vertical-align: middle;'></progress>\n",
              "      [4/4 00:02]\n",
              "    </div>\n",
              "    "
            ],
            "text/plain": [
              "<IPython.core.display.HTML object>"
            ]
          },
          "metadata": {},
          "output_type": "display_data"
        },
        {
          "metadata": {
            "tags": null
          },
          "name": "stdout",
          "output_type": "stream",
          "text": [
            "{'eval_loss': 2.105449914932251, 'eval_macro_f1': 0.25093987584114075, 'eval_macro_precision': 0.2457273155450821, 'eval_macro_recall': 0.2886313199996948, 'eval_accuracy': 0.2890442907810211, 'eval_runtime': 3.1365, 'eval_samples_per_second': 136.778, 'eval_steps_per_second': 1.275, 'epoch': 1.925925925925926}\n",
            "**************************Starting Fold Num:  3  **************************\n"
          ]
        },
        {
          "metadata": {
            "tags": null
          },
          "name": "stderr",
          "output_type": "stream",
          "text": [
            "/usr/local/lib/python3.10/dist-packages/transformers/tokenization_utils_base.py:1601: FutureWarning: `clean_up_tokenization_spaces` was not set. It will be set to `True` by default. This behavior will be depracted in transformers v4.45, and will be then set to `False` by default. For more details check this issue: https://github.com/huggingface/transformers/issues/31884\n",
            "  warnings.warn(\n",
            "/usr/local/lib/python3.10/dist-packages/transformers/tokenization_utils_base.py:1601: FutureWarning: `clean_up_tokenization_spaces` was not set. It will be set to `True` by default. This behavior will be depracted in transformers v4.45, and will be then set to `False` by default. For more details check this issue: https://github.com/huggingface/transformers/issues/31884\n",
            "  warnings.warn(\n",
            "/usr/local/lib/python3.10/dist-packages/transformers/training_args.py:1525: FutureWarning: `evaluation_strategy` is deprecated and will be removed in version 4.46 of 🤗 Transformers. Use `eval_strategy` instead\n",
            "  warnings.warn(\n",
            "Some weights of BertForSequenceClassification were not initialized from the model checkpoint at CAMeL-Lab/bert-base-arabic-camelbert-ca-poetry and are newly initialized because the shapes did not match:\n",
            "- classifier.weight: found shape torch.Size([23, 768]) in the checkpoint and torch.Size([10, 768]) in the model instantiated\n",
            "- classifier.bias: found shape torch.Size([23]) in the checkpoint and torch.Size([10]) in the model instantiated\n",
            "You should probably TRAIN this model on a down-stream task to be able to use it for predictions and inference.\n"
          ]
        },
        {
          "data": {
            "text/html": [
              "\n",
              "    <div>\n",
              "      \n",
              "      <progress value='26' max='26' style='width:300px; height:20px; vertical-align: middle;'></progress>\n",
              "      [26/26 02:11, Epoch 1/2]\n",
              "    </div>\n",
              "    <table border=\"1\" class=\"dataframe\">\n",
              "  <thead>\n",
              " <tr style=\"text-align: left;\">\n",
              "      <th>Epoch</th>\n",
              "      <th>Training Loss</th>\n",
              "      <th>Validation Loss</th>\n",
              "      <th>Macro F1</th>\n",
              "      <th>Macro Precision</th>\n",
              "      <th>Macro Recall</th>\n",
              "      <th>Accuracy</th>\n",
              "    </tr>\n",
              "  </thead>\n",
              "  <tbody>\n",
              "    <tr>\n",
              "      <td>0</td>\n",
              "      <td>No log</td>\n",
              "      <td>2.159365</td>\n",
              "      <td>0.184121</td>\n",
              "      <td>0.164455</td>\n",
              "      <td>0.251994</td>\n",
              "      <td>0.256410</td>\n",
              "    </tr>\n",
              "    <tr>\n",
              "      <td>1</td>\n",
              "      <td>No log</td>\n",
              "      <td>2.102549</td>\n",
              "      <td>0.206892</td>\n",
              "      <td>0.236981</td>\n",
              "      <td>0.256473</td>\n",
              "      <td>0.258741</td>\n",
              "    </tr>\n",
              "  </tbody>\n",
              "</table><p>"
            ],
            "text/plain": [
              "<IPython.core.display.HTML object>"
            ]
          },
          "metadata": {},
          "output_type": "display_data"
        },
        {
          "data": {
            "text/html": [
              "\n",
              "    <div>\n",
              "      \n",
              "      <progress value='4' max='4' style='width:300px; height:20px; vertical-align: middle;'></progress>\n",
              "      [4/4 00:02]\n",
              "    </div>\n",
              "    "
            ],
            "text/plain": [
              "<IPython.core.display.HTML object>"
            ]
          },
          "metadata": {},
          "output_type": "display_data"
        },
        {
          "metadata": {
            "tags": null
          },
          "name": "stdout",
          "output_type": "stream",
          "text": [
            "{'eval_loss': 2.102548837661743, 'eval_macro_f1': 0.20689156651496887, 'eval_macro_precision': 0.23698142170906067, 'eval_macro_recall': 0.2564725875854492, 'eval_accuracy': 0.25874125957489014, 'eval_runtime': 3.3254, 'eval_samples_per_second': 129.008, 'eval_steps_per_second': 1.203, 'epoch': 1.925925925925926}\n",
            "**************************Starting Fold Num:  4  **************************\n"
          ]
        },
        {
          "metadata": {
            "tags": null
          },
          "name": "stderr",
          "output_type": "stream",
          "text": [
            "/usr/local/lib/python3.10/dist-packages/transformers/tokenization_utils_base.py:1601: FutureWarning: `clean_up_tokenization_spaces` was not set. It will be set to `True` by default. This behavior will be depracted in transformers v4.45, and will be then set to `False` by default. For more details check this issue: https://github.com/huggingface/transformers/issues/31884\n",
            "  warnings.warn(\n",
            "/usr/local/lib/python3.10/dist-packages/transformers/tokenization_utils_base.py:1601: FutureWarning: `clean_up_tokenization_spaces` was not set. It will be set to `True` by default. This behavior will be depracted in transformers v4.45, and will be then set to `False` by default. For more details check this issue: https://github.com/huggingface/transformers/issues/31884\n",
            "  warnings.warn(\n",
            "/usr/local/lib/python3.10/dist-packages/transformers/training_args.py:1525: FutureWarning: `evaluation_strategy` is deprecated and will be removed in version 4.46 of 🤗 Transformers. Use `eval_strategy` instead\n",
            "  warnings.warn(\n",
            "Some weights of BertForSequenceClassification were not initialized from the model checkpoint at CAMeL-Lab/bert-base-arabic-camelbert-ca-poetry and are newly initialized because the shapes did not match:\n",
            "- classifier.weight: found shape torch.Size([23, 768]) in the checkpoint and torch.Size([10, 768]) in the model instantiated\n",
            "- classifier.bias: found shape torch.Size([23]) in the checkpoint and torch.Size([10]) in the model instantiated\n",
            "You should probably TRAIN this model on a down-stream task to be able to use it for predictions and inference.\n"
          ]
        },
        {
          "data": {
            "text/html": [
              "\n",
              "    <div>\n",
              "      \n",
              "      <progress value='26' max='26' style='width:300px; height:20px; vertical-align: middle;'></progress>\n",
              "      [26/26 02:10, Epoch 1/2]\n",
              "    </div>\n",
              "    <table border=\"1\" class=\"dataframe\">\n",
              "  <thead>\n",
              " <tr style=\"text-align: left;\">\n",
              "      <th>Epoch</th>\n",
              "      <th>Training Loss</th>\n",
              "      <th>Validation Loss</th>\n",
              "      <th>Macro F1</th>\n",
              "      <th>Macro Precision</th>\n",
              "      <th>Macro Recall</th>\n",
              "      <th>Accuracy</th>\n",
              "    </tr>\n",
              "  </thead>\n",
              "  <tbody>\n",
              "    <tr>\n",
              "      <td>0</td>\n",
              "      <td>No log</td>\n",
              "      <td>2.166115</td>\n",
              "      <td>0.182816</td>\n",
              "      <td>0.179094</td>\n",
              "      <td>0.245838</td>\n",
              "      <td>0.247664</td>\n",
              "    </tr>\n",
              "    <tr>\n",
              "      <td>1</td>\n",
              "      <td>No log</td>\n",
              "      <td>2.102832</td>\n",
              "      <td>0.221716</td>\n",
              "      <td>0.207426</td>\n",
              "      <td>0.290054</td>\n",
              "      <td>0.289720</td>\n",
              "    </tr>\n",
              "  </tbody>\n",
              "</table><p>"
            ],
            "text/plain": [
              "<IPython.core.display.HTML object>"
            ]
          },
          "metadata": {},
          "output_type": "display_data"
        },
        {
          "data": {
            "text/html": [
              "\n",
              "    <div>\n",
              "      \n",
              "      <progress value='4' max='4' style='width:300px; height:20px; vertical-align: middle;'></progress>\n",
              "      [4/4 00:02]\n",
              "    </div>\n",
              "    "
            ],
            "text/plain": [
              "<IPython.core.display.HTML object>"
            ]
          },
          "metadata": {},
          "output_type": "display_data"
        },
        {
          "metadata": {
            "tags": null
          },
          "name": "stdout",
          "output_type": "stream",
          "text": [
            "{'eval_loss': 2.102832317352295, 'eval_macro_f1': 0.22171643376350403, 'eval_macro_precision': 0.2074260115623474, 'eval_macro_recall': 0.29005420207977295, 'eval_accuracy': 0.2897196114063263, 'eval_runtime': 3.2318, 'eval_samples_per_second': 132.435, 'eval_steps_per_second': 1.238, 'epoch': 1.925925925925926}\n"
          ]
        }
      ]
    },
    {
      "cell_type": "code",
      "source": [
        "# prompt: make visulization using ployly express for all_results\n",
        "\n",
        "import plotly.express as px\n",
        "\n",
        "# Extract the relevant metrics from all_results\n",
        "eval_macro_f1_scores = [result['eval_macro_f1'] for result in all_results]\n",
        "eval_accuracy_scores = [result['eval_accuracy'] for result in all_results]\n",
        "eval_macro_precision_scores = [result['eval_macro_precision'] for result in all_results]\n",
        "eval_macro_recall_scores = [result['eval_macro_recall'] for result in all_results]\n",
        "fold_numbers = list(range(len(all_results)))\n",
        "\n",
        "\n",
        "# Create a DataFrame for the visualization\n",
        "df_results = pd.DataFrame({\n",
        "    'Fold': fold_numbers,\n",
        "    'Macro F1': eval_macro_f1_scores,\n",
        "    'Accuracy': eval_accuracy_scores,\n",
        "    'Macro Precision': eval_macro_precision_scores,\n",
        "    'Macro Recall': eval_macro_recall_scores\n",
        "})\n",
        "\n",
        "# Create a line plot using Plotly Express\n",
        "fig = px.line(df_results, x='Fold', y=['Macro F1', 'Accuracy', 'Macro Precision', 'Macro Recall'],\n",
        "              title='Cross-Validation Performance Across Folds')\n",
        "fig.update_layout(xaxis_title='Fold Number', yaxis_title='Metric Score')\n",
        "fig.show()\n"
      ],
      "metadata": {
        "colab": {
          "base_uri": "https://localhost:8080/",
          "height": 542
        },
        "id": "tv6S1q43cgKJ",
        "outputId": "2928cd9f-6276-48fe-e92e-e84e9fa22816"
      },
      "execution_count": 58,
      "outputs": [
        {
          "output_type": "display_data",
          "data": {
            "text/html": [
              "<html>\n",
              "<head><meta charset=\"utf-8\" /></head>\n",
              "<body>\n",
              "    <div>            <script src=\"https://cdnjs.cloudflare.com/ajax/libs/mathjax/2.7.5/MathJax.js?config=TeX-AMS-MML_SVG\"></script><script type=\"text/javascript\">if (window.MathJax && window.MathJax.Hub && window.MathJax.Hub.Config) {window.MathJax.Hub.Config({SVG: {font: \"STIX-Web\"}});}</script>                <script type=\"text/javascript\">window.PlotlyConfig = {MathJaxConfig: 'local'};</script>\n",
              "        <script charset=\"utf-8\" src=\"https://cdn.plot.ly/plotly-2.35.2.min.js\"></script>                <div id=\"3446fb4e-1907-44c7-b616-8b3aaf9124ab\" class=\"plotly-graph-div\" style=\"height:525px; width:100%;\"></div>            <script type=\"text/javascript\">                                    window.PLOTLYENV=window.PLOTLYENV || {};                                    if (document.getElementById(\"3446fb4e-1907-44c7-b616-8b3aaf9124ab\")) {                    Plotly.newPlot(                        \"3446fb4e-1907-44c7-b616-8b3aaf9124ab\",                        [{\"hovertemplate\":\"variable=Macro F1\\u003cbr\\u003eFold=%{x}\\u003cbr\\u003evalue=%{y}\\u003cextra\\u003e\\u003c\\u002fextra\\u003e\",\"legendgroup\":\"Macro F1\",\"line\":{\"color\":\"#636efa\",\"dash\":\"solid\"},\"marker\":{\"symbol\":\"circle\"},\"mode\":\"lines\",\"name\":\"Macro F1\",\"orientation\":\"v\",\"showlegend\":true,\"x\":[0,1,2,3,4],\"xaxis\":\"x\",\"y\":[0.19967903196811676,0.2781718075275421,0.25093987584114075,0.20689156651496887,0.22171643376350403],\"yaxis\":\"y\",\"type\":\"scatter\"},{\"hovertemplate\":\"variable=Accuracy\\u003cbr\\u003eFold=%{x}\\u003cbr\\u003evalue=%{y}\\u003cextra\\u003e\\u003c\\u002fextra\\u003e\",\"legendgroup\":\"Accuracy\",\"line\":{\"color\":\"#EF553B\",\"dash\":\"solid\"},\"marker\":{\"symbol\":\"circle\"},\"mode\":\"lines\",\"name\":\"Accuracy\",\"orientation\":\"v\",\"showlegend\":true,\"x\":[0,1,2,3,4],\"xaxis\":\"x\",\"y\":[0.279720276594162,0.32634031772613525,0.2890442907810211,0.25874125957489014,0.2897196114063263],\"yaxis\":\"y\",\"type\":\"scatter\"},{\"hovertemplate\":\"variable=Macro Precision\\u003cbr\\u003eFold=%{x}\\u003cbr\\u003evalue=%{y}\\u003cextra\\u003e\\u003c\\u002fextra\\u003e\",\"legendgroup\":\"Macro Precision\",\"line\":{\"color\":\"#00cc96\",\"dash\":\"solid\"},\"marker\":{\"symbol\":\"circle\"},\"mode\":\"lines\",\"name\":\"Macro Precision\",\"orientation\":\"v\",\"showlegend\":true,\"x\":[0,1,2,3,4],\"xaxis\":\"x\",\"y\":[0.2359902262687683,0.3119640052318573,0.2457273155450821,0.23698142170906067,0.2074260115623474],\"yaxis\":\"y\",\"type\":\"scatter\"},{\"hovertemplate\":\"variable=Macro Recall\\u003cbr\\u003eFold=%{x}\\u003cbr\\u003evalue=%{y}\\u003cextra\\u003e\\u003c\\u002fextra\\u003e\",\"legendgroup\":\"Macro Recall\",\"line\":{\"color\":\"#ab63fa\",\"dash\":\"solid\"},\"marker\":{\"symbol\":\"circle\"},\"mode\":\"lines\",\"name\":\"Macro Recall\",\"orientation\":\"v\",\"showlegend\":true,\"x\":[0,1,2,3,4],\"xaxis\":\"x\",\"y\":[0.27951812744140625,0.3258708715438843,0.2886313199996948,0.2564725875854492,0.29005420207977295],\"yaxis\":\"y\",\"type\":\"scatter\"}],                        {\"template\":{\"data\":{\"histogram2dcontour\":[{\"type\":\"histogram2dcontour\",\"colorbar\":{\"outlinewidth\":0,\"ticks\":\"\"},\"colorscale\":[[0.0,\"#0d0887\"],[0.1111111111111111,\"#46039f\"],[0.2222222222222222,\"#7201a8\"],[0.3333333333333333,\"#9c179e\"],[0.4444444444444444,\"#bd3786\"],[0.5555555555555556,\"#d8576b\"],[0.6666666666666666,\"#ed7953\"],[0.7777777777777778,\"#fb9f3a\"],[0.8888888888888888,\"#fdca26\"],[1.0,\"#f0f921\"]]}],\"choropleth\":[{\"type\":\"choropleth\",\"colorbar\":{\"outlinewidth\":0,\"ticks\":\"\"}}],\"histogram2d\":[{\"type\":\"histogram2d\",\"colorbar\":{\"outlinewidth\":0,\"ticks\":\"\"},\"colorscale\":[[0.0,\"#0d0887\"],[0.1111111111111111,\"#46039f\"],[0.2222222222222222,\"#7201a8\"],[0.3333333333333333,\"#9c179e\"],[0.4444444444444444,\"#bd3786\"],[0.5555555555555556,\"#d8576b\"],[0.6666666666666666,\"#ed7953\"],[0.7777777777777778,\"#fb9f3a\"],[0.8888888888888888,\"#fdca26\"],[1.0,\"#f0f921\"]]}],\"heatmap\":[{\"type\":\"heatmap\",\"colorbar\":{\"outlinewidth\":0,\"ticks\":\"\"},\"colorscale\":[[0.0,\"#0d0887\"],[0.1111111111111111,\"#46039f\"],[0.2222222222222222,\"#7201a8\"],[0.3333333333333333,\"#9c179e\"],[0.4444444444444444,\"#bd3786\"],[0.5555555555555556,\"#d8576b\"],[0.6666666666666666,\"#ed7953\"],[0.7777777777777778,\"#fb9f3a\"],[0.8888888888888888,\"#fdca26\"],[1.0,\"#f0f921\"]]}],\"heatmapgl\":[{\"type\":\"heatmapgl\",\"colorbar\":{\"outlinewidth\":0,\"ticks\":\"\"},\"colorscale\":[[0.0,\"#0d0887\"],[0.1111111111111111,\"#46039f\"],[0.2222222222222222,\"#7201a8\"],[0.3333333333333333,\"#9c179e\"],[0.4444444444444444,\"#bd3786\"],[0.5555555555555556,\"#d8576b\"],[0.6666666666666666,\"#ed7953\"],[0.7777777777777778,\"#fb9f3a\"],[0.8888888888888888,\"#fdca26\"],[1.0,\"#f0f921\"]]}],\"contourcarpet\":[{\"type\":\"contourcarpet\",\"colorbar\":{\"outlinewidth\":0,\"ticks\":\"\"}}],\"contour\":[{\"type\":\"contour\",\"colorbar\":{\"outlinewidth\":0,\"ticks\":\"\"},\"colorscale\":[[0.0,\"#0d0887\"],[0.1111111111111111,\"#46039f\"],[0.2222222222222222,\"#7201a8\"],[0.3333333333333333,\"#9c179e\"],[0.4444444444444444,\"#bd3786\"],[0.5555555555555556,\"#d8576b\"],[0.6666666666666666,\"#ed7953\"],[0.7777777777777778,\"#fb9f3a\"],[0.8888888888888888,\"#fdca26\"],[1.0,\"#f0f921\"]]}],\"surface\":[{\"type\":\"surface\",\"colorbar\":{\"outlinewidth\":0,\"ticks\":\"\"},\"colorscale\":[[0.0,\"#0d0887\"],[0.1111111111111111,\"#46039f\"],[0.2222222222222222,\"#7201a8\"],[0.3333333333333333,\"#9c179e\"],[0.4444444444444444,\"#bd3786\"],[0.5555555555555556,\"#d8576b\"],[0.6666666666666666,\"#ed7953\"],[0.7777777777777778,\"#fb9f3a\"],[0.8888888888888888,\"#fdca26\"],[1.0,\"#f0f921\"]]}],\"mesh3d\":[{\"type\":\"mesh3d\",\"colorbar\":{\"outlinewidth\":0,\"ticks\":\"\"}}],\"scatter\":[{\"fillpattern\":{\"fillmode\":\"overlay\",\"size\":10,\"solidity\":0.2},\"type\":\"scatter\"}],\"parcoords\":[{\"type\":\"parcoords\",\"line\":{\"colorbar\":{\"outlinewidth\":0,\"ticks\":\"\"}}}],\"scatterpolargl\":[{\"type\":\"scatterpolargl\",\"marker\":{\"colorbar\":{\"outlinewidth\":0,\"ticks\":\"\"}}}],\"bar\":[{\"error_x\":{\"color\":\"#2a3f5f\"},\"error_y\":{\"color\":\"#2a3f5f\"},\"marker\":{\"line\":{\"color\":\"#E5ECF6\",\"width\":0.5},\"pattern\":{\"fillmode\":\"overlay\",\"size\":10,\"solidity\":0.2}},\"type\":\"bar\"}],\"scattergeo\":[{\"type\":\"scattergeo\",\"marker\":{\"colorbar\":{\"outlinewidth\":0,\"ticks\":\"\"}}}],\"scatterpolar\":[{\"type\":\"scatterpolar\",\"marker\":{\"colorbar\":{\"outlinewidth\":0,\"ticks\":\"\"}}}],\"histogram\":[{\"marker\":{\"pattern\":{\"fillmode\":\"overlay\",\"size\":10,\"solidity\":0.2}},\"type\":\"histogram\"}],\"scattergl\":[{\"type\":\"scattergl\",\"marker\":{\"colorbar\":{\"outlinewidth\":0,\"ticks\":\"\"}}}],\"scatter3d\":[{\"type\":\"scatter3d\",\"line\":{\"colorbar\":{\"outlinewidth\":0,\"ticks\":\"\"}},\"marker\":{\"colorbar\":{\"outlinewidth\":0,\"ticks\":\"\"}}}],\"scattermapbox\":[{\"type\":\"scattermapbox\",\"marker\":{\"colorbar\":{\"outlinewidth\":0,\"ticks\":\"\"}}}],\"scatterternary\":[{\"type\":\"scatterternary\",\"marker\":{\"colorbar\":{\"outlinewidth\":0,\"ticks\":\"\"}}}],\"scattercarpet\":[{\"type\":\"scattercarpet\",\"marker\":{\"colorbar\":{\"outlinewidth\":0,\"ticks\":\"\"}}}],\"carpet\":[{\"aaxis\":{\"endlinecolor\":\"#2a3f5f\",\"gridcolor\":\"white\",\"linecolor\":\"white\",\"minorgridcolor\":\"white\",\"startlinecolor\":\"#2a3f5f\"},\"baxis\":{\"endlinecolor\":\"#2a3f5f\",\"gridcolor\":\"white\",\"linecolor\":\"white\",\"minorgridcolor\":\"white\",\"startlinecolor\":\"#2a3f5f\"},\"type\":\"carpet\"}],\"table\":[{\"cells\":{\"fill\":{\"color\":\"#EBF0F8\"},\"line\":{\"color\":\"white\"}},\"header\":{\"fill\":{\"color\":\"#C8D4E3\"},\"line\":{\"color\":\"white\"}},\"type\":\"table\"}],\"barpolar\":[{\"marker\":{\"line\":{\"color\":\"#E5ECF6\",\"width\":0.5},\"pattern\":{\"fillmode\":\"overlay\",\"size\":10,\"solidity\":0.2}},\"type\":\"barpolar\"}],\"pie\":[{\"automargin\":true,\"type\":\"pie\"}]},\"layout\":{\"autotypenumbers\":\"strict\",\"colorway\":[\"#636efa\",\"#EF553B\",\"#00cc96\",\"#ab63fa\",\"#FFA15A\",\"#19d3f3\",\"#FF6692\",\"#B6E880\",\"#FF97FF\",\"#FECB52\"],\"font\":{\"color\":\"#2a3f5f\"},\"hovermode\":\"closest\",\"hoverlabel\":{\"align\":\"left\"},\"paper_bgcolor\":\"white\",\"plot_bgcolor\":\"#E5ECF6\",\"polar\":{\"bgcolor\":\"#E5ECF6\",\"angularaxis\":{\"gridcolor\":\"white\",\"linecolor\":\"white\",\"ticks\":\"\"},\"radialaxis\":{\"gridcolor\":\"white\",\"linecolor\":\"white\",\"ticks\":\"\"}},\"ternary\":{\"bgcolor\":\"#E5ECF6\",\"aaxis\":{\"gridcolor\":\"white\",\"linecolor\":\"white\",\"ticks\":\"\"},\"baxis\":{\"gridcolor\":\"white\",\"linecolor\":\"white\",\"ticks\":\"\"},\"caxis\":{\"gridcolor\":\"white\",\"linecolor\":\"white\",\"ticks\":\"\"}},\"coloraxis\":{\"colorbar\":{\"outlinewidth\":0,\"ticks\":\"\"}},\"colorscale\":{\"sequential\":[[0.0,\"#0d0887\"],[0.1111111111111111,\"#46039f\"],[0.2222222222222222,\"#7201a8\"],[0.3333333333333333,\"#9c179e\"],[0.4444444444444444,\"#bd3786\"],[0.5555555555555556,\"#d8576b\"],[0.6666666666666666,\"#ed7953\"],[0.7777777777777778,\"#fb9f3a\"],[0.8888888888888888,\"#fdca26\"],[1.0,\"#f0f921\"]],\"sequentialminus\":[[0.0,\"#0d0887\"],[0.1111111111111111,\"#46039f\"],[0.2222222222222222,\"#7201a8\"],[0.3333333333333333,\"#9c179e\"],[0.4444444444444444,\"#bd3786\"],[0.5555555555555556,\"#d8576b\"],[0.6666666666666666,\"#ed7953\"],[0.7777777777777778,\"#fb9f3a\"],[0.8888888888888888,\"#fdca26\"],[1.0,\"#f0f921\"]],\"diverging\":[[0,\"#8e0152\"],[0.1,\"#c51b7d\"],[0.2,\"#de77ae\"],[0.3,\"#f1b6da\"],[0.4,\"#fde0ef\"],[0.5,\"#f7f7f7\"],[0.6,\"#e6f5d0\"],[0.7,\"#b8e186\"],[0.8,\"#7fbc41\"],[0.9,\"#4d9221\"],[1,\"#276419\"]]},\"xaxis\":{\"gridcolor\":\"white\",\"linecolor\":\"white\",\"ticks\":\"\",\"title\":{\"standoff\":15},\"zerolinecolor\":\"white\",\"automargin\":true,\"zerolinewidth\":2},\"yaxis\":{\"gridcolor\":\"white\",\"linecolor\":\"white\",\"ticks\":\"\",\"title\":{\"standoff\":15},\"zerolinecolor\":\"white\",\"automargin\":true,\"zerolinewidth\":2},\"scene\":{\"xaxis\":{\"backgroundcolor\":\"#E5ECF6\",\"gridcolor\":\"white\",\"linecolor\":\"white\",\"showbackground\":true,\"ticks\":\"\",\"zerolinecolor\":\"white\",\"gridwidth\":2},\"yaxis\":{\"backgroundcolor\":\"#E5ECF6\",\"gridcolor\":\"white\",\"linecolor\":\"white\",\"showbackground\":true,\"ticks\":\"\",\"zerolinecolor\":\"white\",\"gridwidth\":2},\"zaxis\":{\"backgroundcolor\":\"#E5ECF6\",\"gridcolor\":\"white\",\"linecolor\":\"white\",\"showbackground\":true,\"ticks\":\"\",\"zerolinecolor\":\"white\",\"gridwidth\":2}},\"shapedefaults\":{\"line\":{\"color\":\"#2a3f5f\"}},\"annotationdefaults\":{\"arrowcolor\":\"#2a3f5f\",\"arrowhead\":0,\"arrowwidth\":1},\"geo\":{\"bgcolor\":\"white\",\"landcolor\":\"#E5ECF6\",\"subunitcolor\":\"white\",\"showland\":true,\"showlakes\":true,\"lakecolor\":\"white\"},\"title\":{\"x\":0.05},\"mapbox\":{\"style\":\"light\"}}},\"xaxis\":{\"anchor\":\"y\",\"domain\":[0.0,1.0],\"title\":{\"text\":\"Fold Number\"}},\"yaxis\":{\"anchor\":\"x\",\"domain\":[0.0,1.0],\"title\":{\"text\":\"Metric Score\"}},\"legend\":{\"title\":{\"text\":\"variable\"},\"tracegroupgap\":0},\"title\":{\"text\":\"Cross-Validation Performance Across Folds\"}},                        {\"responsive\": true}                    ).then(function(){\n",
              "                            \n",
              "var gd = document.getElementById('3446fb4e-1907-44c7-b616-8b3aaf9124ab');\n",
              "var x = new MutationObserver(function (mutations, observer) {{\n",
              "        var display = window.getComputedStyle(gd).display;\n",
              "        if (!display || display === 'none') {{\n",
              "            console.log([gd, 'removed!']);\n",
              "            Plotly.purge(gd);\n",
              "            observer.disconnect();\n",
              "        }}\n",
              "}});\n",
              "\n",
              "// Listen for the removal of the full notebook cells\n",
              "var notebookContainer = gd.closest('#notebook-container');\n",
              "if (notebookContainer) {{\n",
              "    x.observe(notebookContainer, {childList: true});\n",
              "}}\n",
              "\n",
              "// Listen for the clearing of the current output cell\n",
              "var outputEl = gd.closest('.output');\n",
              "if (outputEl) {{\n",
              "    x.observe(outputEl, {childList: true});\n",
              "}}\n",
              "\n",
              "                        })                };                            </script>        </div>\n",
              "</body>\n",
              "</html>"
            ]
          },
          "metadata": {}
        }
      ]
    },
    {
      "cell_type": "code",
      "metadata": {
        "colab": {
          "base_uri": "https://localhost:8080/"
        },
        "id": "JTouNECWprWI",
        "outputId": "47d462a0-4bed-4352-d95e-0b193e1afdcf"
      },
      "source": [
        "all_results"
      ],
      "execution_count": 59,
      "outputs": [
        {
          "output_type": "execute_result",
          "data": {
            "text/plain": [
              "[{'eval_loss': 2.1242172718048096,\n",
              "  'eval_macro_f1': 0.19967903196811676,\n",
              "  'eval_macro_precision': 0.2359902262687683,\n",
              "  'eval_macro_recall': 0.27951812744140625,\n",
              "  'eval_accuracy': 0.279720276594162,\n",
              "  'eval_runtime': 3.0734,\n",
              "  'eval_samples_per_second': 139.587,\n",
              "  'eval_steps_per_second': 1.302,\n",
              "  'epoch': 1.925925925925926},\n",
              " {'eval_loss': 2.0952165126800537,\n",
              "  'eval_macro_f1': 0.2781718075275421,\n",
              "  'eval_macro_precision': 0.3119640052318573,\n",
              "  'eval_macro_recall': 0.3258708715438843,\n",
              "  'eval_accuracy': 0.32634031772613525,\n",
              "  'eval_runtime': 3.2798,\n",
              "  'eval_samples_per_second': 130.802,\n",
              "  'eval_steps_per_second': 1.22,\n",
              "  'epoch': 1.925925925925926},\n",
              " {'eval_loss': 2.105449914932251,\n",
              "  'eval_macro_f1': 0.25093987584114075,\n",
              "  'eval_macro_precision': 0.2457273155450821,\n",
              "  'eval_macro_recall': 0.2886313199996948,\n",
              "  'eval_accuracy': 0.2890442907810211,\n",
              "  'eval_runtime': 3.1365,\n",
              "  'eval_samples_per_second': 136.778,\n",
              "  'eval_steps_per_second': 1.275,\n",
              "  'epoch': 1.925925925925926},\n",
              " {'eval_loss': 2.102548837661743,\n",
              "  'eval_macro_f1': 0.20689156651496887,\n",
              "  'eval_macro_precision': 0.23698142170906067,\n",
              "  'eval_macro_recall': 0.2564725875854492,\n",
              "  'eval_accuracy': 0.25874125957489014,\n",
              "  'eval_runtime': 3.3254,\n",
              "  'eval_samples_per_second': 129.008,\n",
              "  'eval_steps_per_second': 1.203,\n",
              "  'epoch': 1.925925925925926},\n",
              " {'eval_loss': 2.102832317352295,\n",
              "  'eval_macro_f1': 0.22171643376350403,\n",
              "  'eval_macro_precision': 0.2074260115623474,\n",
              "  'eval_macro_recall': 0.29005420207977295,\n",
              "  'eval_accuracy': 0.2897196114063263,\n",
              "  'eval_runtime': 3.2318,\n",
              "  'eval_samples_per_second': 132.435,\n",
              "  'eval_steps_per_second': 1.238,\n",
              "  'epoch': 1.925925925925926}]"
            ]
          },
          "metadata": {},
          "execution_count": 59
        }
      ]
    },
    {
      "cell_type": "code",
      "metadata": {
        "id": "1yBbzQcCqb1m",
        "colab": {
          "base_uri": "https://localhost:8080/"
        },
        "outputId": "ac2856e3-bbbb-41ca-f011-0bed0306cb72"
      },
      "source": [
        "from statistics import mean\n",
        "mean([x['eval_macro_f1'] for x in all_results])"
      ],
      "execution_count": 60,
      "outputs": [
        {
          "output_type": "execute_result",
          "data": {
            "text/plain": [
              "0.2314797431230545"
            ]
          },
          "metadata": {},
          "execution_count": 60
        }
      ]
    },
    {
      "cell_type": "markdown",
      "metadata": {
        "id": "LX7sa1AlGpba"
      },
      "source": [
        "After checking for the best hyper parameters you should use the regular training section and retrain the model with the parameters that you had here.\n",
        "\n",
        "Or Ensemble the models together."
      ]
    },
    {
      "cell_type": "markdown",
      "metadata": {
        "id": "qvaIKiGcEl3K"
      },
      "source": [
        "## Ensemble all the cross validation models"
      ]
    },
    {
      "cell_type": "code",
      "metadata": {
        "id": "LRvWyT6iY1gt"
      },
      "source": [
        "from transformers import pipeline\n",
        "import more_itertools"
      ],
      "execution_count": 61,
      "outputs": []
    },
    {
      "cell_type": "code",
      "metadata": {
        "id": "TbsAt4d3veZH"
      },
      "source": [
        "inv_label_map = { v:k for k, v in label_map.items()}"
      ],
      "execution_count": 62,
      "outputs": []
    },
    {
      "cell_type": "markdown",
      "metadata": {
        "id": "-9X02dm4LDFc"
      },
      "source": [
        "Load some file which has text that we need to run inference on.\n",
        "I will use the test set for that"
      ]
    },
    {
      "cell_type": "code",
      "metadata": {
        "id": "Wa5QeMo0p6-G"
      },
      "source": [
        "# pred_df = prediction['Text']\n",
        "# pred_df = pred_df.apply(lambda x:   arabic_prep.preprocess(x))\n",
        "\n",
        "pred_df = selected_dataset.test[DATA_COLUMN]"
      ],
      "execution_count": 63,
      "outputs": []
    },
    {
      "cell_type": "code",
      "metadata": {
        "colab": {
          "base_uri": "https://localhost:8080/",
          "height": 1000,
          "referenced_widgets": [
            "c4c82537224240eb9dbd46a4f8c69851",
            "132d498eaf7d4eb38e5ac67984fdefa4",
            "46b1872c666a461d9dea9502939f0bf6",
            "34443bea7572451c849f721956d5c776",
            "1ccdc6d2f8c9443da5c2a18368cfd051",
            "a77ce69cc873458cbb3c2171e03cc6c7",
            "2bd8740476d54bf68c636bed1cde7fdd",
            "9ca797a6b5e64ed5a5f6cb5f78aedf5b",
            "0672f64a79e146d2a5a8a28187f9edef",
            "258c6f8573e84079a465877a5dd42171",
            "1b8ce973a1a44563a9db2cffd0ba68f8",
            "f6a964d7060b41b0b2f604edaf293486",
            "977b108417284080a0e93b3c99260341",
            "1301e876c10e4f3396070599f68c17e4",
            "6c1ceafa940b4b889548bb271abf59bd",
            "712a9921aa0c453387372c8a46fec7a2",
            "606b07adb1b3445fab446f28f74201d6",
            "219fd11c01e14c5494df9f7a1b304766",
            "8ac01e1aa1624042b59a72b7d762c360",
            "99560957658649a3946ee1dda9748a00",
            "12b46f5637fa4b88a2560b4735714499",
            "94515408d4a34615a204a4cba683500a",
            "68426e49f79445a598a51d7fcfa67456",
            "9ae7369eabf546dc98b96adbc1ce3dbb",
            "9ad0d928d23e4abe9a53ace27485bf84",
            "1e7712e306804d5192e216405d22771c",
            "907f9e8dce9d4c3c8283d01e4e2206a0",
            "9d2bfbecfcb54727872bda63fa890705",
            "8d23c7a051e04052ae635f506bc8f927",
            "9b3fd0eb44d9459ba408b8c7ce795fb9",
            "3d5843d9fdba4ae7bb1bf966c890430c",
            "6c22dd4618f949edb290d890a14c7753",
            "34ab4879271e42609f42453a8e89a066",
            "08687a0424a746a6aa13a6dea160edc8",
            "1818d961eef1494fa69468363383ea00",
            "ef3d7687cfda49ba911cce31789f6a13",
            "55008b13818441efb13f6aa677d59aa7",
            "157cb22c17de4c4abdbb06563ac2190e",
            "7256ce87f3904505b01c057f58a10281",
            "438d0fc2a7814d888fc2c1c32421cdd3",
            "62a88beb4b4d4123ac67a2e6f0f71b69",
            "b32ea186566a40ddbd046f6c49f2eb65",
            "949f15290f89452e93d45e97c4044108",
            "597eadff107c4960a17bb7d794501f3c",
            "1adfc933b52143519e06f4dbbace4f4e",
            "4f050a02904f4544b1185180943b4f02",
            "3454ee95860e4daba9de3233cb1e6faa",
            "cfa83286d7554fa7b60a2766091863b3",
            "f4d60bc54aa9458682502710941907cc",
            "3651326c9f554ff696fc735310394db7",
            "b9f69d478dca4ed5b22fa91945adca0a",
            "9013723981694abbb9bc149399b4b701",
            "8f601bac916c4c649bb4f7da67248087",
            "770fc54cad8146acabc46bfaf1e3bc9d",
            "900b1c9f2d8843c990a293bc07d83a55"
          ]
        },
        "id": "6wyQDPxBVbfB",
        "outputId": "38f2182f-3832-4455-efed-415db4c17a25"
      },
      "source": [
        "cross_val_df = pd.DataFrame([])\n",
        "for i in range(0,5):\n",
        "  pipe = pipeline(\"text-classification\", model=f\"train_{i}/best_model\", device=0, return_all_scores =True, max_length=max_len, truncation=True)\n",
        "  preds = []\n",
        "  for s in tqdm(more_itertools.chunked(list(pred_df), 32)): # batching for faster inference\n",
        "    preds.extend(pipe(s))\n",
        "  cross_val_df[f'model_{i}'] = preds"
      ],
      "execution_count": 64,
      "outputs": [
        {
          "output_type": "stream",
          "name": "stderr",
          "text": [
            "/usr/local/lib/python3.10/dist-packages/transformers/pipelines/text_classification.py:104: UserWarning:\n",
            "\n",
            "`return_all_scores` is now deprecated,  if want a similar functionality use `top_k=None` instead of `return_all_scores=True` or `top_k=1` instead of `return_all_scores=False`.\n",
            "\n",
            "<ipython-input-64-b42f74aaeb31>:5: TqdmDeprecationWarning:\n",
            "\n",
            "This function will be removed in tqdm==5.0.0\n",
            "Please use `tqdm.notebook.tqdm` instead of `tqdm.tqdm_notebook`\n",
            "\n"
          ]
        },
        {
          "output_type": "display_data",
          "data": {
            "text/plain": [
              "0it [00:00, ?it/s]"
            ],
            "application/vnd.jupyter.widget-view+json": {
              "version_major": 2,
              "version_minor": 0,
              "model_id": "c4c82537224240eb9dbd46a4f8c69851"
            }
          },
          "metadata": {}
        },
        {
          "output_type": "stream",
          "name": "stderr",
          "text": [
            "You seem to be using the pipelines sequentially on GPU. In order to maximize efficiency please use a dataset\n",
            "/usr/local/lib/python3.10/dist-packages/transformers/pipelines/text_classification.py:104: UserWarning:\n",
            "\n",
            "`return_all_scores` is now deprecated,  if want a similar functionality use `top_k=None` instead of `return_all_scores=True` or `top_k=1` instead of `return_all_scores=False`.\n",
            "\n",
            "<ipython-input-64-b42f74aaeb31>:5: TqdmDeprecationWarning:\n",
            "\n",
            "This function will be removed in tqdm==5.0.0\n",
            "Please use `tqdm.notebook.tqdm` instead of `tqdm.tqdm_notebook`\n",
            "\n"
          ]
        },
        {
          "output_type": "display_data",
          "data": {
            "text/plain": [
              "0it [00:00, ?it/s]"
            ],
            "application/vnd.jupyter.widget-view+json": {
              "version_major": 2,
              "version_minor": 0,
              "model_id": "f6a964d7060b41b0b2f604edaf293486"
            }
          },
          "metadata": {}
        },
        {
          "output_type": "stream",
          "name": "stderr",
          "text": [
            "/usr/local/lib/python3.10/dist-packages/transformers/pipelines/text_classification.py:104: UserWarning:\n",
            "\n",
            "`return_all_scores` is now deprecated,  if want a similar functionality use `top_k=None` instead of `return_all_scores=True` or `top_k=1` instead of `return_all_scores=False`.\n",
            "\n",
            "<ipython-input-64-b42f74aaeb31>:5: TqdmDeprecationWarning:\n",
            "\n",
            "This function will be removed in tqdm==5.0.0\n",
            "Please use `tqdm.notebook.tqdm` instead of `tqdm.tqdm_notebook`\n",
            "\n"
          ]
        },
        {
          "output_type": "display_data",
          "data": {
            "text/plain": [
              "0it [00:00, ?it/s]"
            ],
            "application/vnd.jupyter.widget-view+json": {
              "version_major": 2,
              "version_minor": 0,
              "model_id": "68426e49f79445a598a51d7fcfa67456"
            }
          },
          "metadata": {}
        },
        {
          "output_type": "stream",
          "name": "stderr",
          "text": [
            "/usr/local/lib/python3.10/dist-packages/transformers/pipelines/text_classification.py:104: UserWarning:\n",
            "\n",
            "`return_all_scores` is now deprecated,  if want a similar functionality use `top_k=None` instead of `return_all_scores=True` or `top_k=1` instead of `return_all_scores=False`.\n",
            "\n",
            "<ipython-input-64-b42f74aaeb31>:5: TqdmDeprecationWarning:\n",
            "\n",
            "This function will be removed in tqdm==5.0.0\n",
            "Please use `tqdm.notebook.tqdm` instead of `tqdm.tqdm_notebook`\n",
            "\n"
          ]
        },
        {
          "output_type": "display_data",
          "data": {
            "text/plain": [
              "0it [00:00, ?it/s]"
            ],
            "application/vnd.jupyter.widget-view+json": {
              "version_major": 2,
              "version_minor": 0,
              "model_id": "08687a0424a746a6aa13a6dea160edc8"
            }
          },
          "metadata": {}
        },
        {
          "output_type": "stream",
          "name": "stderr",
          "text": [
            "/usr/local/lib/python3.10/dist-packages/transformers/pipelines/text_classification.py:104: UserWarning:\n",
            "\n",
            "`return_all_scores` is now deprecated,  if want a similar functionality use `top_k=None` instead of `return_all_scores=True` or `top_k=1` instead of `return_all_scores=False`.\n",
            "\n",
            "<ipython-input-64-b42f74aaeb31>:5: TqdmDeprecationWarning:\n",
            "\n",
            "This function will be removed in tqdm==5.0.0\n",
            "Please use `tqdm.notebook.tqdm` instead of `tqdm.tqdm_notebook`\n",
            "\n"
          ]
        },
        {
          "output_type": "display_data",
          "data": {
            "text/plain": [
              "0it [00:00, ?it/s]"
            ],
            "application/vnd.jupyter.widget-view+json": {
              "version_major": 2,
              "version_minor": 0,
              "model_id": "1adfc933b52143519e06f4dbbace4f4e"
            }
          },
          "metadata": {}
        }
      ]
    },
    {
      "cell_type": "code",
      "metadata": {
        "id": "fj6cF1Tzsk73"
      },
      "source": [
        "from collections import defaultdict\n",
        "\n",
        "final_labels = []\n",
        "final_scores = []\n",
        "for id, row in cross_val_df.iterrows():\n",
        "  total_score = defaultdict(lambda: 0)\n",
        "  for pred in row:\n",
        "    for cls in pred:\n",
        "      total_score[cls['label']] += cls['score']\n",
        "\n",
        "  avg_score = { k: v/ 5 for k, v in total_score.items()}\n",
        "\n",
        "  final_labels.append(max(avg_score, key=avg_score.get))\n",
        "  final_scores.append(avg_score[max(avg_score, key=avg_score.get)])"
      ],
      "execution_count": 65,
      "outputs": []
    },
    {
      "cell_type": "code",
      "metadata": {
        "id": "cZzeOZ2HvhtT"
      },
      "source": [
        "cross_val_df['preds'] = final_labels\n",
        "cross_val_df['class'] = final_scores"
      ],
      "execution_count": 66,
      "outputs": []
    },
    {
      "cell_type": "code",
      "metadata": {
        "colab": {
          "base_uri": "https://localhost:8080/",
          "height": 429
        },
        "id": "iKEgO6XYcnal",
        "outputId": "1fca2939-e18d-48e9-ece2-bfc6cbb448c2"
      },
      "source": [
        "cross_val_df['preds'].value_counts()"
      ],
      "execution_count": 67,
      "outputs": [
        {
          "output_type": "execute_result",
          "data": {
            "text/plain": [
              "preds\n",
              "Computer Issues             148\n",
              "Maintenance Requests        112\n",
              "Job Orders                  101\n",
              "Security Alerts              68\n",
              "Peripheral Device Issues     59\n",
              "Miscellaneous                15\n",
              "General Hardware Issues      14\n",
              "Network Issues               11\n",
              "Printer Issues                5\n",
              "Uncategorized                 3\n",
              "Name: count, dtype: int64"
            ],
            "text/html": [
              "<div>\n",
              "<style scoped>\n",
              "    .dataframe tbody tr th:only-of-type {\n",
              "        vertical-align: middle;\n",
              "    }\n",
              "\n",
              "    .dataframe tbody tr th {\n",
              "        vertical-align: top;\n",
              "    }\n",
              "\n",
              "    .dataframe thead th {\n",
              "        text-align: right;\n",
              "    }\n",
              "</style>\n",
              "<table border=\"1\" class=\"dataframe\">\n",
              "  <thead>\n",
              "    <tr style=\"text-align: right;\">\n",
              "      <th></th>\n",
              "      <th>count</th>\n",
              "    </tr>\n",
              "    <tr>\n",
              "      <th>preds</th>\n",
              "      <th></th>\n",
              "    </tr>\n",
              "  </thead>\n",
              "  <tbody>\n",
              "    <tr>\n",
              "      <th>Computer Issues</th>\n",
              "      <td>148</td>\n",
              "    </tr>\n",
              "    <tr>\n",
              "      <th>Maintenance Requests</th>\n",
              "      <td>112</td>\n",
              "    </tr>\n",
              "    <tr>\n",
              "      <th>Job Orders</th>\n",
              "      <td>101</td>\n",
              "    </tr>\n",
              "    <tr>\n",
              "      <th>Security Alerts</th>\n",
              "      <td>68</td>\n",
              "    </tr>\n",
              "    <tr>\n",
              "      <th>Peripheral Device Issues</th>\n",
              "      <td>59</td>\n",
              "    </tr>\n",
              "    <tr>\n",
              "      <th>Miscellaneous</th>\n",
              "      <td>15</td>\n",
              "    </tr>\n",
              "    <tr>\n",
              "      <th>General Hardware Issues</th>\n",
              "      <td>14</td>\n",
              "    </tr>\n",
              "    <tr>\n",
              "      <th>Network Issues</th>\n",
              "      <td>11</td>\n",
              "    </tr>\n",
              "    <tr>\n",
              "      <th>Printer Issues</th>\n",
              "      <td>5</td>\n",
              "    </tr>\n",
              "    <tr>\n",
              "      <th>Uncategorized</th>\n",
              "      <td>3</td>\n",
              "    </tr>\n",
              "  </tbody>\n",
              "</table>\n",
              "</div><br><label><b>dtype:</b> int64</label>"
            ]
          },
          "metadata": {},
          "execution_count": 67
        }
      ]
    },
    {
      "cell_type": "code",
      "source": [
        "from sklearn.metrics import classification_report"
      ],
      "metadata": {
        "id": "mxusQ_ySfwFK"
      },
      "execution_count": 68,
      "outputs": []
    },
    {
      "cell_type": "code",
      "metadata": {
        "colab": {
          "base_uri": "https://localhost:8080/"
        },
        "id": "lt1dbA9rRx8f",
        "outputId": "1d71f26a-ec2e-4bd0-92d9-a94ed5b583bd"
      },
      "source": [
        "print(classification_repfrom sklearn.metrics import classification_reportort(selected_dataset.test[LABEL_COLUMN],cross_val_df['preds']))"
      ],
      "execution_count": 69,
      "outputs": [
        {
          "output_type": "stream",
          "name": "stdout",
          "text": [
            "                          precision    recall  f1-score   support\n",
            "\n",
            "         Computer Issues       0.22      0.70      0.34        47\n",
            " General Hardware Issues       0.21      0.05      0.08        57\n",
            "              Job Orders       0.42      0.82      0.55        51\n",
            "    Maintenance Requests       0.09      0.19      0.12        53\n",
            "           Miscellaneous       0.33      0.09      0.14        54\n",
            "          Network Issues       0.45      0.09      0.15        57\n",
            "Peripheral Device Issues       0.34      0.43      0.38        46\n",
            "          Printer Issues       0.00      0.00      0.00        60\n",
            "         Security Alerts       0.49      0.55      0.52        60\n",
            "           Uncategorized       0.00      0.00      0.00        51\n",
            "\n",
            "                accuracy                           0.28       536\n",
            "               macro avg       0.26      0.29      0.23       536\n",
            "            weighted avg       0.26      0.28      0.22       536\n",
            "\n"
          ]
        }
      ]
    },
    {
      "cell_type": "code",
      "source": [
        "!pip install -q -U rouge_score sacrebleu"
      ],
      "metadata": {
        "id": "I5ZxjFWFLsHE",
        "outputId": "639ae057-5932-435b-acc0-483c15bb6c3f",
        "colab": {
          "base_uri": "https://localhost:8080/"
        }
      },
      "execution_count": 73,
      "outputs": [
        {
          "output_type": "stream",
          "name": "stdout",
          "text": [
            "\u001b[2K     \u001b[90m━━━━━━━━━━━━━━━━━━━━━━━━━━━━━━━━━━━━━━━━\u001b[0m \u001b[32m51.8/51.8 kB\u001b[0m \u001b[31m3.9 MB/s\u001b[0m eta \u001b[36m0:00:00\u001b[0m\n",
            "\u001b[2K   \u001b[90m━━━━━━━━━━━━━━━━━━━━━━━━━━━━━━━━━━━━━━━━\u001b[0m \u001b[32m104.0/104.0 kB\u001b[0m \u001b[31m6.6 MB/s\u001b[0m eta \u001b[36m0:00:00\u001b[0m\n",
            "\u001b[?25h"
          ]
        }
      ]
    },
    {
      "cell_type": "code",
      "source": [
        "from rouge_score import rouge_scorer\n",
        "from sacrebleu.metrics import BLEU\n",
        "\n",
        "def calculate_rouge_and_bleu(predictions, references):\n",
        "    \"\"\"Calculates ROUGE and BLEU scores for a list of predictions and references.\n",
        "\n",
        "    Args:\n",
        "        predictions: A list of predicted strings.\n",
        "        references: A list of reference strings.\n",
        "    \"\"\"\n",
        "\n",
        "    # Initialize the scorers\n",
        "    scorer = rouge_scorer.RougeScorer(['rouge1', 'rouge2', 'rougeL'], use_stemmer=True)\n",
        "    bleu_scorer = BLEU(effective_order=True)\n",
        "\n",
        "    rouge1_scores = []\n",
        "    rouge2_scores = []\n",
        "    rougeL_scores = []\n",
        "    bleu_scores = []\n",
        "\n",
        "    for pred, ref in zip(predictions, references):\n",
        "        scores = scorer.score(ref, pred)\n",
        "        rouge1_scores.append(scores['rouge1'].fmeasure)\n",
        "        rouge2_scores.append(scores['rouge2'].fmeasure)\n",
        "        rougeL_scores.append(scores['rougeL'].fmeasure)\n",
        "\n",
        "    # Calculate BLEU score once for the entire corpus, not individually\n",
        "    bleu_score = bleu_scorer.corpus_score(predictions, [references]).score\n",
        "\n",
        "    avg_rouge1 = sum(rouge1_scores) / len(rouge1_scores) if rouge1_scores else 0\n",
        "    avg_rouge2 = sum(rouge2_scores) / len(rouge2_scores) if rouge2_scores else 0\n",
        "    avg_rougeL = sum(rougeL_scores) / len(rougeL_scores) if rougeL_scores else 0\n",
        "\n",
        "    return avg_rouge1, avg_rouge2, avg_rougeL, bleu_score\n",
        "\n",
        "# Replace 'selected_dataset.test[DATA_COLUMN]' with your actual predictions and 'selected_dataset.test[LABEL_COLUMN]' with your true labels.\n",
        "predictions = cross_val_df['preds'].tolist()\n",
        "references = selected_dataset.test[LABEL_COLUMN].tolist()\n",
        "\n",
        "# Ensure predictions and references are strings\n",
        "predictions = [str(p) for p in predictions]\n",
        "references = [str(r) for r in references]\n",
        "\n",
        "avg_rouge1, avg_rouge2, avg_rougeL, avg_bleu = calculate_rouge_and_bleu(predictions, references)\n",
        "\n",
        "print(f\"Average ROUGE-1: {avg_rouge1}\")\n",
        "print(f\"Average ROUGE-2: {avg_rouge2}\")\n",
        "print(f\"Average ROUGE-L: {avg_rougeL}\")\n",
        "print(f\"Average BLEU: {avg_bleu}\")"
      ],
      "metadata": {
        "id": "n2M9CbD5Lj_-",
        "outputId": "d6edbb0e-1cfe-4428-a4d9-a5b4f7a02aaf",
        "colab": {
          "base_uri": "https://localhost:8080/"
        }
      },
      "execution_count": 74,
      "outputs": [
        {
          "output_type": "stream",
          "name": "stdout",
          "text": [
            "Average ROUGE-1: 0.3407960199004978\n",
            "Average ROUGE-2: 0.27238805970149255\n",
            "Average ROUGE-L: 0.3407960199004978\n",
            "Average BLEU: 31.527445493928596\n"
          ]
        }
      ]
    },
    {
      "cell_type": "code",
      "source": [
        "from rouge_score import rouge_scorer\n",
        "from sacrebleu.metrics import BLEU\n",
        "\n",
        "def calculate_rouge_and_bleu(predictions, references):\n",
        "    \"\"\"Calculates ROUGE and BLEU scores for a list of predictions and references.\n",
        "\n",
        "    Args:\n",
        "        predictions: A list of predicted strings.\n",
        "        references: A list of reference strings.\n",
        "    \"\"\"\n",
        "\n",
        "    # Initialize the scorers\n",
        "    scorer = rouge_scorer.RougeScorer(['rouge1', 'rouge2', 'rougeL'], use_stemmer=True)\n",
        "    bleu_scorer = BLEU(effective_order=True)\n",
        "\n",
        "    rouge1_scores = []\n",
        "    rouge2_scores = []\n",
        "    rougeL_scores = []\n",
        "    bleu_scores = []\n",
        "\n",
        "    for pred, ref in zip(predictions, references):\n",
        "        scores = scorer.score(ref, pred)\n",
        "        rouge1_scores.append(scores['rouge1'].fmeasure)\n",
        "        rouge2_scores.append(scores['rouge2'].fmeasure)\n",
        "        rougeL_scores.append(scores['rougeL'].fmeasure)\n",
        "\n",
        "    # Calculate BLEU score once for the entire corpus, not individually\n",
        "    bleu_score = bleu_scorer.corpus_score(predictions, [references]).score\n",
        "\n",
        "    avg_rouge1 = sum(rouge1_scores) / len(rouge1_scores) if rouge1_scores else 0\n",
        "    avg_rouge2 = sum(rouge2_scores) / len(rouge2_scores) if rouge2_scores else 0\n",
        "    avg_rougeL = sum(rougeL_scores) / len(rougeL_scores) if rougeL_scores else 0\n",
        "\n",
        "    return avg_rouge1, avg_rouge2, avg_rougeL, bleu_score\n",
        "\n",
        "# Replace 'selected_dataset.test[DATA_COLUMN]' with your actual predictions and 'selected_dataset.test[LABEL_COLUMN]' with your true labels.\n",
        "predictions = cross_val_df['preds'].tolist()\n",
        "references = selected_dataset.test[LABEL_COLUMN].tolist()\n",
        "\n",
        "# Ensure predictions and references are strings\n",
        "predictions = [str(p) for p in predictions]\n",
        "references = [str(r) for r in references]\n",
        "\n",
        "avg_rouge1, avg_rouge2, avg_rougeL, avg_bleu = calculate_rouge_and_bleu(predictions, references)\n",
        "\n",
        "print(f\"Average ROUGE-1: {avg_rouge1}\")\n",
        "print(f\"Average ROUGE-2: {avg_rouge2}\")\n",
        "print(f\"Average ROUGE-L: {avg_rougeL}\")\n",
        "print(f\"Average BLEU: {avg_bleu}\")"
      ],
      "metadata": {
        "colab": {
          "base_uri": "https://localhost:8080/"
        },
        "id": "8nPcfMdQh6nX",
        "outputId": "534f9ed1-c237-42a6-c2a4-573edce3ad82"
      },
      "execution_count": null,
      "outputs": [
        {
          "output_type": "stream",
          "name": "stdout",
          "text": [
            "Average ROUGE-1: 0.6515463917525773\n",
            "Average ROUGE-2: 0.6391752577319587\n",
            "Average ROUGE-L: 0.6515463917525773\n",
            "Average BLEU: 71.91311572088277\n"
          ]
        }
      ]
    },
    {
      "cell_type": "code",
      "source": [],
      "metadata": {
        "id": "5Uoq94F9ifX7"
      },
      "execution_count": null,
      "outputs": []
    }
  ]
}